{
 "cells": [
  {
   "cell_type": "markdown",
   "id": "0ec2b07c",
   "metadata": {},
   "source": [
    "# T:1 "
   ]
  },
  {
   "cell_type": "markdown",
   "id": "b795f7ce",
   "metadata": {},
   "source": [
    "#### Write a prog to print twinkle twinkle little star poem in py"
   ]
  },
  {
   "cell_type": "code",
   "execution_count": 7,
   "id": "7c62f6b3",
   "metadata": {},
   "outputs": [
    {
     "name": "stdout",
     "output_type": "stream",
     "text": [
      "twinkle twinkle little star\n",
      "Auden was working at The Downs, a prep school in Malvern.\n",
      "Ben Britten visited him there and they wrote a set of cabaret songs \n",
      "(which includes ‘Tell me the truth about love”) Britten had already \n",
      "written incidental music for Auden-Isherwood play ‘The Ascent of F6’\n",
      "Auden’s ‘Out on the lawn I lie in bed’ is sung as part of Britten’s\n",
      "Spring Symphony\n"
     ]
    }
   ],
   "source": [
    "print(\"twinkle twinkle little star\")\n",
    "\n",
    "print('''Auden was working at The Downs, a prep school in Malvern.\n",
    "Ben Britten visited him there and they wrote a set of cabaret songs \n",
    "(which includes ‘Tell me the truth about love”) Britten had already \n",
    "written incidental music for Auden-Isherwood play ‘The Ascent of F6’\n",
    "Auden’s ‘Out on the lawn I lie in bed’ is sung as part of Britten’s\n",
    "Spring Symphony''')"
   ]
  },
  {
   "cell_type": "markdown",
   "id": "216a3ec8",
   "metadata": {},
   "source": [
    "#### Use REPL and print the table of 5 using it."
   ]
  },
  {
   "cell_type": "code",
   "execution_count": 5,
   "id": "ee1136eb",
   "metadata": {},
   "outputs": [
    {
     "data": {
      "text/plain": [
       "5"
      ]
     },
     "execution_count": 5,
     "metadata": {},
     "output_type": "execute_result"
    }
   ],
   "source": [
    "5*1"
   ]
  },
  {
   "cell_type": "code",
   "execution_count": 6,
   "id": "08a8b58b",
   "metadata": {},
   "outputs": [
    {
     "data": {
      "text/plain": [
       "10"
      ]
     },
     "execution_count": 6,
     "metadata": {},
     "output_type": "execute_result"
    }
   ],
   "source": [
    "5*2"
   ]
  },
  {
   "cell_type": "markdown",
   "id": "66a26baf",
   "metadata": {},
   "source": [
    "#### Install an external module and use it to perform an operation of your interest"
   ]
  },
  {
   "cell_type": "code",
   "execution_count": 10,
   "id": "d71435dc",
   "metadata": {},
   "outputs": [
    {
     "name": "stdout",
     "output_type": "stream",
     "text": [
      "Requirement already satisfied: playsound in c:\\users\\global\\anaconda3\\lib\\site-packages (1.2.2)\n"
     ]
    }
   ],
   "source": [
    "import sys\n",
    "!{sys.executable} -m pip install playsound"
   ]
  },
  {
   "cell_type": "code",
   "execution_count": null,
   "id": "baf1a595",
   "metadata": {},
   "outputs": [],
   "source": [
    "from playsound import playsound\n",
    "playsound('C:\\\\Users\\\\global\\\\Downloads\\\\.mp3')"
   ]
  },
  {
   "cell_type": "markdown",
   "id": "3dcaeea3",
   "metadata": {},
   "source": [
    "#### Write a py prog to find the contenets of a  directory using os module. Search online for the function which does that"
   ]
  },
  {
   "cell_type": "code",
   "execution_count": 20,
   "id": "4b3afb3b",
   "metadata": {},
   "outputs": [
    {
     "name": "stdout",
     "output_type": "stream",
     "text": [
      "['.android', '.cache', '.conda', '.condarc', '.config', '.continuum', '.eclipse', '.ipynb_checkpoints', '.ipython', '.jupyter', '.matplotlib', '.nx', '.p2', '.VirtualBox', '.vscode', '1.csv', '3D Objects', 'anaconda3', 'AppData', 'Application Data', 'Assignment 2 - Functions.ipynb', 'Assignment 3 - Functions.ipynb', 'Assignment 4 Perform exploratory data analysis.ipynb', 'Assignment 5 Programming with Python (Functions).ipynb', 'Brainly .ipynb', 'brainly beam', 'Condition Program .ipynb', 'Contacts', 'Cookies', 'Data Camp.ipynb', 'data.csv', 'Desktop', 'Dictionary Assignment.ipynb', 'Documents', 'Downloads', 'eclipse', 'eclipse-workspace', 'Favorites', 'File Operation.ipynb', 'IdeaProjects', 'Links', 'Local Settings', 'Loop.ipynb', 'MicrosoftEdgeBackups', 'Music', 'My Documents', 'NetHood', 'NTUSER.DAT', 'ntuser.dat.LOG1', 'ntuser.dat.LOG2', 'NTUSER.DAT{53b39e88-18c4-11ea-a811-000d3aa4692b}.TM.blf', 'NTUSER.DAT{53b39e88-18c4-11ea-a811-000d3aa4692b}.TMContainer00000000000000000001.regtrans-ms', 'NTUSER.DAT{53b39e88-18c4-11ea-a811-000d3aa4692b}.TMContainer00000000000000000002.regtrans-ms', 'ntuser.ini', 'Numpy.ipynb', 'OneDrive', 'Pictures', 'PrintHood', 'PycharmProjects', 'Python Harry Practice sets.ipynb', 'Python Harry.ipynb', 'Python Ninja.ipynb', 'Recent', 'RegEX (session 2).ipynb', 'regex session 3.ipynb', 'Saved Games', 'Searches', 'SendTo', 'sjava', 'Start Menu', 'Task 1    Name - Harsh Shah     Referral id - SIRSS1200.ipynb', 'Task 8     Name - Harsh Shah       Referral id - SIRSS1200.ipynb', 'Task-2_Clustering.ipynb', 'Task-3_Decision_Tree.ipynb', 'Task-4_Stock_Price.ipynb', 'Task-5_Superstore.xlsx', 'Task-6_Covid19.twb', 'Task-6_Dataset.xlsx', 'TASK1.ipynb', 'Templates', 'train.csv', 'Untitled.ipynb', 'Untitled1.ipynb', 'Untitled2.ipynb', 'Untitled3.ipynb', 'Untitled4.ipynb', 'Untitled5.ipynb', 'Videos', 'VirtualBox VMs', '_netrc']\n"
     ]
    }
   ],
   "source": [
    "import os\n",
    "print(os.listdir())"
   ]
  },
  {
   "cell_type": "code",
   "execution_count": null,
   "id": "7c016b61",
   "metadata": {},
   "outputs": [],
   "source": []
  },
  {
   "cell_type": "markdown",
   "id": "09916e14",
   "metadata": {},
   "source": [
    "# T:2"
   ]
  },
  {
   "cell_type": "markdown",
   "id": "9c190b15",
   "metadata": {},
   "source": [
    "#### Write a py prog to add 2 numbers"
   ]
  },
  {
   "cell_type": "code",
   "execution_count": 2,
   "id": "43de8280",
   "metadata": {},
   "outputs": [
    {
     "name": "stdout",
     "output_type": "stream",
     "text": [
      "2\n",
      "4\n",
      "add :  6\n"
     ]
    }
   ],
   "source": [
    "a  = int(input())\n",
    "b = int(input())\n",
    "print('add : ',a+b)"
   ]
  },
  {
   "cell_type": "markdown",
   "id": "1c72e8bc",
   "metadata": {},
   "source": [
    "#### Write a py prog to find remainder(r) when a no. is divided by z "
   ]
  },
  {
   "cell_type": "code",
   "execution_count": 3,
   "id": "ce00bda8",
   "metadata": {},
   "outputs": [
    {
     "name": "stdout",
     "output_type": "stream",
     "text": [
      "10\n",
      "2\n",
      "0\n"
     ]
    }
   ],
   "source": [
    "a = int(input())\n",
    "z = int(input())\n",
    "print(a%z)"
   ]
  },
  {
   "cell_type": "markdown",
   "id": "022684af",
   "metadata": {},
   "source": [
    "#### Check the type of the variable assigned using input()"
   ]
  },
  {
   "cell_type": "code",
   "execution_count": 8,
   "id": "9551f7a8",
   "metadata": {},
   "outputs": [
    {
     "name": "stdout",
     "output_type": "stream",
     "text": [
      "<class 'int'> <class 'float'> <class 'str'>\n"
     ]
    }
   ],
   "source": [
    "a = 12\n",
    "b = 12.0\n",
    "c = 'fdvd'\n",
    "print(type(a),type(b),type(c))"
   ]
  },
  {
   "cell_type": "markdown",
   "id": "ffdfca45",
   "metadata": {},
   "source": [
    "#### Use comparison operator to find out wheather a given vaiable a is greator than b or not"
   ]
  },
  {
   "cell_type": "code",
   "execution_count": 10,
   "id": "b5fcc042",
   "metadata": {},
   "outputs": [
    {
     "name": "stdout",
     "output_type": "stream",
     "text": [
      "4\n",
      "1\n",
      "True\n"
     ]
    }
   ],
   "source": [
    "a = int(input())\n",
    "b = int(input())\n",
    "print(a>b)"
   ]
  },
  {
   "cell_type": "markdown",
   "id": "30f7f3c3",
   "metadata": {},
   "source": [
    "#### Use py prog to find the average of 2 no's entered by the user"
   ]
  },
  {
   "cell_type": "code",
   "execution_count": 12,
   "id": "c8f7ac8c",
   "metadata": {},
   "outputs": [
    {
     "name": "stdout",
     "output_type": "stream",
     "text": [
      "12\n",
      "12\n",
      "avg :  12.0\n"
     ]
    }
   ],
   "source": [
    "a = int(input())\n",
    "b = int(input())\n",
    "print('avg : ',(a+b)/2)"
   ]
  },
  {
   "cell_type": "markdown",
   "id": "687816cb",
   "metadata": {},
   "source": [
    "#### Write a py prog to calculate square of a number created by the user"
   ]
  },
  {
   "cell_type": "code",
   "execution_count": 14,
   "id": "939f4547",
   "metadata": {},
   "outputs": [
    {
     "name": "stdout",
     "output_type": "stream",
     "text": [
      "3\n",
      "9\n"
     ]
    }
   ],
   "source": [
    "a = int(input())\n",
    "print(a ** 2)"
   ]
  },
  {
   "cell_type": "code",
   "execution_count": null,
   "id": "1c50e5bc",
   "metadata": {},
   "outputs": [],
   "source": []
  },
  {
   "cell_type": "markdown",
   "id": "593e76e1",
   "metadata": {},
   "source": [
    "# T:4"
   ]
  },
  {
   "cell_type": "markdown",
   "id": "1cac594d",
   "metadata": {},
   "source": [
    "#### Write a py prog to display a user entered name followed by good afternoon using input() function."
   ]
  },
  {
   "cell_type": "code",
   "execution_count": 20,
   "id": "82e75ac1",
   "metadata": {},
   "outputs": [
    {
     "name": "stdout",
     "output_type": "stream",
     "text": [
      "enter the name : neo\n",
      "good afternoon neo\n"
     ]
    }
   ],
   "source": [
    "name = input(\"enter the name : \")\n",
    "print(\"good afternoon\",name)"
   ]
  },
  {
   "cell_type": "code",
   "execution_count": 25,
   "id": "effbcc14",
   "metadata": {},
   "outputs": [
    {
     "name": "stdout",
     "output_type": "stream",
     "text": [
      "enter the name : yuki\n",
      "good afternoon yuki\n"
     ]
    }
   ],
   "source": [
    "name = input(\"enter the name : \")\n",
    "print(\"good afternoon \"+ name)"
   ]
  },
  {
   "cell_type": "markdown",
   "id": "637a47ae",
   "metadata": {},
   "source": [
    "#### Write a prog to fill in a letter template given below with name and date"
   ]
  },
  {
   "cell_type": "markdown",
   "id": "23afb32b",
   "metadata": {},
   "source": [
    "Dear <|name|>\n",
    "       you are selected!\n",
    "     <|date|>"
   ]
  },
  {
   "cell_type": "code",
   "execution_count": 29,
   "id": "e1ed09a3",
   "metadata": {},
   "outputs": [
    {
     "name": "stdout",
     "output_type": "stream",
     "text": [
      "enter name: yuki\n",
      "enter date: 10-09-8989\n",
      "Dear yuki\n",
      "you are selected!\n",
      "10-09-8989\n",
      "\n"
     ]
    }
   ],
   "source": [
    "letter = '''Dear <|name|>\n",
    "you are selected!\n",
    "<|date|>\n",
    "'''\n",
    "name = input(\"enter name: \")\n",
    "date = input(\"enter date: \")\n",
    "\n",
    "letter = letter.replace(\"<|name|>\",name)\n",
    "letter = letter.replace(\"<|date|>\",date)\n",
    "print(letter)"
   ]
  },
  {
   "cell_type": "markdown",
   "id": "35ff1609",
   "metadata": {},
   "source": [
    "#### Write a prog. to detect double spaces in a string"
   ]
  },
  {
   "cell_type": "code",
   "execution_count": 33,
   "id": "17b99ba1",
   "metadata": {},
   "outputs": [
    {
     "name": "stdout",
     "output_type": "stream",
     "text": [
      "True\n"
     ]
    }
   ],
   "source": [
    "q = \"If you don’t like  the road you’re walking, start paving another one.\"\n",
    "db = \"  \" in q\n",
    "print(db)"
   ]
  },
  {
   "cell_type": "markdown",
   "id": "cbd086ea",
   "metadata": {},
   "source": [
    "#### Replace the double spaces from the problm with single space"
   ]
  },
  {
   "cell_type": "code",
   "execution_count": 51,
   "id": "356a104a",
   "metadata": {},
   "outputs": [
    {
     "name": "stdout",
     "output_type": "stream",
     "text": [
      "Embrace the glorious mess that you are  \n"
     ]
    }
   ],
   "source": [
    "s = \"Embrace the glorious mess that you    are  \"\n",
    "s = s.replace(\"    \",\" \")\n",
    "print(s)"
   ]
  },
  {
   "cell_type": "markdown",
   "id": "4b35b3d4",
   "metadata": {},
   "source": [
    "#### Write a prog. to format the folln. letter using escape sequence characters."
   ]
  },
  {
   "cell_type": "markdown",
   "id": "0ad968af",
   "metadata": {},
   "source": [
    "letter = \"Dear Harry, This python course is nice. Thanks !\""
   ]
  },
  {
   "cell_type": "code",
   "execution_count": 55,
   "id": "97f9f2f5",
   "metadata": {},
   "outputs": [],
   "source": [
    "letter = \"Dear Den, This python course is nice. Thanks !\""
   ]
  },
  {
   "cell_type": "code",
   "execution_count": 57,
   "id": "bd06b367",
   "metadata": {},
   "outputs": [
    {
     "name": "stdout",
     "output_type": "stream",
     "text": [
      "Dear Den,\n",
      "\tThis python course is nice.\n",
      "Thanks !\n"
     ]
    }
   ],
   "source": [
    "f_letter = \"Dear Den,\\n\\tThis python course is nice.\\nThanks !\"\n",
    "print(f_letter)"
   ]
  },
  {
   "cell_type": "code",
   "execution_count": null,
   "id": "0220288a",
   "metadata": {},
   "outputs": [],
   "source": []
  },
  {
   "cell_type": "markdown",
   "id": "98d77b54",
   "metadata": {},
   "source": [
    "# T:4"
   ]
  },
  {
   "cell_type": "markdown",
   "id": "81777a8e",
   "metadata": {},
   "source": [
    "#### Write a prog to store 7 fruits in a list entered by the user"
   ]
  },
  {
   "cell_type": "code",
   "execution_count": 4,
   "id": "068b32c4",
   "metadata": {},
   "outputs": [
    {
     "name": "stdout",
     "output_type": "stream",
     "text": [
      "enter the fruits name : apple\n",
      "enter the fruits name : mango\n",
      "enter the fruits name : guvava\n",
      "enter the fruits name : banana\n",
      "enter the fruits name : cherry\n",
      "enter the fruits name : pine apple\n",
      "enter the fruits name : melon\n"
     ]
    }
   ],
   "source": [
    "f1 = input(\"enter the fruits name : \")\n",
    "f2 = input(\"enter the fruits name : \")\n",
    "f3 = input(\"enter the fruits name : \")\n",
    "f4 = input(\"enter the fruits name : \")\n",
    "f5 = input(\"enter the fruits name : \")\n",
    "f6 = input(\"enter the fruits name : \")\n",
    "f7 = input(\"enter the fruits name : \")\n",
    "l= [f1,f2,f3,f4,f5,f6,f7]"
   ]
  },
  {
   "cell_type": "code",
   "execution_count": 5,
   "id": "6eca5fc8",
   "metadata": {},
   "outputs": [
    {
     "name": "stdout",
     "output_type": "stream",
     "text": [
      "['apple', 'mango', 'guvava', 'banana', 'cherry', 'pine apple', 'melon']\n"
     ]
    }
   ],
   "source": [
    "print(l)"
   ]
  },
  {
   "cell_type": "markdown",
   "id": "de5286be",
   "metadata": {},
   "source": [
    "Using For Loop"
   ]
  },
  {
   "cell_type": "code",
   "execution_count": 27,
   "id": "86874a0c",
   "metadata": {},
   "outputs": [
    {
     "name": "stdout",
     "output_type": "stream",
     "text": [
      "enter the no. of fruits you wannaa add : 3\n",
      "enter the fruits name : apple\n",
      "enter the fruits name : guvava\n",
      "enter the fruits name : muskmelon\n",
      "['apple', 'guvava', 'muskmelon']\n"
     ]
    }
   ],
   "source": [
    "n = int(input(\"enter the no. of fruits you wannaa add : \"))\n",
    "l1= []\n",
    "i = 0\n",
    "for i  in range(i,n):\n",
    "    f = input(\"enter the fruits name : \")\n",
    "    l1.append(f)\n",
    "    i = i+1\n",
    "    \n",
    "print(l1)"
   ]
  },
  {
   "cell_type": "markdown",
   "id": "b534f952",
   "metadata": {},
   "source": [
    "#### Write a prog. to accept marks of 6 students and display them in a sorted manner."
   ]
  },
  {
   "cell_type": "markdown",
   "id": "1a06a291",
   "metadata": {},
   "source": [
    "Using For Loop"
   ]
  },
  {
   "cell_type": "code",
   "execution_count": 32,
   "id": "9b6f7a20",
   "metadata": {},
   "outputs": [
    {
     "name": "stdout",
     "output_type": "stream",
     "text": [
      "enter the no of students : 6\n",
      "enter their marks  : 67\n",
      "enter their marks  : 89\n",
      "enter their marks  : 90\n",
      "enter their marks  : 24\n",
      "enter their marks  : 43\n",
      "enter their marks  : 12\n",
      "[67, 89, 90, 24, 43, 12]\n"
     ]
    }
   ],
   "source": [
    "n = int(input(\"enter the no of students : \"))\n",
    "l2= []\n",
    "i = 0\n",
    "for i  in range(i,n):\n",
    "    f = int(input(\"enter their marks  : \"))\n",
    "    l2.append(f)\n",
    "    i = i+1\n",
    "    \n",
    "print(l2)\n"
   ]
  },
  {
   "cell_type": "code",
   "execution_count": 34,
   "id": "2fe0d21c",
   "metadata": {},
   "outputs": [
    {
     "name": "stdout",
     "output_type": "stream",
     "text": [
      "[12, 24, 43, 67, 89, 90]\n"
     ]
    }
   ],
   "source": [
    "l2.sort()\n",
    "print(l2)"
   ]
  },
  {
   "cell_type": "markdown",
   "id": "06a2a9d7",
   "metadata": {},
   "source": [
    "Using Normal Methods"
   ]
  },
  {
   "cell_type": "code",
   "execution_count": 35,
   "id": "5307cdd0",
   "metadata": {},
   "outputs": [
    {
     "name": "stdout",
     "output_type": "stream",
     "text": [
      "Enter the marks of student : 45\n",
      "Enter the marks of student : 89\n",
      "Enter the marks of student : 6\n",
      "Enter the marks of student : 45\n",
      "Enter the marks of student : 78\n",
      "Enter the marks of student : 45\n",
      "[6, 45, 45, 45, 78, 89]\n"
     ]
    }
   ],
   "source": [
    "m1 = int(input(\"Enter the marks of student : \"))\n",
    "m2 = int(input(\"Enter the marks of student : \"))\n",
    "m3 = int(input(\"Enter the marks of student : \"))\n",
    "m4 = int(input(\"Enter the marks of student : \"))\n",
    "m5 = int(input(\"Enter the marks of student : \"))\n",
    "m6 = int(input(\"Enter the marks of student : \"))\n",
    "lst = [m1,m2,m3,m4,m5,m6]\n",
    "lst.sort()\n",
    "print(lst)"
   ]
  },
  {
   "cell_type": "markdown",
   "id": "9733e9d6",
   "metadata": {},
   "source": [
    "#### Check that Tuple cannot be changed in Python"
   ]
  },
  {
   "cell_type": "code",
   "execution_count": 36,
   "id": "46aead27",
   "metadata": {},
   "outputs": [
    {
     "ename": "TypeError",
     "evalue": "'tuple' object does not support item assignment",
     "output_type": "error",
     "traceback": [
      "\u001b[1;31m---------------------------------------------------------------------------\u001b[0m",
      "\u001b[1;31mTypeError\u001b[0m                                 Traceback (most recent call last)",
      "\u001b[1;32m<ipython-input-36-4e3e6bf31ada>\u001b[0m in \u001b[0;36m<module>\u001b[1;34m\u001b[0m\n\u001b[0;32m      1\u001b[0m \u001b[0mtup\u001b[0m \u001b[1;33m=\u001b[0m \u001b[1;33m(\u001b[0m\u001b[1;36m89\u001b[0m\u001b[1;33m,\u001b[0m\u001b[1;36m7\u001b[0m\u001b[1;33m,\u001b[0m\u001b[1;36m34\u001b[0m\u001b[1;33m,\u001b[0m\u001b[1;36m2\u001b[0m\u001b[1;33m,\u001b[0m\u001b[1;36m4\u001b[0m\u001b[1;33m)\u001b[0m\u001b[1;33m\u001b[0m\u001b[1;33m\u001b[0m\u001b[0m\n\u001b[1;32m----> 2\u001b[1;33m \u001b[0mtup\u001b[0m\u001b[1;33m[\u001b[0m\u001b[1;36m0\u001b[0m\u001b[1;33m]\u001b[0m \u001b[1;33m=\u001b[0m \u001b[1;36m78\u001b[0m\u001b[1;33m\u001b[0m\u001b[1;33m\u001b[0m\u001b[0m\n\u001b[0m\u001b[0;32m      3\u001b[0m \u001b[0mprint\u001b[0m\u001b[1;33m(\u001b[0m\u001b[0mtup\u001b[0m\u001b[1;33m)\u001b[0m\u001b[1;33m\u001b[0m\u001b[1;33m\u001b[0m\u001b[0m\n",
      "\u001b[1;31mTypeError\u001b[0m: 'tuple' object does not support item assignment"
     ]
    }
   ],
   "source": [
    "tup = (89,7,34,2,4)\n",
    "tup[0] = 78\n",
    "print(tup)"
   ]
  },
  {
   "cell_type": "markdown",
   "id": "5419386f",
   "metadata": {},
   "source": [
    "#### Write a prog. to sum a list with 4 numbers"
   ]
  },
  {
   "cell_type": "code",
   "execution_count": 39,
   "id": "2b5f8aaa",
   "metadata": {},
   "outputs": [
    {
     "data": {
      "text/plain": [
       "257"
      ]
     },
     "execution_count": 39,
     "metadata": {},
     "output_type": "execute_result"
    }
   ],
   "source": [
    "lt = [45, 45, 78, 89]\n",
    "sum(lt)"
   ]
  },
  {
   "cell_type": "markdown",
   "id": "fff23cf9",
   "metadata": {},
   "source": [
    "or "
   ]
  },
  {
   "cell_type": "code",
   "execution_count": 40,
   "id": "f55a66d8",
   "metadata": {},
   "outputs": [
    {
     "name": "stdout",
     "output_type": "stream",
     "text": [
      "sum :  257\n"
     ]
    }
   ],
   "source": [
    "print('sum : ',lt[0]+lt[1]+lt[2]+lt[3])"
   ]
  },
  {
   "cell_type": "markdown",
   "id": "24daee37",
   "metadata": {},
   "source": [
    "#### Write a prog. to count the number of zero's in the given tuple"
   ]
  },
  {
   "cell_type": "code",
   "execution_count": 44,
   "id": "e224d5f6",
   "metadata": {},
   "outputs": [
    {
     "data": {
      "text/plain": [
       "3"
      ]
     },
     "execution_count": 44,
     "metadata": {},
     "output_type": "execute_result"
    }
   ],
   "source": [
    "tp = (7,0,8,0,0,9)\n",
    "tp.count(0)"
   ]
  },
  {
   "cell_type": "code",
   "execution_count": null,
   "id": "2e378f7a",
   "metadata": {},
   "outputs": [],
   "source": []
  },
  {
   "cell_type": "markdown",
   "id": "f828ed15",
   "metadata": {},
   "source": [
    "# T:5"
   ]
  },
  {
   "cell_type": "markdown",
   "id": "2c87f514",
   "metadata": {},
   "source": [
    "#### Write a prog. to create a dict. of Hind words with values as their english translation.Provide user with an option to look it up!"
   ]
  },
  {
   "cell_type": "code",
   "execution_count": 3,
   "id": "2228df28",
   "metadata": {},
   "outputs": [
    {
     "name": "stdout",
     "output_type": "stream",
     "text": [
      "{'kar': 'do', 'yaad': 'Remember', 'khus': 'happy'} <class 'dict'>\n"
     ]
    }
   ],
   "source": [
    "hindi_dic = {\"kar\":\"do\", \"yaad\":\"Remember\", \"khus\":\"happy\"}\n",
    "print(hindi_dic,type(hindi_dic))"
   ]
  },
  {
   "cell_type": "code",
   "execution_count": 6,
   "id": "8df7352a",
   "metadata": {},
   "outputs": [
    {
     "name": "stdout",
     "output_type": "stream",
     "text": [
      "options are : {'kar': 'do', 'yaad': 'Remember', 'khus': 'happy'}\n",
      "eneter hindi words: kar\n",
      "the meaning of this word is:  do\n"
     ]
    }
   ],
   "source": [
    "print(\"options are :\",hindi_dic)\n",
    "a = input(\"eneter hindi words: \")\n",
    "print(\"the meaning of this word is: \",hindi_dic.get(a))"
   ]
  },
  {
   "cell_type": "markdown",
   "id": "7eed96b3",
   "metadata": {},
   "source": [
    "or"
   ]
  },
  {
   "cell_type": "code",
   "execution_count": 8,
   "id": "32288149",
   "metadata": {},
   "outputs": [
    {
     "name": "stdout",
     "output_type": "stream",
     "text": [
      "options are : {'kar': 'do', 'yaad': 'Remember', 'khus': 'happy'}\n",
      "eneter hindi words: khus\n",
      "the meaning of this word is:  happy\n"
     ]
    }
   ],
   "source": [
    "print(\"options are :\",hindi_dic)\n",
    "a = input(\"eneter hindi words: \")\n",
    "print(\"the meaning of this word is: \",hindi_dic[a])\n",
    "# this method we will throw error if the key is not present"
   ]
  },
  {
   "cell_type": "markdown",
   "id": "d05b1bc0",
   "metadata": {},
   "source": [
    "#### Write a prog. to input 8 numbers from the user and display all the unique no. once."
   ]
  },
  {
   "cell_type": "code",
   "execution_count": 11,
   "id": "41382b31",
   "metadata": {},
   "outputs": [
    {
     "name": "stdout",
     "output_type": "stream",
     "text": [
      "no of inpuuts you want to give : 8\n",
      "enter unique no.s : 67\n",
      "67\n",
      "enter unique no.s : 78\n",
      "78\n",
      "enter unique no.s : 89\n",
      "89\n",
      "enter unique no.s : 45\n",
      "45\n",
      "enter unique no.s : 34\n",
      "34\n",
      "enter unique no.s : 78\n",
      "78\n",
      "enter unique no.s : 78\n",
      "78\n",
      "enter unique no.s : 34\n",
      "34\n"
     ]
    }
   ],
   "source": [
    "e = int(input(\"no of inpuuts you want to give : \"))\n",
    "i = 0\n",
    "for i in range(i,e):\n",
    "    a = int(input(\"enter unique no.s : \"))\n",
    "    i = i+1\n",
    "    print(a)"
   ]
  },
  {
   "cell_type": "markdown",
   "id": "e50a6381",
   "metadata": {},
   "source": [
    "Using Set{}"
   ]
  },
  {
   "cell_type": "code",
   "execution_count": 13,
   "id": "a5ce6390",
   "metadata": {},
   "outputs": [
    {
     "name": "stdout",
     "output_type": "stream",
     "text": [
      "enter no. 1 : 878\n",
      "enter no. 2 : 79\n",
      "enter no. 3 : 45\n",
      "enter no. 4 : 6\n",
      "enter no. 5 : 34\n",
      "enter no. 6 : 23\n",
      "enter no. 7 : 56\n",
      "enter no. 8 : 8\n",
      "{34, 6, 8, 45, 878, 79, 23, 56} <class 'set'>\n"
     ]
    }
   ],
   "source": [
    "n1 = int(input(\"enter no. 1 : \"))\n",
    "n2 = int(input(\"enter no. 2 : \"))\n",
    "n3 = int(input(\"enter no. 3 : \"))\n",
    "n4 = int(input(\"enter no. 4 : \"))\n",
    "n5 = int(input(\"enter no. 5 : \"))\n",
    "n6 = int(input(\"enter no. 6 : \"))\n",
    "n7 = int(input(\"enter no. 7 : \"))\n",
    "n8 = int(input(\"enter no. 8 : \"))\n",
    "s = {n1,n2,n3,n4,n5,n6,n7,n8}\n",
    "print(s,type(s))"
   ]
  },
  {
   "cell_type": "markdown",
   "id": "88f9f800",
   "metadata": {},
   "source": [
    "----"
   ]
  },
  {
   "cell_type": "code",
   "execution_count": 15,
   "id": "efee689c",
   "metadata": {},
   "outputs": [
    {
     "name": "stdout",
     "output_type": "stream",
     "text": [
      "no of inpuuts you want to give : 8\n",
      "enter unique no.s : 89\n",
      "enter unique no.s : 67\n",
      "enter unique no.s : 45\n",
      "enter unique no.s : 7\n",
      "enter unique no.s : 23\n",
      "enter unique no.s : 12\n",
      "enter unique no.s : 11\n",
      "enter unique no.s : 9\n",
      "{67, 7, 9, 11, 12, 45, 23, 89} <class 'set'>\n"
     ]
    }
   ],
   "source": [
    "e = int(input(\"no of inpuuts you want to give : \"))\n",
    "i = 0\n",
    "s = set()\n",
    "for i in range(i,e):\n",
    "    a = int(input(\"enter unique no.s : \"))\n",
    "    i = i+1\n",
    "    s.add(a)\n",
    "    \n",
    "print(s,type(s))"
   ]
  },
  {
   "cell_type": "markdown",
   "id": "486cd1b2",
   "metadata": {},
   "source": [
    "#### Can we have a set with 18(int) and \"18\"(str) as a value in it ?"
   ]
  },
  {
   "cell_type": "code",
   "execution_count": 16,
   "id": "9889406d",
   "metadata": {},
   "outputs": [
    {
     "name": "stdout",
     "output_type": "stream",
     "text": [
      "{'18', 18} <class 'set'>\n"
     ]
    }
   ],
   "source": [
    "st = {18,\"18\"}\n",
    "print(st,type(st))\n",
    "\n",
    "#yes we can have"
   ]
  },
  {
   "cell_type": "markdown",
   "id": "aa3bdbca",
   "metadata": {},
   "source": [
    "#### What will be the length of the following set s :"
   ]
  },
  {
   "cell_type": "code",
   "execution_count": 17,
   "id": "85b70322",
   "metadata": {},
   "outputs": [
    {
     "name": "stdout",
     "output_type": "stream",
     "text": [
      "{20, '20'} <class 'set'> 2\n"
     ]
    }
   ],
   "source": [
    "s = set()\n",
    "s.add(20)\n",
    "s.add(20.0)\n",
    "s.add(\"20\")\n",
    "print(s,type(s),len(s))\n",
    "# In set 20.0 and 20 is considered as same"
   ]
  },
  {
   "cell_type": "code",
   "execution_count": 22,
   "id": "1dfd0e0d",
   "metadata": {},
   "outputs": [
    {
     "name": "stdout",
     "output_type": "stream",
     "text": [
      "<class 'float'> <class 'int'>\n"
     ]
    }
   ],
   "source": [
    "print(type(20.0),type(20))"
   ]
  },
  {
   "cell_type": "markdown",
   "id": "2052f86d",
   "metadata": {},
   "source": [
    "#### what is the type of s ? s= {}"
   ]
  },
  {
   "cell_type": "code",
   "execution_count": 25,
   "id": "282694fa",
   "metadata": {},
   "outputs": [
    {
     "name": "stdout",
     "output_type": "stream",
     "text": [
      "<class 'dict'>\n"
     ]
    },
    {
     "data": {
      "text/plain": [
       "dict"
      ]
     },
     "execution_count": 25,
     "metadata": {},
     "output_type": "execute_result"
    }
   ],
   "source": [
    "s = {}\n",
    "print(type(s))\n",
    "\n",
    "#dict"
   ]
  },
  {
   "cell_type": "markdown",
   "id": "6f4cda3a",
   "metadata": {},
   "source": [
    "#### Create an empty dict. Allow 4 friends to enter favourite laung.as  values and use keys as their names. Assume that the names are unique"
   ]
  },
  {
   "cell_type": "code",
   "execution_count": 28,
   "id": "deeee90a",
   "metadata": {},
   "outputs": [
    {
     "name": "stdout",
     "output_type": "stream",
     "text": [
      "hindi\n",
      "eng\n",
      "guj\n",
      "korean\n",
      "{'MJ': 'hindi', 'Rin': 'eng', 'Neha': 'guj', 'Rinu': 'korean'} <class 'dict'>\n"
     ]
    }
   ],
   "source": [
    "favlang = {}\n",
    "a = input()\n",
    "b = input()\n",
    "c = input()\n",
    "d = input()\n",
    "favlang[\"MJ\"]=a\n",
    "favlang[\"Rin\"]=b\n",
    "favlang[\"Neha\"]=c\n",
    "favlang[\"Rinu\"]=d\n",
    "print(favlang,type(favlang))"
   ]
  },
  {
   "cell_type": "markdown",
   "id": "9a1ee78f",
   "metadata": {},
   "source": [
    "#### If the name of 2 friends are the same. What will be in case of the above prob."
   ]
  },
  {
   "cell_type": "code",
   "execution_count": 29,
   "id": "43ce1d99",
   "metadata": {},
   "outputs": [
    {
     "name": "stdout",
     "output_type": "stream",
     "text": [
      "eng\n",
      "french\n",
      "guj\n",
      "hindi\n",
      "{'MJ': 'eng', 'Rin': 'french', 'Rinu': 'hindi'} <class 'dict'>\n"
     ]
    }
   ],
   "source": [
    "favlang = {}\n",
    "a = input()\n",
    "b = input()\n",
    "c = input()\n",
    "d = input()\n",
    "favlang[\"MJ\"]=a\n",
    "favlang[\"Rin\"]=b\n",
    "favlang[\"Rinu\"]=c\n",
    "favlang[\"Rinu\"]=d\n",
    "print(favlang,type(favlang))\n",
    "\n",
    "# latest value is considered for the repreated key"
   ]
  },
  {
   "cell_type": "markdown",
   "id": "cebef482",
   "metadata": {},
   "source": [
    "#### Can you change the values inside a list which is contained in set se"
   ]
  },
  {
   "cell_type": "markdown",
   "id": "20f103e1",
   "metadata": {},
   "source": [
    "se = {8,7,12,\"harry\",[1,2]}"
   ]
  },
  {
   "cell_type": "markdown",
   "id": "e0fe96ce",
   "metadata": {},
   "source": [
    "NO"
   ]
  },
  {
   "cell_type": "markdown",
   "id": "37974a67",
   "metadata": {},
   "source": [
    "# T:6"
   ]
  },
  {
   "cell_type": "markdown",
   "id": "69fc99e8",
   "metadata": {},
   "source": [
    "Write a prog. to find the greatest of 4 numbers entered by the user."
   ]
  },
  {
   "cell_type": "code",
   "execution_count": 1,
   "id": "7516d202",
   "metadata": {},
   "outputs": [
    {
     "name": "stdout",
     "output_type": "stream",
     "text": [
      "12\n",
      "23\n",
      "34\n",
      "45\n",
      "d is the greatest\n"
     ]
    }
   ],
   "source": [
    "a = int(input())\n",
    "b = int(input())\n",
    "c = int(input())\n",
    "d = int(input())\n",
    "if(a>b and a>c and a>d):\n",
    "    print(\"a is the greatest\")\n",
    "elif(b>a and b>c and b>d):\n",
    "    print(\"b is the greatest\")\n",
    "elif(c>a and c>b and c>d):\n",
    "    print(\"c is the greatest\")\n",
    "else:\n",
    "    print(\"d is the greatest\")"
   ]
  },
  {
   "cell_type": "code",
   "execution_count": 2,
   "id": "432a5755",
   "metadata": {},
   "outputs": [
    {
     "name": "stdout",
     "output_type": "stream",
     "text": [
      "23\n",
      "45\n",
      "34\n",
      "12\n",
      "45 is greatest\n"
     ]
    }
   ],
   "source": [
    "n1 = int(input())\n",
    "n2 = int(input())\n",
    "n3 = int(input())\n",
    "n4 = int(input())\n",
    "if(n1>n4):\n",
    "    f1=n1\n",
    "else:\n",
    "    f1=n2\n",
    "    \n",
    "if(n2>n3):\n",
    "    f2=n2\n",
    "else:\n",
    "    f2=n3\n",
    "if(f1>f2):\n",
    "    print(str(f1) + \" is greatest\")\n",
    "else:\n",
    "    print(str(f2) + \" is greatest\")"
   ]
  },
  {
   "cell_type": "markdown",
   "id": "f02d0ff3",
   "metadata": {},
   "source": [
    "Write a prog. to find out whether a student is pass or fail, if it requires total 40% and at least 33% in each subject to pass. Assume 3 subjects and take total marks as input from the user"
   ]
  },
  {
   "cell_type": "code",
   "execution_count": 25,
   "id": "1ab0d79d",
   "metadata": {},
   "outputs": [
    {
     "name": "stdout",
     "output_type": "stream",
     "text": [
      "34\n",
      "34\n",
      "34\n",
      "he is fail\n"
     ]
    }
   ],
   "source": [
    "s1 = int(input())\n",
    "s2 = int(input())\n",
    "s3 = int(input())\n",
    "tm = s1+s2+s3\n",
    "tm_p = tm/3\n",
    "\n",
    "if(tm_p>=40 and (s1>=33 or s2>=33 or s3>=33)):\n",
    "    print(\"he is pass\")\n",
    "else:\n",
    "    print(\"he is fail\")"
   ]
  },
  {
   "cell_type": "markdown",
   "id": "62e1748a",
   "metadata": {},
   "source": [
    "or "
   ]
  },
  {
   "cell_type": "code",
   "execution_count": 23,
   "id": "138b40ab",
   "metadata": {},
   "outputs": [
    {
     "name": "stdout",
     "output_type": "stream",
     "text": [
      "34\n",
      "34\n",
      "34\n",
      "You are failed dude because you have less than 40% in total\n"
     ]
    }
   ],
   "source": [
    "s1 = int(input())\n",
    "s2 = int(input())\n",
    "s3 = int(input())\n",
    "tm = s1+s2+s3\n",
    "\n",
    "if(s1<33 or s2<33 or s3<33):\n",
    "    print(\"You are failed dude because you have less than 33% in 1 sub\")\n",
    "if(((s1+s2+s3)/3)<40):\n",
    "    print(\"You are failed dude because you have less than 40% in total\")\n",
    "else:\n",
    "    print(\"You are pass my boy\")"
   ]
  },
  {
   "cell_type": "markdown",
   "id": "8fe91601",
   "metadata": {},
   "source": [
    "A spam comment is defined as a text containing the folln keywords.\n",
    "\"make a lot of money\",\"buy now\",\"subscribe this\",\"click this\". Write a prog. to detect these spams."
   ]
  },
  {
   "cell_type": "code",
   "execution_count": 39,
   "id": "43ce719a",
   "metadata": {},
   "outputs": [
    {
     "name": "stdout",
     "output_type": "stream",
     "text": [
      "fhh jggj\n",
      "fhh jggj <class 'str'>\n",
      "Its a genuine message\n"
     ]
    }
   ],
   "source": [
    "cm = input()\n",
    "print(cm,type(cm))\n",
    "if (\"make a lot of money\" in cm):\n",
    "    print(\"This message is spam\")\n",
    "elif(\"buy now\" in cm):\n",
    "    print(\"This message is spam\")\n",
    "elif(\"subscribe this\" in cm):\n",
    "    print(\"This message is spam\")\n",
    "elif(\"click this\" in cm):\n",
    "    print(\"This message is spam\")\n",
    "else:\n",
    "    print(\"Its a genuine message\")"
   ]
  },
  {
   "cell_type": "markdown",
   "id": "cc0521f1",
   "metadata": {},
   "source": [
    "or"
   ]
  },
  {
   "cell_type": "code",
   "execution_count": 45,
   "id": "e50e3c57",
   "metadata": {},
   "outputs": [
    {
     "name": "stdout",
     "output_type": "stream",
     "text": [
      "click this\n",
      "click this <class 'str'>\n",
      "This message is spam\n"
     ]
    }
   ],
   "source": [
    "cm = input()\n",
    "print(cm,type(cm))\n",
    "\n",
    "if (\"make a lot of money\" in cm):\n",
    "    spam = True\n",
    "elif(\"buy now\" in cm):\n",
    "    spam = True\n",
    "elif(\"subscribe this\" in cm):\n",
    "    spam = True\n",
    "elif(\"click this\" in cm):\n",
    "    spam = True\n",
    "else:\n",
    "    spam = False\n",
    "    \n",
    "if(spam == True):\n",
    "    print(\"This message is spam\")\n",
    "else:\n",
    "    print(\"Its a genuine message\")"
   ]
  },
  {
   "cell_type": "markdown",
   "id": "6c8bd276",
   "metadata": {},
   "source": [
    "Write a prog. to find whether a given username contains less than 10 characters or not."
   ]
  },
  {
   "cell_type": "code",
   "execution_count": 53,
   "id": "58a24a4e",
   "metadata": {},
   "outputs": [
    {
     "name": "stdout",
     "output_type": "stream",
     "text": [
      "qwertasdfg\n",
      "l1 : ['q', 'w', 'e', 'r', 't', 'a', 's', 'd', 'f', 'g']\n",
      "no of elements in username:  10\n",
      "**username contains less than 10 characters**\n"
     ]
    }
   ],
   "source": [
    "ur = input()\n",
    "l1 = list(ur)\n",
    "print(\"l1 :\",l1)\n",
    "ch = len(l1)\n",
    "print(\"no of elements in username: \",ch)\n",
    "if(ch>10):\n",
    "    print(\"**username contains more than 10 characters**\")\n",
    "else:\n",
    "    print(\"**username contains less than 10 characters**\")"
   ]
  },
  {
   "cell_type": "markdown",
   "id": "003fb621",
   "metadata": {},
   "source": [
    "Write a prog. to find out whether a given name is pressent in a list or not."
   ]
  },
  {
   "cell_type": "code",
   "execution_count": 57,
   "id": "a3a8e4ec",
   "metadata": {},
   "outputs": [
    {
     "name": "stdout",
     "output_type": "stream",
     "text": [
      "john raj key lin bat\n",
      "john raj key lin bat\n",
      "List :  ['john', 'raj', 'key', 'lin', 'bat']\n"
     ]
    }
   ],
   "source": [
    "# Taking names of people as input\n",
    "ln = input()\n",
    "print(ln)\n",
    "people = ln.split(\" \")\n",
    "print(\"List : \",people)"
   ]
  },
  {
   "cell_type": "code",
   "execution_count": 62,
   "id": "5660f9fa",
   "metadata": {},
   "outputs": [
    {
     "name": "stdout",
     "output_type": "stream",
     "text": [
      "enter the name to check : kiol\n",
      "name is not present in the list\n"
     ]
    }
   ],
   "source": [
    "nm = input(\"enter the name to check : \") \n",
    "if nm in people:\n",
    "    print(\"name is present in the list\")\n",
    "else:\n",
    "    print(\"name is not present in the list\")"
   ]
  },
  {
   "cell_type": "markdown",
   "id": "ab5b6afc",
   "metadata": {},
   "source": [
    "Write a prog. to find out whether a given number is pressent in a list or not."
   ]
  },
  {
   "cell_type": "code",
   "execution_count": 63,
   "id": "8e69d3bb",
   "metadata": {},
   "outputs": [
    {
     "name": "stdout",
     "output_type": "stream",
     "text": [
      "23 24\n",
      "23 24\n",
      "List :  ['23', '24']\n"
     ]
    }
   ],
   "source": [
    "lno = input()\n",
    "print(lno)\n",
    "no_list = lno.split(\" \")\n",
    "print(\"List : \",no_list)"
   ]
  },
  {
   "cell_type": "code",
   "execution_count": 67,
   "id": "27157694",
   "metadata": {},
   "outputs": [
    {
     "name": "stdout",
     "output_type": "stream",
     "text": [
      "enter the no. to check34\n",
      "no. is not present in the list\n"
     ]
    }
   ],
   "source": [
    "no = int(input(\"enter the no. to check\"))\n",
    "if no in no_list:\n",
    "    print(\"no. is present in the list\")\n",
    "else:\n",
    "    print(\"no. is not present in the list\")"
   ]
  },
  {
   "cell_type": "markdown",
   "id": "798c082b",
   "metadata": {},
   "source": [
    "#### Getting input of string and no in list"
   ]
  },
  {
   "cell_type": "code",
   "execution_count": 70,
   "id": "a284b01d",
   "metadata": {},
   "outputs": [
    {
     "name": "stdout",
     "output_type": "stream",
     "text": [
      "67,89,77\n",
      "67,89,77\n",
      "List :  ['67', '89', '77']\n"
     ]
    }
   ],
   "source": [
    "lno = input()\n",
    "print(lno)\n",
    "no_list = lno.split(\",\")\n",
    "print(\"List : \",no_list)"
   ]
  },
  {
   "cell_type": "code",
   "execution_count": 71,
   "id": "7925d22d",
   "metadata": {},
   "outputs": [
    {
     "name": "stdout",
     "output_type": "stream",
     "text": [
      "Thanks,God\n",
      "Thanks,God\n",
      "List :  ['Thanks', 'God']\n"
     ]
    }
   ],
   "source": [
    "lno = input()\n",
    "print(lno)\n",
    "no_list = lno.split(\",\")\n",
    "print(\"List : \",no_list)"
   ]
  },
  {
   "cell_type": "code",
   "execution_count": 72,
   "id": "a9dffec7",
   "metadata": {},
   "outputs": [
    {
     "name": "stdout",
     "output_type": "stream",
     "text": [
      "67 86 89\n",
      "67 86 89\n",
      "List :  ['67', '86', '89']\n"
     ]
    }
   ],
   "source": [
    "lno = input()\n",
    "print(lno)\n",
    "no_list = lno.split(\" \")\n",
    "print(\"List : \",no_list)"
   ]
  },
  {
   "cell_type": "code",
   "execution_count": 74,
   "id": "350c41f6",
   "metadata": {},
   "outputs": [
    {
     "name": "stdout",
     "output_type": "stream",
     "text": [
      "john jim nki\n",
      "john jim nki\n",
      "List :  ['john', 'jim', 'nki']\n"
     ]
    }
   ],
   "source": [
    "lno = input()\n",
    "print(lno)\n",
    "no_list = lno.split(\" \")\n",
    "print(\"List : \",no_list)"
   ]
  },
  {
   "cell_type": "markdown",
   "id": "d2702f94",
   "metadata": {},
   "source": [
    "#### input a list using input() and range() function"
   ]
  },
  {
   "cell_type": "code",
   "execution_count": 81,
   "id": "7d263e0d",
   "metadata": {
    "scrolled": true
   },
   "outputs": [
    {
     "name": "stdout",
     "output_type": "stream",
     "text": [
      "List size6\n",
      "index :  0\n",
      "78\n",
      "index :  1\n",
      "56\n",
      "index :  2\n",
      "67\n",
      "index :  3\n",
      "34\n",
      "index :  4\n",
      "23\n",
      "index :  5\n",
      "7\n",
      "User list is  [78, 56, 67, 34, 23, 7]\n"
     ]
    }
   ],
   "source": [
    "# int as input in list\n",
    "l = []\n",
    "n = int(input(\"List size\"))\n",
    "for i in range(0,n):\n",
    "    print(\"index : \",i)\n",
    "    add_item = int(input())\n",
    "    l.append(add_item)\n",
    "print(\"User list is \", l)"
   ]
  },
  {
   "cell_type": "code",
   "execution_count": 82,
   "id": "3c6eea1d",
   "metadata": {},
   "outputs": [
    {
     "name": "stdout",
     "output_type": "stream",
     "text": [
      "List size4\n",
      "index :  0\n",
      "hello\n",
      "index :  1\n",
      "my boy\n",
      "index :  2\n",
      "kety\n",
      "index :  3\n",
      "light\n",
      "User list is  ['hello', 'my boy', 'kety', 'light']\n"
     ]
    }
   ],
   "source": [
    "# string as input in list\n",
    "l = []\n",
    "n = int(input(\"List size\"))\n",
    "for i in range(0,n):\n",
    "    print(\"index : \",i)\n",
    "    add_item = input()\n",
    "    l.append(add_item)\n",
    "print(\"User list is \", l)"
   ]
  },
  {
   "cell_type": "markdown",
   "id": "6a082643",
   "metadata": {},
   "source": [
    "Write a prog to calculate the grade of a student from his marks from the folln scheme:\n",
    "99 - 100 => Ex,\n",
    "80 - 90 =>A,\n",
    "70 - 80 =>B,\n",
    "60 - 70 =>C,\n",
    "50 - 60 =>D,\n",
    "    <50 =>F."
   ]
  },
  {
   "cell_type": "code",
   "execution_count": 9,
   "id": "f04ef408",
   "metadata": {},
   "outputs": [
    {
     "name": "stdout",
     "output_type": "stream",
     "text": [
      "enter the marks from 100 : 89\n",
      "A\n"
     ]
    }
   ],
   "source": [
    "mk = int(input(\"enter the marks from 100 : \"))\n",
    "if(mk>=90 and mk<=100):\n",
    "    print(\"Extraordinary\")\n",
    "elif(mk>=80 and mk<90):\n",
    "    print(\"A\")\n",
    "elif(mk>=70 and mk<80):\n",
    "    print(\"B\")\n",
    "elif(mk>=60 and mk<70):\n",
    "    print(\"C\")\n",
    "elif(mk>=50 and mk<60):\n",
    "    print(\"D\")\n",
    "elif(mk<50):\n",
    "    print(\"F\")"
   ]
  },
  {
   "cell_type": "markdown",
   "id": "19a3a4eb",
   "metadata": {},
   "source": [
    "or"
   ]
  },
  {
   "cell_type": "code",
   "execution_count": 13,
   "id": "287a87fc",
   "metadata": {},
   "outputs": [
    {
     "name": "stdout",
     "output_type": "stream",
     "text": [
      "99\n",
      "Extra-ordinary\n"
     ]
    }
   ],
   "source": [
    "marks= int(input())\n",
    "if marks>=90:\n",
    "    print(\"Extra-ordinary\")\n",
    "elif marks>=80:\n",
    "    print(\"A\")\n",
    "elif marks>=70:\n",
    "    print(\"B\")\n",
    "elif marks>=60:\n",
    "    print(\"C\")\n",
    "elif marks>=50:\n",
    "    print(\"D\")\n",
    "else:\n",
    "    print(\"F\")"
   ]
  },
  {
   "cell_type": "markdown",
   "id": "aabd5366",
   "metadata": {},
   "source": [
    "Write a prog. to find out whether a given post is talking about \"Heaven\" or not."
   ]
  },
  {
   "cell_type": "code",
   "execution_count": 16,
   "id": "d8b51afb",
   "metadata": {},
   "outputs": [
    {
     "name": "stdout",
     "output_type": "stream",
     "text": [
      "you are there heaven\n",
      "you are there heaven\n",
      "yes the name is present\n"
     ]
    }
   ],
   "source": [
    "pt = input()\n",
    "print(pt)\n",
    "n = \"heaven\"\n",
    "if n in pt:\n",
    "    print(\"yes the name is present\")\n",
    "else:\n",
    "    print(\"LOL nothing here\")"
   ]
  },
  {
   "cell_type": "code",
   "execution_count": null,
   "id": "0734acd1",
   "metadata": {},
   "outputs": [],
   "source": []
  },
  {
   "cell_type": "markdown",
   "id": "ec45943c",
   "metadata": {},
   "source": [
    "# T:7 Loops"
   ]
  },
  {
   "cell_type": "markdown",
   "id": "7521fec5",
   "metadata": {},
   "source": [
    "Write a prog. to print multiplication table of a given number using for loop."
   ]
  },
  {
   "cell_type": "code",
   "execution_count": 2,
   "id": "4d5c6475",
   "metadata": {},
   "outputs": [
    {
     "name": "stdout",
     "output_type": "stream",
     "text": [
      "3\n",
      "3  x  1  =  3\n",
      "3  x  2  =  6\n",
      "3  x  3  =  9\n",
      "3  x  4  =  12\n",
      "3  x  5  =  15\n",
      "3  x  6  =  18\n",
      "3  x  7  =  21\n",
      "3  x  8  =  24\n",
      "3  x  9  =  27\n",
      "3  x  10  =  30\n"
     ]
    }
   ],
   "source": [
    "tn = int(input())\n",
    "for i in range(1,11):\n",
    "    print(tn,\" x \",i,\" = \",i*tn)"
   ]
  },
  {
   "cell_type": "markdown",
   "id": "944bc5a3",
   "metadata": {},
   "source": [
    "Write a prog. to greet all the person names stored in a list l1 and which starts with S.\n",
    "\n",
    "l1 = [\"harry\",\"soham\",\"sachin\",\"rahul\"]"
   ]
  },
  {
   "cell_type": "code",
   "execution_count": 25,
   "id": "5119ec33",
   "metadata": {},
   "outputs": [],
   "source": [
    "l1 = [\"harry\",\"soham\",\"sachin\",\"rahul\"]"
   ]
  },
  {
   "cell_type": "code",
   "execution_count": 30,
   "id": "084b540f",
   "metadata": {},
   "outputs": [
    {
     "name": "stdout",
     "output_type": "stream",
     "text": [
      "soham\n",
      "sachin\n"
     ]
    }
   ],
   "source": [
    "for s in l1:\n",
    "    if s.startswith('s'):\n",
    "        print(s)"
   ]
  },
  {
   "cell_type": "markdown",
   "id": "d65e2c7a",
   "metadata": {},
   "source": [
    "Attempt P1 using while loop.\n",
    "Write a prog. to print multiplication table of a given number using for loop."
   ]
  },
  {
   "cell_type": "code",
   "execution_count": 6,
   "id": "8dd76565",
   "metadata": {},
   "outputs": [
    {
     "name": "stdout",
     "output_type": "stream",
     "text": [
      "4\n",
      "4  x  1  =  4\n",
      "4  x  2  =  8\n",
      "4  x  3  =  12\n",
      "4  x  4  =  16\n",
      "4  x  5  =  20\n",
      "4  x  6  =  24\n",
      "4  x  7  =  28\n",
      "4  x  8  =  32\n",
      "4  x  9  =  36\n",
      "4  x  10  =  40\n"
     ]
    }
   ],
   "source": [
    "tb = int(input())\n",
    "i = 1\n",
    "while(i<=10):\n",
    "    print(tb,\" x \",i,\" = \",(i*tb))\n",
    "    i += 1"
   ]
  },
  {
   "cell_type": "markdown",
   "id": "ad4c8893",
   "metadata": {},
   "source": [
    "Write a Prog. to find whether a given no. is prime or not.\n",
    "\n",
    "prime no: Prime numbers are the positive integers having only two factors, 1 and the integer itself.\n",
    "eg : 2,3,31  "
   ]
  },
  {
   "cell_type": "code",
   "execution_count": 24,
   "id": "cbc4c635",
   "metadata": {},
   "outputs": [
    {
     "name": "stdout",
     "output_type": "stream",
     "text": [
      "10\n",
      "count :  4\n",
      "Its non prime\n"
     ]
    }
   ],
   "source": [
    "no = int(input())\n",
    "\n",
    "count = 0\n",
    "for i in range(1,no+1):\n",
    "    if no % i == 0: \n",
    "        count += 1\n",
    "    \n",
    "print(\"count : \",count)\n",
    "\n",
    "if(count==2):\n",
    "    print(\"Its a prime no\")\n",
    "else:\n",
    "    print(\"Its non prime\")"
   ]
  },
  {
   "cell_type": "markdown",
   "id": "396010db",
   "metadata": {},
   "source": [
    "\n",
    "Write a prog.  to find the sum of n natural numbers loop."
   ]
  },
  {
   "cell_type": "code",
   "execution_count": 39,
   "id": "4ca8bb89",
   "metadata": {},
   "outputs": [
    {
     "name": "stdout",
     "output_type": "stream",
     "text": [
      "input : 3\n",
      "1\n",
      "3\n",
      "6\n",
      "Sum of natural no. :  6\n"
     ]
    }
   ],
   "source": [
    "no = int(input(\"input : \"))\n",
    "sum = 0\n",
    "for i in range(1,no+1):\n",
    "    sum = sum + i\n",
    "    print(sum)\n",
    "print(\"Sum of natural no. : \",sum)"
   ]
  },
  {
   "cell_type": "markdown",
   "id": "8afc4f22",
   "metadata": {},
   "source": [
    "Find factorial of a no using loop"
   ]
  },
  {
   "cell_type": "code",
   "execution_count": 42,
   "id": "5b694ad0",
   "metadata": {},
   "outputs": [
    {
     "name": "stdout",
     "output_type": "stream",
     "text": [
      "input : 3\n",
      "1\n",
      "2\n",
      "6\n",
      "fact of no. :  6\n"
     ]
    }
   ],
   "source": [
    "no = int(input(\"input : \"))\n",
    "fact = 1\n",
    "sum = 0\n",
    "for i in range(1,no+1):\n",
    "    fact = fact * i\n",
    "    print(fact)\n",
    "print(\"fact of no. : \",fact)"
   ]
  },
  {
   "cell_type": "markdown",
   "id": "70edf003",
   "metadata": {},
   "source": [
    "Write a prog. to print the folln star pattern.\n",
    "for n= 3"
   ]
  },
  {
   "cell_type": "raw",
   "id": "db3441e6",
   "metadata": {},
   "source": [
    "*\n",
    "* *\n",
    "* * *"
   ]
  },
  {
   "cell_type": "code",
   "execution_count": 51,
   "id": "e0e2bdca",
   "metadata": {},
   "outputs": [
    {
     "name": "stdout",
     "output_type": "stream",
     "text": [
      "*\n",
      "**\n",
      "***\n"
     ]
    }
   ],
   "source": [
    "n = 3 \n",
    "for i in range(3):\n",
    "    print(\"*\"*(i+1))"
   ]
  },
  {
   "cell_type": "markdown",
   "id": "65734f69",
   "metadata": {},
   "source": [
    "Write a prog. to print the folln star pattern. for n"
   ]
  },
  {
   "cell_type": "raw",
   "id": "9a422b40",
   "metadata": {},
   "source": [
    "*\n",
    "**\n",
    "***\n",
    "****"
   ]
  },
  {
   "cell_type": "code",
   "execution_count": 55,
   "id": "d8624171",
   "metadata": {},
   "outputs": [
    {
     "name": "stdout",
     "output_type": "stream",
     "text": [
      "*\n",
      "**\n",
      "***\n",
      "****\n"
     ]
    }
   ],
   "source": [
    "n = 4\n",
    "for i in range(4):\n",
    "    print(\"*\"*(i+1))"
   ]
  },
  {
   "cell_type": "markdown",
   "id": "307fa352",
   "metadata": {},
   "source": [
    "Write a prog. to print the folln star pattern."
   ]
  },
  {
   "cell_type": "raw",
   "id": "1f27b830",
   "metadata": {},
   "source": [
    "  *\n",
    " * *\n",
    "* * *"
   ]
  },
  {
   "cell_type": "code",
   "execution_count": 12,
   "id": "0dc4663c",
   "metadata": {},
   "outputs": [
    {
     "name": "stdout",
     "output_type": "stream",
     "text": [
      "& & & * \n",
      "& & * * \n",
      "& * * * \n"
     ]
    }
   ],
   "source": [
    "n = 3\n",
    "for j in range(n):\n",
    "    for i in range(j,n):\n",
    "        print(\"&\",end=\" \")\n",
    "    for i in range(j+1):\n",
    "        print(\"*\",end=\" \")\n",
    "    print()"
   ]
  },
  {
   "cell_type": "markdown",
   "id": "e1280107",
   "metadata": {},
   "source": [
    "#### Solve any Star Pattern program in Python"
   ]
  },
  {
   "cell_type": "raw",
   "id": "c9a96bed",
   "metadata": {},
   "source": [
    "1. Size\n",
    "=> how many rows you want in the python\n",
    "\n",
    "function parameter : def pattern(n):\n",
    "Input from user : n = int(input(\"no of rows\"))  or n = 5\n",
    "\n",
    "2. Putting together nested loops"
   ]
  },
  {
   "cell_type": "code",
   "execution_count": 5,
   "id": "d4c0eed3",
   "metadata": {},
   "outputs": [
    {
     "name": "stdout",
     "output_type": "stream",
     "text": [
      "*****\n"
     ]
    }
   ],
   "source": [
    "n = 5\n",
    "print(\"*\"*n)\n"
   ]
  },
  {
   "cell_type": "code",
   "execution_count": 4,
   "id": "3d291518",
   "metadata": {},
   "outputs": [
    {
     "name": "stdout",
     "output_type": "stream",
     "text": [
      "*\n",
      "*\n",
      "*\n",
      "*\n",
      "*\n"
     ]
    }
   ],
   "source": [
    "n=5\n",
    "for i in range(n):\n",
    "    print(\"*\")"
   ]
  },
  {
   "cell_type": "markdown",
   "id": "187f32f6",
   "metadata": {},
   "source": [
    "But we want all this starts in single row so we will add : end =\" \""
   ]
  },
  {
   "cell_type": "code",
   "execution_count": 12,
   "id": "49b8540d",
   "metadata": {},
   "outputs": [
    {
     "name": "stdout",
     "output_type": "stream",
     "text": [
      "*****"
     ]
    }
   ],
   "source": [
    "n = 5\n",
    "for i in range(n):\n",
    "    print(\"*\",end =\"\") #zero space b/n stars"
   ]
  },
  {
   "cell_type": "code",
   "execution_count": 11,
   "id": "b16eaa40",
   "metadata": {},
   "outputs": [
    {
     "name": "stdout",
     "output_type": "stream",
     "text": [
      "* * * * * "
     ]
    }
   ],
   "source": [
    "n = 5\n",
    "for i in range(n):\n",
    "    print(\"*\",end =\" \") #1 space b/n stars"
   ]
  },
  {
   "cell_type": "markdown",
   "id": "b2aed0e9",
   "metadata": {},
   "source": [
    "Printing a 5x5 square with stars"
   ]
  },
  {
   "cell_type": "raw",
   "id": "258ae08e",
   "metadata": {},
   "source": [
    "* * * * *\n",
    "* * * * *\n",
    "* * * * *\n",
    "* * * * *\n",
    "* * * * *"
   ]
  },
  {
   "cell_type": "code",
   "execution_count": 18,
   "id": "cc85f535",
   "metadata": {},
   "outputs": [
    {
     "name": "stdout",
     "output_type": "stream",
     "text": [
      "* * * * * * * * * * * * * * * * * * * * * * * * * "
     ]
    }
   ],
   "source": [
    "# 1st step\n",
    "n = 5\n",
    "for j in range(n):\n",
    "    for i in range(n):\n",
    "        print(\"*\",end = \" \")"
   ]
  },
  {
   "cell_type": "code",
   "execution_count": 19,
   "id": "a1ca07c9",
   "metadata": {},
   "outputs": [
    {
     "name": "stdout",
     "output_type": "stream",
     "text": [
      "*****\n",
      "*****\n",
      "*****\n",
      "*****\n",
      "*****\n"
     ]
    }
   ],
   "source": [
    "# 2nd step\n",
    "n = 5\n",
    "for j in range(n):\n",
    "    for i in range(n):\n",
    "        print(\"*\",end = \"\")\n",
    "    print()"
   ]
  },
  {
   "cell_type": "markdown",
   "id": "a11c263c",
   "metadata": {},
   "source": [
    "Do not forget the print() statement before exiting the outer loop."
   ]
  },
  {
   "cell_type": "code",
   "execution_count": 20,
   "id": "091dbdb9",
   "metadata": {},
   "outputs": [
    {
     "name": "stdout",
     "output_type": "stream",
     "text": [
      "* * * * * \n",
      "* * * * * \n",
      "* * * * * \n",
      "* * * * * \n",
      "* * * * * \n"
     ]
    }
   ],
   "source": [
    "# Final code\n",
    "n = 5\n",
    "for j in range(n):\n",
    "    for i in range(n):\n",
    "        print(\"*\",end = \" \")\n",
    "    print()"
   ]
  },
  {
   "cell_type": "raw",
   "id": "5e94b7a3",
   "metadata": {},
   "source": [
    "Print increasing triangle pattern.\n",
    "\n",
    "*\n",
    "* *\n",
    "* * *\n",
    "* * * *\n",
    "* * * * *"
   ]
  },
  {
   "cell_type": "code",
   "execution_count": 30,
   "id": "30b94730",
   "metadata": {},
   "outputs": [
    {
     "name": "stdout",
     "output_type": "stream",
     "text": [
      "* \n",
      "* * \n",
      "* * * \n",
      "* * * * \n",
      "* * * * * \n"
     ]
    }
   ],
   "source": [
    "n = 5 \n",
    "for j in range(n): # inner loop is set to n (rows)\n",
    "    for i in range(j+1): #outer loop is set to n+1 (col) \n",
    "        print(\"*\",end=\" \")\n",
    "    print()"
   ]
  },
  {
   "cell_type": "raw",
   "id": "a85e58d5",
   "metadata": {},
   "source": [
    "Print increasing triangle pattern.\n",
    "\n",
    "* * * * *\n",
    "* * * *\n",
    "* * *\n",
    "* *\n",
    "*"
   ]
  },
  {
   "cell_type": "code",
   "execution_count": 31,
   "id": "1affdab4",
   "metadata": {},
   "outputs": [
    {
     "name": "stdout",
     "output_type": "stream",
     "text": [
      "* * * * * \n",
      "* * * * \n",
      "* * * \n",
      "* * \n",
      "* \n"
     ]
    }
   ],
   "source": [
    "n = 5 \n",
    "for j in range(n): #rows : outerloop n\n",
    "    for i in range(j,n): # nested loop : (i,n)\n",
    "        print(\"*\",end=\" \")\n",
    "    print()"
   ]
  },
  {
   "cell_type": "raw",
   "id": "1d1a56d2",
   "metadata": {},
   "source": [
    "Print Right triangle pattern.\n",
    "\n",
    "        *\n",
    "      * *\n",
    "    * * *\n",
    "  * * * *\n",
    "* * * * *"
   ]
  },
  {
   "cell_type": "code",
   "execution_count": 46,
   "id": "5f094f6b",
   "metadata": {},
   "outputs": [
    {
     "name": "stdout",
     "output_type": "stream",
     "text": [
      "          * \n",
      "        * * \n",
      "      * * * \n",
      "    * * * * \n",
      "  * * * * * \n"
     ]
    }
   ],
   "source": [
    "n = 5\n",
    "for j in range(n):\n",
    "    for i in range(j,n):\n",
    "        print(\" \",end=\" \")\n",
    "    for i in range(j+1):\n",
    "        print(\"*\",end=\" \")\n",
    "    print()"
   ]
  },
  {
   "cell_type": "raw",
   "id": "e6cd5551",
   "metadata": {},
   "source": [
    "Print given triangle\n",
    "\n",
    "* * * * *\n",
    "  * * * *\n",
    "    * * *\n",
    "      * *\n",
    "        *"
   ]
  },
  {
   "cell_type": "code",
   "execution_count": 65,
   "id": "404648c8",
   "metadata": {},
   "outputs": [
    {
     "name": "stdout",
     "output_type": "stream",
     "text": [
      "  * * * * * \n",
      "    * * * * \n",
      "      * * * \n",
      "        * * \n",
      "          * \n"
     ]
    }
   ],
   "source": [
    "n = 5\n",
    "for j in range(n):\n",
    "    for i in range(j+1):\n",
    "        print(\" \",end = \" \")\n",
    "    for i in range(j,n):\n",
    "        print(\"*\",end = \" \")\n",
    "    print()"
   ]
  },
  {
   "cell_type": "raw",
   "id": "b89e8ef3",
   "metadata": {},
   "source": [
    "Printing Hill pattern\n",
    "        \n",
    "        *\n",
    "      * * *\n",
    "    * * * * *\n",
    "  * * * * * * *\n",
    "* * * * * * * * *"
   ]
  },
  {
   "cell_type": "code",
   "execution_count": 67,
   "id": "1fa0b6e1",
   "metadata": {},
   "outputs": [
    {
     "name": "stdout",
     "output_type": "stream",
     "text": [
      "          * * \n",
      "        * * * * \n",
      "      * * * * * * \n",
      "    * * * * * * * * \n",
      "  * * * * * * * * * * \n"
     ]
    }
   ],
   "source": [
    "# 1st step \n",
    "\n",
    "n = 5\n",
    "for j in range(n):\n",
    "    for i in range(j,n):\n",
    "        print(\" \",end=\" \")\n",
    "    for i in range(j+1): # change range to j\n",
    "        print(\"*\",end=\" \")\n",
    "    for i in range(j+1):\n",
    "        print(\"*\",end=\" \")\n",
    "    print()"
   ]
  },
  {
   "cell_type": "code",
   "execution_count": 70,
   "id": "5303c29d",
   "metadata": {},
   "outputs": [
    {
     "name": "stdout",
     "output_type": "stream",
     "text": [
      "          \n",
      "        * \n",
      "      * * \n",
      "    * * * \n",
      "  * * * * \n"
     ]
    }
   ],
   "source": [
    "# 2st step \n",
    "\n",
    "n = 5\n",
    "for j in range(n):\n",
    "    for i in range(j,n):\n",
    "        print(\" \",end=\" \")\n",
    "    for i in range(j):\n",
    "        print(\"*\",end=\" \")\n",
    "    print()"
   ]
  },
  {
   "cell_type": "code",
   "execution_count": 77,
   "id": "56c46a16",
   "metadata": {},
   "outputs": [
    {
     "name": "stdout",
     "output_type": "stream",
     "text": [
      "          * \n",
      "        * * * \n",
      "      * * * * * \n",
      "    * * * * * * * \n",
      "  * * * * * * * * * \n"
     ]
    }
   ],
   "source": [
    "# final\n",
    "n = 5\n",
    "for j in range(n):\n",
    "    for i in range(j,n):\n",
    "        print(\" \",end=\" \")\n",
    "    for i in range(j):\n",
    "        print(\"*\",end=\" \")\n",
    "    for i in range(j+1):\n",
    "        print(\"*\",end=\" \")\n",
    "    print()"
   ]
  },
  {
   "cell_type": "code",
   "execution_count": null,
   "id": "9617c425",
   "metadata": {},
   "outputs": [],
   "source": []
  },
  {
   "cell_type": "code",
   "execution_count": 84,
   "id": "62cfab43",
   "metadata": {},
   "outputs": [
    {
     "name": "stdout",
     "output_type": "stream",
     "text": [
      "  * * * * * * * * * * \n",
      "    * * * * * * * * \n",
      "      * * * * * * \n",
      "        * * * * \n",
      "          * * \n"
     ]
    }
   ],
   "source": [
    "# 1st step\n",
    "n = 5 \n",
    "for j in range(n): # inner loop is set to n (rows)\n",
    "    for i in range(j+1): #outer loop is set to n+1 (col) \n",
    "        print(\" \",end=\" \")\n",
    "    for i in range(j,n):\n",
    "        print(\"*\",end = \" \")\n",
    "    for i in range(j,n):\n",
    "        print(\"*\",end = \" \")\n",
    "    print()"
   ]
  },
  {
   "cell_type": "code",
   "execution_count": 87,
   "id": "afbdbcda",
   "metadata": {},
   "outputs": [
    {
     "name": "stdout",
     "output_type": "stream",
     "text": [
      "  * * * * * * * * * \n",
      "    * * * * * * * \n",
      "      * * * * * \n",
      "        * * * \n",
      "          * \n"
     ]
    }
   ],
   "source": [
    "# 2nd step\n",
    "n = 5 \n",
    "for j in range(n): # inner loop is set to n (rows)\n",
    "    for i in range(j+1): #outer loop is set to n+1 (col) \n",
    "        print(\" \",end=\" \")\n",
    "    for i in range(j,n-1):\n",
    "        print(\"*\",end = \" \")\n",
    "    for i in range(j,n):\n",
    "        print(\"*\",end = \" \")\n",
    "    print()"
   ]
  },
  {
   "cell_type": "raw",
   "id": "fcc2c44e",
   "metadata": {},
   "source": [
    "Print the folln pattern.\n",
    "\n",
    "         * \n",
    "  * * * * * * * * * \n",
    "        * * * \n",
    "    * * * * * * * \n",
    "      * * * * * \n",
    "      * * * * * \n",
    "    * * * * * * * \n",
    "        * * * \n",
    "  * * * * * * * * * \n",
    "          * "
   ]
  },
  {
   "cell_type": "code",
   "execution_count": 2,
   "id": "5d3ecfa4",
   "metadata": {},
   "outputs": [
    {
     "name": "stdout",
     "output_type": "stream",
     "text": [
      "          * \n",
      "        * * * \n",
      "      * * * * * \n",
      "    * * * * * * * \n",
      "  * * * * * * * * * \n"
     ]
    }
   ],
   "source": [
    "# 1st step\n",
    "\n",
    "n = 5\n",
    "for j in range(n):\n",
    "    for i in range(j,n):\n",
    "        print(\" \",end=\" \")\n",
    "    for i in range(j):\n",
    "        print(\"*\",end=\" \")\n",
    "    for i in range(j+1):\n",
    "        print(\"*\",end=\" \")\n",
    "    print()"
   ]
  },
  {
   "cell_type": "code",
   "execution_count": 3,
   "id": "7fccf2db",
   "metadata": {},
   "outputs": [
    {
     "name": "stdout",
     "output_type": "stream",
     "text": [
      "  * * * * * * * * * \n",
      "    * * * * * * * \n",
      "      * * * * * \n",
      "        * * * \n",
      "          * \n"
     ]
    }
   ],
   "source": [
    "# 2nd step \n",
    "\n",
    "n = 5 \n",
    "for j in range(n): # inner loop is set to n (rows)\n",
    "    for i in range(j+1): #outer loop is set to n+1 (col) \n",
    "        print(\" \",end=\" \")\n",
    "    for i in range(j,n-1):\n",
    "        print(\"*\",end = \" \")\n",
    "    for i in range(j,n):\n",
    "        print(\"*\",end = \" \")\n",
    "    print()"
   ]
  },
  {
   "cell_type": "code",
   "execution_count": 6,
   "id": "d92a26bf",
   "metadata": {},
   "outputs": [
    {
     "name": "stdout",
     "output_type": "stream",
     "text": [
      "          * \n",
      "  * * * * * * * * * \n",
      "        * * * \n",
      "    * * * * * * * \n",
      "      * * * * * \n",
      "      * * * * * \n",
      "    * * * * * * * \n",
      "        * * * \n",
      "  * * * * * * * * * \n",
      "          * \n"
     ]
    }
   ],
   "source": [
    "# final \n",
    "n = 5\n",
    "for j in range(n):\n",
    "    for i in range(j,n):\n",
    "        print(\" \",end=\" \")\n",
    "    for i in range(j):\n",
    "        print(\"*\",end=\" \")\n",
    "    for i in range(j+1):\n",
    "        print(\"*\",end=\" \")\n",
    "    print()\n",
    "    for i in range(j+1): \n",
    "        print(\" \",end=\" \")\n",
    "    for i in range(j,n-1):\n",
    "        print(\"*\",end = \" \")\n",
    "    for i in range(j,n):\n",
    "        print(\"*\",end = \" \")\n",
    "    print()"
   ]
  },
  {
   "cell_type": "raw",
   "id": "8a507333",
   "metadata": {},
   "source": [
    "Print the folln pattern.\n",
    "          \n",
    "          *\n",
    "        * * * \n",
    "      * * * * * \n",
    "    * * * * * * * \n",
    "  * * * * * * * * * \n",
    "    * * * * * * * \n",
    "      * * * * * \n",
    "        * * * \n",
    "          * "
   ]
  },
  {
   "cell_type": "code",
   "execution_count": 7,
   "id": "e14e9cb1",
   "metadata": {},
   "outputs": [
    {
     "name": "stdout",
     "output_type": "stream",
     "text": [
      "          * \n",
      "        * * * \n",
      "      * * * * * \n",
      "    * * * * * * * \n",
      "  * * * * * * * * * \n"
     ]
    }
   ],
   "source": [
    "# 1st step\n",
    "\n",
    "n = 5\n",
    "for j in range(n):\n",
    "    for i in range(j,n):\n",
    "        print(\" \",end=\" \")\n",
    "    for i in range(j):\n",
    "        print(\"*\",end=\" \")\n",
    "    for i in range(j+1):\n",
    "        print(\"*\",end=\" \")\n",
    "    print()"
   ]
  },
  {
   "cell_type": "code",
   "execution_count": 8,
   "id": "c132279d",
   "metadata": {},
   "outputs": [
    {
     "name": "stdout",
     "output_type": "stream",
     "text": [
      "  * * * * * * * * * \n",
      "    * * * * * * * \n",
      "      * * * * * \n",
      "        * * * \n",
      "          * \n"
     ]
    }
   ],
   "source": [
    "# 2nd step \n",
    "\n",
    "n = 5 \n",
    "for j in range(n): # inner loop is set to n (rows)\n",
    "    for i in range(j+1): #outer loop is set to n+1 (col) \n",
    "        print(\" \",end=\" \")\n",
    "    for i in range(j,n-1):\n",
    "        print(\"*\",end = \" \")\n",
    "    for i in range(j,n):\n",
    "        print(\"*\",end = \" \")\n",
    "    print()"
   ]
  },
  {
   "cell_type": "code",
   "execution_count": 10,
   "id": "2b55cf9c",
   "metadata": {},
   "outputs": [
    {
     "name": "stdout",
     "output_type": "stream",
     "text": [
      "          * \n",
      "        * * * \n",
      "      * * * * * \n",
      "    * * * * * * * \n",
      "  * * * * * * * * * \n",
      "    * * * * * * * \n",
      "      * * * * * \n",
      "        * * * \n",
      "          * \n"
     ]
    }
   ],
   "source": [
    "# 3rd step\n",
    "\n",
    "\n",
    "n = 5\n",
    "for j in range(n-1):  # n to n-1\n",
    "    for i in range(j,n):\n",
    "        print(\" \",end=\" \")\n",
    "    for i in range(j):\n",
    "        print(\"*\",end=\" \")\n",
    "    for i in range(j+1):\n",
    "        print(\"*\",end=\" \")\n",
    "    print()\n",
    "\n",
    "n = 5 \n",
    "for j in range(n): # inner loop is set to n (rows)\n",
    "    for i in range(j+1): #outer loop is set to n+1 (col) \n",
    "        print(\" \",end=\" \")\n",
    "    for i in range(j,n-1):\n",
    "        print(\"*\",end = \" \")\n",
    "    for i in range(j,n):\n",
    "        print(\"*\",end = \" \")\n",
    "    print()"
   ]
  },
  {
   "cell_type": "markdown",
   "id": "8b4f4848",
   "metadata": {},
   "source": [
    "Write a prog to print (1 to n) in order"
   ]
  },
  {
   "cell_type": "code",
   "execution_count": 21,
   "id": "425fd49d",
   "metadata": {},
   "outputs": [
    {
     "name": "stdout",
     "output_type": "stream",
     "text": [
      "1\n",
      "2\n",
      "3\n",
      "4\n",
      "5\n",
      "6\n",
      "7\n",
      "8\n",
      "9\n",
      "10\n"
     ]
    }
   ],
   "source": [
    "i = 1\n",
    "for i in range(i,10+1):\n",
    "    print(i)\n",
    "    i += 1"
   ]
  },
  {
   "cell_type": "markdown",
   "id": "033cfffc",
   "metadata": {},
   "source": [
    "Write a prog to print (1 to n) in reversed order.\n",
    "that means (n to 1 )"
   ]
  },
  {
   "cell_type": "code",
   "execution_count": 28,
   "id": "7cb20588",
   "metadata": {},
   "outputs": [
    {
     "name": "stdout",
     "output_type": "stream",
     "text": [
      "8\n",
      "7\n",
      "6\n",
      "5\n",
      "4\n",
      "3\n",
      "2\n",
      "1\n"
     ]
    }
   ],
   "source": [
    "n = 8\n",
    "for i in range(n,0,-1):\n",
    "\tprint (i)"
   ]
  },
  {
   "cell_type": "markdown",
   "id": "b2fcd937",
   "metadata": {},
   "source": [
    "write a prog. to print multiplication table in revere order"
   ]
  },
  {
   "cell_type": "code",
   "execution_count": 29,
   "id": "01823331",
   "metadata": {},
   "outputs": [
    {
     "name": "stdout",
     "output_type": "stream",
     "text": [
      "5\n",
      "5  x  10  =  50\n",
      "5  x  9  =  45\n",
      "5  x  8  =  40\n",
      "5  x  7  =  35\n",
      "5  x  6  =  30\n",
      "5  x  5  =  25\n",
      "5  x  4  =  20\n",
      "5  x  3  =  15\n",
      "5  x  2  =  10\n",
      "5  x  1  =  5\n"
     ]
    }
   ],
   "source": [
    "t = int(input())\n",
    "n = 10\n",
    "for i in range(n,0,-1):\n",
    "    print(t,\" x \",i,\" = \",(t*i))"
   ]
  },
  {
   "cell_type": "markdown",
   "id": "2021053a",
   "metadata": {},
   "source": [
    "Prog to print table in ascending order."
   ]
  },
  {
   "cell_type": "code",
   "execution_count": 44,
   "id": "506df342",
   "metadata": {},
   "outputs": [
    {
     "name": "stdout",
     "output_type": "stream",
     "text": [
      "8\n",
      "16\n",
      "24\n",
      "32\n",
      "40\n",
      "48\n",
      "56\n",
      "64\n",
      "72\n",
      "80\n"
     ]
    }
   ],
   "source": [
    "n = 8  # table no.\n",
    "i = 1\n",
    "for i in range(i,11):\n",
    "    print (i*n)\n",
    "    i+=1"
   ]
  },
  {
   "cell_type": "code",
   "execution_count": 45,
   "id": "8914b427",
   "metadata": {},
   "outputs": [
    {
     "name": "stdout",
     "output_type": "stream",
     "text": [
      "8\n",
      "16\n",
      "24\n",
      "32\n",
      "40\n",
      "48\n",
      "56\n",
      "64\n",
      "72\n",
      "80\n"
     ]
    }
   ],
   "source": [
    "n = 8  # table no.\n",
    "for i in range(1,11):\n",
    "    print (i*n)"
   ]
  },
  {
   "cell_type": "code",
   "execution_count": null,
   "id": "8e9be538",
   "metadata": {},
   "outputs": [],
   "source": []
  },
  {
   "cell_type": "markdown",
   "id": "2eff1ef0",
   "metadata": {},
   "source": [
    "# T:8"
   ]
  },
  {
   "cell_type": "markdown",
   "id": "7f9e56a9",
   "metadata": {},
   "source": [
    "Write a prog. using functn to find greatest of 3 number"
   ]
  },
  {
   "cell_type": "code",
   "execution_count": 54,
   "id": "d4eeb2b8",
   "metadata": {},
   "outputs": [],
   "source": [
    "def check(a,b,c):\n",
    "    if a>b and a>c:\n",
    "        print(\"a is greatest\")\n",
    "    elif(b>c and b>a):\n",
    "        print(\"b is greatest\")\n",
    "    else:\n",
    "        print(\"c is greatest\")"
   ]
  },
  {
   "cell_type": "code",
   "execution_count": 57,
   "id": "c706babc",
   "metadata": {},
   "outputs": [
    {
     "name": "stdout",
     "output_type": "stream",
     "text": [
      "a is greatest\n"
     ]
    }
   ],
   "source": [
    "check(121,99,56)"
   ]
  },
  {
   "cell_type": "markdown",
   "id": "8278dbfd",
   "metadata": {},
   "source": [
    "or"
   ]
  },
  {
   "cell_type": "code",
   "execution_count": 59,
   "id": "10435895",
   "metadata": {},
   "outputs": [],
   "source": [
    "def checkl(a,b,c):\n",
    "    l = [a,b,c]\n",
    "    return max(l)"
   ]
  },
  {
   "cell_type": "code",
   "execution_count": 62,
   "id": "62f5eab9",
   "metadata": {},
   "outputs": [
    {
     "data": {
      "text/plain": [
       "90"
      ]
     },
     "execution_count": 62,
     "metadata": {},
     "output_type": "execute_result"
    }
   ],
   "source": [
    "checkl(12,45,90)"
   ]
  },
  {
   "cell_type": "markdown",
   "id": "dc559968",
   "metadata": {},
   "source": [
    "or"
   ]
  },
  {
   "cell_type": "code",
   "execution_count": 2,
   "id": "fc22e6ae",
   "metadata": {},
   "outputs": [],
   "source": [
    "def checkgt(a,b,c):\n",
    "    if(a>b):\n",
    "        if(a>c):\n",
    "            return a\n",
    "        else:\n",
    "            return c\n",
    "    else:\n",
    "        if(b>c):\n",
    "            return b\n",
    "        else:\n",
    "            return c"
   ]
  },
  {
   "cell_type": "code",
   "execution_count": 6,
   "id": "569d658b",
   "metadata": {},
   "outputs": [
    {
     "data": {
      "text/plain": [
       "97"
      ]
     },
     "execution_count": 6,
     "metadata": {},
     "output_type": "execute_result"
    }
   ],
   "source": [
    "checkgt(97,78,69)"
   ]
  },
  {
   "cell_type": "markdown",
   "id": "5c732599",
   "metadata": {},
   "source": [
    "Write a prog. using function to convert celsius to fahrenheit"
   ]
  },
  {
   "cell_type": "code",
   "execution_count": 65,
   "id": "a0186666",
   "metadata": {},
   "outputs": [],
   "source": [
    "def temp(c):\n",
    "    far = (c * 9/5) + 32\n",
    "    return far"
   ]
  },
  {
   "cell_type": "code",
   "execution_count": 66,
   "id": "ebd271a2",
   "metadata": {},
   "outputs": [
    {
     "data": {
      "text/plain": [
       "91.4"
      ]
     },
     "execution_count": 66,
     "metadata": {},
     "output_type": "execute_result"
    }
   ],
   "source": [
    "temp(33)"
   ]
  },
  {
   "cell_type": "markdown",
   "id": "2acd6d09",
   "metadata": {},
   "source": [
    "Write a recursive functn to calculate the sum of first n natural no's"
   ]
  },
  {
   "cell_type": "code",
   "execution_count": 42,
   "id": "0edb4d75",
   "metadata": {},
   "outputs": [],
   "source": [
    "def recur_sum(n):\n",
    "    if n <= 1:\n",
    "        return n\n",
    "    else:\n",
    "        return n + recur_sum(n-1)"
   ]
  },
  {
   "cell_type": "code",
   "execution_count": 43,
   "id": "523bba9c",
   "metadata": {},
   "outputs": [
    {
     "data": {
      "text/plain": [
       "15"
      ]
     },
     "execution_count": 43,
     "metadata": {},
     "output_type": "execute_result"
    }
   ],
   "source": [
    "recur_sum(5)"
   ]
  },
  {
   "cell_type": "markdown",
   "id": "4019eca2",
   "metadata": {},
   "source": [
    "or"
   ]
  },
  {
   "cell_type": "code",
   "execution_count": 39,
   "id": "dd697691",
   "metadata": {},
   "outputs": [],
   "source": [
    "def sm(n):\n",
    "    sum = (n*(n+1))/2\n",
    "    return sum"
   ]
  },
  {
   "cell_type": "code",
   "execution_count": 41,
   "id": "d0c2ab37",
   "metadata": {},
   "outputs": [
    {
     "data": {
      "text/plain": [
       "15.0"
      ]
     },
     "execution_count": 41,
     "metadata": {},
     "output_type": "execute_result"
    }
   ],
   "source": [
    "sm(5)"
   ]
  },
  {
   "cell_type": "markdown",
   "id": "f93f7cab",
   "metadata": {},
   "source": [
    "How do you prevent a python print() functn to print a new line at the end"
   ]
  },
  {
   "cell_type": "code",
   "execution_count": 44,
   "id": "e9b20594",
   "metadata": {},
   "outputs": [
    {
     "name": "stdout",
     "output_type": "stream",
     "text": [
      "I Will Be A Millionaire "
     ]
    }
   ],
   "source": [
    "print(\"I\",end = \" \")\n",
    "print(\"Will\",end = \" \")\n",
    "print(\"Be\",end = \" \")\n",
    "print(\"A\",end = \" \")\n",
    "print(\"Millionaire\",end = \" \")"
   ]
  },
  {
   "cell_type": "raw",
   "id": "58440f53",
   "metadata": {},
   "source": [
    "Write a py functn to print 1st n lines of the folln pattern\n",
    "\n",
    "* * *\n",
    "* *\n",
    "*"
   ]
  },
  {
   "cell_type": "code",
   "execution_count": 64,
   "id": "6503bf28",
   "metadata": {},
   "outputs": [
    {
     "name": "stdout",
     "output_type": "stream",
     "text": [
      "* * * \n",
      "* * \n",
      "* \n"
     ]
    }
   ],
   "source": [
    "n = 3\n",
    "for j in range(n): #rows : outerloop n\n",
    "    for i in range(j,n): # nested loop : (i,n)\n",
    "        print(\"*\",end=\" \")\n",
    "    print()"
   ]
  },
  {
   "cell_type": "markdown",
   "id": "b05f5df1",
   "metadata": {},
   "source": [
    "or"
   ]
  },
  {
   "cell_type": "code",
   "execution_count": 65,
   "id": "556dc7bd",
   "metadata": {},
   "outputs": [
    {
     "name": "stdout",
     "output_type": "stream",
     "text": [
      "***\n",
      "**\n",
      "*\n"
     ]
    }
   ],
   "source": [
    "n = 3\n",
    "for i in range(n):\n",
    "    print(\"*\" * (n-i))"
   ]
  },
  {
   "cell_type": "markdown",
   "id": "3a3fcf4c",
   "metadata": {},
   "source": [
    "Write a python funtn which converts inches to cm"
   ]
  },
  {
   "cell_type": "code",
   "execution_count": 66,
   "id": "6b368d0a",
   "metadata": {},
   "outputs": [],
   "source": [
    "def incm(n):\n",
    "    return (n*2.54)"
   ]
  },
  {
   "cell_type": "code",
   "execution_count": 67,
   "id": "7fed0833",
   "metadata": {},
   "outputs": [
    {
     "data": {
      "text/plain": [
       "2.54"
      ]
     },
     "execution_count": 67,
     "metadata": {},
     "output_type": "execute_result"
    }
   ],
   "source": [
    "incm(1)"
   ]
  },
  {
   "cell_type": "markdown",
   "id": "d7468355",
   "metadata": {},
   "source": [
    "Write a py functn to remove a given word from a list and update it at the same time"
   ]
  },
  {
   "cell_type": "code",
   "execution_count": 105,
   "id": "38698319",
   "metadata": {},
   "outputs": [],
   "source": [
    "def re():\n",
    "    le= int(input(\"enter the length : \"))\n",
    "    l = []\n",
    "    for i in range(le):\n",
    "        e = input(\"enter the element : \")\n",
    "        l.append(e)\n",
    "    print(l)\n",
    "    o_string = input(\"old word/string : \")\n",
    "    n_word = input(\"new word/string : \")\n",
    "    if o_string in l:\n",
    "        ind = l.index(o_string)\n",
    "        l[ind] = n_word\n",
    "    return l"
   ]
  },
  {
   "cell_type": "code",
   "execution_count": 108,
   "id": "85ffeca8",
   "metadata": {},
   "outputs": [
    {
     "name": "stdout",
     "output_type": "stream",
     "text": [
      "enter the length : 3\n",
      "enter the element : ram\n",
      "enter the element : raj\n",
      "enter the element : rajesh\n",
      "['ram', 'raj', 'rajesh']\n",
      "old word/string : raj\n",
      "new word/string : yuki\n"
     ]
    },
    {
     "data": {
      "text/plain": [
       "['ram', 'yuki', 'rajesh']"
      ]
     },
     "execution_count": 108,
     "metadata": {},
     "output_type": "execute_result"
    }
   ],
   "source": [
    "re()"
   ]
  },
  {
   "cell_type": "markdown",
   "id": "064abdd2",
   "metadata": {},
   "source": [
    "Write a py functn to remove a given word from a list and stop it at the same time"
   ]
  },
  {
   "cell_type": "code",
   "execution_count": 140,
   "id": "4e7b10ec",
   "metadata": {},
   "outputs": [],
   "source": [
    "def lti(word):\n",
    "    l1 = ['ram', 'yuki', 'rajesh']\n",
    "    if word in l1:\n",
    "        ind = l1.index(word)\n",
    "        print(ind)\n",
    "        l1.pop(ind)\n",
    "    return l\n"
   ]
  },
  {
   "cell_type": "code",
   "execution_count": 141,
   "id": "2a65e193",
   "metadata": {},
   "outputs": [
    {
     "name": "stdout",
     "output_type": "stream",
     "text": [
      "2\n"
     ]
    },
    {
     "data": {
      "text/plain": [
       "['ram', 'yuki']"
      ]
     },
     "execution_count": 141,
     "metadata": {},
     "output_type": "execute_result"
    }
   ],
   "source": [
    "lti(\"rajesh\")"
   ]
  },
  {
   "cell_type": "markdown",
   "id": "f20a9271",
   "metadata": {},
   "source": [
    "Write a py functn to remove a given word from a list and spliting it at the same time"
   ]
  },
  {
   "cell_type": "code",
   "execution_count": 148,
   "id": "e44cf3e2",
   "metadata": {},
   "outputs": [],
   "source": [
    "def pro(string,rword):\n",
    "    s1 = string.replace(rword,\" \")\n",
    "    return s1.split()"
   ]
  },
  {
   "cell_type": "code",
   "execution_count": 149,
   "id": "bc60440d",
   "metadata": {},
   "outputs": [
    {
     "data": {
      "text/plain": [
       "['i', 'love', 'god']"
      ]
     },
     "execution_count": 149,
     "metadata": {},
     "output_type": "execute_result"
    }
   ],
   "source": [
    "pro(\"i love you god\",\"you\")"
   ]
  },
  {
   "cell_type": "markdown",
   "id": "7769ccbf",
   "metadata": {},
   "source": [
    "write a py prog to seperate the word in string as individual elements (using list)"
   ]
  },
  {
   "cell_type": "code",
   "execution_count": 147,
   "id": "11de5720",
   "metadata": {},
   "outputs": [
    {
     "name": "stdout",
     "output_type": "stream",
     "text": [
      "['hello', 'god', 'I', 'love', 'you']\n"
     ]
    }
   ],
   "source": [
    "s1 = \"hello god I love you\"\n",
    "\n",
    "s2 = s1.split(\" \")\n",
    "print(s2)"
   ]
  },
  {
   "cell_type": "markdown",
   "id": "8289acd6",
   "metadata": {},
   "source": [
    "Write a py funtn to print multiplication table of a given no"
   ]
  },
  {
   "cell_type": "code",
   "execution_count": 80,
   "id": "75bbae8d",
   "metadata": {},
   "outputs": [],
   "source": [
    "def tab(a):\n",
    "    i = 1\n",
    "    for i in range(i,11):\n",
    "        print(a,\" x \",i,\" = \",a*i)"
   ]
  },
  {
   "cell_type": "code",
   "execution_count": 81,
   "id": "0b5eec2a",
   "metadata": {},
   "outputs": [
    {
     "name": "stdout",
     "output_type": "stream",
     "text": [
      "5  x  1  =  5\n",
      "5  x  2  =  10\n",
      "5  x  3  =  15\n",
      "5  x  4  =  20\n",
      "5  x  5  =  25\n",
      "5  x  6  =  30\n",
      "5  x  7  =  35\n",
      "5  x  8  =  40\n",
      "5  x  9  =  45\n",
      "5  x  10  =  50\n"
     ]
    }
   ],
   "source": [
    "tab(5)"
   ]
  },
  {
   "cell_type": "code",
   "execution_count": null,
   "id": "d1636e09",
   "metadata": {},
   "outputs": [],
   "source": []
  },
  {
   "cell_type": "markdown",
   "id": "68260409",
   "metadata": {},
   "source": [
    "### Project 1 : Snake water gun game"
   ]
  },
  {
   "cell_type": "code",
   "execution_count": 156,
   "id": "331c9482",
   "metadata": {},
   "outputs": [],
   "source": [
    "def game(p1,p2):\n",
    "       # p1 = input(\" P1 : s for snake, w for water ,g for gun : \")\n",
    "       # p2 = input(\" P2 : s for snake, w for water ,g for gun : \")\n",
    "        if(p1 == \"s\" and p2 == \"s\"):\n",
    "            print(\"None won\")\n",
    "        elif(p1 == \"s\" and p2 == \"w\"):\n",
    "            print(\"p1 won the game\")\n",
    "        elif(p1 == \"s\" and p2 == \"g\"):\n",
    "            print(\"p2 won the game\")\n",
    "\n",
    "        elif(p1 == \"w\" and p2 == \"s\"):\n",
    "            print(\"P2 won the game\")\n",
    "        elif(p1 == \"w\" and p2 == \"w\"):\n",
    "            print(\"None won\")\n",
    "        elif(p1 == \"w\" and p2 == \"g\"):\n",
    "            print(\"p2 won the game\")\n",
    "        \n",
    "        elif(p1 == \"g\" and p2 == \"s\"):\n",
    "            print(\"P1 won the game\")\n",
    "        elif(p1 == \"g\" and p2 == \"w\"):\n",
    "            print(\"P1 won the game\")\n",
    "        elif(p1 == \"g\" and p2 == \"g\"):\n",
    "            print(\"None won\")"
   ]
  },
  {
   "cell_type": "code",
   "execution_count": 158,
   "id": "9361eb01",
   "metadata": {},
   "outputs": [
    {
     "name": "stdout",
     "output_type": "stream",
     "text": [
      "p1 won the game\n"
     ]
    }
   ],
   "source": [
    "game(\"s\",\"w\")"
   ]
  },
  {
   "cell_type": "markdown",
   "id": "dd6b14c0",
   "metadata": {},
   "source": [
    "or"
   ]
  },
  {
   "cell_type": "code",
   "execution_count": 159,
   "id": "81ddce7a",
   "metadata": {},
   "outputs": [
    {
     "name": "stdout",
     "output_type": "stream",
     "text": [
      " P1 : s for snake, w for water ,g for gun : g\n",
      " P2 : s for snake, w for water ,g for gun : w\n",
      "P1 won the game\n"
     ]
    }
   ],
   "source": [
    "p1 = input(\" P1 : s for snake, w for water ,g for gun : \")\n",
    "p2 = input(\" P2 : s for snake, w for water ,g for gun : \")\n",
    "if(p1 == \"s\" and p2 == \"s\"):\n",
    "    print(\"None won\")\n",
    "elif(p1 == \"s\" and p2 == \"w\"):\n",
    "    print(\"p1 won the game\")\n",
    "elif(p1 == \"s\" and p2 == \"g\"):\n",
    "    print(\"p2 won the game\")\n",
    "\n",
    "elif(p1 == \"w\" and p2 == \"s\"):\n",
    "    print(\"P2 won the game\")\n",
    "elif(p1 == \"w\" and p2 == \"w\"):\n",
    "    print(\"None won\")\n",
    "elif(p1 == \"w\" and p2 == \"g\"):\n",
    "    print(\"p2 won the game\")\n",
    "\n",
    "elif(p1 == \"g\" and p2 == \"s\"):\n",
    "    print(\"P1 won the game\")\n",
    "elif(p1 == \"g\" and p2 == \"w\"):\n",
    "    print(\"P1 won the game\")\n",
    "elif(p1 == \"g\" and p2 == \"g\"):\n",
    "    print(\"None won\")"
   ]
  },
  {
   "cell_type": "code",
   "execution_count": null,
   "id": "93828fe1",
   "metadata": {},
   "outputs": [],
   "source": []
  },
  {
   "cell_type": "markdown",
   "id": "47439b18",
   "metadata": {},
   "source": [
    "Write a prog to generate random int in py"
   ]
  },
  {
   "cell_type": "code",
   "execution_count": 170,
   "id": "800a03fe",
   "metadata": {},
   "outputs": [
    {
     "name": "stdout",
     "output_type": "stream",
     "text": [
      "4\n"
     ]
    }
   ],
   "source": [
    "import random\n",
    "\n",
    "print(random.randint(0,5)) # boundaries included"
   ]
  },
  {
   "cell_type": "markdown",
   "id": "a7891e0d",
   "metadata": {},
   "source": [
    "#### Project 1 : Snake water gun game with 1st player as human and 2nd player as comp."
   ]
  },
  {
   "cell_type": "code",
   "execution_count": 181,
   "id": "1c0483c3",
   "metadata": {},
   "outputs": [
    {
     "name": "stdout",
     "output_type": "stream",
     "text": [
      "P1 : s(snake) w(water) g(gun) : s\n",
      "P2 : s(snake) w(water) g(gun) : g\n",
      "p2 won the game\n"
     ]
    }
   ],
   "source": [
    "import random\n",
    "p1 = input(\"P1 : s(snake) w(water) g(gun) : \")\n",
    "p2 = random.randint(1,3) # boundaries included\n",
    "if p2 == 1:\n",
    "    p2 = \"s\"\n",
    "elif p2 == 2:\n",
    "    p2 = \"w\"\n",
    "elif p2 == 3:\n",
    "    p2 = \"g\"\n",
    "print(\"P2 : s(snake) w(water) g(gun) :\",p2)\n",
    "\n",
    "\n",
    "if(p1 == \"s\" and p2 == \"s\"):\n",
    "    print(\"None won\")\n",
    "elif(p1 == \"s\" and p2 == \"w\"):\n",
    "    print(\"p1 won the game\")\n",
    "elif(p1 == \"s\" and p2 == \"g\"):\n",
    "    print(\"p2 won the game\")\n",
    "\n",
    "elif(p1 == \"w\" and p2 == \"s\"):\n",
    "    print(\"P2 won the game\")\n",
    "elif(p1 == \"w\" and p2 == \"w\"):\n",
    "    print(\"None won\")\n",
    "elif(p1 == \"w\" and p2 == \"g\"):\n",
    "    print(\"p2 won the game\")\n",
    "\n",
    "elif(p1 == \"g\" and p2 == \"s\"):\n",
    "    print(\"P1 won the game\")\n",
    "elif(p1 == \"g\" and p2 == \"w\"):\n",
    "    print(\"P1 won the game\")\n",
    "elif(p1 == \"g\" and p2 == \"g\"):\n",
    "    print(\"None won\")"
   ]
  },
  {
   "cell_type": "code",
   "execution_count": null,
   "id": "24cf0bbe",
   "metadata": {},
   "outputs": [],
   "source": []
  },
  {
   "cell_type": "markdown",
   "id": "ce217695",
   "metadata": {},
   "source": [
    "# T: 9"
   ]
  },
  {
   "cell_type": "markdown",
   "id": "94a7bedc",
   "metadata": {},
   "source": [
    "Write a program to read the text from a given file \"poems.txt\" and find out whether it contains the word \"twinkle\""
   ]
  },
  {
   "cell_type": "code",
   "execution_count": 3,
   "id": "5a9377eb",
   "metadata": {},
   "outputs": [
    {
     "name": "stdout",
     "output_type": "stream",
     "text": [
      "twinkle is present in the peom\n"
     ]
    }
   ],
   "source": [
    "with open(\"poem.txt\") as f1:\n",
    "    data = f1.read()\n",
    "    if 'twinkle' in data:\n",
    "        print(\"twinkle is present in the peom\")\n",
    "    else:\n",
    "        print(\"twinkle is present in the peom\")"
   ]
  },
  {
   "cell_type": "markdown",
   "id": "123a93f5",
   "metadata": {},
   "source": [
    "The functn in a prog. lets a user play a game and returns the score as an integer. You need to read a ffile \"hiscore.txt\" which is either blank or contains the previous hi score whenever game() breaks the hi score."
   ]
  },
  {
   "cell_type": "code",
   "execution_count": 44,
   "id": "ce1bf378",
   "metadata": {},
   "outputs": [
    {
     "name": "stdout",
     "output_type": "stream",
     "text": [
      "current score :  66\n",
      "game over\n"
     ]
    }
   ],
   "source": [
    "def game():\n",
    "    return 66\n",
    "score = game()\n",
    "print(\"current score : \",score)\n",
    "\n",
    "with open(\"highscore.txt\") as f1:\n",
    "    hs = f1.read()\n",
    "\n",
    "import os\n",
    "filesize = os.path.getsize(\"highscore.txt\")\n",
    "if filesize == 0:\n",
    "    print(\"congrats, New high score is : \",score)\n",
    "    with open(\"highscore.txt\",'w') as f2:\n",
    "        f2.write(str(score))\n",
    "        \n",
    "elif (score>int(hs)):\n",
    "    print(\"congrats, New high score is : \",score)\n",
    "    with open(\"highscore.txt\",'w') as f2:\n",
    "        f2.write(str(score))\n",
    "else:\n",
    "    print(\"game over\")"
   ]
  },
  {
   "cell_type": "markdown",
   "id": "058c61e6",
   "metadata": {},
   "source": [
    "Checking the file is empty or not"
   ]
  },
  {
   "cell_type": "code",
   "execution_count": 46,
   "id": "725d2ce6",
   "metadata": {},
   "outputs": [
    {
     "name": "stdout",
     "output_type": "stream",
     "text": [
      "The file is empty: 0\n"
     ]
    }
   ],
   "source": [
    "import os\n",
    "filesize = os.path.getsize(\"newhighscore.txt\")\n",
    "\n",
    "if filesize == 0:\n",
    "    print(\"The file is empty: \" + str(filesize))\n",
    "else:\n",
    "    print(\"The file is not empty: \" + str(filesize))"
   ]
  },
  {
   "cell_type": "markdown",
   "id": "d42f27a1",
   "metadata": {},
   "source": [
    "CONCEPT :\n",
    "\n",
    "USE os.path.getsize() TO GET THE SIZE OF A FILE\n",
    "\n",
    "Call os.path.getsize(filename) with filename as the name of the file to get the size of filename. \n",
    "\n",
    "If the size returned by os.path.getsize(filename) is 0, the file is empty."
   ]
  },
  {
   "cell_type": "code",
   "execution_count": null,
   "id": "55fe9a03",
   "metadata": {},
   "outputs": [],
   "source": []
  },
  {
   "cell_type": "markdown",
   "id": "6fad1495",
   "metadata": {},
   "source": [
    "Write a prog. to generate multiplication tables from 2 to 4 "
   ]
  },
  {
   "cell_type": "code",
   "execution_count": 69,
   "id": "4bd68030",
   "metadata": {},
   "outputs": [
    {
     "name": "stdout",
     "output_type": "stream",
     "text": [
      "\n",
      "2  x  1  =  2\n",
      "2  x  2  =  4\n",
      "2  x  3  =  6\n",
      "2  x  4  =  8\n",
      "2  x  5  =  10\n",
      "2  x  6  =  12\n",
      "2  x  7  =  14\n",
      "2  x  8  =  16\n",
      "2  x  9  =  18\n",
      "2  x  10  =  20\n",
      "\n",
      "3  x  1  =  3\n",
      "3  x  2  =  6\n",
      "3  x  3  =  9\n",
      "3  x  4  =  12\n",
      "3  x  5  =  15\n",
      "3  x  6  =  18\n",
      "3  x  7  =  21\n",
      "3  x  8  =  24\n",
      "3  x  9  =  27\n",
      "3  x  10  =  30\n",
      "\n",
      "4  x  1  =  4\n",
      "4  x  2  =  8\n",
      "4  x  3  =  12\n",
      "4  x  4  =  16\n",
      "4  x  5  =  20\n",
      "4  x  6  =  24\n",
      "4  x  7  =  28\n",
      "4  x  8  =  32\n",
      "4  x  9  =  36\n",
      "4  x  10  =  40\n"
     ]
    }
   ],
   "source": [
    "for i in range(2,5):\n",
    "    print()\n",
    "    for j in range(1,11):\n",
    "        print(i,\" x \",j,\" = \",i*j)"
   ]
  },
  {
   "cell_type": "code",
   "execution_count": null,
   "id": "acafb52a",
   "metadata": {},
   "outputs": [],
   "source": []
  },
  {
   "cell_type": "markdown",
   "id": "24f67c1f",
   "metadata": {},
   "source": [
    "Write a prog. to generate multiplication tables from 2 to 20 and write it to the different files. Place these files in a folder for a 13year old."
   ]
  },
  {
   "cell_type": "code",
   "execution_count": 67,
   "id": "d7c962b8",
   "metadata": {},
   "outputs": [],
   "source": [
    "for h in range(2,21): # 2 to 20 table no\n",
    "    with open(f\"table/Mtable of {h}\",'w') as f:\n",
    "    #print()\n",
    "        for i in range(1,11): # 1 to 10 int(i)\n",
    "            f.write(f\"{h}x{i}={h*i}\\n\")\n",
    "    #break"
   ]
  },
  {
   "cell_type": "markdown",
   "id": "25dd8762",
   "metadata": {},
   "source": [
    "A file contains a word \"donkey\" multiple times. You need to write a prog. which replaces this word with ###### by updating the same file."
   ]
  },
  {
   "cell_type": "markdown",
   "id": "12adc945",
   "metadata": {},
   "source": [
    "#### Ex : Sample.txt"
   ]
  },
  {
   "cell_type": "code",
   "execution_count": 78,
   "id": "19df7541",
   "metadata": {},
   "outputs": [
    {
     "name": "stdout",
     "output_type": "stream",
     "text": [
      "old data :  you are a donkey \n",
      "you are fat liitle devil\n",
      "dont say anything slut\n",
      "\n",
      "new data :  you are a $####$^& \n",
      "you are $####$^& liitle $####$^&\n",
      "dont say anything $####$^&\n"
     ]
    }
   ],
   "source": [
    "word = [\"donkey\",'devil','slut','fat']\n",
    "\n",
    "with open(\"sample.txt\") as f:\n",
    "    data = f.read()\n",
    "    print(\"old data : \",data)\n",
    "    print()\n",
    "for i in word:\n",
    "    data = data.replace(i,\"$####$^&\")\n",
    "    with open(\"sample.txt\",'w') as f:\n",
    "        f.write(data)\n",
    "print(\"new data : \",data)"
   ]
  },
  {
   "cell_type": "markdown",
   "id": "92bc0bbb",
   "metadata": {},
   "source": [
    "#### Ex : sampl.txt"
   ]
  },
  {
   "cell_type": "code",
   "execution_count": 1,
   "id": "25b90324",
   "metadata": {},
   "outputs": [
    {
     "name": "stdout",
     "output_type": "stream",
     "text": [
      "old data :\n",
      " She was a damn, \n",
      "and he was a jerk, \n",
      "but not ugly or stupid just like the fart knocker.\n",
      "\n",
      "new data :  She was a ###&*$$#, \n",
      "and he was a ###&*$$#, \n",
      "but not ###&*$$# or ###&*$$# just like the ###&*$$#.\n"
     ]
    }
   ],
   "source": [
    "word = ['damn', 'jerk', 'ugly', 'stupid', 'fart knocker']\n",
    "with open(\"sampl.txt\") as f:\n",
    "    data = f.read()\n",
    "    print(\"old data :\\n\",data)\n",
    "    print()\n",
    "    \n",
    "for i in word:\n",
    "    data = data.replace(i,\"###&*$$#\")\n",
    "    with open(\"sampl.txt\",'w') as f:\n",
    "        f.write(data)\n",
    "print(\"new data : \",data)"
   ]
  },
  {
   "cell_type": "markdown",
   "id": "ad66fa9a",
   "metadata": {},
   "source": [
    "#### Exploratory analysis of this prog."
   ]
  },
  {
   "cell_type": "markdown",
   "id": "cc582d5b",
   "metadata": {},
   "source": [
    "##### Ex : poemstar.txt"
   ]
  },
  {
   "cell_type": "code",
   "execution_count": 3,
   "id": "40bc9903",
   "metadata": {},
   "outputs": [
    {
     "name": "stdout",
     "output_type": "stream",
     "text": [
      "old data :\n",
      " Twinkle twinkle little star\n",
      "How I wonder what you are?\n",
      "Up above the world so high\n",
      "Like a diamond in the sky\n",
      "Twinkle, twinkle, little star\n",
      "How I wonder what you are?\n",
      "\n",
      "exploring data :\n",
      " Twinkle ####$$ little star\n",
      "How I wonder what you are?\n",
      "Up above the world so high\n",
      "Like a diamond in the sky\n",
      "Twinkle, ####$$, little star\n",
      "How I wonder what you are?\n",
      "\n",
      "exploring data :\n",
      " Twinkle ####$$ little ####$$\n",
      "How I wonder what you are?\n",
      "Up above the world so high\n",
      "Like a diamond in the sky\n",
      "Twinkle, ####$$, little ####$$\n",
      "How I wonder what you are?\n",
      "\n",
      "exploring data :\n",
      " ####$$ ####$$ little ####$$\n",
      "How I wonder what you are?\n",
      "Up above the world so high\n",
      "Like a diamond in the sky\n",
      "####$$, ####$$, little ####$$\n",
      "How I wonder what you are?\n",
      "\n",
      "new data :\n",
      " ####$$ ####$$ little ####$$\n",
      "How I wonder what you are?\n",
      "Up above the world so high\n",
      "Like a diamond in the sky\n",
      "####$$, ####$$, little ####$$\n",
      "How I wonder what you are?\n"
     ]
    }
   ],
   "source": [
    "word = [\"twinkle\",\"star\",\"Twinkle\"]\n",
    "with open(\"poemstar.txt\") as f:\n",
    "    data = f.read()\n",
    "    print(\"old data :\\n\",data)\n",
    "    print()\n",
    "    \n",
    "for i in word:\n",
    "    data = data.replace(i,\"####$$\")\n",
    "    print(\"exploring data :\\n\",data)\n",
    "    print()\n",
    "    with open(\"poemstar.txt\",'w') as f:\n",
    "        f.write(data)\n",
    "        \n",
    "print(\"new data :\\n\",data)"
   ]
  },
  {
   "cell_type": "markdown",
   "id": "c99b92dd",
   "metadata": {},
   "source": [
    "#### Repeat the above prog. for the list of such words to be sensored."
   ]
  },
  {
   "cell_type": "code",
   "execution_count": null,
   "id": "30740d8a",
   "metadata": {},
   "outputs": [],
   "source": []
  },
  {
   "cell_type": "markdown",
   "id": "be00a000",
   "metadata": {},
   "source": [
    "Write a program file to mine a log file and find out whether it contains python"
   ]
  },
  {
   "cell_type": "code",
   "execution_count": 28,
   "id": "f15f7e6a",
   "metadata": {},
   "outputs": [
    {
     "name": "stdout",
     "output_type": "stream",
     "text": [
      "python is present\n"
     ]
    }
   ],
   "source": [
    "with open(\"log.txt\") as f:\n",
    "    data = f.read()\n",
    "if (\"Python\"or\"python\") in data: #Its case sensitive\n",
    "    print(\"python is present\")\n",
    "else:\n",
    "    print(\"Its not present\")"
   ]
  },
  {
   "cell_type": "markdown",
   "id": "3380f4fa",
   "metadata": {},
   "source": [
    "or "
   ]
  },
  {
   "cell_type": "code",
   "execution_count": 35,
   "id": "3febf387",
   "metadata": {},
   "outputs": [
    {
     "name": "stdout",
     "output_type": "stream",
     "text": [
      "python is present\n"
     ]
    }
   ],
   "source": [
    "with open(\"log.txt\") as f:\n",
    "    data = f.read().lower()  #converting all the data to lower case\n",
    "if \"python\" in data: #Its case sensitive\n",
    "    print(\"python is present\")\n",
    "else:\n",
    "    print(\"Its not present\")"
   ]
  },
  {
   "cell_type": "markdown",
   "id": "626f74f7",
   "metadata": {},
   "source": [
    "Write a prog. to find out the line no. where python is present from the above que.\n",
    "\n",
    "ex: bat.txt"
   ]
  },
  {
   "cell_type": "code",
   "execution_count": 19,
   "id": "866b2066",
   "metadata": {},
   "outputs": [
    {
     "name": "stdout",
     "output_type": "stream",
     "text": [
      "enter the word you want to search :batman\n",
      "line no. :  3  :  i am batman ! \n",
      "\n",
      "line no. :  6  :  i am batman !\n"
     ]
    }
   ],
   "source": [
    "f = open('bat.txt')\n",
    "word = input(\"enter the word you want to search :\")\n",
    "s = \" \" # blank space\n",
    "l = []\n",
    "count = 1\n",
    "while(s):\n",
    "    s= f.readline().lower()  #not case-sensitive\n",
    "    l = s.split()\n",
    "    if word in l:\n",
    "        print(\"line no. : \",count,\" : \",s)\n",
    "    count+=1"
   ]
  },
  {
   "cell_type": "markdown",
   "id": "6b4b6e70",
   "metadata": {},
   "source": [
    "or"
   ]
  },
  {
   "cell_type": "code",
   "execution_count": 25,
   "id": "23b0a5a4",
   "metadata": {},
   "outputs": [
    {
     "name": "stdout",
     "output_type": "stream",
     "text": [
      "enter the word you want to search :Batman\n",
      "line no. :  3  :  I am Batman ! \n",
      "\n",
      "line no. :  6  :  I am Batman !\n"
     ]
    }
   ],
   "source": [
    "f = open('bat.txt')\n",
    "word = input(\"enter the word you want to search :\")\n",
    "s = \" \" # blank space\n",
    "\n",
    "count = 1\n",
    "s = f.readlines()\n",
    "\n",
    "for i in s:\n",
    "    l = i.split() #case-sensitive\n",
    "    if word in l: \n",
    "        print(\"line no. : \",count,\" : \",i)\n",
    "    count+=1"
   ]
  },
  {
   "cell_type": "code",
   "execution_count": null,
   "id": "3e3b7df2",
   "metadata": {},
   "outputs": [],
   "source": []
  },
  {
   "cell_type": "markdown",
   "id": "1d49d93a",
   "metadata": {},
   "source": [
    "Write a prog. to make a copy of a text file \"nightpoem.txt\""
   ]
  },
  {
   "cell_type": "code",
   "execution_count": 3,
   "id": "9e1e1e47",
   "metadata": {},
   "outputs": [
    {
     "name": "stdout",
     "output_type": "stream",
     "text": [
      "data -> night poem:  Do not go gentle into that good night,\n",
      "Old age should burn and rave at close of day;\n",
      "Rage, rage against the dying of the light.\n",
      "\n",
      "data -> copy:  Do not go gentle into that good night,\n",
      "Old age should burn and rave at close of day;\n",
      "Rage, rage against the dying of the light.\n"
     ]
    }
   ],
   "source": [
    "with open(\"nightpoem.txt\") as f:\n",
    "    data = f.read()\n",
    "    print(\"data -> night poem: \",data)\n",
    "    print()\n",
    "    \n",
    "with open(\"copy.txt\",'w') as f:\n",
    "    f.write(data)\n",
    "    print(\"data -> copy: \",data)"
   ]
  },
  {
   "cell_type": "markdown",
   "id": "93e50042",
   "metadata": {},
   "source": [
    "Write a prog. to find out whether a file is identical & matches the content of another file."
   ]
  },
  {
   "cell_type": "code",
   "execution_count": 9,
   "id": "62be8201",
   "metadata": {},
   "outputs": [
    {
     "name": "stdout",
     "output_type": "stream",
     "text": [
      "data is similar in both the files\n"
     ]
    }
   ],
   "source": [
    "# f1 : nightpoem.txt\n",
    "# f2 : copy.txt\n",
    "\n",
    "f1 = open(\"nightpoem.txt\")\n",
    "data1 = f1.read()\n",
    "\n",
    "f2 = open(\"copy.txt\")\n",
    "data2 = f2.read()\n",
    "\n",
    "if data1==data2:\n",
    "    print(\"data is similar in both the files\")\n",
    "else:\n",
    "    print(\"different data\")\n"
   ]
  },
  {
   "cell_type": "code",
   "execution_count": null,
   "id": "41cc9994",
   "metadata": {},
   "outputs": [],
   "source": []
  },
  {
   "cell_type": "markdown",
   "id": "4ab68ad1",
   "metadata": {},
   "source": [
    "write a prog. to wipe out the contents of a file using python."
   ]
  },
  {
   "cell_type": "code",
   "execution_count": 24,
   "id": "c65b95d6",
   "metadata": {},
   "outputs": [
    {
     "name": "stdout",
     "output_type": "stream",
     "text": [
      "The file is empty: 0\n"
     ]
    }
   ],
   "source": [
    "# using  2nd file (empty file) to write in the 1st file\n",
    "# f1 : nightpoem.txt\n",
    "# f2 : empty.txt\n",
    "\n",
    "import os\n",
    "\n",
    "f2 = open(\"empty.txt\")\n",
    "data2 = f2.read()\n",
    "\n",
    "f1 = open(\"nightpoem.txt\",'w')\n",
    "data1 = f1.write(data2)\n",
    "\n",
    "\n",
    "filesize = os.path.getsize(\"nightpoem.txt\")\n",
    "\n",
    "if filesize == 0:\n",
    "    print(\"The file is empty: \" + str(filesize))\n",
    "else:\n",
    "    print(\"The file is not empty: \" + str(filesize))"
   ]
  },
  {
   "cell_type": "markdown",
   "id": "013abd96",
   "metadata": {},
   "source": [
    "or ( efficient method)"
   ]
  },
  {
   "cell_type": "code",
   "execution_count": 20,
   "id": "86c9de52",
   "metadata": {},
   "outputs": [],
   "source": [
    "# wiping nightpoem.txt\n",
    "\n",
    "with open(\"nightpoem.txt\",'w') as f:\n",
    "    f.write(\" \")    "
   ]
  },
  {
   "cell_type": "code",
   "execution_count": 25,
   "id": "b48d8261",
   "metadata": {},
   "outputs": [
    {
     "name": "stdout",
     "output_type": "stream",
     "text": [
      "The file is empty: 0\n"
     ]
    }
   ],
   "source": [
    "# checking if the file is empty or not\n",
    "import os\n",
    "\n",
    "filesize = os.path.getsize(\"nightpoem.txt\")\n",
    "\n",
    "if filesize == 0:\n",
    "    print(\"The file is empty: \" + str(filesize))\n",
    "else:\n",
    "    print(\"The file is not empty: \" + str(filesize))"
   ]
  },
  {
   "cell_type": "code",
   "execution_count": null,
   "id": "760f923b",
   "metadata": {},
   "outputs": [],
   "source": []
  },
  {
   "cell_type": "markdown",
   "id": "821ebb14",
   "metadata": {},
   "source": [
    "Write a prog. to rename a file \"nightpoem.txt\" to \"renamed_by_py.txt\""
   ]
  },
  {
   "cell_type": "code",
   "execution_count": 32,
   "id": "5d059f1d",
   "metadata": {},
   "outputs": [
    {
     "name": "stdout",
     "output_type": "stream",
     "text": [
      "file removed\n"
     ]
    }
   ],
   "source": [
    "import os\n",
    "\n",
    "f1 = open(\"nightpoem.txt\")\n",
    "data = f1.read()\n",
    "    \n",
    "with open(\"renamed_by_py.txt\",'w') as f2:\n",
    "    f2.write(data)\n",
    "f1.close()\n",
    "\n",
    "if os.path.exists(\"nightpoem.txt\"):\n",
    "    os.remove(\"nightpoem.txt\")\n",
    "    print(\"file removed\")\n",
    "else:\n",
    "    print(\"file does not exist\")"
   ]
  },
  {
   "cell_type": "code",
   "execution_count": 33,
   "id": "7d9919ca",
   "metadata": {},
   "outputs": [
    {
     "name": "stdout",
     "output_type": "stream",
     "text": [
      " Do not go gentle into that good night,\n",
      "Old age should burn and rave at close of day;\n",
      "Rage, rage against the dying of the light.\n"
     ]
    }
   ],
   "source": [
    "# reading the file \"renamed_by_py.txt\"\n",
    "\n",
    "with open(\"renamed_by_py.txt\") as f:\n",
    "    data = f.read()\n",
    "    print(data)\n",
    "    "
   ]
  },
  {
   "cell_type": "code",
   "execution_count": null,
   "id": "54e9820d",
   "metadata": {},
   "outputs": [],
   "source": []
  },
  {
   "cell_type": "markdown",
   "id": "c20c5846",
   "metadata": {},
   "source": [
    "# T: 10"
   ]
  },
  {
   "cell_type": "markdown",
   "id": "e40543bc",
   "metadata": {},
   "source": [
    "Create a class programmer for storing information of few programmers working at microsoft."
   ]
  },
  {
   "cell_type": "code",
   "execution_count": 20,
   "id": "d7274de8",
   "metadata": {},
   "outputs": [],
   "source": [
    "class programmer:\n",
    "    def __init__(self):\n",
    "        self.company = \"microsoft\"\n",
    "    \n",
    "    # a method for printing company name\n",
    "    def print_Cname(self):\n",
    "        print(self.company)\n",
    "    \n",
    "    def set_details(self,name,age,gender,salary):\n",
    "        self.name = name\n",
    "        self.age = age\n",
    "        self.gender = gender\n",
    "        self.salary = salary\n",
    "        \n",
    "    def get_details(self):\n",
    "        print(self.name, self.age, self.gender, self.salary)"
   ]
  },
  {
   "cell_type": "code",
   "execution_count": 21,
   "id": "1c09d42f",
   "metadata": {},
   "outputs": [],
   "source": [
    "abhi = programmer()"
   ]
  },
  {
   "cell_type": "code",
   "execution_count": 17,
   "id": "d2a81bcd",
   "metadata": {},
   "outputs": [
    {
     "name": "stdout",
     "output_type": "stream",
     "text": [
      "microsoft\n"
     ]
    }
   ],
   "source": [
    "abhi.print_Cname()"
   ]
  },
  {
   "cell_type": "code",
   "execution_count": 22,
   "id": "28edae04",
   "metadata": {},
   "outputs": [],
   "source": [
    "abhi.set_details(\"raj\",56,\"Male\",67676)"
   ]
  },
  {
   "cell_type": "code",
   "execution_count": 23,
   "id": "000084e3",
   "metadata": {},
   "outputs": [
    {
     "name": "stdout",
     "output_type": "stream",
     "text": [
      "raj 56 Male 67676\n"
     ]
    }
   ],
   "source": [
    "abhi.get_details()"
   ]
  },
  {
   "cell_type": "code",
   "execution_count": null,
   "id": "221eb768",
   "metadata": {},
   "outputs": [],
   "source": []
  },
  {
   "cell_type": "markdown",
   "id": "ff8cbc83",
   "metadata": {},
   "source": [
    "write a class calculator capable of finding square, cube & square root of a no."
   ]
  },
  {
   "cell_type": "code",
   "execution_count": 80,
   "id": "3ddde955",
   "metadata": {},
   "outputs": [],
   "source": [
    "import numpy as np\n",
    "class calculator:\n",
    "    def sq(self,no):\n",
    "        self.no = no\n",
    "        return (self.no*self.no)\n",
    "    def cube(self,no):\n",
    "        self.no = no\n",
    "        return (self.no ** 3)\n",
    "    def cubeRoot(self,no):\n",
    "        self.no = no\n",
    "        return (np.cbrt(self.no))\n",
    "        #return (self.no ** (1./3.))\n",
    "    def SqRoot(self,no):\n",
    "        self.no = no\n",
    "        return (self.no ** 2)"
   ]
  },
  {
   "cell_type": "code",
   "execution_count": 81,
   "id": "2736f633",
   "metadata": {},
   "outputs": [],
   "source": [
    "c1 = calculator()"
   ]
  },
  {
   "cell_type": "code",
   "execution_count": 47,
   "id": "597547d7",
   "metadata": {},
   "outputs": [
    {
     "data": {
      "text/plain": [
       "4"
      ]
     },
     "execution_count": 47,
     "metadata": {},
     "output_type": "execute_result"
    }
   ],
   "source": [
    "c1.sq(2)\n",
    "# square"
   ]
  },
  {
   "cell_type": "code",
   "execution_count": 71,
   "id": "10b3549f",
   "metadata": {},
   "outputs": [
    {
     "data": {
      "text/plain": [
       "21.0"
      ]
     },
     "execution_count": 71,
     "metadata": {},
     "output_type": "execute_result"
    }
   ],
   "source": [
    "# cuberoot\n",
    "c1.cubeRoot(9261)"
   ]
  },
  {
   "cell_type": "code",
   "execution_count": 72,
   "id": "fbfedefc",
   "metadata": {},
   "outputs": [
    {
     "data": {
      "text/plain": [
       "4.0"
      ]
     },
     "execution_count": 72,
     "metadata": {},
     "output_type": "execute_result"
    }
   ],
   "source": [
    "c1.cubeRoot(64)"
   ]
  },
  {
   "cell_type": "code",
   "execution_count": 77,
   "id": "5150be97",
   "metadata": {},
   "outputs": [
    {
     "data": {
      "text/plain": [
       "256"
      ]
     },
     "execution_count": 77,
     "metadata": {},
     "output_type": "execute_result"
    }
   ],
   "source": [
    "# SqRoot\n",
    "c1.SqRoot(16)"
   ]
  },
  {
   "cell_type": "code",
   "execution_count": 82,
   "id": "18eb77b7",
   "metadata": {},
   "outputs": [
    {
     "data": {
      "text/plain": [
       "8"
      ]
     },
     "execution_count": 82,
     "metadata": {},
     "output_type": "execute_result"
    }
   ],
   "source": [
    "# cube\n",
    "c1.cube(2)"
   ]
  },
  {
   "cell_type": "code",
   "execution_count": null,
   "id": "da70e4b3",
   "metadata": {},
   "outputs": [],
   "source": []
  },
  {
   "cell_type": "markdown",
   "id": "08bb44d5",
   "metadata": {},
   "source": [
    "Add a static method in problem 2 to gree the user with hello"
   ]
  },
  {
   "cell_type": "code",
   "execution_count": 89,
   "id": "05458965",
   "metadata": {},
   "outputs": [],
   "source": [
    "import numpy as np\n",
    "class calculator:\n",
    "    @staticmethod\n",
    "    def __init__():\n",
    "        print(\"Hello user\")\n",
    "    \n",
    "    def sq(self,no):\n",
    "        self.no = no\n",
    "        return (self.no*self.no)\n",
    "    def cube(self,no):\n",
    "        self.no = no\n",
    "        return (self.no ** 3)\n",
    "    def cubeRoot(self,no):\n",
    "        self.no = no\n",
    "        return (np.cbrt(self.no))\n",
    "        #return (self.no ** (1./3.))\n",
    "    def SqRoot(self,no):\n",
    "        self.no = no\n",
    "        return (self.no ** 2)"
   ]
  },
  {
   "cell_type": "code",
   "execution_count": 90,
   "id": "07b88838",
   "metadata": {},
   "outputs": [
    {
     "name": "stdout",
     "output_type": "stream",
     "text": [
      "Hello user\n"
     ]
    }
   ],
   "source": [
    "raj = calculator()"
   ]
  },
  {
   "cell_type": "markdown",
   "id": "51761cc9",
   "metadata": {},
   "source": [
    "or// greeting user with its actual name(obj)"
   ]
  },
  {
   "cell_type": "code",
   "execution_count": 98,
   "id": "ab9efbdd",
   "metadata": {},
   "outputs": [],
   "source": [
    "class calc:\n",
    "    @staticmethod\n",
    "    def __init__(name):\n",
    "        print(\"Hello user \",name)\n",
    "    "
   ]
  },
  {
   "cell_type": "code",
   "execution_count": 99,
   "id": "83bf3acb",
   "metadata": {},
   "outputs": [
    {
     "name": "stdout",
     "output_type": "stream",
     "text": [
      "Hello user  rajesh\n"
     ]
    }
   ],
   "source": [
    "raj = calc(\"rajesh\")"
   ]
  },
  {
   "cell_type": "markdown",
   "id": "f6ba1478",
   "metadata": {},
   "source": [
    "Write a static method to greet the user with hello"
   ]
  },
  {
   "cell_type": "code",
   "execution_count": 14,
   "id": "c85a4354",
   "metadata": {},
   "outputs": [],
   "source": [
    "class Employ:\n",
    "    @staticmethod\n",
    "    def greet(name):\n",
    "        return print(\"welcome\" ,name)"
   ]
  },
  {
   "cell_type": "code",
   "execution_count": 15,
   "id": "d3ce989e",
   "metadata": {},
   "outputs": [],
   "source": [
    "rin = Employ()"
   ]
  },
  {
   "cell_type": "code",
   "execution_count": 7,
   "id": "9a4120f1",
   "metadata": {},
   "outputs": [
    {
     "name": "stdout",
     "output_type": "stream",
     "text": [
      "welcome rin\n"
     ]
    }
   ],
   "source": [
    "rin.greet(\"rin\")"
   ]
  },
  {
   "cell_type": "markdown",
   "id": "d96996d3",
   "metadata": {},
   "source": [
    "or "
   ]
  },
  {
   "cell_type": "code",
   "execution_count": 11,
   "id": "e32f15d5",
   "metadata": {},
   "outputs": [],
   "source": [
    "class Employ:\n",
    "    @staticmethod\n",
    "    def greet():\n",
    "        return print(\"welcome user\")"
   ]
  },
  {
   "cell_type": "code",
   "execution_count": 12,
   "id": "ed4ae0c0",
   "metadata": {},
   "outputs": [],
   "source": [
    "rinu = Employ()"
   ]
  },
  {
   "cell_type": "code",
   "execution_count": 13,
   "id": "16b8f1b2",
   "metadata": {},
   "outputs": [
    {
     "name": "stdout",
     "output_type": "stream",
     "text": [
      "welcome user\n"
     ]
    }
   ],
   "source": [
    "rinu.greet()"
   ]
  },
  {
   "cell_type": "code",
   "execution_count": null,
   "id": "6e2ff733",
   "metadata": {},
   "outputs": [],
   "source": []
  },
  {
   "cell_type": "markdown",
   "id": "d10a2325",
   "metadata": {},
   "source": [
    "Write a class Train which has methods to book a ticket, get status (no of seats) and get fare information of trains running under Indian Railways"
   ]
  },
  {
   "cell_type": "code",
   "execution_count": 49,
   "id": "e4b66a34",
   "metadata": {},
   "outputs": [],
   "source": [
    "class Train():\n",
    "    def __init__(self,tname,fare,seats):\n",
    "        print(\"welcome to train booking system\")\n",
    "        self.tname = tname\n",
    "        self.fare = fare\n",
    "        self.seats = seats\n",
    "        \n",
    "    def getStatus(self):\n",
    "        print(f\"The name of the train is {self.tname} \")\n",
    "        print(f\"Available no of seats are : {self.seats}\")\n",
    "        \n",
    "    def fairInfo(self):\n",
    "        print(f\"Cost of fair is {self.fare}\")\n",
    "        # f string{}\n",
    "    \n",
    "    def book(self):\n",
    "        if (self.seats>0):\n",
    "            print(\"You have successfully booked the ticket\")\n",
    "            print(f\"Your sear no is {self.seats}\")\n",
    "            self.seats -= 1\n",
    "        else:\n",
    "            print(\"Booking failed\")\n",
    "            print(\"Seats are full\")\n",
    "    \n",
    "    def cancelTicket(self):\n",
    "        print(f\"{self.seats+1} Ticket cancelled successfully\")\n",
    "        self.seats += 1"
   ]
  },
  {
   "cell_type": "code",
   "execution_count": 53,
   "id": "15a76caa",
   "metadata": {},
   "outputs": [
    {
     "name": "stdout",
     "output_type": "stream",
     "text": [
      "welcome to train booking system\n"
     ]
    }
   ],
   "source": [
    "p1 = Train(\"rajdhani\",787,78)"
   ]
  },
  {
   "cell_type": "code",
   "execution_count": 54,
   "id": "76579fd0",
   "metadata": {},
   "outputs": [
    {
     "name": "stdout",
     "output_type": "stream",
     "text": [
      "The name of the train is rajdhani \n",
      "Available no of seats are : 78\n"
     ]
    }
   ],
   "source": [
    "p1.getStatus()"
   ]
  },
  {
   "cell_type": "code",
   "execution_count": 55,
   "id": "2b6f35bf",
   "metadata": {},
   "outputs": [
    {
     "name": "stdout",
     "output_type": "stream",
     "text": [
      "Cost of fair is 787\n"
     ]
    }
   ],
   "source": [
    "p1.fairInfo()"
   ]
  },
  {
   "cell_type": "code",
   "execution_count": 56,
   "id": "8f060467",
   "metadata": {},
   "outputs": [
    {
     "name": "stdout",
     "output_type": "stream",
     "text": [
      "You have successfully booked the ticket\n",
      "Your sear no is 78\n"
     ]
    }
   ],
   "source": [
    "p1.book()"
   ]
  },
  {
   "cell_type": "code",
   "execution_count": 57,
   "id": "1de68415",
   "metadata": {},
   "outputs": [
    {
     "name": "stdout",
     "output_type": "stream",
     "text": [
      "78 Ticket cancelled successfully\n"
     ]
    }
   ],
   "source": [
    "p1.cancelTicket()"
   ]
  },
  {
   "cell_type": "code",
   "execution_count": 58,
   "id": "c2a8d98b",
   "metadata": {},
   "outputs": [
    {
     "name": "stdout",
     "output_type": "stream",
     "text": [
      "The name of the train is rajdhani \n",
      "Available no of seats are : 78\n"
     ]
    }
   ],
   "source": [
    "p1.getStatus()"
   ]
  },
  {
   "cell_type": "code",
   "execution_count": null,
   "id": "cc235439",
   "metadata": {},
   "outputs": [],
   "source": []
  },
  {
   "cell_type": "markdown",
   "id": "ec3ba290",
   "metadata": {},
   "source": [
    "Can you change the self parameter inside a class to something else(say \"rin\"). Try changing self to \"slf\" or \"rin\" and see the effects."
   ]
  },
  {
   "cell_type": "code",
   "execution_count": 66,
   "id": "ff238e19",
   "metadata": {},
   "outputs": [],
   "source": [
    "class Sample:\n",
    "    def __init__(self,name):\n",
    "        self.name = name\n",
    "        return print(self.name)"
   ]
  },
  {
   "cell_type": "code",
   "execution_count": 67,
   "id": "8c2b2afd",
   "metadata": {},
   "outputs": [
    {
     "name": "stdout",
     "output_type": "stream",
     "text": [
      "rin\n"
     ]
    }
   ],
   "source": [
    "p1 = Sample(\"rin\")"
   ]
  },
  {
   "cell_type": "code",
   "execution_count": 73,
   "id": "2ee31d21",
   "metadata": {},
   "outputs": [],
   "source": [
    "class Sample1:\n",
    "    def __init__(tim,name):\n",
    "        tim.name = name\n",
    "        return print(tim.name)"
   ]
  },
  {
   "cell_type": "code",
   "execution_count": 79,
   "id": "939f9d48",
   "metadata": {},
   "outputs": [
    {
     "name": "stdout",
     "output_type": "stream",
     "text": [
      "rin\n"
     ]
    }
   ],
   "source": [
    "p2 = Sample1(\"rin\")"
   ]
  },
  {
   "cell_type": "code",
   "execution_count": 76,
   "id": "44fb0343",
   "metadata": {},
   "outputs": [],
   "source": [
    "class Sample2:\n",
    "    def __init__(slf,name):\n",
    "        slf.name = name\n",
    "        return print(slf.name)"
   ]
  },
  {
   "cell_type": "code",
   "execution_count": 78,
   "id": "f57b668d",
   "metadata": {},
   "outputs": [
    {
     "name": "stdout",
     "output_type": "stream",
     "text": [
      "tim\n"
     ]
    }
   ],
   "source": [
    "p3 = Sample2(\"tim\")"
   ]
  },
  {
   "cell_type": "code",
   "execution_count": null,
   "id": "58eb75b9",
   "metadata": {},
   "outputs": [],
   "source": []
  },
  {
   "cell_type": "markdown",
   "id": "fccec22f",
   "metadata": {},
   "source": [
    "# T:11"
   ]
  },
  {
   "cell_type": "markdown",
   "id": "d772813d",
   "metadata": {},
   "source": [
    "Create a class C-2dVector and use it to create another class representing a 3-d Vector"
   ]
  },
  {
   "cell_type": "markdown",
   "id": "e1c2b65f",
   "metadata": {},
   "source": [
    "Hint : Use Inhertiance "
   ]
  },
  {
   "cell_type": "code",
   "execution_count": 21,
   "id": "1d015ed2",
   "metadata": {},
   "outputs": [],
   "source": [
    "class C2d:\n",
    "    def __init__(self,i,j):\n",
    "        self.i = i\n",
    "        self.j = j\n",
    "        \n",
    "    def __str__(self):\n",
    "        return f\"{self.i}i + {self.j}j\"\n",
    "    \n",
    "class C3d(C2d):\n",
    "    def __init__(self,i,j,k):\n",
    "        super().__init__(i,j)\n",
    "        self.k = k\n",
    "        \n",
    "    def __str__(self):\n",
    "        return f\"{self.i}i + {self.j}j + {self.k}k\"\n"
   ]
  },
  {
   "cell_type": "code",
   "execution_count": 27,
   "id": "f121cbe1",
   "metadata": {},
   "outputs": [],
   "source": [
    "v2d = C2d(1,2)"
   ]
  },
  {
   "cell_type": "code",
   "execution_count": 28,
   "id": "0561f912",
   "metadata": {},
   "outputs": [],
   "source": [
    "v3d = C3d(1,7,3)"
   ]
  },
  {
   "cell_type": "code",
   "execution_count": 29,
   "id": "5fc28d06",
   "metadata": {},
   "outputs": [
    {
     "name": "stdout",
     "output_type": "stream",
     "text": [
      "1i + 2j\n"
     ]
    }
   ],
   "source": [
    "print(v2d)"
   ]
  },
  {
   "cell_type": "code",
   "execution_count": 30,
   "id": "6afbbd61",
   "metadata": {},
   "outputs": [
    {
     "name": "stdout",
     "output_type": "stream",
     "text": [
      "1i + 7j + 3k\n"
     ]
    }
   ],
   "source": [
    "print(v3d)"
   ]
  },
  {
   "cell_type": "code",
   "execution_count": null,
   "id": "66ed6bcd",
   "metadata": {},
   "outputs": [],
   "source": []
  },
  {
   "cell_type": "markdown",
   "id": "df019d38",
   "metadata": {},
   "source": [
    "Create a class pets from a class Animals and further create class Dog from Pets. Add a method bark to class Dog using Inheritance"
   ]
  },
  {
   "cell_type": "code",
   "execution_count": 63,
   "id": "0e4aee07",
   "metadata": {},
   "outputs": [],
   "source": [
    "class Animals:\n",
    "    def __init__(self,color,legs):\n",
    "        self.color = color\n",
    "        self.legs = legs\n",
    "        print(self.color, self.legs)\n",
    "class Pet(Animals):\n",
    "    def __init__(self,pn,color,legs):\n",
    "        super().__init__(color,legs)\n",
    "        self.pn = pn\n",
    "        print (f\"Pet name is {self.pn}\")\n",
    "        \n",
    "class Dog(Pet):\n",
    "    def __init__(self,pn,color,legs):\n",
    "        super().__init__(pn,color,legs)\n",
    "    def bark(self):\n",
    "        print(\"the dog barks\")\n"
   ]
  },
  {
   "cell_type": "code",
   "execution_count": 46,
   "id": "abfab16f",
   "metadata": {},
   "outputs": [
    {
     "name": "stdout",
     "output_type": "stream",
     "text": [
      "red 4\n"
     ]
    }
   ],
   "source": [
    "a1 = Animals(\"red\",4)"
   ]
  },
  {
   "cell_type": "code",
   "execution_count": 52,
   "id": "249cf62c",
   "metadata": {},
   "outputs": [
    {
     "name": "stdout",
     "output_type": "stream",
     "text": [
      "brown 4\n",
      "Pet name is kittu\n"
     ]
    }
   ],
   "source": [
    "p1 = Pet(\"kittu\",\"brown\",4)"
   ]
  },
  {
   "cell_type": "code",
   "execution_count": 64,
   "id": "6c8b8d8d",
   "metadata": {},
   "outputs": [
    {
     "name": "stdout",
     "output_type": "stream",
     "text": [
      "blue 4\n",
      "Pet name is nin\n"
     ]
    }
   ],
   "source": [
    "d1 = Dog(\"nin\",\"blue\",4)"
   ]
  },
  {
   "cell_type": "code",
   "execution_count": 65,
   "id": "246b67af",
   "metadata": {},
   "outputs": [
    {
     "name": "stdout",
     "output_type": "stream",
     "text": [
      "the dog barks\n"
     ]
    }
   ],
   "source": [
    "d1.bark()"
   ]
  },
  {
   "cell_type": "code",
   "execution_count": null,
   "id": "0f719b56",
   "metadata": {},
   "outputs": [],
   "source": []
  },
  {
   "cell_type": "markdown",
   "id": "918e2e44",
   "metadata": {},
   "source": [
    "Create a class pets from a class Animals and further create class Dog from Pets"
   ]
  },
  {
   "cell_type": "code",
   "execution_count": 67,
   "id": "af8b5a38",
   "metadata": {},
   "outputs": [],
   "source": [
    "class Animals:\n",
    "    animalType = \"mammal\"\n",
    "class Pets:\n",
    "    color = \"white\"\n",
    "class Dog:\n",
    "    @staticmethod\n",
    "    def bark():\n",
    "        print(\"bow bow\")"
   ]
  },
  {
   "cell_type": "code",
   "execution_count": 68,
   "id": "b5dcaea3",
   "metadata": {},
   "outputs": [],
   "source": [
    "d = Dog()"
   ]
  },
  {
   "cell_type": "code",
   "execution_count": 69,
   "id": "84d0b0d2",
   "metadata": {},
   "outputs": [
    {
     "name": "stdout",
     "output_type": "stream",
     "text": [
      "bow bow\n"
     ]
    }
   ],
   "source": [
    "d.bark()"
   ]
  },
  {
   "cell_type": "code",
   "execution_count": null,
   "id": "6900347c",
   "metadata": {},
   "outputs": [],
   "source": []
  },
  {
   "cell_type": "raw",
   "id": "d1fc5c60",
   "metadata": {},
   "source": [
    "Create a class Employee and add salary and increment properties to it.\n",
    "Write a method salary after increment method with a @property decorator with a Setter which changes the value of increment based on the salary"
   ]
  },
  {
   "cell_type": "code",
   "execution_count": 72,
   "id": "f9ee104b",
   "metadata": {},
   "outputs": [],
   "source": [
    "class Employee:\n",
    "    def __init__(self,sal,inc):\n",
    "        self.sal = sal\n",
    "        self.inc = inc\n",
    "        \n",
    "    @property\n",
    "    def salaryAfterIncrement(self):\n",
    "        return self.sal*self.inc\n",
    "    \n",
    "    @salaryAfterIncrement.setter\n",
    "    def salaryAfterIncrement(self,salary):\n",
    "        self.inc = salary/self.sal"
   ]
  },
  {
   "cell_type": "code",
   "execution_count": 81,
   "id": "46e9a756",
   "metadata": {},
   "outputs": [],
   "source": [
    "e1 = Employee(1000,1.5)"
   ]
  },
  {
   "cell_type": "code",
   "execution_count": 78,
   "id": "b4d24c1d",
   "metadata": {},
   "outputs": [
    {
     "data": {
      "text/plain": [
       "1000"
      ]
     },
     "execution_count": 78,
     "metadata": {},
     "output_type": "execute_result"
    }
   ],
   "source": [
    "e1.sal"
   ]
  },
  {
   "cell_type": "code",
   "execution_count": 82,
   "id": "e3a229ec",
   "metadata": {},
   "outputs": [
    {
     "data": {
      "text/plain": [
       "1.5"
      ]
     },
     "execution_count": 82,
     "metadata": {},
     "output_type": "execute_result"
    }
   ],
   "source": [
    "e1.inc"
   ]
  },
  {
   "cell_type": "code",
   "execution_count": 83,
   "id": "d0f62a1c",
   "metadata": {},
   "outputs": [
    {
     "data": {
      "text/plain": [
       "1500.0"
      ]
     },
     "execution_count": 83,
     "metadata": {},
     "output_type": "execute_result"
    }
   ],
   "source": [
    "e1.salaryAfterIncrement"
   ]
  },
  {
   "cell_type": "code",
   "execution_count": null,
   "id": "28423864",
   "metadata": {},
   "outputs": [],
   "source": []
  },
  {
   "cell_type": "code",
   "execution_count": 84,
   "id": "46340041",
   "metadata": {},
   "outputs": [],
   "source": [
    "e1.salaryAfterIncrement = 2000"
   ]
  },
  {
   "cell_type": "code",
   "execution_count": 85,
   "id": "9f4e5fee",
   "metadata": {},
   "outputs": [
    {
     "data": {
      "text/plain": [
       "2.0"
      ]
     },
     "execution_count": 85,
     "metadata": {},
     "output_type": "execute_result"
    }
   ],
   "source": [
    "e1.inc"
   ]
  },
  {
   "cell_type": "code",
   "execution_count": 86,
   "id": "7d66aca9",
   "metadata": {},
   "outputs": [
    {
     "data": {
      "text/plain": [
       "1000"
      ]
     },
     "execution_count": 86,
     "metadata": {},
     "output_type": "execute_result"
    }
   ],
   "source": [
    "e1.sal"
   ]
  },
  {
   "cell_type": "code",
   "execution_count": null,
   "id": "411e8a45",
   "metadata": {},
   "outputs": [],
   "source": []
  },
  {
   "cell_type": "markdown",
   "id": "c8cecb9d",
   "metadata": {},
   "source": [
    "Write a class to represent complex numbers along with overload operators + and * which adds and multiplies them."
   ]
  },
  {
   "cell_type": "code",
   "execution_count": 191,
   "id": "2ed6e9e4",
   "metadata": {},
   "outputs": [],
   "source": [
    "class Comp:\n",
    "    def __init__(self,a,b):\n",
    "        self.a = a\n",
    "        self.b = b\n",
    "\n",
    "    def __add__(self,o):\n",
    "        return self.a + o.a, self.b + o.b\n",
    "\n",
    "    def __mul__(self,o):\n",
    "        return self.a*o.a , self.b*o.b\n",
    "    \n",
    "\n",
    "    def __str__(self):\n",
    "        return f\" {self.a} + {self.b}i\""
   ]
  },
  {
   "cell_type": "code",
   "execution_count": 192,
   "id": "059b2128",
   "metadata": {},
   "outputs": [],
   "source": [
    "c1 = Comp(100,10)"
   ]
  },
  {
   "cell_type": "code",
   "execution_count": 193,
   "id": "1088c40d",
   "metadata": {},
   "outputs": [],
   "source": [
    "c2 = Comp(1,2)"
   ]
  },
  {
   "cell_type": "code",
   "execution_count": 194,
   "id": "8cd6ff46",
   "metadata": {},
   "outputs": [
    {
     "name": "stdout",
     "output_type": "stream",
     "text": [
      " 100 + 10i\n"
     ]
    }
   ],
   "source": [
    "print(c1)"
   ]
  },
  {
   "cell_type": "code",
   "execution_count": 195,
   "id": "9e9c1863",
   "metadata": {},
   "outputs": [
    {
     "name": "stdout",
     "output_type": "stream",
     "text": [
      " 1 + 2i\n"
     ]
    }
   ],
   "source": [
    "print(c2)"
   ]
  },
  {
   "cell_type": "code",
   "execution_count": 196,
   "id": "28b2ef61",
   "metadata": {},
   "outputs": [
    {
     "data": {
      "text/plain": [
       "(101, 12)"
      ]
     },
     "execution_count": 196,
     "metadata": {},
     "output_type": "execute_result"
    }
   ],
   "source": [
    "c1+c2"
   ]
  },
  {
   "cell_type": "code",
   "execution_count": 197,
   "id": "5e240c98",
   "metadata": {},
   "outputs": [
    {
     "data": {
      "text/plain": [
       "(100, 20)"
      ]
     },
     "execution_count": 197,
     "metadata": {},
     "output_type": "execute_result"
    }
   ],
   "source": [
    "c1*c2"
   ]
  },
  {
   "cell_type": "code",
   "execution_count": null,
   "id": "5de9f049",
   "metadata": {},
   "outputs": [],
   "source": []
  },
  {
   "cell_type": "markdown",
   "id": "39f61e58",
   "metadata": {},
   "source": [
    "Write a class vector representing a vector of n dimension. Overoad the + and * operator which calculates the sum and the dot product of them"
   ]
  },
  {
   "cell_type": "code",
   "execution_count": 132,
   "id": "50f0c2ab",
   "metadata": {},
   "outputs": [],
   "source": [
    "class Vector:\n",
    "    def __init__(self,vec):\n",
    "        self.vec = vec\n",
    "    \n",
    "    def __str__(self):\n",
    "        str = \" \"\n",
    "        index = 0\n",
    "        for i in self.vec:\n",
    "            str += f\" {i}a{index}\"\n",
    "            index += 1\n",
    "        return str\n",
    "    \n",
    "    def __add__(self,o):\n",
    "        res_list = []\n",
    "        for i in range(len(self.vec)):\n",
    "            res_list.append(self.vec[i] + o.vec[i])\n",
    "        return Vector(res_list)\n",
    "    \n",
    "    def __mul__(self,o):\n",
    "        sum =  0\n",
    "        for i in range(len(self.vec)):\n",
    "            sum += self.vec[i] * o.vec[i]\n",
    "        return sum"
   ]
  },
  {
   "cell_type": "code",
   "execution_count": 133,
   "id": "6a5f6961",
   "metadata": {},
   "outputs": [],
   "source": [
    "v1 = Vector([3,9,4])"
   ]
  },
  {
   "cell_type": "code",
   "execution_count": 134,
   "id": "e3c01853",
   "metadata": {},
   "outputs": [
    {
     "name": "stdout",
     "output_type": "stream",
     "text": [
      "  3a0 9a1 4a2\n"
     ]
    }
   ],
   "source": [
    "print(v1)"
   ]
  },
  {
   "cell_type": "code",
   "execution_count": 135,
   "id": "b7021748",
   "metadata": {},
   "outputs": [],
   "source": [
    "v2 = Vector([23,45,9])"
   ]
  },
  {
   "cell_type": "code",
   "execution_count": 136,
   "id": "a8154ccd",
   "metadata": {},
   "outputs": [
    {
     "name": "stdout",
     "output_type": "stream",
     "text": [
      "  23a0 45a1 9a2\n"
     ]
    }
   ],
   "source": [
    "print(v2)"
   ]
  },
  {
   "cell_type": "code",
   "execution_count": 137,
   "id": "8d8b2039",
   "metadata": {},
   "outputs": [
    {
     "name": "stdout",
     "output_type": "stream",
     "text": [
      "  26a0 54a1 13a2\n"
     ]
    }
   ],
   "source": [
    "print(v1+v2)"
   ]
  },
  {
   "cell_type": "code",
   "execution_count": 138,
   "id": "6714c2a6",
   "metadata": {},
   "outputs": [
    {
     "name": "stdout",
     "output_type": "stream",
     "text": [
      "510\n"
     ]
    }
   ],
   "source": [
    "print(v1*v2) #(3*23 + 9*45 + 4*9)"
   ]
  },
  {
   "cell_type": "code",
   "execution_count": null,
   "id": "f9873f08",
   "metadata": {},
   "outputs": [],
   "source": []
  },
  {
   "cell_type": "markdown",
   "id": "d6975072",
   "metadata": {},
   "source": [
    "### Some Old concept's"
   ]
  },
  {
   "cell_type": "markdown",
   "id": "8a002827",
   "metadata": {},
   "source": [
    "##### Printing list in python"
   ]
  },
  {
   "cell_type": "markdown",
   "id": "a0aacd8b",
   "metadata": {},
   "source": [
    "Using For loop"
   ]
  },
  {
   "cell_type": "code",
   "execution_count": 35,
   "id": "20dc9802",
   "metadata": {},
   "outputs": [
    {
     "name": "stdout",
     "output_type": "stream",
     "text": [
      "4\n",
      "5\n",
      "3\n",
      "sh\n",
      "rt\n",
      "45\n"
     ]
    }
   ],
   "source": [
    "j = [4,5,3,\"sh\",\"rt\",45]\n",
    "i = 0\n",
    "for i in range(len(j)):\n",
    "    print(j[i])"
   ]
  },
  {
   "cell_type": "code",
   "execution_count": 41,
   "id": "78739370",
   "metadata": {},
   "outputs": [
    {
     "name": "stdout",
     "output_type": "stream",
     "text": [
      "4\n",
      "5\n",
      "3\n",
      "sh\n",
      "rt\n",
      "45\n"
     ]
    }
   ],
   "source": [
    "j = [4,5,3,\"sh\",\"rt\",45]\n",
    "l = len(j)\n",
    "for i in range(l):\n",
    "    print(j[i])"
   ]
  },
  {
   "cell_type": "code",
   "execution_count": 39,
   "id": "84db9a04",
   "metadata": {},
   "outputs": [
    {
     "name": "stdout",
     "output_type": "stream",
     "text": [
      "4\n",
      "5\n",
      "3\n",
      "sh\n",
      "rt\n",
      "45\n"
     ]
    }
   ],
   "source": [
    "j = [4,5,3,\"sh\",\"rt\",45]\n",
    "for i in j:\n",
    "    print(i)"
   ]
  },
  {
   "cell_type": "markdown",
   "id": "de1720a1",
   "metadata": {},
   "source": [
    "Using while loop"
   ]
  },
  {
   "cell_type": "code",
   "execution_count": 42,
   "id": "c0d62d63",
   "metadata": {},
   "outputs": [
    {
     "name": "stdout",
     "output_type": "stream",
     "text": [
      "4\n",
      "5\n",
      "3\n",
      "sh\n",
      "rt\n",
      "45\n"
     ]
    }
   ],
   "source": [
    "j = [4,5,3,\"sh\",\"rt\",45]\n",
    "l = len(j)\n",
    "i = 0\n",
    "while i<l:\n",
    "    print(j[i])\n",
    "    i += 1"
   ]
  },
  {
   "cell_type": "markdown",
   "id": "01b0f61f",
   "metadata": {},
   "source": [
    "Using list comprehension (Possibly the most concrete way). "
   ]
  },
  {
   "cell_type": "code",
   "execution_count": 45,
   "id": "090de176",
   "metadata": {},
   "outputs": [
    {
     "name": "stdout",
     "output_type": "stream",
     "text": [
      "4\n",
      "5\n",
      "3\n",
      "sh\n",
      "rt\n",
      "45\n"
     ]
    },
    {
     "data": {
      "text/plain": [
       "[None, None, None, None, None, None]"
      ]
     },
     "execution_count": 45,
     "metadata": {},
     "output_type": "execute_result"
    }
   ],
   "source": [
    "j = [4,5,3,\"sh\",\"rt\",45]\n",
    "\n",
    "# using list comprehension\n",
    "[print(i) for i in j]"
   ]
  },
  {
   "cell_type": "markdown",
   "id": "a919388d",
   "metadata": {},
   "source": [
    "Using Numpy ::\n",
    "        \n",
    "        \n",
    "For very large n-dimensional lists (for example an image array), it is sometimes better to use an external library such as numpy. \n",
    " "
   ]
  },
  {
   "cell_type": "code",
   "execution_count": 46,
   "id": "9972fd92",
   "metadata": {},
   "outputs": [
    {
     "name": "stdout",
     "output_type": "stream",
     "text": [
      "0\n",
      "1\n",
      "2\n",
      "3\n",
      "4\n",
      "5\n",
      "6\n",
      "7\n",
      "8\n"
     ]
    }
   ],
   "source": [
    "# Python program for\n",
    "# iterating over array\n",
    "import numpy as geek\n",
    "  \n",
    "# creating an array using \n",
    "# arrange method\n",
    "a = geek.arange(9)\n",
    "  \n",
    "# shape array with 3 rows \n",
    "# and 4 columns\n",
    "a = a.reshape(3, 3)\n",
    "  \n",
    "# iterating an array\n",
    "for x in geek.nditer(a):\n",
    "    print(x)"
   ]
  },
  {
   "cell_type": "code",
   "execution_count": null,
   "id": "8264e18f",
   "metadata": {},
   "outputs": [],
   "source": []
  },
  {
   "cell_type": "markdown",
   "id": "03e64560",
   "metadata": {},
   "source": [
    "##### adding elements of 2 list (not appeding)"
   ]
  },
  {
   "cell_type": "markdown",
   "id": "608c03c5",
   "metadata": {},
   "source": [
    "Native Method "
   ]
  },
  {
   "cell_type": "code",
   "execution_count": 47,
   "id": "0817832c",
   "metadata": {},
   "outputs": [
    {
     "name": "stdout",
     "output_type": "stream",
     "text": [
      "Resultant list is : [5, 8, 10, 8, 18]\n"
     ]
    }
   ],
   "source": [
    "list1 = [1, 3, 4, 6, 8]\n",
    "list2 = [4, 5, 6, 2, 10]\n",
    "\n",
    "# using naive method to \n",
    "# add two list \n",
    "res_list = []\n",
    "for i in range(0, len(list1)):\n",
    "    res_list.append(list1[i] + list2[i])\n",
    "  \n",
    "    # printing resultant list \n",
    "print (\"Resultant list is : \" + str(res_list))"
   ]
  },
  {
   "cell_type": "markdown",
   "id": "7be80079",
   "metadata": {},
   "source": [
    "Using list comprehension"
   ]
  },
  {
   "cell_type": "code",
   "execution_count": 60,
   "id": "ca326361",
   "metadata": {},
   "outputs": [
    {
     "name": "stdout",
     "output_type": "stream",
     "text": [
      "Resultnt list is : [5, 8, 10, 8, 18]\n"
     ]
    }
   ],
   "source": [
    "list1 = [1, 3, 4, 6, 8]\n",
    "list2 = [4, 5, 6, 2, 10]\n",
    "\n",
    "# using naive method to \n",
    "# add two list \n",
    "res_list = [list1[i] + list2[i] for i in range(len(list1))]\n",
    "  \n",
    "    # printing resultant list \n",
    "print (\"Resultnt list is : \" + str(res_list))"
   ]
  },
  {
   "cell_type": "markdown",
   "id": "5331ad9e",
   "metadata": {},
   "source": [
    "Using map() + add()"
   ]
  },
  {
   "cell_type": "code",
   "execution_count": 62,
   "id": "608de8a7",
   "metadata": {},
   "outputs": [
    {
     "name": "stdout",
     "output_type": "stream",
     "text": [
      "result list :  [5, 8, 10, 8, 18]\n"
     ]
    }
   ],
   "source": [
    "from operator import add \n",
    "list1 = [1, 3, 4, 6, 8]\n",
    "list2 = [4, 5, 6, 2, 10]\n",
    "# using map() + add() to \n",
    "# add two list \n",
    "res_list = list(map(add,list1,list2))\n",
    "print(\"result list : \",res_list)"
   ]
  },
  {
   "cell_type": "code",
   "execution_count": null,
   "id": "0c8957fe",
   "metadata": {},
   "outputs": [],
   "source": []
  },
  {
   "cell_type": "markdown",
   "id": "aa474bd3",
   "metadata": {},
   "source": [
    "##### multiplying elements of 2 list"
   ]
  },
  {
   "cell_type": "markdown",
   "id": "31562a74",
   "metadata": {},
   "source": [
    "Using Native method"
   ]
  },
  {
   "cell_type": "code",
   "execution_count": 63,
   "id": "39e39335",
   "metadata": {},
   "outputs": [],
   "source": [
    "list1 = [1, 3, 4, 6, 8]\n",
    "list2 = [4, 5, 6, 2, 10]\n",
    "# using naive method to \n",
    "# Multiplying two lists\n",
    "res_list = []\n",
    "for i in range(0, len(list1)):\n",
    "    res_list.append(list1[i] * list2[i])"
   ]
  },
  {
   "cell_type": "code",
   "execution_count": 64,
   "id": "32627b2f",
   "metadata": {},
   "outputs": [
    {
     "name": "stdout",
     "output_type": "stream",
     "text": [
      "[4, 15, 24, 12, 80]\n"
     ]
    }
   ],
   "source": [
    "print(res_list)"
   ]
  },
  {
   "cell_type": "code",
   "execution_count": null,
   "id": "f03c8764",
   "metadata": {},
   "outputs": [],
   "source": []
  },
  {
   "cell_type": "markdown",
   "id": "8f0bacbf",
   "metadata": {},
   "source": [
    "Write __str__() method to print the vector as follows:\n",
    "7i + 8j + 10k\n",
    "Assume vector of dimension 3 for the problem"
   ]
  },
  {
   "cell_type": "code",
   "execution_count": 24,
   "id": "8a1ddee7",
   "metadata": {},
   "outputs": [],
   "source": [
    "class Vect:\n",
    "    def __init__(self, a, b, c): \n",
    "        self.a = a \n",
    "        self.b = b \n",
    "        self.c = c\n",
    "    def __str__(self):\n",
    "        return f\"{self.a}i + {self.b}j + {self.c}k\""
   ]
  },
  {
   "cell_type": "code",
   "execution_count": 25,
   "id": "abc39b50",
   "metadata": {},
   "outputs": [],
   "source": [
    "v1 = Vect(7,8,9)"
   ]
  },
  {
   "cell_type": "code",
   "execution_count": 26,
   "id": "654d5979",
   "metadata": {},
   "outputs": [
    {
     "name": "stdout",
     "output_type": "stream",
     "text": [
      "7i + 8j + 9k\n"
     ]
    }
   ],
   "source": [
    "print(v1)"
   ]
  },
  {
   "cell_type": "code",
   "execution_count": null,
   "id": "fe59750b",
   "metadata": {},
   "outputs": [],
   "source": []
  },
  {
   "cell_type": "markdown",
   "id": "098429d1",
   "metadata": {},
   "source": [
    "Override the __len__() method on Vector of problem 5 to display the dimensions of the vector"
   ]
  },
  {
   "cell_type": "code",
   "execution_count": 28,
   "id": "af45d6cd",
   "metadata": {},
   "outputs": [],
   "source": [
    "class Vector:\n",
    "    def __init__(self,vec):\n",
    "        self.vec = vec\n",
    "    \n",
    "    def __str__(self):\n",
    "        str = \" \"\n",
    "        index = 0\n",
    "        for i in self.vec:\n",
    "            str += f\" {i}a{index}\"\n",
    "            index += 1\n",
    "        return str\n",
    "    \n",
    "    def __add__(self,o):\n",
    "        res_list = []\n",
    "        for i in range(len(self.vec)):\n",
    "            res_list.append(self.vec[i] + o.vec[i])\n",
    "        return Vector(res_list)\n",
    "    \n",
    "    def __mul__(self,o):\n",
    "        sum =  0\n",
    "        for i in range(len(self.vec)):\n",
    "            sum += self.vec[i] * o.vec[i]\n",
    "        return sum\n",
    "    \n",
    "    def __len__(self):\n",
    "        return len(self.vec)"
   ]
  },
  {
   "cell_type": "code",
   "execution_count": 34,
   "id": "2c974589",
   "metadata": {},
   "outputs": [],
   "source": [
    "v1 = Vector([1,4,6])\n",
    "v2 = Vector([1,6,9])"
   ]
  },
  {
   "cell_type": "code",
   "execution_count": 36,
   "id": "0fe196b1",
   "metadata": {},
   "outputs": [
    {
     "name": "stdout",
     "output_type": "stream",
     "text": [
      "  2a0 10a1 15a2\n"
     ]
    }
   ],
   "source": [
    "print(v1+v2)"
   ]
  },
  {
   "cell_type": "code",
   "execution_count": 37,
   "id": "92632fba",
   "metadata": {},
   "outputs": [
    {
     "name": "stdout",
     "output_type": "stream",
     "text": [
      "79\n"
     ]
    }
   ],
   "source": [
    "print(v1*v2)"
   ]
  },
  {
   "cell_type": "code",
   "execution_count": 38,
   "id": "6cc664c0",
   "metadata": {},
   "outputs": [
    {
     "name": "stdout",
     "output_type": "stream",
     "text": [
      "3\n"
     ]
    }
   ],
   "source": [
    "print(len(v1))"
   ]
  },
  {
   "cell_type": "code",
   "execution_count": 39,
   "id": "eb73068d",
   "metadata": {},
   "outputs": [
    {
     "name": "stdout",
     "output_type": "stream",
     "text": [
      "3\n"
     ]
    }
   ],
   "source": [
    "print(len(v2))"
   ]
  },
  {
   "cell_type": "code",
   "execution_count": null,
   "id": "e62426e4",
   "metadata": {},
   "outputs": [],
   "source": []
  },
  {
   "cell_type": "code",
   "execution_count": 40,
   "id": "39f9304a",
   "metadata": {},
   "outputs": [],
   "source": [
    "v3 = Vector([1,4,6,43])\n",
    "v4 = Vector([1,4,6])"
   ]
  },
  {
   "cell_type": "code",
   "execution_count": 42,
   "id": "802e19d7",
   "metadata": {},
   "outputs": [
    {
     "name": "stdout",
     "output_type": "stream",
     "text": [
      "4\n"
     ]
    }
   ],
   "source": [
    "print(len(v3))"
   ]
  },
  {
   "cell_type": "code",
   "execution_count": 44,
   "id": "0e574b45",
   "metadata": {},
   "outputs": [
    {
     "name": "stdout",
     "output_type": "stream",
     "text": [
      "3\n"
     ]
    }
   ],
   "source": [
    "print(len(v4))"
   ]
  },
  {
   "cell_type": "code",
   "execution_count": null,
   "id": "9e2d2981",
   "metadata": {},
   "outputs": [],
   "source": []
  },
  {
   "cell_type": "code",
   "execution_count": 47,
   "id": "264540d5",
   "metadata": {},
   "outputs": [],
   "source": [
    "class Vector:\n",
    "    def __init__(self,vec):\n",
    "        self.vec = vec\n",
    "    \n",
    "    def __str__(self):\n",
    "        str = \" \"\n",
    "        index = 0\n",
    "        for i in self.vec:\n",
    "            str += f\" {i}a{index}\"\n",
    "            index += 1\n",
    "        return str\n",
    "    \n",
    "    def __add__(self,o):\n",
    "        res_list = []\n",
    "        if(len(self.vec)==len(o.vec)):\n",
    "            for i in range(len(self.vec)):\n",
    "                res_list.append(self.vec[i] + o.vec[i])\n",
    "            return Vector(res_list)\n",
    "        else:\n",
    "            print(\"addn of these 2 vectors is not possible\")\n",
    "            \n",
    "    def __mul__(self,o):\n",
    "        sum =  0\n",
    "        if(len(self.vec)==len(o.vec)):\n",
    "            for i in range(len(self.vec)):\n",
    "                sum += self.vec[i] * o.vec[i]\n",
    "            return sum\n",
    "        else:\n",
    "            print(\"multn of these 2 vectors are not possible\")\n",
    "    \n",
    "    def __len__(self):\n",
    "        return len(self.vec)"
   ]
  },
  {
   "cell_type": "code",
   "execution_count": 53,
   "id": "5689c670",
   "metadata": {},
   "outputs": [],
   "source": [
    "v1 = Vector([1,2,3,5])\n",
    "v2 = Vector([4,5,6])\n",
    "v3 = Vector([2,7,8])"
   ]
  },
  {
   "cell_type": "code",
   "execution_count": 54,
   "id": "c808661f",
   "metadata": {},
   "outputs": [
    {
     "name": "stdout",
     "output_type": "stream",
     "text": [
      "addn of these 2 vectors is not possible\n",
      "None\n"
     ]
    }
   ],
   "source": [
    "print(v1+v2)"
   ]
  },
  {
   "cell_type": "code",
   "execution_count": 55,
   "id": "c457c447",
   "metadata": {},
   "outputs": [
    {
     "name": "stdout",
     "output_type": "stream",
     "text": [
      "  6a0 12a1 14a2\n"
     ]
    }
   ],
   "source": [
    "print(v2+v3)"
   ]
  },
  {
   "cell_type": "code",
   "execution_count": null,
   "id": "badbabb0",
   "metadata": {},
   "outputs": [],
   "source": []
  },
  {
   "cell_type": "code",
   "execution_count": 56,
   "id": "67057971",
   "metadata": {},
   "outputs": [
    {
     "name": "stdout",
     "output_type": "stream",
     "text": [
      "multn of these 2 vectors are not possible\n",
      "None\n"
     ]
    }
   ],
   "source": [
    "print(v1*v2)"
   ]
  },
  {
   "cell_type": "code",
   "execution_count": 57,
   "id": "7744d647",
   "metadata": {},
   "outputs": [
    {
     "name": "stdout",
     "output_type": "stream",
     "text": [
      "91\n"
     ]
    }
   ],
   "source": [
    "print(v2*v3)"
   ]
  },
  {
   "cell_type": "code",
   "execution_count": null,
   "id": "7b617717",
   "metadata": {},
   "outputs": [],
   "source": []
  },
  {
   "cell_type": "markdown",
   "id": "20ab36b2",
   "metadata": {},
   "source": [
    "## Project :2"
   ]
  },
  {
   "cell_type": "markdown",
   "id": "0a544f7e",
   "metadata": {},
   "source": [
    "We are going to write a prog. that generates a random no. and asks the user to guess it.\n",
    "\n",
    "If the player guess is higher then the actual number, the prog displays \n",
    "\"Lower no please\"\n",
    "\n",
    "Similiarly if the user guess is too low, the program prints \n",
    "\"higher number please\"\n",
    "\n",
    "When the user guesses the correct no. , the prog. displays the no. of guesses the player used to arrive at the number."
   ]
  },
  {
   "cell_type": "raw",
   "id": "60005088",
   "metadata": {},
   "source": [
    "HINT : use the random module"
   ]
  },
  {
   "cell_type": "code",
   "execution_count": 99,
   "id": "61a574d3",
   "metadata": {},
   "outputs": [
    {
     "name": "stdout",
     "output_type": "stream",
     "text": [
      "rgn  45\n",
      "Enter your no: 23\n",
      "greater no. please\n",
      "Enter your no: 99\n",
      "Lower no. please\n",
      "Enter your no: 45\n",
      "the guess is correct\n"
     ]
    }
   ],
   "source": [
    "import random\n",
    "\n",
    "rgn = random.choice([12,23,45,67,65,43]) #random generated no from the list of no's\n",
    "user_inp = None\n",
    "\n",
    "#print(\"rgn \",rgn)\n",
    "while(user_inp != rgn):\n",
    "    user_inp = int(input(\"Enter your no: \"))\n",
    "    if(user_inp>rgn):\n",
    "        print(\"Lower no. please\")\n",
    "    elif(user_inp<rgn):\n",
    "        print(\"greater no. please\")\n",
    "    else:\n",
    "        print(\"the guess is correct\")\n"
   ]
  },
  {
   "cell_type": "markdown",
   "id": "704f64d5",
   "metadata": {},
   "source": [
    "or "
   ]
  },
  {
   "cell_type": "code",
   "execution_count": 108,
   "id": "7a5316b8",
   "metadata": {},
   "outputs": [
    {
     "name": "stdout",
     "output_type": "stream",
     "text": [
      "19\n",
      "Enter your no: 23\n",
      "Lower no. please\n",
      "Enter your no: 9\n",
      "greater no. please\n",
      "Enter your no: 78\n",
      "Lower no. please\n",
      "Enter your no: 19\n",
      "the guess is correct\n",
      "no of guesses :  4\n"
     ]
    }
   ],
   "source": [
    "import random\n",
    "\n",
    "rgn = random.randint(1,100)\n",
    "user_inp = None\n",
    "print(rgn)\n",
    "no_guess = 0\n",
    "print(\"rgn \",rgn)\n",
    "\n",
    "while(user_inp != rgn):\n",
    "    user_inp = int(input(\"Enter your no: \"))\n",
    "    if(user_inp>rgn):\n",
    "        print(\"Lower no. please\")\n",
    "        no_guess += 1\n",
    "    elif(user_inp<rgn):\n",
    "        print(\"greater no. please\")\n",
    "        no_guess += 1\n",
    "    else:\n",
    "        print(\"the guess is correct\")\n",
    "        no_guess += 1\n",
    "\n",
    "print(\"no of guesses : \",no_guess)"
   ]
  },
  {
   "cell_type": "code",
   "execution_count": null,
   "id": "e69abe80",
   "metadata": {},
   "outputs": [],
   "source": []
  },
  {
   "cell_type": "markdown",
   "id": "f5f85687",
   "metadata": {},
   "source": [
    "Getting the highscore and storing it in highscore file if no of guesses rae less than previous high score."
   ]
  },
  {
   "cell_type": "code",
   "execution_count": 8,
   "id": "a48acf9c",
   "metadata": {},
   "outputs": [
    {
     "name": "stdout",
     "output_type": "stream",
     "text": [
      "10\n",
      "Enter your no: 13\n",
      "Lower no. please\n",
      "Enter your no: 10\n",
      "the guess is correct\n",
      "no of guesses :  2\n",
      "you have broken the high score $$ \n"
     ]
    }
   ],
   "source": [
    "import random\n",
    "\n",
    "rgn = random.randint(1,100)\n",
    "user_inp = None\n",
    "print(rgn)\n",
    "no_guess = 0\n",
    "#print(\"rgn \",rgn)\n",
    "\n",
    "while(user_inp != rgn):\n",
    "    user_inp = int(input(\"Enter your no: \"))\n",
    "    if(user_inp>rgn):\n",
    "        print(\"Lower no. please\")\n",
    "        no_guess += 1\n",
    "    elif(user_inp<rgn):\n",
    "        print(\"greater no. please\")\n",
    "        no_guess += 1\n",
    "    else:\n",
    "        print(\"the guess is correct\")\n",
    "        no_guess += 1\n",
    "\n",
    "print(\"no of guesses : \",no_guess)\n",
    "with open(\"highsc.txt\") as f:\n",
    "    highsc = int(f.read())\n",
    "\n",
    "if(no_guess<highsc):\n",
    "    print(\"you have broken the high score $$ \")\n",
    "    with open(\"highsc.txt\",'w') as f:\n",
    "        f.write(str(no_guess))"
   ]
  },
  {
   "cell_type": "code",
   "execution_count": null,
   "id": "422ebdb7",
   "metadata": {},
   "outputs": [],
   "source": []
  },
  {
   "cell_type": "markdown",
   "id": "d3bd680f",
   "metadata": {},
   "source": [
    "#### Concept:"
   ]
  },
  {
   "cell_type": "markdown",
   "id": "b4925b02",
   "metadata": {},
   "source": [
    "Prog to generate random no"
   ]
  },
  {
   "cell_type": "raw",
   "id": "3f4e0588",
   "metadata": {},
   "source": [
    "random.randint()\n",
    "\n",
    "The random.randint() method returns a random integer between the specified integers."
   ]
  },
  {
   "cell_type": "code",
   "execution_count": 64,
   "id": "40afe6f9",
   "metadata": {},
   "outputs": [
    {
     "name": "stdout",
     "output_type": "stream",
     "text": [
      "2\n"
     ]
    }
   ],
   "source": [
    "import random\n",
    "n = random.randint(1,10)\n",
    "print(n)"
   ]
  },
  {
   "cell_type": "markdown",
   "id": "8f9f4d18",
   "metadata": {},
   "source": [
    "Prog. to Generate Random Numbers within Range"
   ]
  },
  {
   "cell_type": "raw",
   "id": "6294ac63",
   "metadata": {},
   "source": [
    "random.randrange() method ::\n",
    "returns a randomly selected element from the range created by the\n",
    "\n",
    "start, stop and step arguments. \n",
    "\n",
    "The value of start is 0 by default.\n",
    "Similarly, the value of step is 1 by default."
   ]
  },
  {
   "cell_type": "code",
   "execution_count": 84,
   "id": "549c32fb",
   "metadata": {},
   "outputs": [
    {
     "name": "stdout",
     "output_type": "stream",
     "text": [
      "9\n"
     ]
    }
   ],
   "source": [
    "import random\n",
    "n = random.randrange(1, 10, 2) # possible choices[1,3,5,7,9]\n",
    "print(n)"
   ]
  },
  {
   "cell_type": "markdown",
   "id": "f04fe90b",
   "metadata": {},
   "source": [
    "===> Previous concept just for understanding"
   ]
  },
  {
   "cell_type": "code",
   "execution_count": 69,
   "id": "33fa63e5",
   "metadata": {},
   "outputs": [
    {
     "name": "stdout",
     "output_type": "stream",
     "text": [
      "1\n",
      "3\n",
      "5\n",
      "7\n",
      "9\n"
     ]
    }
   ],
   "source": [
    "i = 0 \n",
    "for i in range(1,11,2):\n",
    "    print(i)\n",
    "    i+=1"
   ]
  },
  {
   "cell_type": "markdown",
   "id": "b03985ef",
   "metadata": {},
   "source": [
    "Prog. to generte rand no from a selective choice of elements"
   ]
  },
  {
   "cell_type": "code",
   "execution_count": 86,
   "id": "65e061f3",
   "metadata": {},
   "outputs": [
    {
     "name": "stdout",
     "output_type": "stream",
     "text": [
      "m\n"
     ]
    }
   ],
   "source": [
    "import random\n",
    "n = random.choice('computer')\n",
    "print(n)"
   ]
  },
  {
   "cell_type": "code",
   "execution_count": 88,
   "id": "e28250d7",
   "metadata": {},
   "outputs": [
    {
     "name": "stdout",
     "output_type": "stream",
     "text": [
      "67\n"
     ]
    }
   ],
   "source": [
    "import random\n",
    "n = random.choice([12,23,45,67,65,43])\n",
    "print(n)"
   ]
  },
  {
   "cell_type": "markdown",
   "id": "3678f693",
   "metadata": {},
   "source": [
    "##### Shuffle Elements Randomly"
   ]
  },
  {
   "cell_type": "markdown",
   "id": "1e9d8060",
   "metadata": {},
   "source": [
    "The random.shuffle() method randomly reorders the elements in a list."
   ]
  },
  {
   "cell_type": "code",
   "execution_count": 91,
   "id": "f76d4746",
   "metadata": {},
   "outputs": [
    {
     "name": "stdout",
     "output_type": "stream",
     "text": [
      "[12, 67, 45, 43, 23, 65]\n"
     ]
    }
   ],
   "source": [
    "numbers=[12,23,45,67,65,43]\n",
    "random.shuffle(numbers)\n",
    "print(numbers)"
   ]
  },
  {
   "cell_type": "code",
   "execution_count": null,
   "id": "c097092b",
   "metadata": {},
   "outputs": [],
   "source": []
  }
 ],
 "metadata": {
  "kernelspec": {
   "display_name": "Python 3",
   "language": "python",
   "name": "python3"
  },
  "language_info": {
   "codemirror_mode": {
    "name": "ipython",
    "version": 3
   },
   "file_extension": ".py",
   "mimetype": "text/x-python",
   "name": "python",
   "nbconvert_exporter": "python",
   "pygments_lexer": "ipython3",
   "version": "3.8.8"
  }
 },
 "nbformat": 4,
 "nbformat_minor": 5
}
