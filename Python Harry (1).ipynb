{
 "cells": [
  {
   "cell_type": "markdown",
   "id": "f4e3a147",
   "metadata": {},
   "source": [
    "# T:1"
   ]
  },
  {
   "cell_type": "markdown",
   "id": "a86b927a",
   "metadata": {},
   "source": [
    "### Print"
   ]
  },
  {
   "cell_type": "code",
   "execution_count": 1,
   "id": "213cabf8",
   "metadata": {
    "scrolled": true
   },
   "outputs": [
    {
     "name": "stdout",
     "output_type": "stream",
     "text": [
      "I will show you how great I am \n",
      "Lets make this world a beeter place\n"
     ]
    }
   ],
   "source": [
    "print(\"I will show you how great I am \")\n",
    "print('Lets make this world a beeter place')"
   ]
  },
  {
   "cell_type": "markdown",
   "id": "0295b382",
   "metadata": {},
   "source": [
    "### Read Evaluate Print Loop REPL"
   ]
  },
  {
   "cell_type": "code",
   "execution_count": 2,
   "id": "c32f5213",
   "metadata": {},
   "outputs": [
    {
     "data": {
      "text/plain": [
       "9"
      ]
     },
     "execution_count": 2,
     "metadata": {},
     "output_type": "execute_result"
    }
   ],
   "source": [
    "4+5"
   ]
  },
  {
   "cell_type": "markdown",
   "id": "815713d1",
   "metadata": {},
   "source": [
    "### Comments"
   ]
  },
  {
   "cell_type": "markdown",
   "id": "b3c60b6c",
   "metadata": {},
   "source": [
    "#### Single line comment"
   ]
  },
  {
   "cell_type": "code",
   "execution_count": 5,
   "id": "1e57e2db",
   "metadata": {},
   "outputs": [
    {
     "name": "stdout",
     "output_type": "stream",
     "text": [
      "enter the word : hello\n",
      "hello <class 'str'>\n"
     ]
    }
   ],
   "source": [
    "# Author : Harsh\n",
    "# Licensed to : Microsoft\n",
    "\n",
    "a = input(\"enter the word : \")\n",
    "print(a,type(a))"
   ]
  },
  {
   "cell_type": "markdown",
   "id": "eae1c2eb",
   "metadata": {},
   "source": [
    "#### Multi line comment"
   ]
  },
  {
   "cell_type": "code",
   "execution_count": 6,
   "id": "c6223963",
   "metadata": {},
   "outputs": [
    {
     "name": "stdout",
     "output_type": "stream",
     "text": [
      "enter the word : hello\n",
      "hello <class 'str'>\n"
     ]
    }
   ],
   "source": [
    "'''Author : Harsh\n",
    "Licensed to : Microsoft\n",
    "'''\n",
    "a = input(\"enter the word : \")\n",
    "print(a,type(a))"
   ]
  },
  {
   "cell_type": "code",
   "execution_count": null,
   "id": "05feaeb4",
   "metadata": {},
   "outputs": [],
   "source": [
    "\n"
   ]
  },
  {
   "cell_type": "markdown",
   "id": "06cf5972",
   "metadata": {},
   "source": [
    "# T:2"
   ]
  },
  {
   "cell_type": "markdown",
   "id": "79e1af1b",
   "metadata": {},
   "source": [
    "### Data Type"
   ]
  },
  {
   "cell_type": "code",
   "execution_count": 9,
   "id": "3ce59934",
   "metadata": {},
   "outputs": [
    {
     "name": "stdout",
     "output_type": "stream",
     "text": [
      "h <class 'str'>\n",
      "h <class 'str'>\n",
      "34.78 <class 'float'>\n",
      "True <class 'bool'>\n",
      "False <class 'bool'>\n"
     ]
    }
   ],
   "source": [
    "a = \"h\"\n",
    "b = 'h'\n",
    "c = 12\n",
    "d = 34.78\n",
    "e = True\n",
    "f = False\n",
    "print(a,type(a))\n",
    "print(b,type(b))\n",
    "print(d,type(d))\n",
    "print(e,type(e))\n",
    "print(f,type(f))"
   ]
  },
  {
   "cell_type": "code",
   "execution_count": 12,
   "id": "4d5bdf5b",
   "metadata": {},
   "outputs": [
    {
     "name": "stdout",
     "output_type": "stream",
     "text": [
      "hjv\n",
      "boy <class 'str'>\n",
      "None <class 'NoneType'>\n"
     ]
    }
   ],
   "source": [
    "c = '''hjv\n",
    "boy'''\n",
    "print(c,type(c))\n",
    "g = None\n",
    "print(g,type(g))"
   ]
  },
  {
   "cell_type": "markdown",
   "id": "4bd7ba8c",
   "metadata": {},
   "source": [
    "### Operators in python\n",
    "#### Arithmatic  + - * / % ** //"
   ]
  },
  {
   "cell_type": "code",
   "execution_count": 5,
   "id": "07e67249",
   "metadata": {},
   "outputs": [
    {
     "name": "stdout",
     "output_type": "stream",
     "text": [
      "30\n",
      "-10\n",
      "3.5\n",
      "3\n",
      "10\n",
      "100\n"
     ]
    }
   ],
   "source": [
    "a = 10\n",
    "b = 20\n",
    "c = 30\n",
    "d = 2\n",
    "e = 7\n",
    "print(a+b) \n",
    "print(a-b)\n",
    "print(e/d) # result includes values after decimal. point\n",
    "print(e//d) # quotient is considered and the decimal part or reminder is ignored.\n",
    "print(a%b)\n",
    "print(a ** d)"
   ]
  },
  {
   "cell_type": "markdown",
   "id": "e2103838",
   "metadata": {},
   "source": [
    "#### Assignment = += -= *= /= %= //= **= &= |= ^= >>= <<= "
   ]
  },
  {
   "cell_type": "code",
   "execution_count": 9,
   "id": "03e362f2",
   "metadata": {},
   "outputs": [
    {
     "name": "stdout",
     "output_type": "stream",
     "text": [
      "6\n",
      "3\n"
     ]
    }
   ],
   "source": [
    "x = 3\n",
    "x+=3\n",
    "print(x)\n",
    "\n",
    "x-=3\n",
    "\n",
    "print(x)"
   ]
  },
  {
   "cell_type": "code",
   "execution_count": 11,
   "id": "6c86352d",
   "metadata": {},
   "outputs": [
    {
     "name": "stdout",
     "output_type": "stream",
     "text": [
      "9\n",
      "3.0\n"
     ]
    }
   ],
   "source": [
    "x = 3\n",
    "x*=3\n",
    "print(x)\n",
    "\n",
    "x/=3\n",
    "print(x)"
   ]
  },
  {
   "cell_type": "code",
   "execution_count": 20,
   "id": "c4ceda44",
   "metadata": {},
   "outputs": [
    {
     "name": "stdout",
     "output_type": "stream",
     "text": [
      "0\n",
      "3\n",
      "27\n"
     ]
    }
   ],
   "source": [
    "x = 3\n",
    "x%=3  # % MODULUS OPERATOR returns the remainder\n",
    "print(x)\n",
    "\n",
    "x = 10\n",
    "x//=3 # FLOOR DIVISION quotient is considered \n",
    "print(x)\n",
    "\n",
    "x**=3 # EXPONENT OPERATOR\n",
    "print(x)\n"
   ]
  },
  {
   "cell_type": "code",
   "execution_count": 23,
   "id": "e96861b0",
   "metadata": {},
   "outputs": [
    {
     "name": "stdout",
     "output_type": "stream",
     "text": [
      "{'b', 'c'}\n",
      "{'b', 'a', 'c'}\n"
     ]
    }
   ],
   "source": [
    "a = set('abc')\n",
    "a&=set('bcd') \n",
    "print(a)\n",
    "\n",
    "a|=set('ab')\n",
    "print(a)"
   ]
  },
  {
   "cell_type": "code",
   "execution_count": 33,
   "id": "e267fb61",
   "metadata": {},
   "outputs": [
    {
     "name": "stdout",
     "output_type": "stream",
     "text": [
      "10\n"
     ]
    }
   ],
   "source": [
    "x = 9\n",
    "x^=3\n",
    "print(x)"
   ]
  },
  {
   "cell_type": "code",
   "execution_count": 37,
   "id": "61777b84",
   "metadata": {},
   "outputs": [
    {
     "name": "stdout",
     "output_type": "stream",
     "text": [
      "7\n"
     ]
    }
   ],
   "source": [
    "x = 15\n",
    "x>>=1  # Performs Bitwise right shift on operands and assign value to left operand\n",
    "print(x)"
   ]
  },
  {
   "cell_type": "code",
   "execution_count": 41,
   "id": "b730a704",
   "metadata": {},
   "outputs": [
    {
     "name": "stdout",
     "output_type": "stream",
     "text": [
      "8\n"
     ]
    }
   ],
   "source": [
    "x = 4\n",
    "x<<=1 #Performs Bitwise left shift on operands and assign value to left operand\n",
    "print(x)"
   ]
  },
  {
   "cell_type": "markdown",
   "id": "7a1785ac",
   "metadata": {},
   "source": [
    "#### Comparison  == != > < >= <= "
   ]
  },
  {
   "cell_type": "code",
   "execution_count": 42,
   "id": "07850d8b",
   "metadata": {},
   "outputs": [
    {
     "name": "stdout",
     "output_type": "stream",
     "text": [
      "False\n",
      "True\n",
      "False\n",
      "True\n",
      "False\n",
      "True\n"
     ]
    }
   ],
   "source": [
    "a = 10\n",
    "b = 20\n",
    "print(a==b)\n",
    "print(a!=b)\n",
    "print(a>b)\n",
    "print(a<b)\n",
    "print(a>=b)\n",
    "print(a<=b)\n"
   ]
  },
  {
   "cell_type": "markdown",
   "id": "a9265384",
   "metadata": {},
   "source": [
    "#### Logical operators: and or not"
   ]
  },
  {
   "cell_type": "code",
   "execution_count": 44,
   "id": "9317d74f",
   "metadata": {},
   "outputs": [
    {
     "name": "stdout",
     "output_type": "stream",
     "text": [
      "True\n",
      "True\n",
      "False\n"
     ]
    }
   ],
   "source": [
    "x = 7\n",
    "print(x>5 and x<10)\n",
    "print(x<7 or x>5)\n",
    "print(not(x<7 or x>5))"
   ]
  },
  {
   "cell_type": "markdown",
   "id": "8904ccbc",
   "metadata": {},
   "source": [
    "#### Python Identity Operators"
   ]
  },
  {
   "cell_type": "markdown",
   "id": "f3efa417",
   "metadata": {},
   "source": [
    "are used to compare the objects"
   ]
  },
  {
   "cell_type": "code",
   "execution_count": 45,
   "id": "3d9782ac",
   "metadata": {},
   "outputs": [],
   "source": [
    "# is \tReturns True if both variables are the same object\n",
    "# is not\tReturns True if both variables are not the same object"
   ]
  },
  {
   "cell_type": "code",
   "execution_count": 47,
   "id": "ca9dd77b",
   "metadata": {},
   "outputs": [
    {
     "name": "stdout",
     "output_type": "stream",
     "text": [
      "False\n",
      "True\n"
     ]
    }
   ],
   "source": [
    "x = 10\n",
    "y = 20\n",
    "print(x is y)\n",
    "print(x is x)"
   ]
  },
  {
   "cell_type": "code",
   "execution_count": 48,
   "id": "418bf9ee",
   "metadata": {},
   "outputs": [
    {
     "name": "stdout",
     "output_type": "stream",
     "text": [
      "True\n",
      "False\n"
     ]
    }
   ],
   "source": [
    "print(x is not y)\n",
    "print(x is not x)"
   ]
  },
  {
   "cell_type": "markdown",
   "id": "cdc5a15a",
   "metadata": {},
   "source": [
    "#### Python Membership Operators"
   ]
  },
  {
   "cell_type": "markdown",
   "id": "ce0f6009",
   "metadata": {},
   "source": [
    "are used to test if a sequence is presented in an object"
   ]
  },
  {
   "cell_type": "code",
   "execution_count": 49,
   "id": "a5c4465e",
   "metadata": {},
   "outputs": [],
   "source": [
    "# in \tReturns True if a sequence with the specified value is present in the object\n",
    "# not in\tReturns True if a sequence with the specified value is not present in the object"
   ]
  },
  {
   "cell_type": "code",
   "execution_count": 51,
   "id": "6380082b",
   "metadata": {},
   "outputs": [
    {
     "name": "stdout",
     "output_type": "stream",
     "text": [
      "False\n",
      "True\n"
     ]
    }
   ],
   "source": [
    "y = [1,2,3,4]\n",
    "x = 6\n",
    "print(x in y)\n",
    "x = 4\n",
    "print(x in y)"
   ]
  },
  {
   "cell_type": "code",
   "execution_count": 52,
   "id": "0eb1673f",
   "metadata": {},
   "outputs": [
    {
     "name": "stdout",
     "output_type": "stream",
     "text": [
      "True\n",
      "False\n"
     ]
    }
   ],
   "source": [
    "y = [1,2,3,4]\n",
    "x = 6\n",
    "print(x not in y)\n",
    "x = 4\n",
    "print(x not in y)"
   ]
  },
  {
   "cell_type": "markdown",
   "id": "3c231177",
   "metadata": {},
   "source": [
    "#### Python Bitwise Operators"
   ]
  },
  {
   "cell_type": "markdown",
   "id": "4a20f23d",
   "metadata": {},
   "source": [
    "used to compare (binary) numbers"
   ]
  },
  {
   "cell_type": "code",
   "execution_count": null,
   "id": "bd1a807b",
   "metadata": {},
   "outputs": [],
   "source": [
    "&(and) |(or) ^(xor) ~(not) \n",
    "<<(Zero fill left shift)  \n",
    ">>(Signed right shift)"
   ]
  },
  {
   "cell_type": "code",
   "execution_count": null,
   "id": "4eef08c7",
   "metadata": {},
   "outputs": [],
   "source": [
    "& \tAND\tSets each bit to 1 if both bits are 1\n",
    "|\tOR\tSets each bit to 1 if one of two bits is 1\n",
    " ^\tXOR\tSets each bit to 1 if only one of two bits is 1\n",
    "~ \tNOT\tInverts all the bits\n",
    "<<\tZero fill left shift\tShift left by pushing zeros in from the right and let the leftmost bits fall off\n",
    ">>\tSigned right shift\tShift right by pushing copies of the leftmost bit in from the left, and let the rightmost bits fall off"
   ]
  },
  {
   "cell_type": "code",
   "execution_count": 59,
   "id": "fdc27226",
   "metadata": {},
   "outputs": [
    {
     "name": "stdout",
     "output_type": "stream",
     "text": [
      "2\n",
      "7\n",
      "^ bitwise XOR : 0\n",
      "~ bitwise 1s complement : -4\n"
     ]
    }
   ],
   "source": [
    "a = 6 # 0110\n",
    "b = 3 # 1100\n",
    "print(a&b)\n",
    "print(a|b)\n",
    "print('^ bitwise XOR :',a^a)\n",
    "print('~ bitwise 1s complement :',~b) \n"
   ]
  },
  {
   "cell_type": "code",
   "execution_count": 61,
   "id": "33a24406",
   "metadata": {},
   "outputs": [
    {
     "name": "stdout",
     "output_type": "stream",
     "text": [
      "<< left shift : 48\n",
      ">> right shift : 0\n"
     ]
    }
   ],
   "source": [
    "print('<< left shift :',a<<b) # a shifted left by b bits\n",
    "print('>> right shift :',a>>b) # a shifted right by b bits\n"
   ]
  },
  {
   "cell_type": "markdown",
   "id": "2154b8d4",
   "metadata": {},
   "source": [
    "### Type casting : convert one data ty to another"
   ]
  },
  {
   "cell_type": "code",
   "execution_count": 63,
   "id": "601b6a65",
   "metadata": {},
   "outputs": [
    {
     "name": "stdout",
     "output_type": "stream",
     "text": [
      "168\n",
      "168.0\n"
     ]
    }
   ],
   "source": [
    "a = \"123\"\n",
    "b = 45\n",
    "print(int(a)+b) #str to int (vice-versa)\n",
    "print(float(a)+b) #str to float (vice-versa)"
   ]
  },
  {
   "cell_type": "markdown",
   "id": "fe15f955",
   "metadata": {},
   "source": [
    "### input() functn"
   ]
  },
  {
   "cell_type": "code",
   "execution_count": 1,
   "id": "e37b029d",
   "metadata": {},
   "outputs": [
    {
     "name": "stdout",
     "output_type": "stream",
     "text": [
      "enter the number : 2\n",
      "<class 'str'>\n"
     ]
    }
   ],
   "source": [
    "a = input(\"enter the number : \")\n",
    "print(type(a))"
   ]
  },
  {
   "cell_type": "code",
   "execution_count": 3,
   "id": "f713934f",
   "metadata": {},
   "outputs": [
    {
     "name": "stdout",
     "output_type": "stream",
     "text": [
      "enter the number : 2\n",
      "<class 'int'>\n"
     ]
    }
   ],
   "source": [
    "a = int(input(\"enter the number : \"))\n",
    "print(type(a))"
   ]
  },
  {
   "cell_type": "code",
   "execution_count": null,
   "id": "97d1b1a6",
   "metadata": {},
   "outputs": [],
   "source": []
  },
  {
   "cell_type": "markdown",
   "id": "a4855390",
   "metadata": {},
   "source": [
    "# T:3"
   ]
  },
  {
   "cell_type": "markdown",
   "id": "1274cd28",
   "metadata": {},
   "source": [
    "STRINGS"
   ]
  },
  {
   "cell_type": "code",
   "execution_count": 10,
   "id": "6bf1432a",
   "metadata": {},
   "outputs": [
    {
     "name": "stdout",
     "output_type": "stream",
     "text": [
      "<class 'str'> <class 'str'> <class 'str'>\n"
     ]
    }
   ],
   "source": [
    "a = 'Legend\"s'\n",
    "b = \"Legend's\"\n",
    "c = '''legend's and world'S breaker\"s '''\n",
    "print(type(a),type(b),type(c))"
   ]
  },
  {
   "cell_type": "markdown",
   "id": "8c08261e",
   "metadata": {},
   "source": [
    "STRING OPERATIONS"
   ]
  },
  {
   "cell_type": "markdown",
   "id": "acbeaa3c",
   "metadata": {},
   "source": [
    "#### String Concatenation"
   ]
  },
  {
   "cell_type": "code",
   "execution_count": 14,
   "id": "31a116d5",
   "metadata": {},
   "outputs": [
    {
     "name": "stdout",
     "output_type": "stream",
     "text": [
      "hello , david <class 'str'>\n"
     ]
    }
   ],
   "source": [
    "a = \"hello , \"\n",
    "b = 'david'\n",
    "c = a+b\n",
    "print(c,type(c))\n"
   ]
  },
  {
   "cell_type": "markdown",
   "id": "93337e36",
   "metadata": {},
   "source": [
    "#### String Slicing"
   ]
  },
  {
   "cell_type": "code",
   "execution_count": 17,
   "id": "5706dc51",
   "metadata": {},
   "outputs": [
    {
     "name": "stdout",
     "output_type": "stream",
     "text": [
      "  h p\n"
     ]
    }
   ],
   "source": [
    "name = \" hey dude what's up\"\n",
    "print(name[0],name[1],name[-1])"
   ]
  },
  {
   "cell_type": "markdown",
   "id": "ff5b30e5",
   "metadata": {},
   "source": [
    "** We can't update the string literal **\n",
    "name[0] = 'd' => Does not work LOL"
   ]
  },
  {
   "cell_type": "code",
   "execution_count": 18,
   "id": "9e48eba6",
   "metadata": {},
   "outputs": [
    {
     "data": {
      "text/plain": [
       "\" hey dude what's up\""
      ]
     },
     "execution_count": 18,
     "metadata": {},
     "output_type": "execute_result"
    }
   ],
   "source": [
    "name"
   ]
  },
  {
   "cell_type": "code",
   "execution_count": 19,
   "id": "760b81ab",
   "metadata": {},
   "outputs": [
    {
     "data": {
      "text/plain": [
       "' he'"
      ]
     },
     "execution_count": 19,
     "metadata": {},
     "output_type": "execute_result"
    }
   ],
   "source": [
    "name[0:3]"
   ]
  },
  {
   "cell_type": "code",
   "execution_count": 41,
   "id": "c4a1df5f",
   "metadata": {},
   "outputs": [
    {
     "data": {
      "text/plain": [
       "' yu asp'"
      ]
     },
     "execution_count": 41,
     "metadata": {},
     "output_type": "execute_result"
    }
   ],
   "source": [
    "name[0::3]"
   ]
  },
  {
   "cell_type": "code",
   "execution_count": 20,
   "id": "283bf0bc",
   "metadata": {},
   "outputs": [
    {
     "data": {
      "text/plain": [
       "\" hey dude what's u\""
      ]
     },
     "execution_count": 20,
     "metadata": {},
     "output_type": "execute_result"
    }
   ],
   "source": [
    "name[0:-1]"
   ]
  },
  {
   "cell_type": "code",
   "execution_count": 21,
   "id": "6dae9e99",
   "metadata": {},
   "outputs": [
    {
     "data": {
      "text/plain": [
       "\" hey dude what's up\""
      ]
     },
     "execution_count": 21,
     "metadata": {},
     "output_type": "execute_result"
    }
   ],
   "source": [
    "name[0:]"
   ]
  },
  {
   "cell_type": "code",
   "execution_count": 25,
   "id": "9410cd05",
   "metadata": {},
   "outputs": [
    {
     "data": {
      "text/plain": [
       "''"
      ]
     },
     "execution_count": 25,
     "metadata": {},
     "output_type": "execute_result"
    }
   ],
   "source": [
    "name[-1:]"
   ]
  },
  {
   "cell_type": "code",
   "execution_count": 26,
   "id": "615eff3d",
   "metadata": {},
   "outputs": [
    {
     "data": {
      "text/plain": [
       "'hey'"
      ]
     },
     "execution_count": 26,
     "metadata": {},
     "output_type": "execute_result"
    }
   ],
   "source": [
    "name[1:4]"
   ]
  },
  {
   "cell_type": "code",
   "execution_count": 27,
   "id": "be64703b",
   "metadata": {},
   "outputs": [
    {
     "data": {
      "text/plain": [
       "19"
      ]
     },
     "execution_count": 27,
     "metadata": {},
     "output_type": "execute_result"
    }
   ],
   "source": [
    "len(name)  #finding len of string"
   ]
  },
  {
   "cell_type": "code",
   "execution_count": 28,
   "id": "bc631965",
   "metadata": {},
   "outputs": [
    {
     "data": {
      "text/plain": [
       "\" hey dude what's up\""
      ]
     },
     "execution_count": 28,
     "metadata": {},
     "output_type": "execute_result"
    }
   ],
   "source": [
    "name[:19] # is same as name[0:19] "
   ]
  },
  {
   "cell_type": "code",
   "execution_count": 29,
   "id": "fbb2bceb",
   "metadata": {},
   "outputs": [
    {
     "data": {
      "text/plain": [
       "\" hey dude what's up\""
      ]
     },
     "execution_count": 29,
     "metadata": {},
     "output_type": "execute_result"
    }
   ],
   "source": [
    "name[0:] # is same as name[0:19] "
   ]
  },
  {
   "cell_type": "markdown",
   "id": "6f032db3",
   "metadata": {},
   "source": [
    "SLICING WITH SKIP VALUE"
   ]
  },
  {
   "cell_type": "code",
   "execution_count": 46,
   "id": "6df15d75",
   "metadata": {},
   "outputs": [
    {
     "data": {
      "text/plain": [
       "'Dont go gentle'"
      ]
     },
     "execution_count": 46,
     "metadata": {},
     "output_type": "execute_result"
    }
   ],
   "source": [
    "a = \"Dont go gentle into that good night\" \n",
    "a[0:14]"
   ]
  },
  {
   "cell_type": "code",
   "execution_count": 61,
   "id": "25422562",
   "metadata": {},
   "outputs": [
    {
     "data": {
      "text/plain": [
       "'Dont go gentle into that good night'"
      ]
     },
     "execution_count": 61,
     "metadata": {},
     "output_type": "execute_result"
    }
   ],
   "source": [
    "a[0:] # automatic a[0:14]"
   ]
  },
  {
   "cell_type": "code",
   "execution_count": 63,
   "id": "0a2e2815",
   "metadata": {},
   "outputs": [
    {
     "data": {
      "text/plain": [
       "'Dont go gentle into that good night'"
      ]
     },
     "execution_count": 63,
     "metadata": {},
     "output_type": "execute_result"
    }
   ],
   "source": [
    "a[:35] # automatic a[0:35]"
   ]
  },
  {
   "cell_type": "code",
   "execution_count": 47,
   "id": "469dc233",
   "metadata": {},
   "outputs": [
    {
     "data": {
      "text/plain": [
       "'Dont go gentle'"
      ]
     },
     "execution_count": 47,
     "metadata": {},
     "output_type": "execute_result"
    }
   ],
   "source": [
    "a[0:14:1] # no skip"
   ]
  },
  {
   "cell_type": "code",
   "execution_count": 48,
   "id": "96c89eea",
   "metadata": {},
   "outputs": [
    {
     "data": {
      "text/plain": [
       "'Dn ognl'"
      ]
     },
     "execution_count": 48,
     "metadata": {},
     "output_type": "execute_result"
    }
   ],
   "source": [
    "a[0:14:2]"
   ]
  },
  {
   "cell_type": "code",
   "execution_count": 49,
   "id": "7f35e2fc",
   "metadata": {},
   "outputs": [
    {
     "data": {
      "text/plain": [
       "'Dtoel'"
      ]
     },
     "execution_count": 49,
     "metadata": {},
     "output_type": "execute_result"
    }
   ],
   "source": [
    "a[0:14:3]"
   ]
  },
  {
   "cell_type": "code",
   "execution_count": 50,
   "id": "64726ba6",
   "metadata": {},
   "outputs": [
    {
     "data": {
      "text/plain": [
       "'go gentle'"
      ]
     },
     "execution_count": 50,
     "metadata": {},
     "output_type": "execute_result"
    }
   ],
   "source": [
    "a[5:14]"
   ]
  },
  {
   "cell_type": "code",
   "execution_count": 51,
   "id": "705176b1",
   "metadata": {},
   "outputs": [
    {
     "data": {
      "text/plain": [
       "'g ete'"
      ]
     },
     "execution_count": 51,
     "metadata": {},
     "output_type": "execute_result"
    }
   ],
   "source": [
    "a[5:14:2]"
   ]
  },
  {
   "cell_type": "markdown",
   "id": "67e19b2c",
   "metadata": {},
   "source": [
    "#### String Functions"
   ]
  },
  {
   "cell_type": "markdown",
   "id": "7508f40b",
   "metadata": {},
   "source": [
    "len() :Returns the len of the string"
   ]
  },
  {
   "cell_type": "code",
   "execution_count": 64,
   "id": "30668339",
   "metadata": {},
   "outputs": [
    {
     "data": {
      "text/plain": [
       "67"
      ]
     },
     "execution_count": 64,
     "metadata": {},
     "output_type": "execute_result"
    }
   ],
   "source": [
    "a = \"All our dreams can come true, if we have the courage to pursue them\"\n",
    "len(a)"
   ]
  },
  {
   "cell_type": "markdown",
   "id": "6ec7186b",
   "metadata": {},
   "source": [
    ".capitalize() :Converts the first character to upper case"
   ]
  },
  {
   "cell_type": "code",
   "execution_count": 67,
   "id": "97c450cb",
   "metadata": {},
   "outputs": [
    {
     "data": {
      "text/plain": [
       "'Wonderful world'"
      ]
     },
     "execution_count": 67,
     "metadata": {},
     "output_type": "execute_result"
    }
   ],
   "source": [
    "b = \"wonderful world\"\n",
    "b.capitalize()"
   ]
  },
  {
   "cell_type": "markdown",
   "id": "fa751637",
   "metadata": {},
   "source": [
    ".casefold() or .lower() :Converts string into lower case"
   ]
  },
  {
   "cell_type": "code",
   "execution_count": 69,
   "id": "a214acd2",
   "metadata": {},
   "outputs": [
    {
     "data": {
      "text/plain": [
       "'lol'"
      ]
     },
     "execution_count": 69,
     "metadata": {},
     "output_type": "execute_result"
    }
   ],
   "source": [
    "c = \"LOL\"\n",
    "c.casefold()"
   ]
  },
  {
   "cell_type": "code",
   "execution_count": 70,
   "id": "42a3dbdf",
   "metadata": {},
   "outputs": [
    {
     "data": {
      "text/plain": [
       "'lol'"
      ]
     },
     "execution_count": 70,
     "metadata": {},
     "output_type": "execute_result"
    }
   ],
   "source": [
    "c.lower()"
   ]
  },
  {
   "cell_type": "markdown",
   "id": "6ee71032",
   "metadata": {},
   "source": [
    "center() :Returns a centered string"
   ]
  },
  {
   "cell_type": "markdown",
   "id": "7521ca6c",
   "metadata": {},
   "source": [
    "string.center(length, character)"
   ]
  },
  {
   "cell_type": "code",
   "execution_count": 76,
   "id": "15534931",
   "metadata": {},
   "outputs": [
    {
     "data": {
      "text/plain": [
       "'***banana***'"
      ]
     },
     "execution_count": 76,
     "metadata": {},
     "output_type": "execute_result"
    }
   ],
   "source": [
    "d = \"banana\"\n",
    "d.center(12,\"*\")"
   ]
  },
  {
   "cell_type": "code",
   "execution_count": 80,
   "id": "629985c2",
   "metadata": {},
   "outputs": [
    {
     "data": {
      "text/plain": [
       "'oobananaoo'"
      ]
     },
     "execution_count": 80,
     "metadata": {},
     "output_type": "execute_result"
    }
   ],
   "source": [
    "d = \"banana\"\n",
    "d.center(10,\"o\")"
   ]
  },
  {
   "cell_type": "markdown",
   "id": "d3b161e0",
   "metadata": {},
   "source": [
    "count() :Returns the number of times a specified value occurs in a string"
   ]
  },
  {
   "cell_type": "code",
   "execution_count": 84,
   "id": "96da45ab",
   "metadata": {},
   "outputs": [
    {
     "data": {
      "text/plain": [
       "2"
      ]
     },
     "execution_count": 84,
     "metadata": {},
     "output_type": "execute_result"
    }
   ],
   "source": [
    "e = \"I love apples, apple are my favorite fruit\"\n",
    "e.count(\"apple\")"
   ]
  },
  {
   "cell_type": "markdown",
   "id": "57e14a9b",
   "metadata": {},
   "source": [
    "endswith() :Returns True if the string ends with the specified value"
   ]
  },
  {
   "cell_type": "code",
   "execution_count": 87,
   "id": "76353128",
   "metadata": {},
   "outputs": [
    {
     "name": "stdout",
     "output_type": "stream",
     "text": [
      "I love apples, apple are my favorite fruit\n"
     ]
    },
    {
     "data": {
      "text/plain": [
       "True"
      ]
     },
     "execution_count": 87,
     "metadata": {},
     "output_type": "execute_result"
    }
   ],
   "source": [
    "print(e)\n",
    "e.endswith(\"t\")"
   ]
  },
  {
   "cell_type": "markdown",
   "id": "3950e268",
   "metadata": {},
   "source": [
    "The find() :method finds the first occurrence of the specified value.\n",
    "It returns -1 if the value is not found.\n",
    "It is almost the same as the index() method, the only difference is that the index() method raises an exception if the value is not found. "
   ]
  },
  {
   "cell_type": "code",
   "execution_count": 88,
   "id": "63a74698",
   "metadata": {},
   "outputs": [
    {
     "name": "stdout",
     "output_type": "stream",
     "text": [
      "I love apples, apple are my favorite fruit\n"
     ]
    },
    {
     "data": {
      "text/plain": [
       "7"
      ]
     },
     "execution_count": 88,
     "metadata": {},
     "output_type": "execute_result"
    }
   ],
   "source": [
    "print(e)\n",
    "e.find(\"apple\")"
   ]
  },
  {
   "cell_type": "code",
   "execution_count": 89,
   "id": "2d3722c8",
   "metadata": {},
   "outputs": [
    {
     "data": {
      "text/plain": [
       "-1"
      ]
     },
     "execution_count": 89,
     "metadata": {},
     "output_type": "execute_result"
    }
   ],
   "source": [
    "e.find(\"nini\")"
   ]
  },
  {
   "cell_type": "markdown",
   "id": "ad000198",
   "metadata": {},
   "source": [
    "isalnum() :Returns True if all characters in the string are alphanumeric"
   ]
  },
  {
   "cell_type": "code",
   "execution_count": 94,
   "id": "23b421ce",
   "metadata": {},
   "outputs": [
    {
     "data": {
      "text/plain": [
       "True"
      ]
     },
     "execution_count": 94,
     "metadata": {},
     "output_type": "execute_result"
    }
   ],
   "source": [
    "a = 'Company12'\n",
    "a.isalnum()"
   ]
  },
  {
   "cell_type": "code",
   "execution_count": 95,
   "id": "df0cb27a",
   "metadata": {},
   "outputs": [
    {
     "data": {
      "text/plain": [
       "False"
      ]
     },
     "execution_count": 95,
     "metadata": {},
     "output_type": "execute_result"
    }
   ],
   "source": [
    "a = 'Company 12'\n",
    "a.isalnum()"
   ]
  },
  {
   "cell_type": "markdown",
   "id": "8d066be1",
   "metadata": {},
   "source": [
    "isalpha() :Returns True if all characters in the string are in the alphabet"
   ]
  },
  {
   "cell_type": "code",
   "execution_count": 96,
   "id": "a70c4485",
   "metadata": {},
   "outputs": [
    {
     "data": {
      "text/plain": [
       "False"
      ]
     },
     "execution_count": 96,
     "metadata": {},
     "output_type": "execute_result"
    }
   ],
   "source": [
    "a = 'Company 12'\n",
    "a.isalpha()"
   ]
  },
  {
   "cell_type": "code",
   "execution_count": 97,
   "id": "2d4d761c",
   "metadata": {},
   "outputs": [
    {
     "data": {
      "text/plain": [
       "True"
      ]
     },
     "execution_count": 97,
     "metadata": {},
     "output_type": "execute_result"
    }
   ],
   "source": [
    "a = 'Company'\n",
    "a.isalpha()"
   ]
  },
  {
   "cell_type": "markdown",
   "id": "0d4eac1e",
   "metadata": {},
   "source": [
    "isdecimal() :Returns True if all characters in the string are decimals"
   ]
  },
  {
   "cell_type": "code",
   "execution_count": 109,
   "id": "0168af74",
   "metadata": {},
   "outputs": [
    {
     "data": {
      "text/plain": [
       "True"
      ]
     },
     "execution_count": 109,
     "metadata": {},
     "output_type": "execute_result"
    }
   ],
   "source": [
    "b = \"06680\"\n",
    "b.isdecimal()"
   ]
  },
  {
   "cell_type": "code",
   "execution_count": 105,
   "id": "de6e484a",
   "metadata": {},
   "outputs": [
    {
     "data": {
      "text/plain": [
       "False"
      ]
     },
     "execution_count": 105,
     "metadata": {},
     "output_type": "execute_result"
    }
   ],
   "source": [
    "b = \"nmnm6868\"\n",
    "b.isdecimal()"
   ]
  },
  {
   "cell_type": "markdown",
   "id": "9c137169",
   "metadata": {},
   "source": [
    "isdigit() :Returns True if all characters in the string are digits"
   ]
  },
  {
   "cell_type": "code",
   "execution_count": 110,
   "id": "066a1a79",
   "metadata": {},
   "outputs": [
    {
     "data": {
      "text/plain": [
       "True"
      ]
     },
     "execution_count": 110,
     "metadata": {},
     "output_type": "execute_result"
    }
   ],
   "source": [
    "b = \"6868\"\n",
    "b.isdigit()"
   ]
  },
  {
   "cell_type": "markdown",
   "id": "23406b28",
   "metadata": {},
   "source": [
    "islower() :Returns True if all characters in the string are lower case"
   ]
  },
  {
   "cell_type": "code",
   "execution_count": 111,
   "id": "8c63aae4",
   "metadata": {},
   "outputs": [
    {
     "data": {
      "text/plain": [
       "True"
      ]
     },
     "execution_count": 111,
     "metadata": {},
     "output_type": "execute_result"
    }
   ],
   "source": [
    "name = \"ronlado cap\"\n",
    "name.islower()"
   ]
  },
  {
   "cell_type": "code",
   "execution_count": 112,
   "id": "4599e203",
   "metadata": {},
   "outputs": [
    {
     "data": {
      "text/plain": [
       "False"
      ]
     },
     "execution_count": 112,
     "metadata": {},
     "output_type": "execute_result"
    }
   ],
   "source": [
    "name = \"Ronlado cap\"\n",
    "name.islower()"
   ]
  },
  {
   "cell_type": "markdown",
   "id": "b268e2bc",
   "metadata": {},
   "source": [
    "isnumeric() :Returns True if all characters in the string are numeric"
   ]
  },
  {
   "cell_type": "code",
   "execution_count": 113,
   "id": "778597bf",
   "metadata": {},
   "outputs": [
    {
     "data": {
      "text/plain": [
       "True"
      ]
     },
     "execution_count": 113,
     "metadata": {},
     "output_type": "execute_result"
    }
   ],
   "source": [
    "ph = \"8989898\"\n",
    "ph.isnumeric()"
   ]
  },
  {
   "cell_type": "markdown",
   "id": "75ec18a2",
   "metadata": {},
   "source": [
    "isspace() :Returns True if all characters in the string are whitespaces"
   ]
  },
  {
   "cell_type": "code",
   "execution_count": 114,
   "id": "8cc32077",
   "metadata": {},
   "outputs": [
    {
     "data": {
      "text/plain": [
       "True"
      ]
     },
     "execution_count": 114,
     "metadata": {},
     "output_type": "execute_result"
    }
   ],
   "source": [
    "ws = \"    \"\n",
    "ws.isspace()"
   ]
  },
  {
   "cell_type": "code",
   "execution_count": 115,
   "id": "cb74b295",
   "metadata": {},
   "outputs": [
    {
     "data": {
      "text/plain": [
       "False"
      ]
     },
     "execution_count": 115,
     "metadata": {},
     "output_type": "execute_result"
    }
   ],
   "source": [
    "ws = \"jonny  kin  \"\n",
    "ws.isspace()"
   ]
  },
  {
   "cell_type": "markdown",
   "id": "2569a49d",
   "metadata": {},
   "source": [
    "isupper() :Returns True if all characters in the string are upper case"
   ]
  },
  {
   "cell_type": "code",
   "execution_count": 116,
   "id": "35f13232",
   "metadata": {},
   "outputs": [
    {
     "data": {
      "text/plain": [
       "True"
      ]
     },
     "execution_count": 116,
     "metadata": {},
     "output_type": "execute_result"
    }
   ],
   "source": [
    "up = \"UPPER\"\n",
    "up.isupper()"
   ]
  },
  {
   "cell_type": "markdown",
   "id": "b60979e8",
   "metadata": {},
   "source": [
    "lower()\tConverts a string into lower case"
   ]
  },
  {
   "cell_type": "code",
   "execution_count": 118,
   "id": "689d48c8",
   "metadata": {},
   "outputs": [
    {
     "name": "stdout",
     "output_type": "stream",
     "text": [
      "UPPER\n"
     ]
    },
    {
     "data": {
      "text/plain": [
       "'upper'"
      ]
     },
     "execution_count": 118,
     "metadata": {},
     "output_type": "execute_result"
    }
   ],
   "source": [
    "print(up)\n",
    "up.lower()"
   ]
  },
  {
   "cell_type": "markdown",
   "id": "4e04d923",
   "metadata": {},
   "source": [
    "replace() :Returns a string where a specified value is replaced with a specified value"
   ]
  },
  {
   "cell_type": "code",
   "execution_count": 120,
   "id": "f7de4254",
   "metadata": {},
   "outputs": [
    {
     "data": {
      "text/plain": [
       "'I love tech'"
      ]
     },
     "execution_count": 120,
     "metadata": {},
     "output_type": "execute_result"
    }
   ],
   "source": [
    "st = \"I like tech\"\n",
    "st.replace('like','love')"
   ]
  },
  {
   "cell_type": "markdown",
   "id": "f09cbf84",
   "metadata": {},
   "source": [
    "startswith() :Returns true if the string starts with the specified value"
   ]
  },
  {
   "cell_type": "code",
   "execution_count": 123,
   "id": "20c3c7be",
   "metadata": {},
   "outputs": [
    {
     "data": {
      "text/plain": [
       "True"
      ]
     },
     "execution_count": 123,
     "metadata": {},
     "output_type": "execute_result"
    }
   ],
   "source": [
    "st = \"I like tech\"\n",
    "st.startswith(\"I\")"
   ]
  },
  {
   "cell_type": "markdown",
   "id": "54d8e78e",
   "metadata": {},
   "source": [
    "upper() :Converts a string into upper case"
   ]
  },
  {
   "cell_type": "code",
   "execution_count": 124,
   "id": "b3e007fd",
   "metadata": {},
   "outputs": [
    {
     "data": {
      "text/plain": [
       "'I LIKE TECH'"
      ]
     },
     "execution_count": 124,
     "metadata": {},
     "output_type": "execute_result"
    }
   ],
   "source": [
    "lw = \"i like tech\"\n",
    "lw.upper()"
   ]
  },
  {
   "cell_type": "markdown",
   "id": "b8d61d10",
   "metadata": {},
   "source": [
    "### Escape Sequence"
   ]
  },
  {
   "cell_type": "markdown",
   "id": "15c185ee",
   "metadata": {},
   "source": [
    "\\n \\t etc.."
   ]
  },
  {
   "cell_type": "code",
   "execution_count": 139,
   "id": "b4340f70",
   "metadata": {},
   "outputs": [
    {
     "name": "stdout",
     "output_type": "stream",
     "text": [
      "The secret of getting a\n",
      "head is getting started. Those who don’t believe in \t magic will never find it <class 'str'>\n"
     ]
    }
   ],
   "source": [
    "a = \"The secret of getting a\\nhead is getting started. Those who don’t believe in \\t magic will never find it\"\n",
    "print(a,type(a))"
   ]
  },
  {
   "cell_type": "code",
   "execution_count": null,
   "id": "ea41f5b0",
   "metadata": {},
   "outputs": [],
   "source": []
  },
  {
   "cell_type": "markdown",
   "id": "ab5bf27e",
   "metadata": {},
   "source": [
    "# T:4"
   ]
  },
  {
   "cell_type": "markdown",
   "id": "31ef702a",
   "metadata": {},
   "source": [
    "### List & Tuples"
   ]
  },
  {
   "cell_type": "markdown",
   "id": "c68ffa3c",
   "metadata": {},
   "source": [
    "List"
   ]
  },
  {
   "cell_type": "code",
   "execution_count": 1,
   "id": "20d88890",
   "metadata": {},
   "outputs": [
    {
     "name": "stdout",
     "output_type": "stream",
     "text": [
      "['Tony', 'John', 'Nick', 'Ash']\n"
     ]
    }
   ],
   "source": [
    " # List(ordered) =>order given = same order output\n",
    "    \n",
    "f = [\"Tony\",\"John\",\"Nick\",\"Ash\"]\n",
    "print(f)"
   ]
  },
  {
   "cell_type": "code",
   "execution_count": 3,
   "id": "a039ca66",
   "metadata": {},
   "outputs": [
    {
     "name": "stdout",
     "output_type": "stream",
     "text": [
      "['joy', 34, '78778', True] <class 'list'>\n"
     ]
    }
   ],
   "source": [
    "l = [\"joy\",34,\"78778\",True]\n",
    "print(l,type(l))"
   ]
  },
  {
   "cell_type": "markdown",
   "id": "2e0979a0",
   "metadata": {},
   "source": [
    "Multi-dimensional List"
   ]
  },
  {
   "cell_type": "code",
   "execution_count": 4,
   "id": "6f79480f",
   "metadata": {},
   "outputs": [
    {
     "name": "stdout",
     "output_type": "stream",
     "text": [
      "[['joy', 34, '78778', True], ['Tony', 'Ash']] <class 'list'>\n"
     ]
    }
   ],
   "source": [
    "lt = [[\"joy\",34,\"78778\",True],[\"Tony\",\"Ash\"]]\n",
    "print(lt,type(lt))"
   ]
  },
  {
   "cell_type": "markdown",
   "id": "982cb294",
   "metadata": {},
   "source": [
    "Assessing the list (l) using INDEX"
   ]
  },
  {
   "cell_type": "code",
   "execution_count": 6,
   "id": "8f3cad79",
   "metadata": {},
   "outputs": [
    {
     "name": "stdout",
     "output_type": "stream",
     "text": [
      "['joy', 34, '78778', True]\n"
     ]
    },
    {
     "data": {
      "text/plain": [
       "('joy', True)"
      ]
     },
     "execution_count": 6,
     "metadata": {},
     "output_type": "execute_result"
    }
   ],
   "source": [
    "print(l)\n",
    "l[0],l[-1]"
   ]
  },
  {
   "cell_type": "code",
   "execution_count": 11,
   "id": "fc6a50aa",
   "metadata": {},
   "outputs": [
    {
     "data": {
      "text/plain": [
       "(['joy', 34, '78778', True],\n",
       " ['joy', 34, '78778', True],\n",
       " ['joy', 34, '78778', True])"
      ]
     },
     "execution_count": 11,
     "metadata": {},
     "output_type": "execute_result"
    }
   ],
   "source": [
    "l[0:],l[:],l[:4]"
   ]
  },
  {
   "cell_type": "markdown",
   "id": "5169bc6d",
   "metadata": {},
   "source": [
    "#### List Slicing"
   ]
  },
  {
   "cell_type": "markdown",
   "id": "895975e5",
   "metadata": {},
   "source": [
    " Assessing the list (lt) using INDEX"
   ]
  },
  {
   "cell_type": "code",
   "execution_count": 12,
   "id": "d2d1ba06",
   "metadata": {},
   "outputs": [
    {
     "name": "stdout",
     "output_type": "stream",
     "text": [
      "[['joy', 34, '78778', True], ['Tony', 'Ash']]\n"
     ]
    }
   ],
   "source": [
    "print(lt)"
   ]
  },
  {
   "cell_type": "code",
   "execution_count": 13,
   "id": "0cab98b3",
   "metadata": {},
   "outputs": [
    {
     "data": {
      "text/plain": [
       "(['joy', 34, '78778', True],\n",
       " ['Tony', 'Ash'],\n",
       " [['joy', 34, '78778', True], ['Tony', 'Ash']])"
      ]
     },
     "execution_count": 13,
     "metadata": {},
     "output_type": "execute_result"
    }
   ],
   "source": [
    "lt[0],lt[-1],lt[:]"
   ]
  },
  {
   "cell_type": "code",
   "execution_count": 33,
   "id": "a6f5309c",
   "metadata": {},
   "outputs": [
    {
     "name": "stdout",
     "output_type": "stream",
     "text": [
      "[['joy', 34, '78778', True], ['Tony', 'Ash']]\n"
     ]
    },
    {
     "data": {
      "text/plain": [
       "True"
      ]
     },
     "execution_count": 33,
     "metadata": {},
     "output_type": "execute_result"
    }
   ],
   "source": [
    "print(lt)\n",
    "lt[0][3]"
   ]
  },
  {
   "cell_type": "code",
   "execution_count": 34,
   "id": "9edbad61",
   "metadata": {},
   "outputs": [
    {
     "data": {
      "text/plain": [
       "['joy', 34, '78778', True]"
      ]
     },
     "execution_count": 34,
     "metadata": {},
     "output_type": "execute_result"
    }
   ],
   "source": [
    "li = ['joy', 34, '78778', True]\n",
    "li[-4:]"
   ]
  },
  {
   "cell_type": "markdown",
   "id": "31f2d4cf",
   "metadata": {},
   "source": [
    " list with multiple distinct or duplicate elements\n",
    "          -list may contain duplicate values with their distinct positions and hence, multiple distinct or duplicate values can be passed as a sequence at the time of list creation."
   ]
  },
  {
   "cell_type": "code",
   "execution_count": 20,
   "id": "84aba208",
   "metadata": {},
   "outputs": [
    {
     "name": "stdout",
     "output_type": "stream",
     "text": [
      "[1, 2, 4, 4, 3, 3, 3, 6, 5, 'Geeks', 4, 'For', 6, 'Geeks']\n"
     ]
    }
   ],
   "source": [
    "lt1 = [1, 2, 4, 4, 3, 3, 3, 6, 5,'Geeks', 4, 'For', 6, 'Geeks']\n",
    "print(lt1)"
   ]
  },
  {
   "cell_type": "markdown",
   "id": "d6ce5da4",
   "metadata": {},
   "source": [
    "Knowing the size of List\n"
   ]
  },
  {
   "cell_type": "code",
   "execution_count": 27,
   "id": "5b7cf589",
   "metadata": {},
   "outputs": [
    {
     "name": "stdout",
     "output_type": "stream",
     "text": [
      "[1, 2, 4, 4, 3, 3, 3, 6, 5, 'Geeks', 4, 'For', 6, 'Geeks']\n",
      "len :  14\n",
      "[] 0\n"
     ]
    }
   ],
   "source": [
    "print(lt1)\n",
    "print(\"len : \",len(lt1))\n",
    "\n",
    "l2 = []\n",
    "print(l2,len(l2))"
   ]
  },
  {
   "cell_type": "markdown",
   "id": "a1e91127",
   "metadata": {},
   "source": [
    "Changing/Update the value of the string using INDEX"
   ]
  },
  {
   "cell_type": "code",
   "execution_count": 29,
   "id": "13b90f98",
   "metadata": {},
   "outputs": [
    {
     "name": "stdout",
     "output_type": "stream",
     "text": [
      "['boy', 34, '78778', False]\n"
     ]
    }
   ],
   "source": [
    "lu = ['joy', 34, '78778', True]\n",
    "lu[0] = \"boy\"\n",
    "lu[-1] = False\n",
    "print(lu)"
   ]
  },
  {
   "cell_type": "markdown",
   "id": "c4a271ae",
   "metadata": {},
   "source": [
    "#### List Methods"
   ]
  },
  {
   "cell_type": "markdown",
   "id": "d721dd4c",
   "metadata": {},
   "source": [
    "append(), extend(), sort(), reverse(), pop(), insert(), remove(), index(),count()"
   ]
  },
  {
   "cell_type": "markdown",
   "id": "a7faac0a",
   "metadata": {},
   "source": [
    "append() method"
   ]
  },
  {
   "cell_type": "code",
   "execution_count": 36,
   "id": "4638ae61",
   "metadata": {},
   "outputs": [
    {
     "name": "stdout",
     "output_type": "stream",
     "text": [
      "[1, 2, 4, 1, 2, 3, True]\n"
     ]
    }
   ],
   "source": [
    "l1 = [1, 2, 4, 1, 2, 3]\n",
    "l1.append(True)\n",
    "print(l1)"
   ]
  },
  {
   "cell_type": "code",
   "execution_count": 37,
   "id": "1f80f718",
   "metadata": {},
   "outputs": [
    {
     "name": "stdout",
     "output_type": "stream",
     "text": [
      "[1, 2, 4, 1, 2, 3, True, 'hey it added to the last']\n"
     ]
    }
   ],
   "source": [
    "l1.append(\"hey it added to the last\")\n",
    "print(l1)"
   ]
  },
  {
   "cell_type": "code",
   "execution_count": 39,
   "id": "0c0ffca0",
   "metadata": {},
   "outputs": [
    {
     "name": "stdout",
     "output_type": "stream",
     "text": [
      "[1, 2, 4, 1, 2, 3, True, 'hey it added to the last', [1, 22, 'hey']]\n"
     ]
    }
   ],
   "source": [
    "# Adding list to the List\n",
    "l1.append([1,22,\"hey\"])\n",
    "print(l1)"
   ]
  },
  {
   "cell_type": "code",
   "execution_count": 40,
   "id": "5cbd7362",
   "metadata": {},
   "outputs": [
    {
     "name": "stdout",
     "output_type": "stream",
     "text": [
      "[1, 2, 4, 1, 2, 3, True, 'hey it added to the last', [1, 22, 'hey'], (5, 6)]\n"
     ]
    }
   ],
   "source": [
    "# Adding Tuples to the List\n",
    "l1.append((5, 6))\n",
    "print(l1)"
   ]
  },
  {
   "cell_type": "markdown",
   "id": "a10c3bd0",
   "metadata": {},
   "source": [
    "insert() method"
   ]
  },
  {
   "cell_type": "markdown",
   "id": "b127be9b",
   "metadata": {},
   "source": [
    " insert() method requires two arguments(position, value)."
   ]
  },
  {
   "cell_type": "code",
   "execution_count": 41,
   "id": "e5d63761",
   "metadata": {},
   "outputs": [
    {
     "name": "stdout",
     "output_type": "stream",
     "text": [
      "['wow', 1, 2, 4, 1, 2, 3]\n"
     ]
    }
   ],
   "source": [
    "l2 = [1, 2, 4, 1, 2, 3]\n",
    "l2.insert(0,\"wow\")\n",
    "print(l2)"
   ]
  },
  {
   "cell_type": "code",
   "execution_count": 42,
   "id": "e36cc9e0",
   "metadata": {},
   "outputs": [
    {
     "name": "stdout",
     "output_type": "stream",
     "text": [
      "[1, 2, 4, ['yeah', 89, True], 1, 2, 3]\n"
     ]
    }
   ],
   "source": [
    "l2 = [1, 2, 4, 1, 2, 3]\n",
    "l2.insert(3,[\"yeah\",89,True])\n",
    "print(l2)"
   ]
  },
  {
   "cell_type": "code",
   "execution_count": 43,
   "id": "3e83b013",
   "metadata": {},
   "outputs": [
    {
     "name": "stdout",
     "output_type": "stream",
     "text": [
      "[1, 2, (78, 'not'), 4, 1, 2, 3]\n"
     ]
    }
   ],
   "source": [
    "l2 = [1, 2, 4, 1, 2, 3]\n",
    "l2.insert(2,(78,\"not\"))\n",
    "print(l2)"
   ]
  },
  {
   "cell_type": "markdown",
   "id": "daae1c73",
   "metadata": {},
   "source": [
    "Negative index List slicing"
   ]
  },
  {
   "cell_type": "code",
   "execution_count": 68,
   "id": "4785b352",
   "metadata": {},
   "outputs": [
    {
     "data": {
      "text/plain": [
       "['G', 'E', 'E', 'K', 'S', 'F', 'O']"
      ]
     },
     "execution_count": 68,
     "metadata": {},
     "output_type": "execute_result"
    }
   ],
   "source": [
    "L = ['G','E','E','K','S','F',\n",
    "        'O','R','G','E','E','K','S']\n",
    "L[:-6] #g(f,l-1)"
   ]
  },
  {
   "cell_type": "code",
   "execution_count": 69,
   "id": "b7e9d529",
   "metadata": {},
   "outputs": [
    {
     "data": {
      "text/plain": [
       "['S', 'G', 'S', 'G']"
      ]
     },
     "execution_count": 69,
     "metadata": {},
     "output_type": "execute_result"
    }
   ],
   "source": [
    "L[::-4] #reverse of a string (1st consider of each 4)"
   ]
  },
  {
   "cell_type": "markdown",
   "id": "76df80c1",
   "metadata": {},
   "source": [
    " extend() method"
   ]
  },
  {
   "cell_type": "markdown",
   "id": "d825f349",
   "metadata": {},
   "source": [
    "this method is used to add multiple elements at the same time at the end of the list."
   ]
  },
  {
   "cell_type": "markdown",
   "id": "d045599e",
   "metadata": {},
   "source": [
    "#### Note – append() and extend() methods can only add elements at the end."
   ]
  },
  {
   "cell_type": "code",
   "execution_count": 44,
   "id": "0ba7cead",
   "metadata": {},
   "outputs": [
    {
     "name": "stdout",
     "output_type": "stream",
     "text": [
      "[1, 2, 3, 4, 8, 'Geeks', 'Always', 'for', 'you', 'love', 89898]\n"
     ]
    }
   ],
   "source": [
    "l3= [1, 2, 3, 4, 8, 'Geeks', 'Always']\n",
    "l3.extend([\"for\",\"you\",\"love\",89898])\n",
    "print(l3)"
   ]
  },
  {
   "cell_type": "markdown",
   "id": "5cc1cdd2",
   "metadata": {},
   "source": [
    "remove() method"
   ]
  },
  {
   "cell_type": "markdown",
   "id": "18ee2f3b",
   "metadata": {},
   "source": [
    "It only removes one element at a time, to remove range of elements, iterator is used. The remove() method removes the specified item."
   ]
  },
  {
   "cell_type": "code",
   "execution_count": 58,
   "id": "c91ff5c5",
   "metadata": {},
   "outputs": [
    {
     "name": "stdout",
     "output_type": "stream",
     "text": [
      "[1, 2, 3, 4, 5, 6, 7, 8, 9, 10, 11, 'rain', 'saint']\n"
     ]
    }
   ],
   "source": [
    "lt2 = [1, 2, 3, 4, 5, 6, \n",
    "        7, 8, 9, \n",
    "       10, 11,\"rain\",\"saint\"]\n",
    "print(lt2)"
   ]
  },
  {
   "cell_type": "code",
   "execution_count": 59,
   "id": "93fa31a2",
   "metadata": {},
   "outputs": [
    {
     "name": "stdout",
     "output_type": "stream",
     "text": [
      "[1, 2, 3, 4, 5, 6, 7, 9, 10, 11, 'rain', 'saint']\n"
     ]
    }
   ],
   "source": [
    "lt2.remove(8)\n",
    "print(lt2)"
   ]
  },
  {
   "cell_type": "code",
   "execution_count": 61,
   "id": "f082d8ee",
   "metadata": {},
   "outputs": [
    {
     "name": "stdout",
     "output_type": "stream",
     "text": [
      "[1, 2, 3, 4, 5, 6, 7, 9, 10, 11, 'saint']\n"
     ]
    }
   ],
   "source": [
    "lt2.remove(\"rain\")\n",
    "print(lt2)"
   ]
  },
  {
   "cell_type": "markdown",
   "id": "25268725",
   "metadata": {},
   "source": [
    "pop method()"
   ]
  },
  {
   "cell_type": "markdown",
   "id": "1ae2771a",
   "metadata": {},
   "source": [
    "can also be used to remove and return an element from the set, \n",
    "\n",
    "but by default it removes only the last element of the set, \n",
    "\n",
    "to remove element from a specific position of the List, index of the element is passed as an argument to the pop() method."
   ]
  },
  {
   "cell_type": "code",
   "execution_count": 63,
   "id": "3705a476",
   "metadata": {},
   "outputs": [
    {
     "name": "stdout",
     "output_type": "stream",
     "text": [
      "[1, 2, 3, 4, 5, 6, 7, 9, 10, 11, 'saint']\n"
     ]
    },
    {
     "data": {
      "text/plain": [
       "'saint'"
      ]
     },
     "execution_count": 63,
     "metadata": {},
     "output_type": "execute_result"
    }
   ],
   "source": [
    "print(lt2)\n",
    "lt2.pop()"
   ]
  },
  {
   "cell_type": "code",
   "execution_count": 64,
   "id": "8292cc59",
   "metadata": {},
   "outputs": [
    {
     "name": "stdout",
     "output_type": "stream",
     "text": [
      "[1, 2, 3, 4, 5, 6, 7, 9, 10, 11]\n"
     ]
    }
   ],
   "source": [
    "print(lt2)"
   ]
  },
  {
   "cell_type": "code",
   "execution_count": 66,
   "id": "4d959a78",
   "metadata": {},
   "outputs": [
    {
     "name": "stdout",
     "output_type": "stream",
     "text": [
      "[1, 2, 3, 6, 7, 9, 10, 11]\n"
     ]
    }
   ],
   "source": [
    "lt2.pop(3) #pop(index)\n",
    "print(lt2)"
   ]
  },
  {
   "cell_type": "markdown",
   "id": "a85f91fa",
   "metadata": {},
   "source": [
    "reverse() method"
   ]
  },
  {
   "cell_type": "code",
   "execution_count": 85,
   "id": "44e8d687",
   "metadata": {},
   "outputs": [],
   "source": [
    "r1 = [3,1,7,9,10,2,6,11,\"don\",\"pablo\"]"
   ]
  },
  {
   "cell_type": "code",
   "execution_count": 86,
   "id": "7435e846",
   "metadata": {},
   "outputs": [
    {
     "name": "stdout",
     "output_type": "stream",
     "text": [
      "[3, 1, 7, 9, 10, 2, 6, 11, 'don', 'pablo'] <class 'list'>\n"
     ]
    }
   ],
   "source": [
    "print(r1,type(rl))"
   ]
  },
  {
   "cell_type": "code",
   "execution_count": 87,
   "id": "16af77a6",
   "metadata": {},
   "outputs": [
    {
     "data": {
      "text/plain": [
       "['pablo', 'don', 11, 6, 2, 10, 9, 7, 1, 3]"
      ]
     },
     "execution_count": 87,
     "metadata": {},
     "output_type": "execute_result"
    }
   ],
   "source": [
    "r1.reverse()\n",
    "r1"
   ]
  },
  {
   "cell_type": "markdown",
   "id": "27f552b4",
   "metadata": {},
   "source": [
    "sort() method"
   ]
  },
  {
   "cell_type": "code",
   "execution_count": 84,
   "id": "a1e1776f",
   "metadata": {},
   "outputs": [
    {
     "name": "stdout",
     "output_type": "stream",
     "text": [
      "[1, 2, 3, 6, 7, 9, 10, 11]\n"
     ]
    }
   ],
   "source": [
    "r2 = [3,1,7,9,10,2,6,11]\n",
    "r2.sort()\n",
    "print(r2)"
   ]
  },
  {
   "cell_type": "markdown",
   "id": "27ee7a04",
   "metadata": {},
   "source": [
    "clear() method"
   ]
  },
  {
   "cell_type": "code",
   "execution_count": 88,
   "id": "f7007584",
   "metadata": {},
   "outputs": [
    {
     "name": "stdout",
     "output_type": "stream",
     "text": [
      "[]\n"
     ]
    }
   ],
   "source": [
    "r3 = [3,1,7,9,10,2,6,11]\n",
    "r3.clear()\n",
    "print(r3)"
   ]
  },
  {
   "cell_type": "markdown",
   "id": "21cbbf14",
   "metadata": {},
   "source": [
    "copy() method"
   ]
  },
  {
   "cell_type": "markdown",
   "id": "2a83dae2",
   "metadata": {},
   "source": [
    "Returns a shallow copy of a list. \n",
    "Shallow copy means the any modification in new list won’t be reflected to original list "
   ]
  },
  {
   "cell_type": "code",
   "execution_count": 93,
   "id": "a18063f4",
   "metadata": {},
   "outputs": [
    {
     "name": "stdout",
     "output_type": "stream",
     "text": [
      "[1, 2, 3, 4]\n"
     ]
    }
   ],
   "source": [
    "ls1 = [ 1, 2, 3, 4 ]\n",
    "ls2 = ls1.copy()\n",
    "print(ls2)"
   ]
  },
  {
   "cell_type": "markdown",
   "id": "d79c5349",
   "metadata": {},
   "source": [
    "#### Tuples"
   ]
  },
  {
   "cell_type": "markdown",
   "id": "9f12fa83",
   "metadata": {},
   "source": [
    "[Immutable Data Type] Cannot updates the value of the Tuple"
   ]
  },
  {
   "cell_type": "markdown",
   "id": "5ce405ef",
   "metadata": {},
   "source": [
    "TUPLE with only one element needs a COMMA"
   ]
  },
  {
   "cell_type": "code",
   "execution_count": 90,
   "id": "826dffcc",
   "metadata": {},
   "outputs": [
    {
     "name": "stdout",
     "output_type": "stream",
     "text": [
      "(3,) <class 'tuple'>\n",
      "(3, 1, 7, 9, 10, 2, 6, 11) <class 'tuple'>\n",
      "() <class 'tuple'>\n"
     ]
    }
   ],
   "source": [
    "a = (3,)\n",
    "b = (3,1,7,9,10,2,6,11)\n",
    "c = ()\n",
    "print(a,type(a))\n",
    "print(b,type(b))\n",
    "print(c,type(c))"
   ]
  },
  {
   "cell_type": "code",
   "execution_count": 91,
   "id": "e654639b",
   "metadata": {},
   "outputs": [
    {
     "name": "stdout",
     "output_type": "stream",
     "text": [
      "<class 'int'>\n"
     ]
    }
   ],
   "source": [
    "d = (2)  # wrong way to declare an int element\n",
    "print(type(d))"
   ]
  },
  {
   "cell_type": "code",
   "execution_count": 96,
   "id": "bdf4ebcf",
   "metadata": {},
   "outputs": [
    {
     "name": "stdout",
     "output_type": "stream",
     "text": [
      "(2, 3, 'guts', 89, '9', (10, 2, 6, 11))\n"
     ]
    }
   ],
   "source": [
    "h = (2,3,\"guts\",89,\"9\",(10,2,6,11))\n",
    "print(h)"
   ]
  },
  {
   "cell_type": "code",
   "execution_count": 95,
   "id": "45884cbf",
   "metadata": {},
   "outputs": [
    {
     "name": "stdout",
     "output_type": "stream",
     "text": [
      "((2, 3, 'guts', 89, '9'), (10, 2, 6, 11))\n"
     ]
    }
   ],
   "source": [
    "e = (2,3,\"guts\",89,\"9\")\n",
    "f = (10,2,6,11)\n",
    "tup1 = (e,f)\n",
    "print(tup1)"
   ]
  },
  {
   "cell_type": "markdown",
   "id": "80d083d3",
   "metadata": {},
   "source": [
    "#### Concatenation of Tuples"
   ]
  },
  {
   "cell_type": "code",
   "execution_count": 3,
   "id": "19154df6",
   "metadata": {},
   "outputs": [
    {
     "name": "stdout",
     "output_type": "stream",
     "text": [
      "(2, 3, 'guts', 89, '9') <class 'tuple'>\n",
      "(0, 1, 2, 3) <class 'tuple'>\n"
     ]
    }
   ],
   "source": [
    "tup1 = (2,3,\"guts\",89,\"9\")\n",
    "tup2 = (0, 1, 2, 3)\n",
    "print(tup1,type(tup1))\n",
    "print(tup2,type(tup2))"
   ]
  },
  {
   "cell_type": "code",
   "execution_count": 4,
   "id": "37acd1ba",
   "metadata": {},
   "outputs": [],
   "source": [
    "tup3=tup1+tup2"
   ]
  },
  {
   "cell_type": "code",
   "execution_count": 5,
   "id": "a471b42c",
   "metadata": {},
   "outputs": [
    {
     "name": "stdout",
     "output_type": "stream",
     "text": [
      "(2, 3, 'guts', 89, '9', 0, 1, 2, 3)\n"
     ]
    }
   ],
   "source": [
    "print(tup3)"
   ]
  },
  {
   "cell_type": "markdown",
   "id": "fc1475b5",
   "metadata": {},
   "source": [
    "#### Slicing of a Tuple"
   ]
  },
  {
   "cell_type": "code",
   "execution_count": 98,
   "id": "4ca5c8de",
   "metadata": {},
   "outputs": [
    {
     "name": "stdout",
     "output_type": "stream",
     "text": [
      "(2, 3, 'guts', 89, '9') <class 'tuple'>\n"
     ]
    }
   ],
   "source": [
    "tup1 = (2, 3, 'guts', 89, '9')\n",
    "print(tup1,type(tup1))"
   ]
  },
  {
   "cell_type": "code",
   "execution_count": 99,
   "id": "5038c29d",
   "metadata": {},
   "outputs": [
    {
     "data": {
      "text/plain": [
       "(3, 'guts', 89, '9')"
      ]
     },
     "execution_count": 99,
     "metadata": {},
     "output_type": "execute_result"
    }
   ],
   "source": [
    "tup1[1:]"
   ]
  },
  {
   "cell_type": "code",
   "execution_count": 100,
   "id": "d7945205",
   "metadata": {},
   "outputs": [
    {
     "data": {
      "text/plain": [
       "('9', 89, 'guts', 3, 2)"
      ]
     },
     "execution_count": 100,
     "metadata": {},
     "output_type": "execute_result"
    }
   ],
   "source": [
    "tup1[::-1]"
   ]
  },
  {
   "cell_type": "code",
   "execution_count": 101,
   "id": "a70c5e9c",
   "metadata": {},
   "outputs": [
    {
     "data": {
      "text/plain": [
       "(3, 'guts')"
      ]
     },
     "execution_count": 101,
     "metadata": {},
     "output_type": "execute_result"
    }
   ],
   "source": [
    "tup1[1:3]"
   ]
  },
  {
   "cell_type": "markdown",
   "id": "bd08e82f",
   "metadata": {},
   "source": [
    "Deleting a Tuple"
   ]
  },
  {
   "cell_type": "code",
   "execution_count": 108,
   "id": "8d732985",
   "metadata": {},
   "outputs": [
    {
     "name": "stdout",
     "output_type": "stream",
     "text": [
      "(2, 3, 'guts', 89, '9')\n"
     ]
    }
   ],
   "source": [
    "tup2 = (2, 3, 'guts', 89, '9')\n",
    "print(tup2)"
   ]
  },
  {
   "cell_type": "code",
   "execution_count": 109,
   "id": "9d236317",
   "metadata": {},
   "outputs": [],
   "source": [
    "del tup2"
   ]
  },
  {
   "cell_type": "markdown",
   "id": "8c6f6671",
   "metadata": {},
   "source": [
    "#### Tuple Methods"
   ]
  },
  {
   "cell_type": "markdown",
   "id": "f2272887",
   "metadata": {},
   "source": [
    "index(), count()"
   ]
  },
  {
   "cell_type": "markdown",
   "id": "a36d5921",
   "metadata": {},
   "source": [
    "count() method"
   ]
  },
  {
   "cell_type": "markdown",
   "id": "6ceff18f",
   "metadata": {},
   "source": [
    "#count(element)"
   ]
  },
  {
   "cell_type": "code",
   "execution_count": 113,
   "id": "9cb18cf8",
   "metadata": {},
   "outputs": [
    {
     "name": "stdout",
     "output_type": "stream",
     "text": [
      "(2, 3, 'guts', 89, '9', 3, 'guts', 67, 3, 'guts')\n"
     ]
    }
   ],
   "source": [
    "tup3 = (2, 3, 'guts', 89, '9',3,'guts',67,3,'guts')\n",
    "print(tup3)"
   ]
  },
  {
   "cell_type": "code",
   "execution_count": 114,
   "id": "bc825a20",
   "metadata": {},
   "outputs": [
    {
     "data": {
      "text/plain": [
       "3"
      ]
     },
     "execution_count": 114,
     "metadata": {},
     "output_type": "execute_result"
    }
   ],
   "source": [
    "tup3.count(3)"
   ]
  },
  {
   "cell_type": "code",
   "execution_count": 115,
   "id": "d4aee84d",
   "metadata": {},
   "outputs": [
    {
     "data": {
      "text/plain": [
       "3"
      ]
     },
     "execution_count": 115,
     "metadata": {},
     "output_type": "execute_result"
    }
   ],
   "source": [
    "tup3.count('guts')"
   ]
  },
  {
   "cell_type": "code",
   "execution_count": 116,
   "id": "733b8b7f",
   "metadata": {},
   "outputs": [
    {
     "data": {
      "text/plain": [
       "1"
      ]
     },
     "execution_count": 116,
     "metadata": {},
     "output_type": "execute_result"
    }
   ],
   "source": [
    "tup3.count(67)"
   ]
  },
  {
   "cell_type": "markdown",
   "id": "4e5bdaf2",
   "metadata": {},
   "source": [
    "index() method"
   ]
  },
  {
   "cell_type": "markdown",
   "id": "81ffb5af",
   "metadata": {},
   "source": [
    "#index(element)"
   ]
  },
  {
   "cell_type": "code",
   "execution_count": 117,
   "id": "feec49b8",
   "metadata": {},
   "outputs": [
    {
     "name": "stdout",
     "output_type": "stream",
     "text": [
      "(2, 3, 'guts', 89, '9', 3, 'guts', 67, 3, 'guts')\n"
     ]
    }
   ],
   "source": [
    "print(tup3)"
   ]
  },
  {
   "cell_type": "code",
   "execution_count": 118,
   "id": "ec19b593",
   "metadata": {},
   "outputs": [
    {
     "data": {
      "text/plain": [
       "2"
      ]
     },
     "execution_count": 118,
     "metadata": {},
     "output_type": "execute_result"
    }
   ],
   "source": [
    "tup3.index('guts')"
   ]
  },
  {
   "cell_type": "code",
   "execution_count": 119,
   "id": "2f4b289d",
   "metadata": {},
   "outputs": [
    {
     "data": {
      "text/plain": [
       "1"
      ]
     },
     "execution_count": 119,
     "metadata": {},
     "output_type": "execute_result"
    }
   ],
   "source": [
    "tup3.index(3)"
   ]
  },
  {
   "cell_type": "markdown",
   "id": "67cab6c9",
   "metadata": {},
   "source": [
    "#### Functions in Tuple"
   ]
  },
  {
   "cell_type": "markdown",
   "id": "83731210",
   "metadata": {},
   "source": [
    "max() functn"
   ]
  },
  {
   "cell_type": "code",
   "execution_count": 15,
   "id": "e6a28b3e",
   "metadata": {},
   "outputs": [],
   "source": [
    "tp3 = ( 89,9, 0, 1, 2, 3)"
   ]
  },
  {
   "cell_type": "code",
   "execution_count": 16,
   "id": "ba49bae6",
   "metadata": {},
   "outputs": [
    {
     "data": {
      "text/plain": [
       "89"
      ]
     },
     "execution_count": 16,
     "metadata": {},
     "output_type": "execute_result"
    }
   ],
   "source": [
    "max(tp3)"
   ]
  },
  {
   "cell_type": "markdown",
   "id": "158e2cab",
   "metadata": {},
   "source": [
    "min() functn"
   ]
  },
  {
   "cell_type": "code",
   "execution_count": 17,
   "id": "53671248",
   "metadata": {},
   "outputs": [
    {
     "name": "stdout",
     "output_type": "stream",
     "text": [
      "(89, 9, 0, 1, 2, 3)\n"
     ]
    }
   ],
   "source": [
    "print(tp3)"
   ]
  },
  {
   "cell_type": "code",
   "execution_count": 18,
   "id": "67c205c5",
   "metadata": {},
   "outputs": [
    {
     "data": {
      "text/plain": [
       "0"
      ]
     },
     "execution_count": 18,
     "metadata": {},
     "output_type": "execute_result"
    }
   ],
   "source": [
    "min(tp3)"
   ]
  },
  {
   "cell_type": "markdown",
   "id": "a3210d04",
   "metadata": {},
   "source": [
    "len() functn"
   ]
  },
  {
   "cell_type": "code",
   "execution_count": 19,
   "id": "42a909ef",
   "metadata": {},
   "outputs": [
    {
     "name": "stdout",
     "output_type": "stream",
     "text": [
      "(89, 9, 0, 1, 2, 3)\n"
     ]
    }
   ],
   "source": [
    "print(tp3)"
   ]
  },
  {
   "cell_type": "code",
   "execution_count": 21,
   "id": "f58830f4",
   "metadata": {},
   "outputs": [
    {
     "data": {
      "text/plain": [
       "6"
      ]
     },
     "execution_count": 21,
     "metadata": {},
     "output_type": "execute_result"
    }
   ],
   "source": [
    "len(tp3)"
   ]
  },
  {
   "cell_type": "markdown",
   "id": "80b655f3",
   "metadata": {},
   "source": [
    "all()\n",
    "Returns true if all element are true or if tuple is empty"
   ]
  },
  {
   "cell_type": "code",
   "execution_count": 22,
   "id": "95a72c72",
   "metadata": {},
   "outputs": [
    {
     "data": {
      "text/plain": [
       "True"
      ]
     },
     "execution_count": 22,
     "metadata": {},
     "output_type": "execute_result"
    }
   ],
   "source": [
    "tu = ()\n",
    "all(tu)"
   ]
  },
  {
   "cell_type": "markdown",
   "id": "06dc5b0d",
   "metadata": {},
   "source": [
    "sum() \n",
    "Sums up the numbers in the tuple"
   ]
  },
  {
   "cell_type": "code",
   "execution_count": 23,
   "id": "f416edff",
   "metadata": {},
   "outputs": [
    {
     "name": "stdout",
     "output_type": "stream",
     "text": [
      "(89, 9, 0, 1, 2, 3)\n"
     ]
    }
   ],
   "source": [
    "print(tp3)"
   ]
  },
  {
   "cell_type": "code",
   "execution_count": 24,
   "id": "0ad625e1",
   "metadata": {},
   "outputs": [
    {
     "data": {
      "text/plain": [
       "104"
      ]
     },
     "execution_count": 24,
     "metadata": {},
     "output_type": "execute_result"
    }
   ],
   "source": [
    "sum(tp3)"
   ]
  },
  {
   "cell_type": "markdown",
   "id": "479080d9",
   "metadata": {},
   "source": [
    "sorted()\n",
    "input elements in the tuple and return a new sorted list"
   ]
  },
  {
   "cell_type": "code",
   "execution_count": 26,
   "id": "c363fa83",
   "metadata": {},
   "outputs": [
    {
     "name": "stdout",
     "output_type": "stream",
     "text": [
      "(89, 9, 0, 1, 2, 3)\n"
     ]
    }
   ],
   "source": [
    "print(tp3)"
   ]
  },
  {
   "cell_type": "code",
   "execution_count": 27,
   "id": "cc8e6341",
   "metadata": {},
   "outputs": [
    {
     "data": {
      "text/plain": [
       "[0, 1, 2, 3, 9, 89]"
      ]
     },
     "execution_count": 27,
     "metadata": {},
     "output_type": "execute_result"
    }
   ],
   "source": [
    "sorted(tp3)"
   ]
  },
  {
   "cell_type": "code",
   "execution_count": null,
   "id": "6a5336e7",
   "metadata": {},
   "outputs": [],
   "source": []
  },
  {
   "cell_type": "markdown",
   "id": "058d40b1",
   "metadata": {},
   "source": [
    "# T:5"
   ]
  },
  {
   "cell_type": "markdown",
   "id": "9f37d3bb",
   "metadata": {},
   "source": [
    "### Dict and Sets"
   ]
  },
  {
   "cell_type": "markdown",
   "id": "43e66113",
   "metadata": {},
   "source": [
    "### Dict"
   ]
  },
  {
   "cell_type": "markdown",
   "id": "9577af80",
   "metadata": {},
   "source": [
    "Dict. with integer keys"
   ]
  },
  {
   "cell_type": "code",
   "execution_count": 28,
   "id": "b9fee678",
   "metadata": {},
   "outputs": [
    {
     "name": "stdout",
     "output_type": "stream",
     "text": [
      "{1: 'raman', 2: 'ishika', 3: 'ranjan', 4: 'Rin'} <class 'dict'>\n"
     ]
    }
   ],
   "source": [
    "dict = {1:'raman',2:'ishika',3:'ranjan',4:'Rin'}\n",
    "print(dict,type(dict))"
   ]
  },
  {
   "cell_type": "markdown",
   "id": "3d0db8d6",
   "metadata": {},
   "source": [
    "Dict. with mixed keys"
   ]
  },
  {
   "cell_type": "code",
   "execution_count": 29,
   "id": "4bad1d13",
   "metadata": {},
   "outputs": [
    {
     "name": "stdout",
     "output_type": "stream",
     "text": [
      "{'girl': 'riddhi', 1: [1, 2, 3], 2: (4, 5, 6)} <class 'dict'>\n"
     ]
    }
   ],
   "source": [
    "dict1 = {\"girl\":\"riddhi\",1:[1,2,3],2:(4,5,6)}\n",
    "print(dict1,type(dict1))"
   ]
  },
  {
   "cell_type": "markdown",
   "id": "a378c11f",
   "metadata": {},
   "source": [
    "Nested Dictionary"
   ]
  },
  {
   "cell_type": "code",
   "execution_count": 36,
   "id": "8dfc4a3c",
   "metadata": {},
   "outputs": [
    {
     "name": "stdout",
     "output_type": "stream",
     "text": [
      "{1: 'raman', 2: 'ishika', 3: 'ranjan', 4: 'Rin', 5: {'A': 'Welcome', 'B': 'To', 'C': 'Geeks'}} <class 'dict'>\n"
     ]
    }
   ],
   "source": [
    "d1 = {1:'raman',2:'ishika',3:'ranjan',4:'Rin',5:{'A' : 'Welcome', 'B' : 'To', 'C' : 'Geeks'}}\n",
    "print(d1,type(d1))"
   ]
  },
  {
   "cell_type": "markdown",
   "id": "fcff8231",
   "metadata": {},
   "source": [
    "#### Accessing the Dict."
   ]
  },
  {
   "cell_type": "code",
   "execution_count": 37,
   "id": "dce78168",
   "metadata": {},
   "outputs": [
    {
     "name": "stdout",
     "output_type": "stream",
     "text": [
      "{1: 'raman', 2: 'ishika', 3: 'ranjan', 4: 'Rin', 5: {'A': 'Welcome', 'B': 'To', 'C': 'Geeks'}}\n"
     ]
    }
   ],
   "source": [
    "print(d1)"
   ]
  },
  {
   "cell_type": "code",
   "execution_count": 40,
   "id": "bea1150a",
   "metadata": {},
   "outputs": [
    {
     "data": {
      "text/plain": [
       "{'A': 'Welcome', 'B': 'To', 'C': 'Geeks'}"
      ]
     },
     "execution_count": 40,
     "metadata": {},
     "output_type": "execute_result"
    }
   ],
   "source": [
    "d1[5] #dict[key]"
   ]
  },
  {
   "cell_type": "code",
   "execution_count": 42,
   "id": "38bde5a3",
   "metadata": {},
   "outputs": [
    {
     "data": {
      "text/plain": [
       "'raman'"
      ]
     },
     "execution_count": 42,
     "metadata": {},
     "output_type": "execute_result"
    }
   ],
   "source": [
    "d1[1]"
   ]
  },
  {
   "cell_type": "markdown",
   "id": "9f83214d",
   "metadata": {},
   "source": [
    "get() method also help in acessing the element from a dictionary"
   ]
  },
  {
   "cell_type": "code",
   "execution_count": 63,
   "id": "073bd321",
   "metadata": {},
   "outputs": [],
   "source": [
    "Dict = {1: 'Geeks', 'name': 'For', 3: 'Geeks'}"
   ]
  },
  {
   "cell_type": "code",
   "execution_count": 64,
   "id": "85018a1b",
   "metadata": {},
   "outputs": [
    {
     "name": "stdout",
     "output_type": "stream",
     "text": [
      "Geeks\n"
     ]
    }
   ],
   "source": [
    "print(Dict.get(3))"
   ]
  },
  {
   "cell_type": "code",
   "execution_count": 65,
   "id": "6cde5539",
   "metadata": {},
   "outputs": [
    {
     "name": "stdout",
     "output_type": "stream",
     "text": [
      "Geeks\n"
     ]
    }
   ],
   "source": [
    "print(Dict[3])"
   ]
  },
  {
   "cell_type": "markdown",
   "id": "035621f7",
   "metadata": {},
   "source": [
    "Printing a dict. present in the dict."
   ]
  },
  {
   "cell_type": "code",
   "execution_count": 44,
   "id": "74fb8e43",
   "metadata": {},
   "outputs": [
    {
     "name": "stdout",
     "output_type": "stream",
     "text": [
      "{1: 'raman', 2: 'ishika', 3: 'ranjan', 4: 'Rin', 5: {'A': 'Welcome', 'B': 'To', 'C': 'Geeks'}}\n"
     ]
    }
   ],
   "source": [
    "print(d1)"
   ]
  },
  {
   "cell_type": "code",
   "execution_count": 51,
   "id": "7c8f10e8",
   "metadata": {},
   "outputs": [
    {
     "name": "stdout",
     "output_type": "stream",
     "text": [
      "Geeks\n"
     ]
    }
   ],
   "source": [
    "print(d1[5][\"C\"])"
   ]
  },
  {
   "cell_type": "markdown",
   "id": "252b632c",
   "metadata": {},
   "source": [
    "Updating key values"
   ]
  },
  {
   "cell_type": "code",
   "execution_count": 52,
   "id": "e06b50b7",
   "metadata": {},
   "outputs": [
    {
     "name": "stdout",
     "output_type": "stream",
     "text": [
      "{1: 'raman', 2: 'ishika', 3: 'ranjan', 4: 'Rin', 5: {'A': 'Welcome', 'B': 'To', 'C': 'Geeks'}}\n"
     ]
    }
   ],
   "source": [
    "print(d1)"
   ]
  },
  {
   "cell_type": "code",
   "execution_count": 53,
   "id": "6afdf911",
   "metadata": {},
   "outputs": [
    {
     "name": "stdout",
     "output_type": "stream",
     "text": [
      "{1: 'raman', 2: 'ishika', 3: 'PEACOCK', 4: 'Rin', 5: {'A': 'Welcome', 'B': 'To', 'C': 'Geeks'}}\n"
     ]
    }
   ],
   "source": [
    "d1[3] = 'PEACOCK'\n",
    "print(d1)"
   ]
  },
  {
   "cell_type": "markdown",
   "id": "648dd8d5",
   "metadata": {},
   "source": [
    "----"
   ]
  },
  {
   "cell_type": "code",
   "execution_count": 55,
   "id": "4aff4b65",
   "metadata": {},
   "outputs": [
    {
     "name": "stdout",
     "output_type": "stream",
     "text": [
      "{1: 'raman', 2: 'ishika', 3: 'PEACOCK', 4: 'Rin', 5: {'A': 'Welcome', 'B': 'To', 'C': 'Geeks'}}\n"
     ]
    }
   ],
   "source": [
    "print(d1)"
   ]
  },
  {
   "cell_type": "code",
   "execution_count": 58,
   "id": "9b3ee679",
   "metadata": {},
   "outputs": [
    {
     "name": "stdout",
     "output_type": "stream",
     "text": [
      "{1: 'raman', 2: (2, 3, 4), 3: 'PEACOCK', 4: 'Rin', 5: {'A': 'Welcome', 'B': 'To', 'C': 'Geeks'}}\n"
     ]
    }
   ],
   "source": [
    "d1[2] = (2,3,4)\n",
    "print(d1)"
   ]
  },
  {
   "cell_type": "markdown",
   "id": "08594045",
   "metadata": {},
   "source": [
    "Removing Elements from Dictionary"
   ]
  },
  {
   "cell_type": "code",
   "execution_count": 74,
   "id": "40a83168",
   "metadata": {},
   "outputs": [],
   "source": [
    "d5 = { 5 : 'Welcome', 6 : 'To', 7 : 'Geeks',\n",
    "        'B' : {1 : 'Geeks', 2 : 'Life'}}"
   ]
  },
  {
   "cell_type": "code",
   "execution_count": 75,
   "id": "4e44f439",
   "metadata": {},
   "outputs": [
    {
     "name": "stdout",
     "output_type": "stream",
     "text": [
      "{5: 'Welcome', 6: 'To', 7: 'Geeks', 'B': {1: 'Geeks', 2: 'Life'}}\n"
     ]
    }
   ],
   "source": [
    "print(d5)"
   ]
  },
  {
   "cell_type": "code",
   "execution_count": 76,
   "id": "09dd99d8",
   "metadata": {},
   "outputs": [],
   "source": [
    "del d5['B']"
   ]
  },
  {
   "cell_type": "code",
   "execution_count": 77,
   "id": "8d8ba136",
   "metadata": {},
   "outputs": [
    {
     "name": "stdout",
     "output_type": "stream",
     "text": [
      "{5: 'Welcome', 6: 'To', 7: 'Geeks'}\n"
     ]
    }
   ],
   "source": [
    "print(d5)"
   ]
  },
  {
   "cell_type": "markdown",
   "id": "c5d0e06b",
   "metadata": {},
   "source": [
    "---"
   ]
  },
  {
   "cell_type": "code",
   "execution_count": 78,
   "id": "6c00b9eb",
   "metadata": {},
   "outputs": [
    {
     "name": "stdout",
     "output_type": "stream",
     "text": [
      "{'A': {1: 'Geeks', 2: 'For', 3: 'Geeks'}, 'B': {1: 'Geeks'}} <class 'dict'>\n"
     ]
    }
   ],
   "source": [
    "d7 = {'A': {1: 'Geeks', 2: 'For', 3: 'Geeks'}, 'B': {1: 'Geeks'}}\n",
    "print(d7,type(d7))"
   ]
  },
  {
   "cell_type": "code",
   "execution_count": 79,
   "id": "8cbda1c3",
   "metadata": {},
   "outputs": [],
   "source": [
    "del d7[\"A\"][2]"
   ]
  },
  {
   "cell_type": "code",
   "execution_count": 80,
   "id": "3db7fe52",
   "metadata": {},
   "outputs": [
    {
     "data": {
      "text/plain": [
       "{'A': {1: 'Geeks', 3: 'Geeks'}, 'B': {1: 'Geeks'}}"
      ]
     },
     "execution_count": 80,
     "metadata": {},
     "output_type": "execute_result"
    }
   ],
   "source": [
    "d7"
   ]
  },
  {
   "cell_type": "markdown",
   "id": "1233d5aa",
   "metadata": {},
   "source": [
    "----"
   ]
  },
  {
   "cell_type": "code",
   "execution_count": 81,
   "id": "398b9975",
   "metadata": {},
   "outputs": [
    {
     "name": "stdout",
     "output_type": "stream",
     "text": [
      "{'A': {1: 'Geeks', 2: 'For', 3: {1: 'Geeks'}}} <class 'dict'>\n"
     ]
    }
   ],
   "source": [
    "d8 = {'A': {1: 'Geeks', 2: 'For', 3: {1: 'Geeks'}}}\n",
    "print(d8,type(d8))"
   ]
  },
  {
   "cell_type": "code",
   "execution_count": 82,
   "id": "85b8b5dd",
   "metadata": {},
   "outputs": [],
   "source": [
    "del d8[\"A\"][3][1]"
   ]
  },
  {
   "cell_type": "code",
   "execution_count": 83,
   "id": "3a54d48c",
   "metadata": {},
   "outputs": [
    {
     "name": "stdout",
     "output_type": "stream",
     "text": [
      "{'A': {1: 'Geeks', 2: 'For', 3: {}}}\n"
     ]
    }
   ],
   "source": [
    "print(d8)"
   ]
  },
  {
   "cell_type": "markdown",
   "id": "ac7fa856",
   "metadata": {},
   "source": [
    "#### Using type casting on Dict.\n"
   ]
  },
  {
   "cell_type": "code",
   "execution_count": 30,
   "id": "ffb4cdaa",
   "metadata": {},
   "outputs": [],
   "source": [
    "dc = {1:\"aksak\",2:'ranjan',6:'steel',89:'heat'}\n",
    "l_dc = list(dc)"
   ]
  },
  {
   "cell_type": "code",
   "execution_count": 31,
   "id": "ab00f124",
   "metadata": {},
   "outputs": [
    {
     "data": {
      "text/plain": [
       "[1, 2, 6, 89]"
      ]
     },
     "execution_count": 31,
     "metadata": {},
     "output_type": "execute_result"
    }
   ],
   "source": [
    "l_dc"
   ]
  },
  {
   "cell_type": "markdown",
   "id": "e5b8aebe",
   "metadata": {},
   "source": [
    "----"
   ]
  },
  {
   "cell_type": "code",
   "execution_count": 34,
   "id": "17f02311",
   "metadata": {},
   "outputs": [
    {
     "name": "stdout",
     "output_type": "stream",
     "text": [
      "[2, 6, 89]\n"
     ]
    }
   ],
   "source": [
    "lt =list({2: 'ranjan', 6: 'steel', 89: 'heat'})\n",
    "print(lt)"
   ]
  },
  {
   "cell_type": "markdown",
   "id": "d9b323ab",
   "metadata": {},
   "source": [
    "#### Printing keys and value pair from the dict."
   ]
  },
  {
   "cell_type": "code",
   "execution_count": 36,
   "id": "1dbc7121",
   "metadata": {},
   "outputs": [
    {
     "name": "stdout",
     "output_type": "stream",
     "text": [
      "{2: 'ranjan', 6: 'steel', 89: 'heat'} <class 'dict'>\n"
     ]
    }
   ],
   "source": [
    "dtv = {2: 'ranjan', 6: 'steel', 89: 'heat'}\n",
    "print(dtv,type(dtv))"
   ]
  },
  {
   "cell_type": "code",
   "execution_count": 37,
   "id": "b26bc243",
   "metadata": {},
   "outputs": [
    {
     "data": {
      "text/plain": [
       "dict_keys([2, 6, 89])"
      ]
     },
     "execution_count": 37,
     "metadata": {},
     "output_type": "execute_result"
    }
   ],
   "source": [
    "dtv.keys()"
   ]
  },
  {
   "cell_type": "code",
   "execution_count": 38,
   "id": "e7e62d4b",
   "metadata": {},
   "outputs": [
    {
     "data": {
      "text/plain": [
       "dict_values(['ranjan', 'steel', 'heat'])"
      ]
     },
     "execution_count": 38,
     "metadata": {},
     "output_type": "execute_result"
    }
   ],
   "source": [
    "dtv.values()"
   ]
  },
  {
   "cell_type": "code",
   "execution_count": 39,
   "id": "ee88ac87",
   "metadata": {},
   "outputs": [
    {
     "data": {
      "text/plain": [
       "{2: 'ranjan', 6: 'steel', 89: 'heat'}"
      ]
     },
     "execution_count": 39,
     "metadata": {},
     "output_type": "execute_result"
    }
   ],
   "source": [
    "dtv # These functions dont affect the original dict."
   ]
  },
  {
   "cell_type": "markdown",
   "id": "6d23b98e",
   "metadata": {},
   "source": [
    "#### Dict. Methods"
   ]
  },
  {
   "cell_type": "markdown",
   "id": "c39c331e",
   "metadata": {},
   "source": [
    "pop(key) ,popitem() ,clear() ,keys() ,values() ,update(k:v)"
   ]
  },
  {
   "cell_type": "markdown",
   "id": "1c11c615",
   "metadata": {},
   "source": [
    "pop() : used to return and delete the value of the key specified.\n"
   ]
  },
  {
   "cell_type": "code",
   "execution_count": 12,
   "id": "44722563",
   "metadata": {},
   "outputs": [
    {
     "name": "stdout",
     "output_type": "stream",
     "text": [
      "{1: 'aksak', 2: 'ranjan', 6: 'steel', 89: 'heat'} <class 'dict'>\n"
     ]
    }
   ],
   "source": [
    "d1 = {1:\"aksak\",2:'ranjan',6:'steel',89:'heat'}\n",
    "print(d1,type(d1))"
   ]
  },
  {
   "cell_type": "code",
   "execution_count": 13,
   "id": "fd7a72b0",
   "metadata": {},
   "outputs": [
    {
     "data": {
      "text/plain": [
       "'aksak'"
      ]
     },
     "execution_count": 13,
     "metadata": {},
     "output_type": "execute_result"
    }
   ],
   "source": [
    "d1.pop(1)"
   ]
  },
  {
   "cell_type": "code",
   "execution_count": 14,
   "id": "c91ce4ff",
   "metadata": {},
   "outputs": [
    {
     "name": "stdout",
     "output_type": "stream",
     "text": [
      "{2: 'ranjan', 6: 'steel', 89: 'heat'}\n"
     ]
    }
   ],
   "source": [
    "print(d1)"
   ]
  },
  {
   "cell_type": "markdown",
   "id": "04f88184",
   "metadata": {},
   "source": [
    "---"
   ]
  },
  {
   "cell_type": "code",
   "execution_count": 15,
   "id": "f326c650",
   "metadata": {},
   "outputs": [
    {
     "data": {
      "text/plain": [
       "{2: 'ranjan', 6: 'steel', 89: 'heat'}"
      ]
     },
     "execution_count": 15,
     "metadata": {},
     "output_type": "execute_result"
    }
   ],
   "source": [
    "d1"
   ]
  },
  {
   "cell_type": "code",
   "execution_count": 16,
   "id": "b8d73358",
   "metadata": {},
   "outputs": [
    {
     "name": "stdout",
     "output_type": "stream",
     "text": [
      "v :  heat\n",
      "d1 :  {2: 'ranjan', 6: 'steel'}\n"
     ]
    }
   ],
   "source": [
    "v = d1.pop(89)\n",
    "print('v : ',v)\n",
    "print(\"d1 : \",d1)"
   ]
  },
  {
   "cell_type": "markdown",
   "id": "5884a248",
   "metadata": {},
   "source": [
    " popitem() : returns and removes an arbitrary element (key, value) pair from the dictionary."
   ]
  },
  {
   "cell_type": "code",
   "execution_count": 19,
   "id": "6040ba58",
   "metadata": {},
   "outputs": [
    {
     "name": "stdout",
     "output_type": "stream",
     "text": [
      "{2: 'ranjan', 6: 'steel', 89: 'heat', 16: 'I am', 25: 'going to be', 8: 'successful'}\n"
     ]
    }
   ],
   "source": [
    "d3 = {2: 'ranjan', 6: 'steel', 89: 'heat',16: 'I am',25: 'going to be',8: 'successful'}\n",
    "print(d3)"
   ]
  },
  {
   "cell_type": "code",
   "execution_count": 21,
   "id": "3c3ad302",
   "metadata": {},
   "outputs": [
    {
     "data": {
      "text/plain": [
       "(8, 'successful')"
      ]
     },
     "execution_count": 21,
     "metadata": {},
     "output_type": "execute_result"
    }
   ],
   "source": [
    "d3.popitem() # arbitary pair returned"
   ]
  },
  {
   "cell_type": "code",
   "execution_count": 22,
   "id": "674277d9",
   "metadata": {},
   "outputs": [
    {
     "name": "stdout",
     "output_type": "stream",
     "text": [
      "{2: 'ranjan', 6: 'steel', 89: 'heat', 16: 'I am', 25: 'going to be'}\n"
     ]
    }
   ],
   "source": [
    "print(d3)"
   ]
  },
  {
   "cell_type": "markdown",
   "id": "aaaa9a83",
   "metadata": {},
   "source": [
    "All the items from a dictionary can be deleted at once by using : clear() method."
   ]
  },
  {
   "cell_type": "code",
   "execution_count": 23,
   "id": "d6536b4d",
   "metadata": {},
   "outputs": [
    {
     "name": "stdout",
     "output_type": "stream",
     "text": [
      "{2: 'ranjan', 6: 'steel', 89: 'heat', 16: 'I am', 25: 'going to be'}\n"
     ]
    }
   ],
   "source": [
    "print(d3)"
   ]
  },
  {
   "cell_type": "code",
   "execution_count": 24,
   "id": "16710aa9",
   "metadata": {},
   "outputs": [],
   "source": [
    "d3.clear()"
   ]
  },
  {
   "cell_type": "code",
   "execution_count": 25,
   "id": "e5f47563",
   "metadata": {},
   "outputs": [
    {
     "data": {
      "text/plain": [
       "{}"
      ]
     },
     "execution_count": 25,
     "metadata": {},
     "output_type": "execute_result"
    }
   ],
   "source": [
    "d3"
   ]
  },
  {
   "cell_type": "markdown",
   "id": "19d88fc7",
   "metadata": {},
   "source": [
    "get() method"
   ]
  },
  {
   "cell_type": "code",
   "execution_count": 49,
   "id": "b26dcf7c",
   "metadata": {},
   "outputs": [
    {
     "data": {
      "text/plain": [
       "'I am'"
      ]
     },
     "execution_count": 49,
     "metadata": {},
     "output_type": "execute_result"
    }
   ],
   "source": [
    "d5 = { 6: 'steel', 89: 'heat', 16: 'I am'}\n",
    "d5.get(16) #It is used to access the dict."
   ]
  },
  {
   "cell_type": "code",
   "execution_count": 50,
   "id": "6ebb4b56",
   "metadata": {},
   "outputs": [
    {
     "data": {
      "text/plain": [
       "'I am'"
      ]
     },
     "execution_count": 50,
     "metadata": {},
     "output_type": "execute_result"
    }
   ],
   "source": [
    "d5[16]"
   ]
  },
  {
   "cell_type": "code",
   "execution_count": 51,
   "id": "480831e9",
   "metadata": {},
   "outputs": [
    {
     "data": {
      "text/plain": [
       "'heat'"
      ]
     },
     "execution_count": 51,
     "metadata": {},
     "output_type": "execute_result"
    }
   ],
   "source": [
    "d5.pop(89)"
   ]
  },
  {
   "cell_type": "code",
   "execution_count": 52,
   "id": "57950348",
   "metadata": {},
   "outputs": [
    {
     "data": {
      "text/plain": [
       "{6: 'steel', 16: 'I am'}"
      ]
     },
     "execution_count": 52,
     "metadata": {},
     "output_type": "execute_result"
    }
   ],
   "source": [
    "d5"
   ]
  },
  {
   "cell_type": "markdown",
   "id": "eac9383b",
   "metadata": {},
   "source": [
    "update() : Updates the dict. with key-value pairs"
   ]
  },
  {
   "cell_type": "code",
   "execution_count": 40,
   "id": "7f45556d",
   "metadata": {},
   "outputs": [
    {
     "data": {
      "text/plain": [
       "{6: 'steel', 16: 'I am'}"
      ]
     },
     "execution_count": 40,
     "metadata": {},
     "output_type": "execute_result"
    }
   ],
   "source": [
    "d5"
   ]
  },
  {
   "cell_type": "code",
   "execution_count": 42,
   "id": "fa3a866a",
   "metadata": {},
   "outputs": [
    {
     "name": "stdout",
     "output_type": "stream",
     "text": [
      "{6: 'steel', 16: 'I am', 76: 'cat'}\n"
     ]
    }
   ],
   "source": [
    "d5.update({76:\"cat\"}) # Single argument/Input\n",
    "print(d5)"
   ]
  },
  {
   "cell_type": "code",
   "execution_count": 44,
   "id": "440c06b0",
   "metadata": {},
   "outputs": [
    {
     "name": "stdout",
     "output_type": "stream",
     "text": [
      "{6: 'steel', 16: 'I am', 76: 'cat', 1: 'cat', 2: 'dog', 5: 'rabbit'}\n"
     ]
    }
   ],
   "source": [
    "d5.update({1:'cat',2:'dog',5:'rabbit'}) # More than 1 argument\n",
    "print(d5)"
   ]
  },
  {
   "cell_type": "markdown",
   "id": "cd3fa88a",
   "metadata": {},
   "source": [
    "---"
   ]
  },
  {
   "cell_type": "code",
   "execution_count": 47,
   "id": "6ec42e46",
   "metadata": {},
   "outputs": [
    {
     "name": "stdout",
     "output_type": "stream",
     "text": [
      "{6: 'steel', 16: 'I am', 76: 'cat', 1: 'cat', 2: 'dog', 5: 'rabbit'}\n"
     ]
    }
   ],
   "source": [
    "print(d5)\n",
    "updict =  {1: 'Geeks', 'name': 'For', 3: 'Geeks'}"
   ]
  },
  {
   "cell_type": "code",
   "execution_count": 48,
   "id": "83c2bd9f",
   "metadata": {},
   "outputs": [
    {
     "name": "stdout",
     "output_type": "stream",
     "text": [
      "{6: 'steel', 16: 'I am', 76: 'cat', 1: 'Geeks', 2: 'dog', 5: 'rabbit', 'name': 'For', 3: 'Geeks'}\n"
     ]
    }
   ],
   "source": [
    "d5.update(updict)\n",
    "print(d5)"
   ]
  },
  {
   "cell_type": "markdown",
   "id": "ba976fa8",
   "metadata": {},
   "source": [
    "### Note ::"
   ]
  },
  {
   "cell_type": "markdown",
   "id": "1c6df5ba",
   "metadata": {},
   "source": [
    "dict.get(k) \"Returns NONE if \"Key is not present in the dict."
   ]
  },
  {
   "cell_type": "markdown",
   "id": "60aaaca2",
   "metadata": {},
   "source": [
    "dict[k] \"Throws an ERROR as\"key is not present in the dict. "
   ]
  },
  {
   "cell_type": "code",
   "execution_count": 55,
   "id": "20b9621a",
   "metadata": {},
   "outputs": [
    {
     "name": "stdout",
     "output_type": "stream",
     "text": [
      "{76: 'cat', 1: 'Geeks', 2: 'dog'} <class 'dict'>\n"
     ]
    }
   ],
   "source": [
    "dtc = { 76: 'cat', 1: 'Geeks', 2: 'dog'}\n",
    "print(dtc,type(dtc))"
   ]
  },
  {
   "cell_type": "code",
   "execution_count": 56,
   "id": "ec40b5e6",
   "metadata": {},
   "outputs": [],
   "source": [
    "dtc.get(12)"
   ]
  },
  {
   "cell_type": "code",
   "execution_count": 57,
   "id": "dfe75c80",
   "metadata": {},
   "outputs": [
    {
     "ename": "KeyError",
     "evalue": "12",
     "output_type": "error",
     "traceback": [
      "\u001b[1;31m---------------------------------------------------------------------------\u001b[0m",
      "\u001b[1;31mKeyError\u001b[0m                                  Traceback (most recent call last)",
      "\u001b[1;32m<ipython-input-57-67a294796cfe>\u001b[0m in \u001b[0;36m<module>\u001b[1;34m\u001b[0m\n\u001b[1;32m----> 1\u001b[1;33m \u001b[0mdtc\u001b[0m\u001b[1;33m[\u001b[0m\u001b[1;36m12\u001b[0m\u001b[1;33m]\u001b[0m\u001b[1;33m\u001b[0m\u001b[1;33m\u001b[0m\u001b[0m\n\u001b[0m",
      "\u001b[1;31mKeyError\u001b[0m: 12"
     ]
    }
   ],
   "source": [
    "dtc[12]"
   ]
  },
  {
   "cell_type": "markdown",
   "id": "a01a85df",
   "metadata": {},
   "source": [
    "### Set"
   ]
  },
  {
   "cell_type": "code",
   "execution_count": 61,
   "id": "3c6733f5",
   "metadata": {},
   "outputs": [
    {
     "name": "stdout",
     "output_type": "stream",
     "text": [
      "{1, 2, 'Geeks', 'dog'} <class 'set'>\n"
     ]
    }
   ],
   "source": [
    "s = { 1,\"Geeks\",2,'dog'}\n",
    "print(s,type(s))"
   ]
  },
  {
   "cell_type": "code",
   "execution_count": 60,
   "id": "9bb4a086",
   "metadata": {},
   "outputs": [
    {
     "name": "stdout",
     "output_type": "stream",
     "text": [
      "{1, 2, 'Geeks', 'dog'} <class 'set'>\n"
     ]
    }
   ],
   "source": [
    "# No repetition\n",
    "st = { 1,\"Geeks\",\"dog\",2,'dog',\"dog\"}\n",
    "print(st,type(st))"
   ]
  },
  {
   "cell_type": "markdown",
   "id": "ed664d1d",
   "metadata": {},
   "source": [
    "Another Way to initialise a SET"
   ]
  },
  {
   "cell_type": "code",
   "execution_count": 62,
   "id": "f8659e3f",
   "metadata": {},
   "outputs": [
    {
     "name": "stdout",
     "output_type": "stream",
     "text": [
      "{34, 78}\n"
     ]
    }
   ],
   "source": [
    "s1 = set()\n",
    "s1.add(34)\n",
    "s1.add(78)\n",
    "print(s1)"
   ]
  },
  {
   "cell_type": "markdown",
   "id": "bb7a234a",
   "metadata": {},
   "source": [
    "empty set v/s empty dict"
   ]
  },
  {
   "cell_type": "code",
   "execution_count": 63,
   "id": "2969e4f6",
   "metadata": {},
   "outputs": [
    {
     "name": "stdout",
     "output_type": "stream",
     "text": [
      "{} <class 'dict'>\n"
     ]
    }
   ],
   "source": [
    "a = {} # Empty Dict.\n",
    "print(a,type(a))"
   ]
  },
  {
   "cell_type": "code",
   "execution_count": 65,
   "id": "5a85493d",
   "metadata": {},
   "outputs": [
    {
     "name": "stdout",
     "output_type": "stream",
     "text": [
      "set() <class 'set'>\n"
     ]
    }
   ],
   "source": [
    "b = set() # Empty Set\n",
    "print(b,type(b))"
   ]
  },
  {
   "cell_type": "markdown",
   "id": "98024300",
   "metadata": {},
   "source": [
    " Python set is the collection of the unordered items. Each element in the set must be unique, immutable, and the sets remove the duplicate elements"
   ]
  },
  {
   "cell_type": "code",
   "execution_count": 2,
   "id": "d8814c4d",
   "metadata": {},
   "outputs": [
    {
     "name": "stdout",
     "output_type": "stream",
     "text": [
      "{9, 34, 67}\n"
     ]
    }
   ],
   "source": [
    "d = set()\n",
    "d.add(34)\n",
    "d.add(34)\n",
    "d.add(9)\n",
    "d.add(34)\n",
    "d.add(34)\n",
    "d.add(67)\n",
    "print(d)"
   ]
  },
  {
   "cell_type": "markdown",
   "id": "e48d7bd0",
   "metadata": {},
   "source": [
    "### NOTE:"
   ]
  },
  {
   "cell_type": "markdown",
   "id": "febe348e",
   "metadata": {},
   "source": [
    "We cannot use list in set but we can use Tuple in set because LIst is mutable (Not hashable) and Every set element is unique (no duplicates) and must be immutable (cannot be changed) in Set. However, a set itself is mutable "
   ]
  },
  {
   "cell_type": "code",
   "execution_count": 3,
   "id": "06cd73e6",
   "metadata": {},
   "outputs": [
    {
     "name": "stdout",
     "output_type": "stream",
     "text": [
      "{9, 34, 67}\n"
     ]
    }
   ],
   "source": [
    "print(d)"
   ]
  },
  {
   "cell_type": "code",
   "execution_count": 4,
   "id": "096614c7",
   "metadata": {},
   "outputs": [
    {
     "name": "stdout",
     "output_type": "stream",
     "text": [
      "{9, 34, 67, (67, 89, 56)}\n"
     ]
    }
   ],
   "source": [
    "d.add((67,89,56))\n",
    "print(d)"
   ]
  },
  {
   "cell_type": "code",
   "execution_count": 5,
   "id": "fa7d14b9",
   "metadata": {},
   "outputs": [
    {
     "name": "stdout",
     "output_type": "stream",
     "text": [
      "{34, 67, 9, ('rain', '67', 8), (67, 89, 56)}\n"
     ]
    }
   ],
   "source": [
    "d.add((\"rain\",\"67\",8))\n",
    "print(d)"
   ]
  },
  {
   "cell_type": "code",
   "execution_count": 6,
   "id": "0073a0cf",
   "metadata": {},
   "outputs": [
    {
     "ename": "TypeError",
     "evalue": "unhashable type: 'dict'",
     "output_type": "error",
     "traceback": [
      "\u001b[1;31m---------------------------------------------------------------------------\u001b[0m",
      "\u001b[1;31mTypeError\u001b[0m                                 Traceback (most recent call last)",
      "\u001b[1;32m<ipython-input-6-33e528fd9463>\u001b[0m in \u001b[0;36m<module>\u001b[1;34m\u001b[0m\n\u001b[1;32m----> 1\u001b[1;33m \u001b[0md\u001b[0m\u001b[1;33m.\u001b[0m\u001b[0madd\u001b[0m\u001b[1;33m(\u001b[0m\u001b[1;33m{\u001b[0m\u001b[1;36m6\u001b[0m\u001b[1;33m:\u001b[0m\u001b[1;34m\"Ram\"\u001b[0m\u001b[1;33m}\u001b[0m\u001b[1;33m)\u001b[0m\u001b[1;33m\u001b[0m\u001b[1;33m\u001b[0m\u001b[0m\n\u001b[0m\u001b[0;32m      2\u001b[0m \u001b[0mprint\u001b[0m\u001b[1;33m(\u001b[0m\u001b[0md\u001b[0m\u001b[1;33m)\u001b[0m\u001b[1;33m\u001b[0m\u001b[1;33m\u001b[0m\u001b[0m\n",
      "\u001b[1;31mTypeError\u001b[0m: unhashable type: 'dict'"
     ]
    }
   ],
   "source": [
    "d.add({6:\"Ram\"}) # Cannot add list / Dict in Sets\n",
    "print(d)"
   ]
  },
  {
   "cell_type": "markdown",
   "id": "5b439a02",
   "metadata": {},
   "source": [
    "#### Operations on Set"
   ]
  },
  {
   "cell_type": "markdown",
   "id": "7f9710e4",
   "metadata": {},
   "source": [
    "len(), remove(), pop(), "
   ]
  },
  {
   "cell_type": "markdown",
   "id": "7bfa1289",
   "metadata": {},
   "source": [
    "len()"
   ]
  },
  {
   "cell_type": "code",
   "execution_count": 7,
   "id": "09bd72fd",
   "metadata": {},
   "outputs": [
    {
     "name": "stdout",
     "output_type": "stream",
     "text": [
      "{34, 67, 9, ('rain', '67', 8), (67, 89, 56)}\n"
     ]
    }
   ],
   "source": [
    "print(d)"
   ]
  },
  {
   "cell_type": "code",
   "execution_count": 8,
   "id": "f9b08fdf",
   "metadata": {},
   "outputs": [
    {
     "data": {
      "text/plain": [
       "5"
      ]
     },
     "execution_count": 8,
     "metadata": {},
     "output_type": "execute_result"
    }
   ],
   "source": [
    "len(d)"
   ]
  },
  {
   "cell_type": "markdown",
   "id": "7d3935da",
   "metadata": {},
   "source": [
    "remove()"
   ]
  },
  {
   "cell_type": "code",
   "execution_count": 9,
   "id": "042e3772",
   "metadata": {},
   "outputs": [
    {
     "name": "stdout",
     "output_type": "stream",
     "text": [
      "{34, 67, 9, ('rain', '67', 8), (67, 89, 56)}\n"
     ]
    }
   ],
   "source": [
    "print(d)"
   ]
  },
  {
   "cell_type": "code",
   "execution_count": 10,
   "id": "0714b6a4",
   "metadata": {},
   "outputs": [],
   "source": [
    "d.remove(9)"
   ]
  },
  {
   "cell_type": "code",
   "execution_count": 11,
   "id": "418f0ae6",
   "metadata": {},
   "outputs": [
    {
     "name": "stdout",
     "output_type": "stream",
     "text": [
      "{34, 67, ('rain', '67', 8), (67, 89, 56)}\n"
     ]
    }
   ],
   "source": [
    "print(d)"
   ]
  },
  {
   "cell_type": "code",
   "execution_count": 12,
   "id": "29ba00cf",
   "metadata": {},
   "outputs": [
    {
     "name": "stdout",
     "output_type": "stream",
     "text": [
      "{34, 67, ('rain', '67', 8), (67, 89, 56)}\n"
     ]
    },
    {
     "ename": "KeyError",
     "evalue": "999",
     "output_type": "error",
     "traceback": [
      "\u001b[1;31m---------------------------------------------------------------------------\u001b[0m",
      "\u001b[1;31mKeyError\u001b[0m                                  Traceback (most recent call last)",
      "\u001b[1;32m<ipython-input-12-232a46571ae2>\u001b[0m in \u001b[0;36m<module>\u001b[1;34m\u001b[0m\n\u001b[0;32m      1\u001b[0m \u001b[1;31m# Remove throws an exception when an element is not present in the set\u001b[0m\u001b[1;33m\u001b[0m\u001b[1;33m\u001b[0m\u001b[1;33m\u001b[0m\u001b[0m\n\u001b[0;32m      2\u001b[0m \u001b[0mprint\u001b[0m\u001b[1;33m(\u001b[0m\u001b[0md\u001b[0m\u001b[1;33m)\u001b[0m\u001b[1;33m\u001b[0m\u001b[1;33m\u001b[0m\u001b[0m\n\u001b[1;32m----> 3\u001b[1;33m \u001b[0md\u001b[0m\u001b[1;33m.\u001b[0m\u001b[0mremove\u001b[0m\u001b[1;33m(\u001b[0m\u001b[1;36m999\u001b[0m\u001b[1;33m)\u001b[0m\u001b[1;33m\u001b[0m\u001b[1;33m\u001b[0m\u001b[0m\n\u001b[0m",
      "\u001b[1;31mKeyError\u001b[0m: 999"
     ]
    }
   ],
   "source": [
    "# Remove throws an exception when an element is not present in the set\n",
    "print(d)\n",
    "d.remove(999)"
   ]
  },
  {
   "cell_type": "markdown",
   "id": "a6721301",
   "metadata": {},
   "source": [
    "pop() # Removes Random element"
   ]
  },
  {
   "cell_type": "code",
   "execution_count": 13,
   "id": "92f8e685",
   "metadata": {},
   "outputs": [
    {
     "name": "stdout",
     "output_type": "stream",
     "text": [
      "{34, 67, ('rain', '67', 8), (67, 89, 56)}\n"
     ]
    }
   ],
   "source": [
    "print(d)"
   ]
  },
  {
   "cell_type": "code",
   "execution_count": 14,
   "id": "8bdd575b",
   "metadata": {},
   "outputs": [
    {
     "data": {
      "text/plain": [
       "34"
      ]
     },
     "execution_count": 14,
     "metadata": {},
     "output_type": "execute_result"
    }
   ],
   "source": [
    "d.pop()"
   ]
  },
  {
   "cell_type": "code",
   "execution_count": 15,
   "id": "eca9799e",
   "metadata": {},
   "outputs": [
    {
     "name": "stdout",
     "output_type": "stream",
     "text": [
      "{67, ('rain', '67', 8), (67, 89, 56)}\n"
     ]
    }
   ],
   "source": [
    "print(d)"
   ]
  },
  {
   "cell_type": "markdown",
   "id": "f63201ee",
   "metadata": {},
   "source": [
    "clear #Empties the set"
   ]
  },
  {
   "cell_type": "code",
   "execution_count": 16,
   "id": "0e3ac533",
   "metadata": {},
   "outputs": [
    {
     "name": "stdout",
     "output_type": "stream",
     "text": [
      "{67, ('rain', '67', 8), (67, 89, 56)}\n"
     ]
    }
   ],
   "source": [
    "print(d)"
   ]
  },
  {
   "cell_type": "code",
   "execution_count": 17,
   "id": "4fb46672",
   "metadata": {},
   "outputs": [],
   "source": [
    "d.clear()"
   ]
  },
  {
   "cell_type": "code",
   "execution_count": 18,
   "id": "5c29a214",
   "metadata": {},
   "outputs": [
    {
     "name": "stdout",
     "output_type": "stream",
     "text": [
      "set()\n"
     ]
    }
   ],
   "source": [
    "print(d)"
   ]
  },
  {
   "cell_type": "markdown",
   "id": "b330c830",
   "metadata": {},
   "source": [
    "union() # Return a new set with all the items from both sets"
   ]
  },
  {
   "cell_type": "code",
   "execution_count": 21,
   "id": "33b26521",
   "metadata": {},
   "outputs": [
    {
     "name": "stdout",
     "output_type": "stream",
     "text": [
      "{989, 'hello', 45, '4'} <class 'set'>\n",
      "{2, 322, 67, 4, 5} <class 'set'>\n"
     ]
    }
   ],
   "source": [
    "e = {\"hello\",45,989,\"4\"}\n",
    "f = {67,322,2,4,5}\n",
    "print(e,type(e))\n",
    "print(f,type(f))"
   ]
  },
  {
   "cell_type": "code",
   "execution_count": 22,
   "id": "b1ec86be",
   "metadata": {},
   "outputs": [
    {
     "data": {
      "text/plain": [
       "{2, 322, 4, '4', 45, 5, 67, 989, 'hello'}"
      ]
     },
     "execution_count": 22,
     "metadata": {},
     "output_type": "execute_result"
    }
   ],
   "source": [
    "e.union(f)"
   ]
  },
  {
   "cell_type": "code",
   "execution_count": 25,
   "id": "2f8632ef",
   "metadata": {},
   "outputs": [
    {
     "name": "stdout",
     "output_type": "stream",
     "text": [
      "{2, 322, 67, 4, 5, 'hello', 45, '4', 989} <class 'set'>\n"
     ]
    }
   ],
   "source": [
    "ns = e.union(f) \n",
    "print(ns,type(ns))"
   ]
  },
  {
   "cell_type": "markdown",
   "id": "9d917b63",
   "metadata": {},
   "source": [
    "----"
   ]
  },
  {
   "cell_type": "code",
   "execution_count": 26,
   "id": "0d8ded65",
   "metadata": {},
   "outputs": [
    {
     "data": {
      "text/plain": [
       "{2, 322, 4, '4', 45, 5, 67, 989, 'hello'}"
      ]
     },
     "execution_count": 26,
     "metadata": {},
     "output_type": "execute_result"
    }
   ],
   "source": [
    "ns"
   ]
  },
  {
   "cell_type": "code",
   "execution_count": 27,
   "id": "89462827",
   "metadata": {},
   "outputs": [
    {
     "data": {
      "text/plain": [
       "{2, 322, 4, '4', 45, '45', 47, 5, 67, 839, 989, 'hello', 'rain'}"
      ]
     },
     "execution_count": 27,
     "metadata": {},
     "output_type": "execute_result"
    }
   ],
   "source": [
    "ns.union({\"rain\",839,47,2,\"45\"})"
   ]
  },
  {
   "cell_type": "markdown",
   "id": "d6eb4d25",
   "metadata": {},
   "source": [
    "intersection() # Returns a set which contains only items in both sets"
   ]
  },
  {
   "cell_type": "code",
   "execution_count": 28,
   "id": "89b9a957",
   "metadata": {},
   "outputs": [
    {
     "name": "stdout",
     "output_type": "stream",
     "text": [
      "{2, 322, 67, 4, 5, 'hello', 45, '4', 989}\n"
     ]
    }
   ],
   "source": [
    "print(ns)"
   ]
  },
  {
   "cell_type": "code",
   "execution_count": 29,
   "id": "60726b89",
   "metadata": {},
   "outputs": [
    {
     "name": "stdout",
     "output_type": "stream",
     "text": [
      "{322, 'leo'}\n"
     ]
    }
   ],
   "source": [
    "ms = {322,\"leo\"}\n",
    "print(ms)\n"
   ]
  },
  {
   "cell_type": "code",
   "execution_count": 30,
   "id": "c8d1add0",
   "metadata": {},
   "outputs": [
    {
     "data": {
      "text/plain": [
       "{322}"
      ]
     },
     "execution_count": 30,
     "metadata": {},
     "output_type": "execute_result"
    }
   ],
   "source": [
    "ns.intersection(ms)"
   ]
  },
  {
   "cell_type": "markdown",
   "id": "28cfdaab",
   "metadata": {},
   "source": [
    "----"
   ]
  },
  {
   "cell_type": "code",
   "execution_count": 31,
   "id": "b365e902",
   "metadata": {},
   "outputs": [
    {
     "name": "stdout",
     "output_type": "stream",
     "text": [
      "{322, 'leo'}\n"
     ]
    }
   ],
   "source": [
    "print(ms)"
   ]
  },
  {
   "cell_type": "code",
   "execution_count": 32,
   "id": "71f298f7",
   "metadata": {},
   "outputs": [
    {
     "data": {
      "text/plain": [
       "{'leo'}"
      ]
     },
     "execution_count": 32,
     "metadata": {},
     "output_type": "execute_result"
    }
   ],
   "source": [
    "ms.intersection({\"leo\",\"rin\",898,\"3\"})"
   ]
  },
  {
   "cell_type": "markdown",
   "id": "d6e572f4",
   "metadata": {},
   "source": [
    "#### Set : Add v/s Update([])"
   ]
  },
  {
   "cell_type": "code",
   "execution_count": 37,
   "id": "fd6daef0",
   "metadata": {},
   "outputs": [
    {
     "name": "stdout",
     "output_type": "stream",
     "text": [
      "{34, 'a', 445, 999}\n"
     ]
    }
   ],
   "source": [
    "st = {34,\"a\",445}\n",
    "st.add(999)\n",
    "print(st)"
   ]
  },
  {
   "cell_type": "code",
   "execution_count": 42,
   "id": "2d3ef198",
   "metadata": {},
   "outputs": [
    {
     "name": "stdout",
     "output_type": "stream",
     "text": [
      "{'j', 34, 999, 'a', 5645, 'f', 'w', 445}\n"
     ]
    }
   ],
   "source": [
    "print(st)\n",
    "st.update([\"j\",34,\"f\",5645,\"w\"])"
   ]
  },
  {
   "cell_type": "code",
   "execution_count": 43,
   "id": "d7637927",
   "metadata": {},
   "outputs": [
    {
     "name": "stdout",
     "output_type": "stream",
     "text": [
      "{'j', 34, 999, 'a', 5645, 'f', 'w', 445}\n"
     ]
    }
   ],
   "source": [
    "print(st)"
   ]
  },
  {
   "cell_type": "code",
   "execution_count": null,
   "id": "73340e41",
   "metadata": {},
   "outputs": [],
   "source": []
  },
  {
   "cell_type": "markdown",
   "id": "39bb3faf",
   "metadata": {},
   "source": [
    "# T : 6"
   ]
  },
  {
   "cell_type": "markdown",
   "id": "18da4e34",
   "metadata": {},
   "source": [
    "### Conditional Expressions"
   ]
  },
  {
   "cell_type": "markdown",
   "id": "bf924764",
   "metadata": {},
   "source": [
    "### If Else and elif(else-if)   <= If else ladder"
   ]
  },
  {
   "cell_type": "code",
   "execution_count": 3,
   "id": "70c3ac46",
   "metadata": {},
   "outputs": [
    {
     "name": "stdout",
     "output_type": "stream",
     "text": [
      "value of a greater than :29\n"
     ]
    }
   ],
   "source": [
    "a = 201\n",
    "if(a>29):\n",
    "    print(\"value of a greater than :29\")\n",
    "elif(a>50):\n",
    "    print(\"value of a greater than :50\")\n",
    "else:\n",
    "    print(\"The value is not grater than 29 & 50 \")"
   ]
  },
  {
   "cell_type": "markdown",
   "id": "a211945e",
   "metadata": {},
   "source": [
    "If the number is positive, we print an appropriate message"
   ]
  },
  {
   "cell_type": "code",
   "execution_count": 7,
   "id": "176a0acc",
   "metadata": {},
   "outputs": [
    {
     "name": "stdout",
     "output_type": "stream",
     "text": [
      "-3\n",
      "-ve no\n"
     ]
    }
   ],
   "source": [
    "no = int(input())\n",
    "if no>0:\n",
    "    print(\"+ve no\")\n",
    "elif no<0:\n",
    "    print(\"-ve no\")\n",
    "else:\n",
    "    print(\"no is zero\")"
   ]
  },
  {
   "cell_type": "markdown",
   "id": "73c2ba65",
   "metadata": {},
   "source": [
    "Find greatest of 3 no."
   ]
  },
  {
   "cell_type": "code",
   "execution_count": 12,
   "id": "e402bc0f",
   "metadata": {},
   "outputs": [
    {
     "name": "stdout",
     "output_type": "stream",
     "text": [
      "1\n",
      "43\n",
      "222\n",
      "c is the greatest\n"
     ]
    }
   ],
   "source": [
    "a = int(input())\n",
    "b = int(input())\n",
    "c = int(input())\n",
    "if a>b:\n",
    "    print(\"a is the greatest\")\n",
    "elif b>c:\n",
    "    print(\"b is the greatest\")\n",
    "else:\n",
    "    print(\"c is the greatest\")"
   ]
  },
  {
   "cell_type": "markdown",
   "id": "60be228b",
   "metadata": {},
   "source": [
    "### if - else"
   ]
  },
  {
   "cell_type": "markdown",
   "id": "601fc4ab",
   "metadata": {},
   "source": [
    "Write a prog. to print yes when the age entered by the user is greater than or equal to 18"
   ]
  },
  {
   "cell_type": "code",
   "execution_count": 15,
   "id": "dc74c22f",
   "metadata": {},
   "outputs": [
    {
     "name": "stdout",
     "output_type": "stream",
     "text": [
      "8\n",
      "NO\n"
     ]
    }
   ],
   "source": [
    "age = int(input())\n",
    "if (age>=18):\n",
    "    print(\"YES\")\n",
    "else:\n",
    "    print(\"NO\")"
   ]
  },
  {
   "cell_type": "markdown",
   "id": "097f133a",
   "metadata": {},
   "source": [
    "Write a prog. to find the maximum of 3 no's"
   ]
  },
  {
   "cell_type": "code",
   "execution_count": 24,
   "id": "546f011b",
   "metadata": {},
   "outputs": [
    {
     "name": "stdout",
     "output_type": "stream",
     "text": [
      "56 \n",
      "78\n",
      "1\n",
      "max of 3 no is :  78\n"
     ]
    }
   ],
   "source": [
    "a = int(input())\n",
    "b = int(input())\n",
    "c = int(input())\n",
    "l= []\n",
    "l.extend([a,b,c])\n",
    "print(\"max of 3 no is : \",max(l))"
   ]
  },
  {
   "cell_type": "markdown",
   "id": "ba0de8e8",
   "metadata": {},
   "source": [
    "### nested-if"
   ]
  },
  {
   "cell_type": "markdown",
   "id": "c727fa81",
   "metadata": {},
   "source": [
    "= > meaning one IF function inside of another, allows you to test multiple criteria and increases the number of possible outcomes."
   ]
  },
  {
   "cell_type": "markdown",
   "id": "35d8f0f9",
   "metadata": {},
   "source": [
    "In this example,\n",
    "If the age of a person is less than 18, he is not eligible to work. \n",
    "the Nested IF Statement checks the person’s age greater than or equal to 18 and less than or equal to 60. When the condition is TRUE, then he can apply for the job.\n",
    "If the condition is FALSE, then the statement – he is too old to work as per the government.\n"
   ]
  },
  {
   "cell_type": "code",
   "execution_count": 33,
   "id": "3eaa4d98",
   "metadata": {},
   "outputs": [
    {
     "name": "stdout",
     "output_type": "stream",
     "text": [
      "61\n",
      "You are too old to work as per the government.\n"
     ]
    }
   ],
   "source": [
    "# OUTPUT 1: Enter the age = 14.\n",
    "\n",
    "age = int(input())\n",
    "if age<18:\n",
    "    print(\"you are not eligible to work\")\n",
    "else:\n",
    "    if (age>=18 and age<=60):\n",
    "        print(\"you can work\")\n",
    "    else:\n",
    "        print(\"You are too old to work as per the government.\")\n",
    "    "
   ]
  },
  {
   "cell_type": "markdown",
   "id": "224f056b",
   "metadata": {},
   "source": [
    "Write a program below displays all sorts of messages based on the yourAge variable. Try changing that to different values to see what output is displayed. You can also add more if statements to the program."
   ]
  },
  {
   "cell_type": "code",
   "execution_count": 4,
   "id": "40526c19",
   "metadata": {},
   "outputs": [
    {
     "name": "stdout",
     "output_type": "stream",
     "text": [
      "Enter your age : 5\n",
      "buddy now you need to attend school\n"
     ]
    }
   ],
   "source": [
    "age = int(input(\"Enter your age : \"))\n",
    "if age==0 and age<3:\n",
    "    print(\"u are born cutie pie\")\n",
    "if age<3 and age==5:\n",
    "    print(\"oh you baby!\")\n",
    "if age==5 and age<=16:\n",
    "    print(\"buddy now you need to attend school\")\n",
    "if age>=16 and age<=18:\n",
    "    print(\"Don't drive illegaly my boy\")\n",
    "if age>=18 and age<=25:\n",
    "    print(\"you can vote dude !\")\n",
    "if age>=25:\n",
    "    print(\"you will be successful dude\")\n",
    "if age>35:\n",
    "    print(\"Lot of work HUH\")\n",
    "if age>65:\n",
    "    print(\"you can rest now\")"
   ]
  },
  {
   "cell_type": "markdown",
   "id": "e9fab67d",
   "metadata": {},
   "source": [
    "#### Elif Clause "
   ]
  },
  {
   "cell_type": "markdown",
   "id": "8f1c7e2c",
   "metadata": {},
   "source": [
    "= > This ladder will stop once a condition in on if or elif is met"
   ]
  },
  {
   "cell_type": "markdown",
   "id": "9733364d",
   "metadata": {},
   "source": [
    "if(c1):\n",
    "    #\n",
    "elif(c2):\n",
    "    #\n",
    "elif(c3):\n",
    "    #\n",
    ".\n",
    ".\n",
    "else:\n",
    "    #"
   ]
  },
  {
   "cell_type": "markdown",
   "id": "c93f3aa3",
   "metadata": {},
   "source": [
    "Q. In this program, we check if the number is positive or\n",
    "negative or zero and display an appropriate message.\n",
    "\n"
   ]
  },
  {
   "cell_type": "code",
   "execution_count": 9,
   "id": "786c99ef",
   "metadata": {},
   "outputs": [
    {
     "name": "stdout",
     "output_type": "stream",
     "text": [
      "-2\n",
      "no is -ve\n"
     ]
    }
   ],
   "source": [
    "num = int(input())\n",
    "if num>0:\n",
    "    print(\"no is +ve\")\n",
    "elif num ==0:\n",
    "    print(\"no is zero\")\n",
    "else:\n",
    "    print(\"no is -ve\")"
   ]
  },
  {
   "cell_type": "markdown",
   "id": "1aad91ef",
   "metadata": {},
   "source": [
    "#### is and in in_python"
   ]
  },
  {
   "cell_type": "markdown",
   "id": "c1806794",
   "metadata": {},
   "source": [
    "IS"
   ]
  },
  {
   "cell_type": "code",
   "execution_count": 15,
   "id": "3d229b7e",
   "metadata": {
    "scrolled": true
   },
   "outputs": [
    {
     "name": "stderr",
     "output_type": "stream",
     "text": [
      "<>:2: SyntaxWarning: \"is\" with a literal. Did you mean \"==\"?\n",
      "<>:2: SyntaxWarning: \"is\" with a literal. Did you mean \"==\"?\n"
     ]
    },
    {
     "name": "stdout",
     "output_type": "stream",
     "text": [
      "10\n",
      "stop the car\n"
     ]
    },
    {
     "name": "stderr",
     "output_type": "stream",
     "text": [
      "<ipython-input-15-ede501105c12>:2: SyntaxWarning: \"is\" with a literal. Did you mean \"==\"?\n",
      "  if(l is 10):\n"
     ]
    }
   ],
   "source": [
    "l = int(input())\n",
    "if(l is 10):\n",
    "    print(\"stop the car\")\n",
    "else:\n",
    "    print(\"u can go dude\")"
   ]
  },
  {
   "cell_type": "code",
   "execution_count": 17,
   "id": "fc33339a",
   "metadata": {},
   "outputs": [
    {
     "name": "stdout",
     "output_type": "stream",
     "text": [
      "a is true\n"
     ]
    }
   ],
   "source": [
    "a = True\n",
    "if(a is True):\n",
    "    print(\"a is true\")\n",
    "else:\n",
    "    (\"a is false\")"
   ]
  },
  {
   "cell_type": "markdown",
   "id": "e67d2f2d",
   "metadata": {},
   "source": [
    "IN"
   ]
  },
  {
   "cell_type": "code",
   "execution_count": 21,
   "id": "a471593d",
   "metadata": {},
   "outputs": [
    {
     "name": "stdout",
     "output_type": "stream",
     "text": [
      "7676\n",
      "7676  is not present in the list\n"
     ]
    }
   ],
   "source": [
    "n = int(input())\n",
    "lt = [78,7,56,89]\n",
    "if(n in lt):\n",
    "    print(n,\" is present in list \",lt)\n",
    "else:\n",
    "    print(n, \" is not present in the list\")\n",
    "    "
   ]
  },
  {
   "cell_type": "code",
   "execution_count": 23,
   "id": "4f263cf2",
   "metadata": {},
   "outputs": [
    {
     "name": "stdout",
     "output_type": "stream",
     "text": [
      "lt =  [78, 7, 56, 89]\n",
      "78\n",
      "7\n",
      "56\n",
      "89\n"
     ]
    }
   ],
   "source": [
    "print(\"lt = \",lt)\n",
    "for i in lt:\n",
    "    print(i)"
   ]
  },
  {
   "cell_type": "markdown",
   "id": "b8a18093",
   "metadata": {},
   "source": [
    "Note :\n",
    "- There can be any no. of elif statements.\n",
    "- Last else is executed only if all the conditions inside elif fails"
   ]
  },
  {
   "cell_type": "markdown",
   "id": "15362398",
   "metadata": {},
   "source": [
    "Else is optional "
   ]
  },
  {
   "cell_type": "code",
   "execution_count": 27,
   "id": "7b6a9718",
   "metadata": {},
   "outputs": [
    {
     "name": "stdout",
     "output_type": "stream",
     "text": [
      "else is optional\n"
     ]
    }
   ],
   "source": [
    "a = 109\n",
    "if (a <100):\n",
    "    print(\"a is less than 100\")\n",
    "elif(a<=100):\n",
    "    print(\"a must be greater than 100\")\n",
    "else:\n",
    "    print(\"else is optional\")"
   ]
  },
  {
   "cell_type": "code",
   "execution_count": null,
   "id": "617e331c",
   "metadata": {},
   "outputs": [],
   "source": []
  },
  {
   "cell_type": "markdown",
   "id": "5b352f2a",
   "metadata": {},
   "source": [
    "# T:7 Loops "
   ]
  },
  {
   "cell_type": "markdown",
   "id": "a275ee4c",
   "metadata": {},
   "source": [
    "### While Loop"
   ]
  },
  {
   "cell_type": "markdown",
   "id": "dd2368af",
   "metadata": {},
   "source": [
    "while loop we can execute a set of statements as long as a condition is true.\n",
    "Entry control Loop\n",
    "\n",
    "Note: remember to increment i, or else the loop will continue forever."
   ]
  },
  {
   "cell_type": "markdown",
   "id": "6e333f5a",
   "metadata": {},
   "source": [
    "Q. Print i as long as i is less than 6:"
   ]
  },
  {
   "cell_type": "code",
   "execution_count": 1,
   "id": "dc5fbc2b",
   "metadata": {},
   "outputs": [
    {
     "name": "stdout",
     "output_type": "stream",
     "text": [
      "1\n",
      "2\n",
      "3\n",
      "4\n",
      "5\n"
     ]
    }
   ],
   "source": [
    "i = 1\n",
    "while i<6:\n",
    "    print(i)\n",
    "    i = i+1  # or i + = 1"
   ]
  },
  {
   "cell_type": "markdown",
   "id": "1089580b",
   "metadata": {},
   "source": [
    "Q. Exit the loop when i is 3:"
   ]
  },
  {
   "cell_type": "code",
   "execution_count": 13,
   "id": "34edfa7b",
   "metadata": {},
   "outputs": [
    {
     "name": "stdout",
     "output_type": "stream",
     "text": [
      "1\n",
      "2\n",
      "3\n"
     ]
    }
   ],
   "source": [
    "i = 1\n",
    "while i<=3:\n",
    "    print(i)\n",
    "    i += 1"
   ]
  },
  {
   "cell_type": "markdown",
   "id": "fc599958",
   "metadata": {},
   "source": [
    "Write a prog to print 1 to 50 using a while loop."
   ]
  },
  {
   "cell_type": "code",
   "execution_count": 5,
   "id": "3e52551b",
   "metadata": {},
   "outputs": [
    {
     "name": "stdout",
     "output_type": "stream",
     "text": [
      "1\n",
      "2\n",
      "3\n",
      "4\n",
      "5\n",
      "6\n",
      "7\n",
      "8\n",
      "9\n",
      "10\n",
      "11\n",
      "12\n",
      "13\n",
      "14\n",
      "15\n",
      "16\n",
      "17\n",
      "18\n",
      "19\n",
      "20\n",
      "21\n",
      "22\n",
      "23\n",
      "24\n",
      "25\n",
      "26\n",
      "27\n",
      "28\n",
      "29\n",
      "30\n",
      "31\n",
      "32\n",
      "33\n",
      "34\n",
      "35\n",
      "36\n",
      "37\n",
      "38\n",
      "39\n",
      "40\n",
      "41\n",
      "42\n",
      "43\n",
      "44\n",
      "45\n",
      "46\n",
      "47\n",
      "48\n",
      "49\n",
      "50\n"
     ]
    }
   ],
   "source": [
    "i = 1\n",
    "while i<=50:\n",
    "    print(i)\n",
    "    i += 1"
   ]
  },
  {
   "cell_type": "markdown",
   "id": "073e291b",
   "metadata": {},
   "source": [
    "Print a string \"hope\" 5 times using while loop."
   ]
  },
  {
   "cell_type": "code",
   "execution_count": 9,
   "id": "de1e22bd",
   "metadata": {},
   "outputs": [
    {
     "name": "stdout",
     "output_type": "stream",
     "text": [
      "1 hope\n",
      "2 hope\n",
      "3 hope\n",
      "4 hope\n",
      "5 hope\n"
     ]
    }
   ],
   "source": [
    "i = 1\n",
    "while i<6:\n",
    "    print(i,\"hope\")\n",
    "    i += 1"
   ]
  },
  {
   "cell_type": "markdown",
   "id": "1fe549a0",
   "metadata": {},
   "source": [
    "Print individual element from list using while loop."
   ]
  },
  {
   "cell_type": "code",
   "execution_count": 11,
   "id": "5c860d33",
   "metadata": {},
   "outputs": [
    {
     "name": "stdout",
     "output_type": "stream",
     "text": [
      "0 banana\n",
      "1 kiwi\n",
      "2 apple\n",
      "3 orange\n"
     ]
    }
   ],
   "source": [
    "f = [\"banana\",'kiwi','apple','orange']\n",
    "i = 0        # means exactly f times repeat hoga\n",
    "while i<len(f):\n",
    "    print(i,f[i])\n",
    "    i = i +1"
   ]
  },
  {
   "cell_type": "markdown",
   "id": "8737a3ab",
   "metadata": {},
   "source": [
    "####  break Statement"
   ]
  },
  {
   "cell_type": "markdown",
   "id": "bb678cb9",
   "metadata": {},
   "source": [
    "break Statement :\n",
    "With the break statement we can stop the loop even if the while condition is true"
   ]
  },
  {
   "cell_type": "code",
   "execution_count": 14,
   "id": "e3d95ff5",
   "metadata": {},
   "outputs": [
    {
     "name": "stdout",
     "output_type": "stream",
     "text": [
      "1 hope\n"
     ]
    }
   ],
   "source": [
    "# Print a string \"hope\" 5 times using while loop.\n",
    "i = 1\n",
    "while i<6:\n",
    "    print(i,\"hope\")\n",
    "    break"
   ]
  },
  {
   "cell_type": "markdown",
   "id": "180cfce1",
   "metadata": {},
   "source": [
    "#### continue statement"
   ]
  },
  {
   "cell_type": "markdown",
   "id": "8bf3493f",
   "metadata": {},
   "source": [
    "continue statement: we can stop the current iteration, and continue with the next"
   ]
  },
  {
   "cell_type": "code",
   "execution_count": 27,
   "id": "2ca998d6",
   "metadata": {},
   "outputs": [
    {
     "name": "stdout",
     "output_type": "stream",
     "text": [
      "1 hope\n",
      "2\n",
      "2 hope\n",
      "3 hope\n",
      "4\n",
      "4 hope\n",
      "5\n",
      "5 hope\n",
      "6\n"
     ]
    }
   ],
   "source": [
    "# Print a string \"hope\" 5 times using while loop.\n",
    "i = 1\n",
    "while i<6:\n",
    "    print(i,\"hope\")\n",
    "    i+= 1\n",
    "    if i == 3:\n",
    "        continue\n",
    "    print(i)"
   ]
  },
  {
   "cell_type": "code",
   "execution_count": 20,
   "id": "341a1dab",
   "metadata": {},
   "outputs": [
    {
     "name": "stdout",
     "output_type": "stream",
     "text": [
      "1\n",
      "2\n",
      "4\n",
      "5\n",
      "6\n"
     ]
    }
   ],
   "source": [
    "i = 0\n",
    "while i < 6:\n",
    "  i += 1\n",
    "  if i == 3:\n",
    "    continue\n",
    "  print(i)"
   ]
  },
  {
   "cell_type": "markdown",
   "id": "5d7b1cbe",
   "metadata": {},
   "source": [
    "Else with while "
   ]
  },
  {
   "cell_type": "markdown",
   "id": "f84fadc2",
   "metadata": {},
   "source": [
    "else statement we can run a block of code once when the condition no longer is true:"
   ]
  },
  {
   "cell_type": "code",
   "execution_count": 32,
   "id": "0fcd01da",
   "metadata": {},
   "outputs": [
    {
     "name": "stdout",
     "output_type": "stream",
     "text": [
      "1\n",
      "2\n",
      "3\n",
      "4\n",
      "5\n",
      "6\n",
      "condn is false\n"
     ]
    }
   ],
   "source": [
    "i = 0\n",
    "while i < 6:\n",
    "    i += 1\n",
    "    print(i)\n",
    "else:\n",
    "    print(\"condn is false\")"
   ]
  },
  {
   "cell_type": "markdown",
   "id": "4f63b168",
   "metadata": {},
   "source": [
    "### For loop"
   ]
  },
  {
   "cell_type": "markdown",
   "id": "ad7f3593",
   "metadata": {},
   "source": [
    "is used to iterate through a sequence like List, Tuple or String [Iterables]"
   ]
  },
  {
   "cell_type": "markdown",
   "id": "e3931928",
   "metadata": {},
   "source": [
    "Q. Print individual element from list using For loop."
   ]
  },
  {
   "cell_type": "code",
   "execution_count": 33,
   "id": "a2c269db",
   "metadata": {},
   "outputs": [
    {
     "name": "stdout",
     "output_type": "stream",
     "text": [
      "apple\n",
      "kiwi\n",
      "orange\n"
     ]
    }
   ],
   "source": [
    "l = [\"apple\", 'kiwi','orange']\n",
    "for i in l:\n",
    "    print(i)"
   ]
  },
  {
   "cell_type": "markdown",
   "id": "d04c2b2b",
   "metadata": {},
   "source": [
    "### range() Function"
   ]
  },
  {
   "cell_type": "markdown",
   "id": "87e4fb8b",
   "metadata": {},
   "source": [
    "To loop through a set of code a specified number of times, we can use the range() function\n",
    "\n",
    "The range() function returns a sequence of numbers, starting from 0 by default, and increments by 1 (by default), and ends at a specified number.\n",
    "\n",
    "Note: that range(6) is not the values of 0 to 6, but the values 0 to 5."
   ]
  },
  {
   "cell_type": "code",
   "execution_count": 34,
   "id": "70c5e0ab",
   "metadata": {},
   "outputs": [
    {
     "name": "stdout",
     "output_type": "stream",
     "text": [
      "0\n",
      "1\n",
      "2\n",
      "3\n",
      "4\n",
      "5\n"
     ]
    }
   ],
   "source": [
    "for i in range(6):\n",
    "    print(i)"
   ]
  },
  {
   "cell_type": "markdown",
   "id": "de133747",
   "metadata": {},
   "source": [
    "range() function defaults to 0 as a starting value, \n",
    "\n",
    "however it is possible to specify the starting value by adding a parameter: \n",
    "\n",
    "range(2, 6), which means values from 2 to 6 (but not including 6):"
   ]
  },
  {
   "cell_type": "code",
   "execution_count": 35,
   "id": "f63c44d5",
   "metadata": {},
   "outputs": [
    {
     "name": "stdout",
     "output_type": "stream",
     "text": [
      "2\n",
      "3\n",
      "4\n",
      "5\n"
     ]
    }
   ],
   "source": [
    "for i in range(2,6):    #range(n , n-1)\n",
    "    print(i)"
   ]
  },
  {
   "cell_type": "markdown",
   "id": "a38e47a4",
   "metadata": {},
   "source": [
    "range() function defaults to increment the sequence by 1, \n",
    "\n",
    "however it is possible to specify the increment value by adding a third parameter: range(2, 30, 3)"
   ]
  },
  {
   "cell_type": "code",
   "execution_count": 37,
   "id": "e5b3ad36",
   "metadata": {},
   "outputs": [
    {
     "name": "stdout",
     "output_type": "stream",
     "text": [
      "2\n",
      "4\n"
     ]
    }
   ],
   "source": [
    "for i in range(2,6,2):\n",
    "# range() function defaults to increment the sequence by 1\n",
    "    print(i)"
   ]
  },
  {
   "cell_type": "markdown",
   "id": "4aebdbcd",
   "metadata": {},
   "source": [
    "#### Else in For Loop\n"
   ]
  },
  {
   "cell_type": "markdown",
   "id": "898cc2c7",
   "metadata": {},
   "source": [
    "The else keyword in a for loop specifies a block of code to be executed when the loop is finished/Exhausted"
   ]
  },
  {
   "cell_type": "code",
   "execution_count": 39,
   "id": "1355288e",
   "metadata": {},
   "outputs": [
    {
     "name": "stdout",
     "output_type": "stream",
     "text": [
      "0\n",
      "1\n",
      "2\n",
      "3\n",
      "happy\n"
     ]
    }
   ],
   "source": [
    "for i in range(0,4):\n",
    "    print(i)\n",
    "else:\n",
    "    print(\"happy\")"
   ]
  },
  {
   "cell_type": "markdown",
   "id": "78dec682",
   "metadata": {},
   "source": [
    "Note: \n",
    "The else block will NOT be executed if the loop is stopped by a break statement.\n",
    "\n"
   ]
  },
  {
   "cell_type": "code",
   "execution_count": 45,
   "id": "e378c7cb",
   "metadata": {},
   "outputs": [
    {
     "name": "stdout",
     "output_type": "stream",
     "text": [
      "0\n",
      "1\n",
      "2\n",
      "happy\n"
     ]
    }
   ],
   "source": [
    "# without else printing \"happy\"\n",
    "for i in range(0,4):\n",
    "    print(i)\n",
    "    if i ==2:\n",
    "        break\n",
    "print(\"happy\")"
   ]
  },
  {
   "cell_type": "code",
   "execution_count": 47,
   "id": "74ed4688",
   "metadata": {},
   "outputs": [
    {
     "name": "stdout",
     "output_type": "stream",
     "text": [
      "0\n",
      "1\n",
      "2\n"
     ]
    }
   ],
   "source": [
    "# without else printing \"happy\"\n",
    "for i in range(0,4):\n",
    "    print(i)\n",
    "    if i ==2:\n",
    "        break\n",
    "#else block will NOT be executed if the loop is stopped by a break statement.\n",
    "else:\n",
    "    print(\"if not proper execution else will be printed\")"
   ]
  },
  {
   "cell_type": "markdown",
   "id": "6825f35d",
   "metadata": {},
   "source": [
    "#### Break VS Continue  "
   ]
  },
  {
   "cell_type": "markdown",
   "id": "ddcfdcb2",
   "metadata": {},
   "source": [
    "Break"
   ]
  },
  {
   "cell_type": "code",
   "execution_count": 3,
   "id": "7314f14c",
   "metadata": {},
   "outputs": [
    {
     "name": "stdout",
     "output_type": "stream",
     "text": [
      "0\n",
      "1\n"
     ]
    }
   ],
   "source": [
    "for i in range(0,4):\n",
    "    if i ==2:\n",
    "        break\n",
    "    print(i)\n",
    "#else block will NOT be executed if the loop is stopped by a break statement.\n",
    "else:\n",
    "    print(\"if not proper execution else will be printed\")"
   ]
  },
  {
   "cell_type": "markdown",
   "id": "9728d727",
   "metadata": {},
   "source": [
    "Continue"
   ]
  },
  {
   "cell_type": "code",
   "execution_count": 6,
   "id": "91fc536d",
   "metadata": {},
   "outputs": [
    {
     "name": "stdout",
     "output_type": "stream",
     "text": [
      "0\n",
      "1\n",
      "3\n",
      "if proper execution else will be printed\n"
     ]
    }
   ],
   "source": [
    "for i in range(0,4):\n",
    "    if i ==2:\n",
    "        continue\n",
    "    print(i)\n",
    "else:\n",
    "    print(\"if proper execution else will be printed\")"
   ]
  },
  {
   "cell_type": "markdown",
   "id": "deadb026",
   "metadata": {},
   "source": [
    "#### Pass Statement"
   ]
  },
  {
   "cell_type": "markdown",
   "id": "52890e33",
   "metadata": {},
   "source": [
    "pass is a null statement in python.\n",
    "It instructs to \"Do Nothing\"\n",
    "\n",
    "but you avoid getting an error when empty code is not allowed.\n",
    "Empty code is not allowed in loops, function definitions, class definitions, or in if statements.\n",
    "\n",
    "The pass statement is used as a placeholder for future code."
   ]
  },
  {
   "cell_type": "code",
   "execution_count": 8,
   "id": "77c48286",
   "metadata": {},
   "outputs": [
    {
     "name": "stdout",
     "output_type": "stream",
     "text": [
      "0\n",
      "2\n",
      "4\n"
     ]
    }
   ],
   "source": [
    "for x in range(0,6,2):\n",
    "    print(x)"
   ]
  },
  {
   "cell_type": "code",
   "execution_count": 9,
   "id": "c8b71c8a",
   "metadata": {},
   "outputs": [
    {
     "ename": "SyntaxError",
     "evalue": "unexpected EOF while parsing (<ipython-input-9-4a262372b87c>, line 2)",
     "output_type": "error",
     "traceback": [
      "\u001b[1;36m  File \u001b[1;32m\"<ipython-input-9-4a262372b87c>\"\u001b[1;36m, line \u001b[1;32m2\u001b[0m\n\u001b[1;33m    \u001b[0m\n\u001b[1;37m    ^\u001b[0m\n\u001b[1;31mSyntaxError\u001b[0m\u001b[1;31m:\u001b[0m unexpected EOF while parsing\n"
     ]
    }
   ],
   "source": [
    "for x in range(0,6,2):\n",
    "  "
   ]
  },
  {
   "cell_type": "code",
   "execution_count": 10,
   "id": "a8f60e68",
   "metadata": {},
   "outputs": [],
   "source": [
    "for x in range(0,6,2):\n",
    "    pass"
   ]
  },
  {
   "cell_type": "code",
   "execution_count": null,
   "id": "27c573e3",
   "metadata": {},
   "outputs": [],
   "source": []
  },
  {
   "cell_type": "markdown",
   "id": "977f9007",
   "metadata": {},
   "source": [
    "# T:8"
   ]
  },
  {
   "cell_type": "markdown",
   "id": "16c672b9",
   "metadata": {},
   "source": [
    "Adding items in the list"
   ]
  },
  {
   "cell_type": "code",
   "execution_count": 1,
   "id": "f027ab8b",
   "metadata": {},
   "outputs": [
    {
     "name": "stdout",
     "output_type": "stream",
     "text": [
      "[1, 2, 3, 4, 8, 'Geeks', 'Always', 'for', 'you', 'love', 89898]\n"
     ]
    }
   ],
   "source": [
    "l3= [1, 2, 3, 4, 8, 'Geeks', 'Always']\n",
    "l3.extend([\"for\",\"you\",\"love\",89898])\n",
    "print(l3)"
   ]
  },
  {
   "cell_type": "markdown",
   "id": "faf64384",
   "metadata": {},
   "source": [
    "Adding items (no's) in the list using loop"
   ]
  },
  {
   "cell_type": "code",
   "execution_count": 10,
   "id": "33465db5",
   "metadata": {},
   "outputs": [
    {
     "name": "stdout",
     "output_type": "stream",
     "text": [
      "len. of list : 3\n",
      "45\n",
      "34\n",
      "23\n",
      "[45, 34, 23]\n"
     ]
    }
   ],
   "source": [
    "len = int(input(\"len. of list : \"))\n",
    "marks = []\n",
    "i = 1\n",
    "for i in range(i,len+1):\n",
    "    e = int(input())\n",
    "    marks.append(e)\n",
    "    i += 1\n",
    "print(marks)"
   ]
  },
  {
   "cell_type": "markdown",
   "id": "2cfd5642",
   "metadata": {},
   "source": [
    "Adding items (str) in the list using loop"
   ]
  },
  {
   "cell_type": "code",
   "execution_count": 16,
   "id": "ee2de1b7",
   "metadata": {},
   "outputs": [
    {
     "name": "stdout",
     "output_type": "stream",
     "text": [
      "3\n",
      "night\n",
      "sky\n",
      "light\n",
      "['night', 'sky', 'light']\n"
     ]
    }
   ],
   "source": [
    "l = int(input())\n",
    "marks = []\n",
    "\n",
    "for i in range(l):\n",
    "    s = input()\n",
    "    marks.append(s)\n",
    "    \n",
    "print(marks)"
   ]
  },
  {
   "cell_type": "markdown",
   "id": "74338aa9",
   "metadata": {},
   "source": [
    "Finding percentage of marks and input of marks"
   ]
  },
  {
   "cell_type": "code",
   "execution_count": 21,
   "id": "a141289b",
   "metadata": {},
   "outputs": [
    {
     "name": "stdout",
     "output_type": "stream",
     "text": [
      "3\n",
      "89\n",
      "88\n",
      "99\n",
      "[89, 88, 99]\n",
      "Perncentage :  92.0\n"
     ]
    }
   ],
   "source": [
    "l = int(input())\n",
    "marks = []\n",
    "\n",
    "for i in range(l):\n",
    "    e = int(input())\n",
    "    marks.append(e)\n",
    "    i += 1\n",
    "print(marks)\n",
    "\n",
    "per = (sum(marks)/l)\n",
    "print(\"Perncentage : \",per)"
   ]
  },
  {
   "cell_type": "markdown",
   "id": "66202a52",
   "metadata": {},
   "source": [
    "### Functions"
   ]
  },
  {
   "cell_type": "markdown",
   "id": "b8bbda07",
   "metadata": {},
   "source": [
    "A function is a block of code which only runs when it is called.\n",
    "or.\n",
    "A function is a group of statements performing a specific task.\n",
    "\n",
    "=> You can pass data, known as parameters, into a function.\n",
    "\n",
    "=> A function can return data as a result.\n",
    "\n",
    "A function can be reused by the programmer in any prog. for any no. of times."
   ]
  },
  {
   "cell_type": "markdown",
   "id": "ad45dd41",
   "metadata": {},
   "source": [
    "def is the keyword for defining a function. The function name is followed by parameter(s) in (). \n",
    "\n",
    "The colon : signals the start of the function body, which is marked by indentation. \n",
    "\n",
    "Inside the function body, the return statement determines the value to be returned."
   ]
  },
  {
   "cell_type": "code",
   "execution_count": null,
   "id": "a0d7b230",
   "metadata": {},
   "outputs": [],
   "source": []
  },
  {
   "cell_type": "markdown",
   "id": "482dd8fe",
   "metadata": {},
   "source": [
    "Finding percentage of marks and input of marks using Function"
   ]
  },
  {
   "cell_type": "code",
   "execution_count": 37,
   "id": "4f775c1c",
   "metadata": {},
   "outputs": [],
   "source": [
    "def result():\n",
    "\n",
    "    l = int(input(\"Enter length of list : \"))\n",
    "    marks = []\n",
    "\n",
    "    for i in range(l):\n",
    "        e = int(input(\"Enter element : \"))\n",
    "        marks.append(e)\n",
    "        i += 1\n",
    "\n",
    "    per = (sum(marks)/l)\n",
    "    print(per)\n",
    "\n",
    "    #return(per) or print(per)"
   ]
  },
  {
   "cell_type": "code",
   "execution_count": 38,
   "id": "04a0ebb3",
   "metadata": {},
   "outputs": [
    {
     "name": "stdout",
     "output_type": "stream",
     "text": [
      "Enter length of list : 2\n",
      "Enter element : 89\n",
      "Enter element : 90\n",
      "89.5\n"
     ]
    }
   ],
   "source": [
    "result()"
   ]
  },
  {
   "cell_type": "markdown",
   "id": "bc3d4a83",
   "metadata": {},
   "source": [
    "=> Function Call:\n",
    "Whenever we want to call a functn we put the name of the     function followed by paranthesis as follows:\n",
    "functn()"
   ]
  },
  {
   "cell_type": "markdown",
   "id": "2ab8490d",
   "metadata": {},
   "source": [
    "=> Function Defn:\n",
    "The part containing the exact set of instructions which are excuted during the function call."
   ]
  },
  {
   "cell_type": "code",
   "execution_count": null,
   "id": "4834df3b",
   "metadata": {},
   "outputs": [],
   "source": []
  },
  {
   "cell_type": "markdown",
   "id": "cd5442b2",
   "metadata": {},
   "source": [
    "Write a prog. to greet a user with \"good day\" using functn."
   ]
  },
  {
   "cell_type": "code",
   "execution_count": 40,
   "id": "e1706ee4",
   "metadata": {},
   "outputs": [],
   "source": [
    "def greet():\n",
    "    name = input(\"enter the name : \")\n",
    "    print(\"hello \",name)"
   ]
  },
  {
   "cell_type": "code",
   "execution_count": 41,
   "id": "d24b6d44",
   "metadata": {},
   "outputs": [
    {
     "name": "stdout",
     "output_type": "stream",
     "text": [
      "enter the name : harsh\n",
      "hello  harsh\n"
     ]
    }
   ],
   "source": [
    "greet()"
   ]
  },
  {
   "cell_type": "markdown",
   "id": "55ab31f6",
   "metadata": {},
   "source": [
    "or"
   ]
  },
  {
   "cell_type": "code",
   "execution_count": 48,
   "id": "e83cf6e5",
   "metadata": {},
   "outputs": [],
   "source": [
    "def greet(name):\n",
    "    print(\"hello \",name)"
   ]
  },
  {
   "cell_type": "code",
   "execution_count": 49,
   "id": "64508821",
   "metadata": {},
   "outputs": [
    {
     "name": "stdout",
     "output_type": "stream",
     "text": [
      "hello  son\n"
     ]
    }
   ],
   "source": [
    "greet(\"son\")"
   ]
  },
  {
   "cell_type": "code",
   "execution_count": null,
   "id": "c51a54e9",
   "metadata": {},
   "outputs": [],
   "source": []
  },
  {
   "cell_type": "raw",
   "id": "cc0d88c5",
   "metadata": {},
   "source": [
    "Types of functn:\n",
    "1. Built in functn (already present in py)\n",
    "eg. len(), range(), print()\n",
    "\n",
    "2. User defined functn (defined by the user)"
   ]
  },
  {
   "cell_type": "markdown",
   "id": "397e1126",
   "metadata": {},
   "source": [
    "#### Functions with arguments"
   ]
  },
  {
   "cell_type": "code",
   "execution_count": 55,
   "id": "8c417d99",
   "metadata": {},
   "outputs": [],
   "source": [
    "def sm(i1,i2):\n",
    "    sum = (i1+i2)\n",
    "    return sum"
   ]
  },
  {
   "cell_type": "code",
   "execution_count": 56,
   "id": "abb9375b",
   "metadata": {},
   "outputs": [
    {
     "data": {
      "text/plain": [
       "18"
      ]
     },
     "execution_count": 56,
     "metadata": {},
     "output_type": "execute_result"
    }
   ],
   "source": [
    "sm(9,9)"
   ]
  },
  {
   "cell_type": "code",
   "execution_count": null,
   "id": "7e1bb2d3",
   "metadata": {},
   "outputs": [],
   "source": []
  },
  {
   "cell_type": "markdown",
   "id": "6c299e41",
   "metadata": {},
   "source": [
    "Default Parameter Value \n",
    "\n",
    "=> Default value is used when no argument is passed"
   ]
  },
  {
   "cell_type": "code",
   "execution_count": 69,
   "id": "0ee6ea69",
   "metadata": {},
   "outputs": [
    {
     "ename": "TypeError",
     "evalue": "greet() missing 1 required positional argument: 'name'",
     "output_type": "error",
     "traceback": [
      "\u001b[1;31m---------------------------------------------------------------------------\u001b[0m",
      "\u001b[1;31mTypeError\u001b[0m                                 Traceback (most recent call last)",
      "\u001b[1;32m<ipython-input-69-47d63265cb72>\u001b[0m in \u001b[0;36m<module>\u001b[1;34m\u001b[0m\n\u001b[0;32m      3\u001b[0m     \u001b[0mprint\u001b[0m\u001b[1;33m(\u001b[0m\u001b[1;34m\"hello \"\u001b[0m\u001b[1;33m,\u001b[0m\u001b[0mname\u001b[0m\u001b[1;33m)\u001b[0m\u001b[1;33m\u001b[0m\u001b[1;33m\u001b[0m\u001b[0m\n\u001b[0;32m      4\u001b[0m \u001b[1;33m\u001b[0m\u001b[0m\n\u001b[1;32m----> 5\u001b[1;33m \u001b[0mgreet\u001b[0m\u001b[1;33m(\u001b[0m\u001b[1;33m)\u001b[0m\u001b[1;33m\u001b[0m\u001b[1;33m\u001b[0m\u001b[0m\n\u001b[0m",
      "\u001b[1;31mTypeError\u001b[0m: greet() missing 1 required positional argument: 'name'"
     ]
    }
   ],
   "source": [
    "# Without a default argument\n",
    "def greet(name):\n",
    "    print(\"hello \",name)\n",
    "\n",
    "greet()"
   ]
  },
  {
   "cell_type": "code",
   "execution_count": 67,
   "id": "cf5ce724",
   "metadata": {},
   "outputs": [],
   "source": [
    "# With default argument\n",
    "def greet(name=\"Stranger\"):\n",
    "    print(\"hello \",name)"
   ]
  },
  {
   "cell_type": "code",
   "execution_count": 68,
   "id": "7b9379a1",
   "metadata": {},
   "outputs": [
    {
     "name": "stdout",
     "output_type": "stream",
     "text": [
      "hello  Stranger\n"
     ]
    }
   ],
   "source": [
    "greet()"
   ]
  },
  {
   "cell_type": "markdown",
   "id": "132668f9",
   "metadata": {},
   "source": [
    "### Recursion"
   ]
  },
  {
   "cell_type": "raw",
   "id": "0f14222c",
   "metadata": {},
   "source": [
    "Recursion => a function that calls itself.\n",
    "It is used to directly use a mathematical formula as a function.\n",
    "\n",
    "Advantages of Recursion :\n",
    "-> Recursive functions make the code look clean and elegant.\n",
    "-> A complex task can be broken down into simpler sub-problems using recursion.\n",
    "\n",
    "Disadvantages of Recursion\n",
    "-> Sometimes the logic behind recursion is hard to follow through.\n",
    "-> Recursive calls are expensive (inefficient) as they take up a lot of memory and time.\n",
    "-> Recursive functions are hard to debug."
   ]
  },
  {
   "cell_type": "markdown",
   "id": "3f6b9e63",
   "metadata": {},
   "source": [
    "Finding fact. of given no"
   ]
  },
  {
   "cell_type": "code",
   "execution_count": 78,
   "id": "78c672c1",
   "metadata": {},
   "outputs": [
    {
     "name": "stdout",
     "output_type": "stream",
     "text": [
      "enter no : 4\n",
      "24\n"
     ]
    }
   ],
   "source": [
    "n = int(input(\"enter no : \"))\n",
    "\n",
    "fact = 1\n",
    "i = 1\n",
    "for i in range(i,n+1):\n",
    "    fact = fact * i\n",
    "print(fact)"
   ]
  },
  {
   "cell_type": "markdown",
   "id": "68f921f6",
   "metadata": {},
   "source": [
    "Finding fact. of given no using function and loops"
   ]
  },
  {
   "cell_type": "code",
   "execution_count": 82,
   "id": "26b5c3a3",
   "metadata": {},
   "outputs": [],
   "source": [
    "def fact_iter(n):\n",
    "    fact = 1\n",
    "    i = 1\n",
    "    for i in range(i,n+1):\n",
    "        fact = fact * i\n",
    "    print(fact)"
   ]
  },
  {
   "cell_type": "code",
   "execution_count": 83,
   "id": "b36c9e6f",
   "metadata": {},
   "outputs": [
    {
     "name": "stdout",
     "output_type": "stream",
     "text": [
      "120\n"
     ]
    }
   ],
   "source": [
    "fact_iter(5)"
   ]
  },
  {
   "cell_type": "markdown",
   "id": "1ce2e095",
   "metadata": {},
   "source": [
    "Formula of factorial:\n",
    "f(n) = n x f(n-1)!"
   ]
  },
  {
   "cell_type": "markdown",
   "id": "801f5545",
   "metadata": {},
   "source": [
    "Finding fact. of no. using recursion"
   ]
  },
  {
   "cell_type": "code",
   "execution_count": 87,
   "id": "f8182721",
   "metadata": {},
   "outputs": [],
   "source": [
    "def fact(n):\n",
    "    if (n == 1 or n == 0):\n",
    "        return 1\n",
    "    else:\n",
    "        return n*fact(n-1)"
   ]
  },
  {
   "cell_type": "code",
   "execution_count": 88,
   "id": "e9dcf984",
   "metadata": {},
   "outputs": [
    {
     "data": {
      "text/plain": [
       "2"
      ]
     },
     "execution_count": 88,
     "metadata": {},
     "output_type": "execute_result"
    }
   ],
   "source": [
    "fact(2)"
   ]
  },
  {
   "cell_type": "code",
   "execution_count": null,
   "id": "c6ba2663",
   "metadata": {},
   "outputs": [],
   "source": []
  },
  {
   "cell_type": "markdown",
   "id": "66934d4a",
   "metadata": {},
   "source": [
    "# T:9"
   ]
  },
  {
   "cell_type": "markdown",
   "id": "0810db66",
   "metadata": {},
   "source": [
    "#### Memory"
   ]
  },
  {
   "cell_type": "raw",
   "id": "e17ca9d5",
   "metadata": {},
   "source": [
    "- volatile (power off - data loss)\n",
    "- non- volatile (power off - still no data loss)"
   ]
  },
  {
   "cell_type": "markdown",
   "id": "5279bd88",
   "metadata": {},
   "source": [
    "#### Types of file"
   ]
  },
  {
   "cell_type": "raw",
   "id": "39e26784",
   "metadata": {},
   "source": [
    "- Text file (.txt, .c)etc..\n",
    "- Binary file (.jpg)etc.."
   ]
  },
  {
   "cell_type": "markdown",
   "id": "261749b8",
   "metadata": {},
   "source": [
    "#### Opening a file "
   ]
  },
  {
   "cell_type": "raw",
   "id": "6d1f203d",
   "metadata": {},
   "source": [
    "open(\"file.txt\",\"r\")\n",
    "here,\n",
    "open -> open is a built in functn\n",
    "file.txt -> file name\n",
    "r ->mode of opening()"
   ]
  },
  {
   "cell_type": "markdown",
   "id": "4d3f6f96",
   "metadata": {},
   "source": [
    "#### using open() to read the content of the file & printing its data"
   ]
  },
  {
   "cell_type": "code",
   "execution_count": 6,
   "id": "761b146c",
   "metadata": {},
   "outputs": [
    {
     "name": "stdout",
     "output_type": "stream",
     "text": [
      "Do not go gentle into that good night,\n",
      "Old age should burn and rave at close of day;\n",
      "Rage, rage against the dying of the light.\n",
      "\n",
      "Though wise men at their end know dark is right,\n",
      "Because their words had forked no lightning they\n",
      "Do not go gentle into that good night.\n"
     ]
    }
   ],
   "source": [
    "f = open(\"poem.txt\",\"r\")\n",
    "data = f.read()\n",
    "print(data)\n",
    "f.close() \n",
    "# once the work of the file is fullfilled it should be closed for performing further operations on it"
   ]
  },
  {
   "cell_type": "raw",
   "id": "87a3ff02",
   "metadata": {},
   "source": [
    "Note :\n",
    "If we dont specify any mode for the file \n",
    "it will directly take it as r(read)"
   ]
  },
  {
   "cell_type": "markdown",
   "id": "336619a4",
   "metadata": {},
   "source": [
    "### Ex"
   ]
  },
  {
   "cell_type": "code",
   "execution_count": 8,
   "id": "a5ba1990",
   "metadata": {},
   "outputs": [
    {
     "name": "stdout",
     "output_type": "stream",
     "text": [
      "Do not go gentle into that good night,\n",
      "Old age should burn and rave at close of day;\n",
      "Rage, rage against the dying of the light.\n",
      "\n",
      "Though wise men at their end know dark is right,\n",
      "Because their words had forked no lightning they\n",
      "Do not go gentle into that good night.\n"
     ]
    }
   ],
   "source": [
    "f = open(\"poem.txt\") #by default the mode is r\n",
    "data = f.read()\n",
    "print(data)\n",
    "f.close()"
   ]
  },
  {
   "cell_type": "markdown",
   "id": "34e71149",
   "metadata": {},
   "source": [
    "#### Specifying the no. of characters in the read() functn"
   ]
  },
  {
   "cell_type": "code",
   "execution_count": 9,
   "id": "671749ef",
   "metadata": {},
   "outputs": [
    {
     "name": "stdout",
     "output_type": "stream",
     "text": [
      "Do no\n"
     ]
    }
   ],
   "source": [
    "f = open(\"poem.txt\")\n",
    "data = f.read(5) # blanks are included\n",
    "print(data)"
   ]
  },
  {
   "cell_type": "markdown",
   "id": "6def298f",
   "metadata": {},
   "source": [
    "#### Other methods to read the file"
   ]
  },
  {
   "cell_type": "raw",
   "id": "4061ee29",
   "metadata": {},
   "source": [
    "f.readline() # use to read on full line at a time"
   ]
  },
  {
   "cell_type": "markdown",
   "id": "edde97ed",
   "metadata": {},
   "source": [
    "### Ex"
   ]
  },
  {
   "cell_type": "code",
   "execution_count": 10,
   "id": "cf53de5a",
   "metadata": {},
   "outputs": [
    {
     "name": "stdout",
     "output_type": "stream",
     "text": [
      "Do not go gentle into that good night,\n",
      "\n"
     ]
    }
   ],
   "source": [
    "f = open(\"poem.txt\")\n",
    "data = f.readline()\n",
    "print(data)"
   ]
  },
  {
   "cell_type": "code",
   "execution_count": 11,
   "id": "cd277e01",
   "metadata": {},
   "outputs": [
    {
     "name": "stdout",
     "output_type": "stream",
     "text": [
      "Do not go gentle into that good night,\n",
      "\n",
      "Old age should burn and rave at close of day;\n",
      "\n",
      "Rage, rage against the dying of the light.\n",
      "\n"
     ]
    }
   ],
   "source": [
    "f = open(\"poem.txt\")\n",
    "data = f.readline()\n",
    "print(data)\n",
    "data = f.readline()\n",
    "print(data)\n",
    "data = f.readline()\n",
    "print(data)"
   ]
  },
  {
   "cell_type": "markdown",
   "id": "e86256fa",
   "metadata": {},
   "source": [
    "#### Modes of opening a file"
   ]
  },
  {
   "cell_type": "raw",
   "id": "b1436794",
   "metadata": {},
   "source": [
    "r -> opens for reading   f.read(), f.readline()\n",
    "w -> opens for writing   f.write()\n",
    "a -> opens for appending\n",
    "+ -> opens for updating (read+write)\n",
    "\n",
    "\"rb\" will open for read in binary mode\n",
    "\"rt\" will open for real in text mode"
   ]
  },
  {
   "cell_type": "markdown",
   "id": "2bdfabcf",
   "metadata": {},
   "source": [
    "#### Writing into a file"
   ]
  },
  {
   "cell_type": "raw",
   "id": "5d956549",
   "metadata": {},
   "source": [
    "Opens a file for writing. Creates a new file if it does not exist or truncates the file if it exists."
   ]
  },
  {
   "cell_type": "code",
   "execution_count": 10,
   "id": "4824ca2d",
   "metadata": {},
   "outputs": [],
   "source": [
    "# Opening a file\n",
    "file1 = open('myfile.txt', 'w')\n",
    "s = \"Hello\\n\"\n",
    "  \n",
    "# Writing a string to file\n",
    "file1.write(s)\n",
    "\n",
    "# Closing file\n",
    "file1.close()\n",
    "  "
   ]
  },
  {
   "cell_type": "markdown",
   "id": "0f222973",
   "metadata": {},
   "source": [
    "Checking if the data is written to file or not"
   ]
  },
  {
   "cell_type": "code",
   "execution_count": 12,
   "id": "fc375dfb",
   "metadata": {},
   "outputs": [
    {
     "name": "stdout",
     "output_type": "stream",
     "text": [
      "Hello\n",
      "\n"
     ]
    }
   ],
   "source": [
    "f = open(\"myfile.txt\")\n",
    "data = f.read()\n",
    "print(data)"
   ]
  },
  {
   "cell_type": "code",
   "execution_count": null,
   "id": "9aaef444",
   "metadata": {},
   "outputs": [],
   "source": []
  },
  {
   "cell_type": "code",
   "execution_count": 14,
   "id": "f443877a",
   "metadata": {},
   "outputs": [],
   "source": [
    "file1 = open(\"myfile.txt\",'w')\n",
    "L = [\"This is Delhi \\n\", \"This is Paris \\n\"]\n",
    "# Writing multiple strings\n",
    "# at a time\n",
    "file1.writelines(L)\n",
    "file1.close()"
   ]
  },
  {
   "cell_type": "markdown",
   "id": "b19dde9e",
   "metadata": {},
   "source": [
    "Checking if the data is written to file or not"
   ]
  },
  {
   "cell_type": "code",
   "execution_count": 15,
   "id": "47ef8547",
   "metadata": {
    "scrolled": true
   },
   "outputs": [
    {
     "name": "stdout",
     "output_type": "stream",
     "text": [
      "This is Delhi \n",
      "This is Paris \n",
      "\n"
     ]
    }
   ],
   "source": [
    "f = open(\"myfile.txt\")\n",
    "data = f.read()\n",
    "print(data)"
   ]
  },
  {
   "cell_type": "code",
   "execution_count": null,
   "id": "27a66538",
   "metadata": {},
   "outputs": [],
   "source": []
  },
  {
   "cell_type": "markdown",
   "id": "e781db79",
   "metadata": {},
   "source": [
    "#### Writing string and list both at the same time"
   ]
  },
  {
   "cell_type": "code",
   "execution_count": 16,
   "id": "9fdcc522",
   "metadata": {},
   "outputs": [],
   "source": [
    "f1 = open(\"file2.txt\",'w')\n",
    "\n",
    "# initialising list and string\n",
    "l = [\"raj \\n\",\"is a good guy\"]\n",
    "s = \"Right here \\n\"\n",
    "\n",
    "# Writing a string to file\n",
    "f1.write(s)\n",
    "\n",
    "# Writing multiple string to file\n",
    "f1.writelines(l)\n",
    "\n",
    "f1.close()"
   ]
  },
  {
   "cell_type": "code",
   "execution_count": 17,
   "id": "b34a860c",
   "metadata": {},
   "outputs": [
    {
     "name": "stdout",
     "output_type": "stream",
     "text": [
      "Right here \n",
      "raj \n",
      "is a good guy\n"
     ]
    }
   ],
   "source": [
    "f1 = open(\"file2.txt\")\n",
    "data = f1.read()\n",
    "print(data)"
   ]
  },
  {
   "cell_type": "code",
   "execution_count": null,
   "id": "f55503f3",
   "metadata": {},
   "outputs": [],
   "source": []
  },
  {
   "cell_type": "markdown",
   "id": "b3336c36",
   "metadata": {},
   "source": [
    "#### write() can be callled multiple times"
   ]
  },
  {
   "cell_type": "code",
   "execution_count": 19,
   "id": "c02e0df3",
   "metadata": {},
   "outputs": [
    {
     "name": "stdout",
     "output_type": "stream",
     "text": [
      "long live the king\n"
     ]
    }
   ],
   "source": [
    "f1 = open(\"nf.txt\")\n",
    "data = f1.read()\n",
    "print(data)\n",
    "f1.close()"
   ]
  },
  {
   "cell_type": "code",
   "execution_count": 23,
   "id": "e87fc82d",
   "metadata": {},
   "outputs": [],
   "source": [
    "# writing a string to file\n",
    "f1 = open(\"nf.txt\",'w')\n",
    "f1.write(\"long live the sword \")\n",
    "f1.write(\"long live the god \")\n",
    "f1.write(\"long live the soul\")\n",
    "f1.close()"
   ]
  },
  {
   "cell_type": "code",
   "execution_count": 24,
   "id": "b5f75629",
   "metadata": {},
   "outputs": [
    {
     "name": "stdout",
     "output_type": "stream",
     "text": [
      "long live the sword long live the god long live the soul\n"
     ]
    }
   ],
   "source": [
    "f1 = open(\"nf.txt\")\n",
    "data = f1.read()\n",
    "print(data)"
   ]
  },
  {
   "cell_type": "code",
   "execution_count": null,
   "id": "36d9b41f",
   "metadata": {},
   "outputs": [],
   "source": []
  },
  {
   "cell_type": "markdown",
   "id": "e7d862eb",
   "metadata": {},
   "source": [
    "#### With Statement"
   ]
  },
  {
   "cell_type": "markdown",
   "id": "37d6fa2a",
   "metadata": {},
   "source": [
    "The best way to open and close the file automatically is the with statement.\n",
    "\n",
    "It simplifies the management of common resources like file streams. Unlike the above implementations, there is no need to call file.close() when using with statement. "
   ]
  },
  {
   "cell_type": "markdown",
   "id": "b02788ff",
   "metadata": {},
   "source": [
    "#### Opening (reading) a file with (with) statement"
   ]
  },
  {
   "cell_type": "markdown",
   "id": "979c04db",
   "metadata": {},
   "source": [
    "Write data to a file using with statement and reading the file"
   ]
  },
  {
   "cell_type": "code",
   "execution_count": 30,
   "id": "fdc25cff",
   "metadata": {},
   "outputs": [],
   "source": [
    "with open(\"fx1.txt\",'w') as f1:\n",
    "    f1.write(\"hey everyone\")\n",
    "    l = [\"how \\n\",\"are you \\n\",\"baby \\n\"]\n",
    "    f1.writelines(l)\n",
    "    \n",
    " # no need to write f.close() its done automatically"
   ]
  },
  {
   "cell_type": "code",
   "execution_count": 31,
   "id": "552f9bb4",
   "metadata": {},
   "outputs": [
    {
     "name": "stdout",
     "output_type": "stream",
     "text": [
      "hey everyonehow \n",
      "are you \n",
      "baby \n",
      "\n"
     ]
    }
   ],
   "source": [
    "with open(\"fx1.txt\") as f1:\n",
    "    data = f1.read()\n",
    "    print(data)\n"
   ]
  },
  {
   "cell_type": "raw",
   "id": "2349bc9d",
   "metadata": {},
   "source": [
    "four ways to check whether a file is empty or not.\n",
    "\n",
    "os.stat() function\n",
    "os.path.getsize() function\n",
    "By reading the first character"
   ]
  },
  {
   "cell_type": "markdown",
   "id": "cc204f2a",
   "metadata": {},
   "source": [
    "Check File Exists or Not"
   ]
  },
  {
   "cell_type": "code",
   "execution_count": 1,
   "id": "4ca34d54",
   "metadata": {},
   "outputs": [],
   "source": [
    "import os\n",
    "\n",
    "def check(file_name):\n",
    "    # Check if file exist or not\n",
    "    return os.path.exists(file_name)\n"
   ]
  },
  {
   "cell_type": "code",
   "execution_count": 2,
   "id": "ef919630",
   "metadata": {},
   "outputs": [
    {
     "data": {
      "text/plain": [
       "True"
      ]
     },
     "execution_count": 2,
     "metadata": {},
     "output_type": "execute_result"
    }
   ],
   "source": [
    "check(\"nightpoem.txt\")"
   ]
  },
  {
   "cell_type": "markdown",
   "id": "0d0b6ed1",
   "metadata": {},
   "source": [
    "Check if the File is Empty using os.stat() Function"
   ]
  },
  {
   "cell_type": "code",
   "execution_count": 4,
   "id": "ee60ae14",
   "metadata": {},
   "outputs": [
    {
     "name": "stdout",
     "output_type": "stream",
     "text": [
      "The file is not empty.\n"
     ]
    }
   ],
   "source": [
    "import os \n",
    "\n",
    "check_file = os.stat(\"nightpoem.txt\").st_size\n",
    "\n",
    "if(check_file == 0):\n",
    "    print(\"The file is empty.\")\n",
    "else:\n",
    "    print(\"The file is not empty.\")"
   ]
  },
  {
   "cell_type": "markdown",
   "id": "97cd058b",
   "metadata": {},
   "source": [
    "Check if the File is Empty using os.path.getsize() Function"
   ]
  },
  {
   "cell_type": "code",
   "execution_count": 5,
   "id": "263886a7",
   "metadata": {},
   "outputs": [
    {
     "name": "stdout",
     "output_type": "stream",
     "text": [
      "non empty file\n"
     ]
    }
   ],
   "source": [
    "import os\n",
    "check_file = os.path.getsize(\"nightpoem.txt\")\n",
    "if check_file == 0:\n",
    "    print(\"file is empty\")\n",
    "else:\n",
    "    print(\"non empty file\")"
   ]
  },
  {
   "cell_type": "markdown",
   "id": "a6d4f159",
   "metadata": {},
   "source": [
    "#### Checking if the file exist or not"
   ]
  },
  {
   "cell_type": "code",
   "execution_count": 9,
   "id": "a6dfd6fe",
   "metadata": {},
   "outputs": [
    {
     "name": "stdout",
     "output_type": "stream",
     "text": [
      "file exist\n"
     ]
    }
   ],
   "source": [
    "import os\n",
    "if os.path.exists(\"copy.txt\"):\n",
    "    print(\"file exist\")\n",
    "else:\n",
    "      print(\"The file does not exist\")"
   ]
  },
  {
   "cell_type": "markdown",
   "id": "2ad6f785",
   "metadata": {},
   "source": [
    "#### Deleting a file in python if it exists"
   ]
  },
  {
   "cell_type": "code",
   "execution_count": 11,
   "id": "96a5baae",
   "metadata": {},
   "outputs": [
    {
     "name": "stdout",
     "output_type": "stream",
     "text": [
      "file successfully deleted\n"
     ]
    }
   ],
   "source": [
    "import os\n",
    "if os.path.exists(\"copy.txt\"):\n",
    "    os.remove(\"copy.txt\")\n",
    "    print(\"file successfully deleted\")\n",
    "else:\n",
    "      print(\"The file does not exist\")"
   ]
  },
  {
   "cell_type": "markdown",
   "id": "20b343f2",
   "metadata": {},
   "source": [
    "#### Delete Folder"
   ]
  },
  {
   "cell_type": "markdown",
   "id": "378371f6",
   "metadata": {},
   "source": [
    "To delete an entire folder, use the os.rmdir() method:\n",
    "\n",
    "Note: You can only remove empty folders."
   ]
  },
  {
   "cell_type": "code",
   "execution_count": 13,
   "id": "29286a50",
   "metadata": {},
   "outputs": [],
   "source": [
    "import os\n",
    "os.rmdir(\"crypto\")"
   ]
  },
  {
   "cell_type": "code",
   "execution_count": null,
   "id": "609026fd",
   "metadata": {},
   "outputs": [],
   "source": []
  },
  {
   "cell_type": "markdown",
   "id": "eaa21024",
   "metadata": {},
   "source": [
    "#### OOP in Python"
   ]
  },
  {
   "cell_type": "raw",
   "id": "dcc25a4d",
   "metadata": {},
   "source": [
    "class -> ATTRIBUTES /Proprties[cost,color,battery life]\n",
    "            and\n",
    "    METHODS /Behaviour[make calls, watch videos, play games]"
   ]
  },
  {
   "cell_type": "code",
   "execution_count": 5,
   "id": "5b33fa4c",
   "metadata": {},
   "outputs": [],
   "source": [
    "# creating the phone class\n",
    "class Phone: # name of class always starts with capital letter\n",
    "    def make_calls(self):\n",
    "        print(\"making calls\")\n",
    "    def play_games(self):\n",
    "        print(\"playing games\")\n"
   ]
  },
  {
   "cell_type": "code",
   "execution_count": 6,
   "id": "2780f1d2",
   "metadata": {},
   "outputs": [],
   "source": [
    "# Instantiating the p1 obj\n",
    "p1 = Phone()"
   ]
  },
  {
   "cell_type": "code",
   "execution_count": 7,
   "id": "55f2021d",
   "metadata": {},
   "outputs": [
    {
     "name": "stdout",
     "output_type": "stream",
     "text": [
      "making calls\n"
     ]
    }
   ],
   "source": [
    "p1.make_calls()"
   ]
  },
  {
   "cell_type": "code",
   "execution_count": 8,
   "id": "8a9da611",
   "metadata": {},
   "outputs": [
    {
     "name": "stdout",
     "output_type": "stream",
     "text": [
      "playing games\n"
     ]
    }
   ],
   "source": [
    "p1.play_games()"
   ]
  },
  {
   "cell_type": "code",
   "execution_count": null,
   "id": "498579c9",
   "metadata": {},
   "outputs": [],
   "source": []
  },
  {
   "cell_type": "markdown",
   "id": "7242806c",
   "metadata": {},
   "source": [
    "#### Adding parameters to the class "
   ]
  },
  {
   "cell_type": "code",
   "execution_count": 21,
   "id": "51960fbe",
   "metadata": {},
   "outputs": [],
   "source": [
    "class Phone:\n",
    "    def set_color(self,color):\n",
    "        self.color = color\n",
    "    def set_cost(self,cost):\n",
    "        self.cost = cost\n",
    "    def show_color(self):\n",
    "        return self.color\n",
    "    def show_cost(self):\n",
    "        return self.cost\n",
    "# setting and returning attribute value   \n",
    "\n",
    "    def play_games(self):\n",
    "        print(\"playing games\")\n",
    "    def watch_videos(self):\n",
    "        print(\"watching videos\")\n",
    "    "
   ]
  },
  {
   "cell_type": "code",
   "execution_count": 11,
   "id": "4af0fedc",
   "metadata": {},
   "outputs": [],
   "source": [
    "p1 = Phone()"
   ]
  },
  {
   "cell_type": "code",
   "execution_count": 23,
   "id": "219bd73d",
   "metadata": {},
   "outputs": [
    {
     "name": "stdout",
     "output_type": "stream",
     "text": [
      "playing games\n"
     ]
    }
   ],
   "source": [
    "p1.play_games()"
   ]
  },
  {
   "cell_type": "code",
   "execution_count": 14,
   "id": "a9e16ce4",
   "metadata": {},
   "outputs": [
    {
     "name": "stdout",
     "output_type": "stream",
     "text": [
      "watching videos\n"
     ]
    }
   ],
   "source": [
    "p1.watch_videos()"
   ]
  },
  {
   "cell_type": "code",
   "execution_count": 15,
   "id": "76f47306",
   "metadata": {},
   "outputs": [],
   "source": [
    "p1.set_color(\"blue\")"
   ]
  },
  {
   "cell_type": "code",
   "execution_count": 16,
   "id": "728a14b4",
   "metadata": {},
   "outputs": [
    {
     "data": {
      "text/plain": [
       "'blue'"
      ]
     },
     "execution_count": 16,
     "metadata": {},
     "output_type": "execute_result"
    }
   ],
   "source": [
    "p1.show_color()"
   ]
  },
  {
   "cell_type": "code",
   "execution_count": 17,
   "id": "912e54f8",
   "metadata": {},
   "outputs": [],
   "source": [
    "p1.set_cost(899)"
   ]
  },
  {
   "cell_type": "code",
   "execution_count": 18,
   "id": "07fa3346",
   "metadata": {},
   "outputs": [
    {
     "data": {
      "text/plain": [
       "899"
      ]
     },
     "execution_count": 18,
     "metadata": {},
     "output_type": "execute_result"
    }
   ],
   "source": [
    "p1.show_cost()"
   ]
  },
  {
   "cell_type": "markdown",
   "id": "ed4d6aa5",
   "metadata": {},
   "source": [
    "#### Program to calculate addn of 2 no using oop"
   ]
  },
  {
   "cell_type": "code",
   "execution_count": 31,
   "id": "3108fd59",
   "metadata": {},
   "outputs": [],
   "source": [
    "class Add:\n",
    "    def set_a(self,a):\n",
    "        self.a = a\n",
    "    def set_b(self, b):\n",
    "        self.b = b\n",
    "    def add(self):\n",
    "        return self.a+self.b"
   ]
  },
  {
   "cell_type": "code",
   "execution_count": 32,
   "id": "558eb9cf",
   "metadata": {},
   "outputs": [],
   "source": [
    "p1 = Add()\n",
    "p1.set_a(10)\n",
    "p1.set_b(20)"
   ]
  },
  {
   "cell_type": "code",
   "execution_count": 33,
   "id": "1e9d7e83",
   "metadata": {},
   "outputs": [
    {
     "data": {
      "text/plain": [
       "30"
      ]
     },
     "execution_count": 33,
     "metadata": {},
     "output_type": "execute_result"
    }
   ],
   "source": [
    "p1.add()"
   ]
  },
  {
   "cell_type": "code",
   "execution_count": 34,
   "id": "fcbb969c",
   "metadata": {},
   "outputs": [],
   "source": [
    "p1 = Add()\n",
    "p1.set_a(100)\n",
    "p1.set_b(50)"
   ]
  },
  {
   "cell_type": "code",
   "execution_count": 35,
   "id": "f29c4306",
   "metadata": {},
   "outputs": [
    {
     "data": {
      "text/plain": [
       "150"
      ]
     },
     "execution_count": 35,
     "metadata": {},
     "output_type": "execute_result"
    }
   ],
   "source": [
    "p1.add()"
   ]
  },
  {
   "cell_type": "markdown",
   "id": "6e7902da",
   "metadata": {},
   "source": [
    "#### Prog. to input and get details of train registeration form"
   ]
  },
  {
   "cell_type": "code",
   "execution_count": 75,
   "id": "7a7a0d55",
   "metadata": {},
   "outputs": [],
   "source": [
    "class train_r:\n",
    "    def set_train_no(self,no):\n",
    "        self.no = no\n",
    "    def set_person_name(self,name):\n",
    "        self.name = name\n",
    "    def set_train_name(self,tname):\n",
    "        self.tname = tname\n",
    "\n",
    "    def show_train_no(self):\n",
    "        return print(self.no)\n",
    "    def show_person_name(self):\n",
    "        return print(self.name) \n",
    "    def show_train_name(self):\n",
    "        return print(self.tname) \n",
    "    "
   ]
  },
  {
   "cell_type": "code",
   "execution_count": 76,
   "id": "edbe50ea",
   "metadata": {},
   "outputs": [],
   "source": [
    "p1 = train_r() # instantiation of obj (creatn of obj) from class"
   ]
  },
  {
   "cell_type": "code",
   "execution_count": 77,
   "id": "6fa7da73",
   "metadata": {},
   "outputs": [],
   "source": [
    "p1.set_train_no(78787)\n",
    "p1.set_person_name(\"ram\")\n",
    "p1.set_train_name(\"Rajdhani Express\")"
   ]
  },
  {
   "cell_type": "code",
   "execution_count": 78,
   "id": "7c4b050b",
   "metadata": {},
   "outputs": [
    {
     "name": "stdout",
     "output_type": "stream",
     "text": [
      "78787\n"
     ]
    }
   ],
   "source": [
    "p1.show_train_no()"
   ]
  },
  {
   "cell_type": "code",
   "execution_count": 82,
   "id": "4005af51",
   "metadata": {},
   "outputs": [
    {
     "name": "stdout",
     "output_type": "stream",
     "text": [
      "Rajdhani Express\n"
     ]
    }
   ],
   "source": [
    "p1.show_train_name()"
   ]
  },
  {
   "cell_type": "code",
   "execution_count": 83,
   "id": "e39d39c4",
   "metadata": {},
   "outputs": [
    {
     "name": "stdout",
     "output_type": "stream",
     "text": [
      "ram\n"
     ]
    }
   ],
   "source": [
    "p1.show_person_name()"
   ]
  },
  {
   "cell_type": "markdown",
   "id": "67dc7179",
   "metadata": {},
   "source": [
    "#### Emplyee details using OOP"
   ]
  },
  {
   "cell_type": "raw",
   "id": "05948bab",
   "metadata": {},
   "source": [
    "Noun -> class -> Employee\n",
    "Adj  -> attribute -> name,age,salary\n",
    "\n",
    "Verb -> Methods -> get salary(),increment()"
   ]
  },
  {
   "cell_type": "code",
   "execution_count": 85,
   "id": "62522514",
   "metadata": {},
   "outputs": [],
   "source": [
    "class Employee:\n",
    "    def set_employee_name(self,name):\n",
    "        self.name = name\n",
    "    def set_employee_age(self,age):\n",
    "        self.age = age\n",
    "    def set_employee_salary(self,salary):\n",
    "        self.salary = salary\n",
    "    \n",
    "    def show_employee_name(self):\n",
    "        return self.name\n",
    "    def show_employee_age(self):\n",
    "        return self.age\n",
    "    def show_employee_salary(self):\n",
    "        return self.salary"
   ]
  },
  {
   "cell_type": "code",
   "execution_count": 86,
   "id": "a937abef",
   "metadata": {},
   "outputs": [],
   "source": [
    "e1 = Employee()"
   ]
  },
  {
   "cell_type": "code",
   "execution_count": 87,
   "id": "d5706635",
   "metadata": {},
   "outputs": [],
   "source": [
    "e1.set_employee_name(\"ram\")\n",
    "e1.set_employee_age(45)\n",
    "e1.set_employee_salary(10000)"
   ]
  },
  {
   "cell_type": "code",
   "execution_count": 88,
   "id": "fe4c458d",
   "metadata": {},
   "outputs": [
    {
     "data": {
      "text/plain": [
       "'ram'"
      ]
     },
     "execution_count": 88,
     "metadata": {},
     "output_type": "execute_result"
    }
   ],
   "source": [
    "e1.show_employee_name()"
   ]
  },
  {
   "cell_type": "code",
   "execution_count": 89,
   "id": "bb7171a4",
   "metadata": {},
   "outputs": [
    {
     "data": {
      "text/plain": [
       "45"
      ]
     },
     "execution_count": 89,
     "metadata": {},
     "output_type": "execute_result"
    }
   ],
   "source": [
    "e1.show_employee_age()"
   ]
  },
  {
   "cell_type": "code",
   "execution_count": 90,
   "id": "5f3ff75c",
   "metadata": {},
   "outputs": [
    {
     "data": {
      "text/plain": [
       "10000"
      ]
     },
     "execution_count": 90,
     "metadata": {},
     "output_type": "execute_result"
    }
   ],
   "source": [
    "e1.show_employee_salary()"
   ]
  },
  {
   "cell_type": "code",
   "execution_count": null,
   "id": "a5974726",
   "metadata": {},
   "outputs": [],
   "source": [
    "\n"
   ]
  },
  {
   "cell_type": "markdown",
   "id": "ca5af099",
   "metadata": {},
   "source": [
    "#### Types of Attribute"
   ]
  },
  {
   "cell_type": "markdown",
   "id": "336dfb3a",
   "metadata": {},
   "source": [
    "##### Class Attribute"
   ]
  },
  {
   "cell_type": "markdown",
   "id": "14b0db3c",
   "metadata": {},
   "source": [
    "An attribute that belongs to the class rather than a particular object"
   ]
  },
  {
   "cell_type": "code",
   "execution_count": 92,
   "id": "3b92ec6a",
   "metadata": {},
   "outputs": [],
   "source": [
    "class Employee:\n",
    "    company = \"google\""
   ]
  },
  {
   "cell_type": "code",
   "execution_count": 96,
   "id": "ad9b4f1d",
   "metadata": {},
   "outputs": [],
   "source": [
    "raj = Employee()"
   ]
  },
  {
   "cell_type": "code",
   "execution_count": 97,
   "id": "351bdb81",
   "metadata": {},
   "outputs": [
    {
     "data": {
      "text/plain": [
       "'google'"
      ]
     },
     "execution_count": 97,
     "metadata": {},
     "output_type": "execute_result"
    }
   ],
   "source": [
    "raj.company"
   ]
  },
  {
   "cell_type": "code",
   "execution_count": 98,
   "id": "c4ac1b62",
   "metadata": {},
   "outputs": [
    {
     "data": {
      "text/plain": [
       "'google'"
      ]
     },
     "execution_count": 98,
     "metadata": {},
     "output_type": "execute_result"
    }
   ],
   "source": [
    "sajan = Employee()\n",
    "sajan.company"
   ]
  },
  {
   "cell_type": "markdown",
   "id": "5434d474",
   "metadata": {},
   "source": [
    "Lets change the company"
   ]
  },
  {
   "cell_type": "code",
   "execution_count": 99,
   "id": "5eeee04e",
   "metadata": {},
   "outputs": [],
   "source": [
    "Employee.company = \"Youtube\""
   ]
  },
  {
   "cell_type": "code",
   "execution_count": 100,
   "id": "811f464e",
   "metadata": {},
   "outputs": [
    {
     "data": {
      "text/plain": [
       "'Youtube'"
      ]
     },
     "execution_count": 100,
     "metadata": {},
     "output_type": "execute_result"
    }
   ],
   "source": [
    "sujan = Employee()\n",
    "sujan.company"
   ]
  },
  {
   "cell_type": "markdown",
   "id": "4ab45faf",
   "metadata": {},
   "source": [
    "#### Instance Attribute"
   ]
  },
  {
   "cell_type": "markdown",
   "id": "d40d6b53",
   "metadata": {},
   "source": [
    "An attribute that to the instance(object) Assuming the class from the previous example"
   ]
  },
  {
   "cell_type": "code",
   "execution_count": 101,
   "id": "323ed4cb",
   "metadata": {},
   "outputs": [],
   "source": [
    "# creating an instance attribute salary for both the objects\n",
    "sujan.name = \"harry\"\n",
    "sujan.salary = 4788"
   ]
  },
  {
   "cell_type": "code",
   "execution_count": 106,
   "id": "0e7fc57a",
   "metadata": {},
   "outputs": [
    {
     "data": {
      "text/plain": [
       "4788"
      ]
     },
     "execution_count": 106,
     "metadata": {},
     "output_type": "execute_result"
    }
   ],
   "source": [
    "sujan.salary"
   ]
  },
  {
   "cell_type": "code",
   "execution_count": 108,
   "id": "d993caba",
   "metadata": {},
   "outputs": [
    {
     "data": {
      "text/plain": [
       "'harry'"
      ]
     },
     "execution_count": 108,
     "metadata": {},
     "output_type": "execute_result"
    }
   ],
   "source": [
    "sujan.name"
   ]
  },
  {
   "cell_type": "code",
   "execution_count": null,
   "id": "79b2cc2d",
   "metadata": {},
   "outputs": [],
   "source": []
  },
  {
   "cell_type": "code",
   "execution_count": 109,
   "id": "e5bb5216",
   "metadata": {},
   "outputs": [],
   "source": [
    "# creating an instance attribute salary for both the objects\n",
    "raj.salary = 8989\n",
    "raj.name = \"raj\""
   ]
  },
  {
   "cell_type": "code",
   "execution_count": 110,
   "id": "8bb819ac",
   "metadata": {},
   "outputs": [
    {
     "data": {
      "text/plain": [
       "8989"
      ]
     },
     "execution_count": 110,
     "metadata": {},
     "output_type": "execute_result"
    }
   ],
   "source": [
    "raj.salary"
   ]
  },
  {
   "cell_type": "code",
   "execution_count": 111,
   "id": "083bab95",
   "metadata": {},
   "outputs": [
    {
     "data": {
      "text/plain": [
       "'raj'"
      ]
     },
     "execution_count": 111,
     "metadata": {},
     "output_type": "execute_result"
    }
   ],
   "source": [
    "raj.name"
   ]
  },
  {
   "cell_type": "code",
   "execution_count": null,
   "id": "52bb6e6e",
   "metadata": {},
   "outputs": [],
   "source": []
  },
  {
   "cell_type": "markdown",
   "id": "cf3548b0",
   "metadata": {},
   "source": [
    "##### or (using a proper represntation for the above program):"
   ]
  },
  {
   "cell_type": "code",
   "execution_count": 173,
   "id": "06ae0266",
   "metadata": {},
   "outputs": [],
   "source": [
    "class Employee:\n",
    "    company = \"google\"\n",
    "    salary = 100\n",
    "\n",
    "    def employee_name(self,name):\n",
    "        self.name = name\n",
    "    def esalary(self,salary):\n",
    "        self.salary = salary\n",
    "    def eborn(self,born):\n",
    "        self.born = born\n",
    "    "
   ]
  },
  {
   "cell_type": "markdown",
   "id": "2be90bda",
   "metadata": {},
   "source": [
    "Employee : Raj"
   ]
  },
  {
   "cell_type": "code",
   "execution_count": 174,
   "id": "ac31b1bf",
   "metadata": {},
   "outputs": [],
   "source": [
    "raj = Employee()"
   ]
  },
  {
   "cell_type": "code",
   "execution_count": 183,
   "id": "9889b597",
   "metadata": {},
   "outputs": [],
   "source": [
    "raj.esalary = 90098\n",
    "raj.ename =\"raj\"\n",
    "raj.eborn = \"Norway\""
   ]
  },
  {
   "cell_type": "code",
   "execution_count": 184,
   "id": "612eeb65",
   "metadata": {},
   "outputs": [
    {
     "data": {
      "text/plain": [
       "90098"
      ]
     },
     "execution_count": 184,
     "metadata": {},
     "output_type": "execute_result"
    }
   ],
   "source": [
    "raj.esalary"
   ]
  },
  {
   "cell_type": "code",
   "execution_count": 185,
   "id": "c84149ee",
   "metadata": {},
   "outputs": [
    {
     "data": {
      "text/plain": [
       "'raj'"
      ]
     },
     "execution_count": 185,
     "metadata": {},
     "output_type": "execute_result"
    }
   ],
   "source": [
    "raj.ename"
   ]
  },
  {
   "cell_type": "code",
   "execution_count": 186,
   "id": "46127376",
   "metadata": {},
   "outputs": [
    {
     "data": {
      "text/plain": [
       "'Norway'"
      ]
     },
     "execution_count": 186,
     "metadata": {},
     "output_type": "execute_result"
    }
   ],
   "source": [
    "raj.eborn"
   ]
  },
  {
   "cell_type": "code",
   "execution_count": 187,
   "id": "3e94f702",
   "metadata": {},
   "outputs": [
    {
     "data": {
      "text/plain": [
       "'google'"
      ]
     },
     "execution_count": 187,
     "metadata": {},
     "output_type": "execute_result"
    }
   ],
   "source": [
    "raj.company"
   ]
  },
  {
   "cell_type": "markdown",
   "id": "a76f1dd0",
   "metadata": {},
   "source": [
    "Employee : Sujan"
   ]
  },
  {
   "cell_type": "code",
   "execution_count": 181,
   "id": "43b9cd7d",
   "metadata": {},
   "outputs": [],
   "source": [
    "sujan = Employee()"
   ]
  },
  {
   "cell_type": "code",
   "execution_count": 188,
   "id": "03e35432",
   "metadata": {},
   "outputs": [],
   "source": [
    "sujan.ename = \"sujan\"\n",
    "sujan.esalary = 8989\n",
    "sujan.born = \"Canada\"\n",
    "sujan.company = \"Amazon\""
   ]
  },
  {
   "cell_type": "code",
   "execution_count": 189,
   "id": "e5dd195a",
   "metadata": {},
   "outputs": [
    {
     "data": {
      "text/plain": [
       "'sujan'"
      ]
     },
     "execution_count": 189,
     "metadata": {},
     "output_type": "execute_result"
    }
   ],
   "source": [
    "sujan.ename"
   ]
  },
  {
   "cell_type": "code",
   "execution_count": 190,
   "id": "c7c6ea75",
   "metadata": {},
   "outputs": [
    {
     "data": {
      "text/plain": [
       "8989"
      ]
     },
     "execution_count": 190,
     "metadata": {},
     "output_type": "execute_result"
    }
   ],
   "source": [
    "sujan.esalary"
   ]
  },
  {
   "cell_type": "code",
   "execution_count": 191,
   "id": "8e75a2ff",
   "metadata": {},
   "outputs": [
    {
     "data": {
      "text/plain": [
       "'Canada'"
      ]
     },
     "execution_count": 191,
     "metadata": {},
     "output_type": "execute_result"
    }
   ],
   "source": [
    "sujan.born"
   ]
  },
  {
   "cell_type": "code",
   "execution_count": 192,
   "id": "26f625cd",
   "metadata": {},
   "outputs": [
    {
     "data": {
      "text/plain": [
       "'Amazon'"
      ]
     },
     "execution_count": 192,
     "metadata": {},
     "output_type": "execute_result"
    }
   ],
   "source": [
    "sujan.company"
   ]
  },
  {
   "cell_type": "raw",
   "id": "e1134663",
   "metadata": {},
   "source": [
    "Note ::\n",
    "-> Instance attribute takes preference over class attribute during assignment & retrival\n",
    "\n",
    "check\n",
    "<1> Is attribute present in object ?\n",
    "<2> Is attribute present in class ?"
   ]
  },
  {
   "cell_type": "code",
   "execution_count": null,
   "id": "f6cc4de1",
   "metadata": {},
   "outputs": [],
   "source": []
  },
  {
   "cell_type": "markdown",
   "id": "e84f61aa",
   "metadata": {},
   "source": [
    "#### self parameter"
   ]
  },
  {
   "cell_type": "raw",
   "id": "6c4cb6f7",
   "metadata": {},
   "source": [
    "-> Self refers to the instance of the class \n",
    "-> Its automatically passes with a function call from an objectt"
   ]
  },
  {
   "cell_type": "code",
   "execution_count": 8,
   "id": "a2606c08",
   "metadata": {},
   "outputs": [],
   "source": [
    "class Employee:\n",
    "    \n",
    "    def e_name(self,name):\n",
    "        self.name = name\n",
    "    def esalary(self):\n",
    "        print(\"salary is high\")\n",
    "       # print(self.salary)"
   ]
  },
  {
   "cell_type": "code",
   "execution_count": 9,
   "id": "605cc553",
   "metadata": {},
   "outputs": [],
   "source": [
    "shiv = Employee()"
   ]
  },
  {
   "cell_type": "code",
   "execution_count": 10,
   "id": "91e85eec",
   "metadata": {},
   "outputs": [
    {
     "name": "stdout",
     "output_type": "stream",
     "text": [
      "salary is high\n"
     ]
    }
   ],
   "source": [
    "shiv.esalary()"
   ]
  },
  {
   "cell_type": "code",
   "execution_count": 11,
   "id": "b0615c94",
   "metadata": {},
   "outputs": [
    {
     "name": "stdout",
     "output_type": "stream",
     "text": [
      "salary is high\n"
     ]
    }
   ],
   "source": [
    "Employee.esalary(shiv)"
   ]
  },
  {
   "cell_type": "code",
   "execution_count": null,
   "id": "4dd2c24d",
   "metadata": {},
   "outputs": [],
   "source": []
  },
  {
   "cell_type": "code",
   "execution_count": 38,
   "id": "192c052c",
   "metadata": {},
   "outputs": [],
   "source": [
    "class Employee:\n",
    " \n",
    "    def esalary(self):\n",
    "        print(f\"salary is high {self.salary}\") \n",
    "    def eage(self):\n",
    "        print(self.age)\n",
    "    def greet(self):\n",
    "        print(\"hew whats up\")"
   ]
  },
  {
   "cell_type": "code",
   "execution_count": 39,
   "id": "d3c0831b",
   "metadata": {},
   "outputs": [],
   "source": [
    "raj = Employee()"
   ]
  },
  {
   "cell_type": "code",
   "execution_count": 21,
   "id": "e7bc57a6",
   "metadata": {},
   "outputs": [],
   "source": [
    "raj.salary = 90909"
   ]
  },
  {
   "cell_type": "code",
   "execution_count": 23,
   "id": "ab53a799",
   "metadata": {},
   "outputs": [
    {
     "name": "stdout",
     "output_type": "stream",
     "text": [
      "salary is high 90909\n"
     ]
    }
   ],
   "source": [
    "raj.esalary()"
   ]
  },
  {
   "cell_type": "code",
   "execution_count": 29,
   "id": "3655f17e",
   "metadata": {},
   "outputs": [],
   "source": [
    "raj.age = 34"
   ]
  },
  {
   "cell_type": "code",
   "execution_count": 30,
   "id": "576a8669",
   "metadata": {},
   "outputs": [
    {
     "name": "stdout",
     "output_type": "stream",
     "text": [
      "34\n"
     ]
    }
   ],
   "source": [
    "raj.eage()"
   ]
  },
  {
   "cell_type": "code",
   "execution_count": 31,
   "id": "d56faf21",
   "metadata": {},
   "outputs": [
    {
     "name": "stdout",
     "output_type": "stream",
     "text": [
      "23\n"
     ]
    }
   ],
   "source": [
    "raj.age = 23\n",
    "raj.eage()"
   ]
  },
  {
   "cell_type": "code",
   "execution_count": 40,
   "id": "61633c37",
   "metadata": {},
   "outputs": [
    {
     "name": "stdout",
     "output_type": "stream",
     "text": [
      "hew whats up\n"
     ]
    }
   ],
   "source": [
    "raj.greet()"
   ]
  },
  {
   "cell_type": "code",
   "execution_count": null,
   "id": "921c15dc",
   "metadata": {},
   "outputs": [],
   "source": []
  },
  {
   "cell_type": "markdown",
   "id": "caa8dd53",
   "metadata": {},
   "source": [
    "#### Static Method"
   ]
  },
  {
   "cell_type": "raw",
   "id": "e56c74fc",
   "metadata": {},
   "source": [
    "Sometimes we need a functn that doesn't use the self parameter we can define a static method like this :"
   ]
  },
  {
   "cell_type": "code",
   "execution_count": 44,
   "id": "14db568b",
   "metadata": {},
   "outputs": [],
   "source": [
    "class Student:\n",
    "\n",
    "    @staticmethod\n",
    "    def greet():\n",
    "        print(\"hello user\")"
   ]
  },
  {
   "cell_type": "code",
   "execution_count": 45,
   "id": "4a1bc706",
   "metadata": {},
   "outputs": [],
   "source": [
    "sam = Student()"
   ]
  },
  {
   "cell_type": "code",
   "execution_count": 46,
   "id": "c951fbca",
   "metadata": {},
   "outputs": [
    {
     "name": "stdout",
     "output_type": "stream",
     "text": [
      "hello user\n"
     ]
    }
   ],
   "source": [
    "sam.greet()"
   ]
  },
  {
   "cell_type": "code",
   "execution_count": null,
   "id": "5ee995aa",
   "metadata": {},
   "outputs": [],
   "source": []
  },
  {
   "cell_type": "markdown",
   "id": "082d1032",
   "metadata": {},
   "source": [
    "#### Constructor"
   ]
  },
  {
   "cell_type": "raw",
   "id": "dae6b918",
   "metadata": {},
   "source": [
    "__init__() Constructor"
   ]
  },
  {
   "cell_type": "raw",
   "id": "5754e79c",
   "metadata": {},
   "source": [
    "__init__() is a special method which is first run as soon as the object is created.\n",
    "\n",
    "__init__() method is also known as constructor\n",
    "\n",
    "It takes self argument and can alsp take further arguments"
   ]
  },
  {
   "cell_type": "code",
   "execution_count": 52,
   "id": "bd8df433",
   "metadata": {},
   "outputs": [],
   "source": [
    "class Employee:\n",
    "    def __init__(self):\n",
    "        print(\"employee is created\")\n",
    "        \n",
    "    def getSalary(self):\n",
    "        print(\" your salary is high \")"
   ]
  },
  {
   "cell_type": "code",
   "execution_count": 53,
   "id": "6bf7e6de",
   "metadata": {},
   "outputs": [
    {
     "name": "stdout",
     "output_type": "stream",
     "text": [
      "employee is created\n"
     ]
    }
   ],
   "source": [
    "rin = Employee()"
   ]
  },
  {
   "cell_type": "code",
   "execution_count": null,
   "id": "3f23a903",
   "metadata": {},
   "outputs": [],
   "source": []
  },
  {
   "cell_type": "markdown",
   "id": "1a96107d",
   "metadata": {},
   "source": [
    "#### Passing multiple parameters"
   ]
  },
  {
   "cell_type": "code",
   "execution_count": 72,
   "id": "b07bd93e",
   "metadata": {},
   "outputs": [],
   "source": [
    "class Me:\n",
    "    def __init__(self,name,age,gender):\n",
    "        self.name = name\n",
    "        self.age = age\n",
    "        self.gender = gender\n",
    "        \n",
    "        print(\"employee is created\")\n",
    "    def getdetails(self):\n",
    "        print(self.name,self.age,self.gender)\n",
    "    "
   ]
  },
  {
   "cell_type": "code",
   "execution_count": 73,
   "id": "750e6a99",
   "metadata": {},
   "outputs": [
    {
     "name": "stdout",
     "output_type": "stream",
     "text": [
      "employee is created\n"
     ]
    }
   ],
   "source": [
    "ram = Me(\"ram\",18,\"Male\")"
   ]
  },
  {
   "cell_type": "code",
   "execution_count": 74,
   "id": "b0b17508",
   "metadata": {},
   "outputs": [
    {
     "name": "stdout",
     "output_type": "stream",
     "text": [
      "ram 18 Male\n"
     ]
    }
   ],
   "source": [
    "ram.getdetails()"
   ]
  },
  {
   "cell_type": "code",
   "execution_count": null,
   "id": "59c220b4",
   "metadata": {},
   "outputs": [],
   "source": []
  },
  {
   "cell_type": "markdown",
   "id": "8afb850f",
   "metadata": {},
   "source": [
    "Object can be instantiated using constructor like this !"
   ]
  },
  {
   "cell_type": "code",
   "execution_count": 78,
   "id": "8076145d",
   "metadata": {},
   "outputs": [],
   "source": [
    "class Emplye:\n",
    "    def __init__(self,name):\n",
    "        self.name = name\n",
    "    def get_details(self):\n",
    "        print(self.name)"
   ]
  },
  {
   "cell_type": "code",
   "execution_count": 79,
   "id": "8bff1b38",
   "metadata": {},
   "outputs": [],
   "source": [
    "amit = Emplye(\"amit\") \n",
    "# Object can be instantiated using constructor like this"
   ]
  },
  {
   "cell_type": "code",
   "execution_count": 80,
   "id": "a08535ca",
   "metadata": {},
   "outputs": [
    {
     "name": "stdout",
     "output_type": "stream",
     "text": [
      "amit\n"
     ]
    }
   ],
   "source": [
    "amit.get_details()"
   ]
  },
  {
   "cell_type": "code",
   "execution_count": null,
   "id": "3ef3e95d",
   "metadata": {},
   "outputs": [],
   "source": []
  },
  {
   "cell_type": "markdown",
   "id": "9d130fcf",
   "metadata": {},
   "source": [
    "##### default constructor"
   ]
  },
  {
   "cell_type": "markdown",
   "id": "57da7c6f",
   "metadata": {},
   "source": [
    "default constructor :\n",
    "\n",
    "=> The default constructor is simple constructor which doesn’t accept any arguments.\n",
    "\n",
    "=> It’s definition has only one argument which is a reference to the instance being constructed.\n"
   ]
  },
  {
   "cell_type": "code",
   "execution_count": 58,
   "id": "47e11900",
   "metadata": {},
   "outputs": [],
   "source": [
    "class GEmployee():\n",
    "    \n",
    "    # default constructor\n",
    "    def __init__(self):\n",
    "        self.company = \"google\"\n",
    "        \n",
    "    # a method for printing company name\n",
    "    def print_Cname(self):\n",
    "        print(self.company)"
   ]
  },
  {
   "cell_type": "code",
   "execution_count": 60,
   "id": "79ebecd7",
   "metadata": {},
   "outputs": [],
   "source": [
    "# creating object of the class\n",
    "e1 = GEmployee()"
   ]
  },
  {
   "cell_type": "code",
   "execution_count": 61,
   "id": "14df806e",
   "metadata": {},
   "outputs": [
    {
     "name": "stdout",
     "output_type": "stream",
     "text": [
      "google\n"
     ]
    }
   ],
   "source": [
    "# calling the instance method using the object obj\n",
    "e1.print_Cname()"
   ]
  },
  {
   "cell_type": "markdown",
   "id": "be8d9dc8",
   "metadata": {},
   "source": [
    "##### parameterized constructor "
   ]
  },
  {
   "cell_type": "markdown",
   "id": "95b736e2",
   "metadata": {},
   "source": [
    "parameterized constructor :\n",
    "    \n",
    "=> constructor with parameters is known as parameterized constructor.\n",
    "\n",
    "=> The parameterized constructor take its first argument as a reference to the instance being constructed known as self and the rest of the arguments are provided by the programmer."
   ]
  },
  {
   "cell_type": "code",
   "execution_count": 5,
   "id": "a2649f19",
   "metadata": {},
   "outputs": [],
   "source": [
    "class par:\n",
    "    def __init__(self,fn,ln,age):\n",
    "        self.fn = fn\n",
    "        self.ln = ln\n",
    "        self.age = age\n",
    "        print (self.fn,self.ln,self.age)"
   ]
  },
  {
   "cell_type": "code",
   "execution_count": 6,
   "id": "80f31a7d",
   "metadata": {},
   "outputs": [
    {
     "name": "stdout",
     "output_type": "stream",
     "text": [
      "rin lightspeed 25\n"
     ]
    }
   ],
   "source": [
    "# creating object of the class\n",
    "# this will invoke parameterized constructor\n",
    "p1 = par(\"rin\",\"lightspeed\",25)"
   ]
  },
  {
   "cell_type": "code",
   "execution_count": null,
   "id": "bf5a2e3d",
   "metadata": {},
   "outputs": [],
   "source": []
  },
  {
   "cell_type": "markdown",
   "id": "53791c79",
   "metadata": {},
   "source": [
    "# T:11"
   ]
  },
  {
   "cell_type": "markdown",
   "id": "e7827505",
   "metadata": {},
   "source": [
    "### Inheritance & more in OOPs"
   ]
  },
  {
   "cell_type": "markdown",
   "id": "628c078a",
   "metadata": {},
   "source": [
    "Inheritance is a way of creating a new class rom an existing class."
   ]
  },
  {
   "cell_type": "raw",
   "id": "74be5c5b",
   "metadata": {},
   "source": [
    "The benefits of inheritance are: \n",
    "- It represents real-world relationships well.\n",
    "- It provides reusability of a code. We don’t have to write the same code again and again. Also, it allows us to add more features to a class without modifying it.\n",
    "- It is transitive in nature, which means that if class B inherits from another class A, then all the subclasses of B would automatically inherit from class A."
   ]
  },
  {
   "cell_type": "markdown",
   "id": "dfb40821",
   "metadata": {},
   "source": [
    "#### Types of Inheritance"
   ]
  },
  {
   "cell_type": "raw",
   "id": "c168bf37",
   "metadata": {},
   "source": [
    "-> Single Inheritance\n",
    "-> Multiple Inheritance\n",
    "-> Multi-Level Inheritance\n",
    "-> Hybrid Inheritance"
   ]
  },
  {
   "cell_type": "markdown",
   "id": "e586b718",
   "metadata": {},
   "source": [
    "### Single Inheritance ::"
   ]
  },
  {
   "cell_type": "markdown",
   "id": "cbb1efe8",
   "metadata": {},
   "source": [
    "#### Base or Super class."
   ]
  },
  {
   "cell_type": "markdown",
   "id": "dc2bb566",
   "metadata": {},
   "source": [
    "Creating the Base Class"
   ]
  },
  {
   "cell_type": "code",
   "execution_count": 37,
   "id": "66167456",
   "metadata": {},
   "outputs": [],
   "source": [
    "class vehicle:\n",
    "    \n",
    "    def __init__(self,color,milage,cost):\n",
    "        self.color = color\n",
    "        self.milage = milage\n",
    "        self.cost = cost\n",
    "        \n",
    "    def get_details(self):\n",
    "        print(\"I am a car\")\n",
    "        print(\"my color is \",self.color)\n",
    "        print(\"my milage is \",self.milage)\n",
    "        print(\"my cost is \",self.cost)"
   ]
  },
  {
   "cell_type": "markdown",
   "id": "9b77d55a",
   "metadata": {},
   "source": [
    "Instantiating the object for base class"
   ]
  },
  {
   "cell_type": "code",
   "execution_count": 9,
   "id": "99138415",
   "metadata": {},
   "outputs": [],
   "source": [
    "v1 = vehicle(\"red\",67,99999)"
   ]
  },
  {
   "cell_type": "code",
   "execution_count": 14,
   "id": "94033551",
   "metadata": {},
   "outputs": [
    {
     "name": "stdout",
     "output_type": "stream",
     "text": [
      "I am a car\n",
      "my color is  red\n",
      "my milage is  67\n",
      "my cost is  99999\n"
     ]
    }
   ],
   "source": [
    "v1.get_details()"
   ]
  },
  {
   "cell_type": "markdown",
   "id": "b6d48a83",
   "metadata": {},
   "source": [
    "#### child class"
   ]
  },
  {
   "cell_type": "markdown",
   "id": "1c50b36f",
   "metadata": {},
   "source": [
    "creating the child class"
   ]
  },
  {
   "cell_type": "code",
   "execution_count": 24,
   "id": "338cc1ff",
   "metadata": {},
   "outputs": [],
   "source": [
    "class car(vehicle):\n",
    "    def info(self):\n",
    "        print(\"My name is car\")"
   ]
  },
  {
   "cell_type": "markdown",
   "id": "eb12e206",
   "metadata": {},
   "source": [
    "Inherit : color,milage,cost from base class"
   ]
  },
  {
   "cell_type": "code",
   "execution_count": 28,
   "id": "fd203d50",
   "metadata": {},
   "outputs": [],
   "source": [
    "c1 = car(\"blue\",99,60000) "
   ]
  },
  {
   "cell_type": "markdown",
   "id": "a8ebc10c",
   "metadata": {},
   "source": [
    "Instantiating the obj for child class"
   ]
  },
  {
   "cell_type": "code",
   "execution_count": 29,
   "id": "fdf023d3",
   "metadata": {},
   "outputs": [
    {
     "name": "stdout",
     "output_type": "stream",
     "text": [
      "I am a car\n",
      "my color is  blue\n",
      "my milage is  99\n",
      "my cost is  60000\n"
     ]
    }
   ],
   "source": [
    "c1.get_details()  # Inherit get_details() from Base class"
   ]
  },
  {
   "cell_type": "markdown",
   "id": "17c4d508",
   "metadata": {},
   "source": [
    "Invoking the child method"
   ]
  },
  {
   "cell_type": "code",
   "execution_count": 27,
   "id": "702fe72f",
   "metadata": {},
   "outputs": [
    {
     "name": "stdout",
     "output_type": "stream",
     "text": [
      "My name is car\n"
     ]
    }
   ],
   "source": [
    "c1.info() "
   ]
  },
  {
   "cell_type": "markdown",
   "id": "9cc8e63e",
   "metadata": {},
   "source": [
    "##### Example :"
   ]
  },
  {
   "cell_type": "code",
   "execution_count": 83,
   "id": "428924fa",
   "metadata": {},
   "outputs": [],
   "source": [
    "class Boy1:\n",
    "    company = \"jungle\"\n",
    "    def gift(self):\n",
    "        print (\"piano\")\n",
    "    def box(self):\n",
    "        print(\"blue color\")"
   ]
  },
  {
   "cell_type": "code",
   "execution_count": 96,
   "id": "edfa6165",
   "metadata": {},
   "outputs": [],
   "source": [
    "class Boy2(Boy1):\n",
    "    name = \"Rin\"\n",
    "    company = \"youtube\"\n",
    "    def gift(self):\n",
    "        print(\"guitar\")\n",
    "    def box(self):\n",
    "        print(\"red color\")"
   ]
  },
  {
   "cell_type": "code",
   "execution_count": 97,
   "id": "fbb7fa61",
   "metadata": {},
   "outputs": [],
   "source": [
    "b2 = Boy2()"
   ]
  },
  {
   "cell_type": "code",
   "execution_count": 88,
   "id": "45beefd4",
   "metadata": {},
   "outputs": [
    {
     "name": "stdout",
     "output_type": "stream",
     "text": [
      "red color\n"
     ]
    }
   ],
   "source": [
    "b2.box()"
   ]
  },
  {
   "cell_type": "code",
   "execution_count": 89,
   "id": "8c327956",
   "metadata": {},
   "outputs": [
    {
     "name": "stdout",
     "output_type": "stream",
     "text": [
      "guitar\n"
     ]
    }
   ],
   "source": [
    "b2.gift()"
   ]
  },
  {
   "cell_type": "code",
   "execution_count": 85,
   "id": "37e73faf",
   "metadata": {},
   "outputs": [
    {
     "data": {
      "text/plain": [
       "'Rin'"
      ]
     },
     "execution_count": 85,
     "metadata": {},
     "output_type": "execute_result"
    }
   ],
   "source": [
    "b2.name"
   ]
  },
  {
   "cell_type": "code",
   "execution_count": 98,
   "id": "f17c0602",
   "metadata": {},
   "outputs": [
    {
     "data": {
      "text/plain": [
       "'youtube'"
      ]
     },
     "execution_count": 98,
     "metadata": {},
     "output_type": "execute_result"
    }
   ],
   "source": [
    "b2.company"
   ]
  },
  {
   "cell_type": "code",
   "execution_count": null,
   "id": "81fedca8",
   "metadata": {},
   "outputs": [],
   "source": []
  },
  {
   "cell_type": "code",
   "execution_count": 91,
   "id": "14d8764c",
   "metadata": {},
   "outputs": [],
   "source": [
    "b1 = Boy1()"
   ]
  },
  {
   "cell_type": "code",
   "execution_count": 92,
   "id": "8d1d3164",
   "metadata": {},
   "outputs": [
    {
     "data": {
      "text/plain": [
       "'jungle'"
      ]
     },
     "execution_count": 92,
     "metadata": {},
     "output_type": "execute_result"
    }
   ],
   "source": [
    "b1.company"
   ]
  },
  {
   "cell_type": "code",
   "execution_count": 94,
   "id": "cbe44c34",
   "metadata": {},
   "outputs": [
    {
     "name": "stdout",
     "output_type": "stream",
     "text": [
      "piano\n"
     ]
    }
   ],
   "source": [
    "b1.gift()"
   ]
  },
  {
   "cell_type": "code",
   "execution_count": 95,
   "id": "50304a41",
   "metadata": {},
   "outputs": [
    {
     "name": "stdout",
     "output_type": "stream",
     "text": [
      "blue color\n"
     ]
    }
   ],
   "source": [
    "b1.box()"
   ]
  },
  {
   "cell_type": "markdown",
   "id": "e406e7de",
   "metadata": {},
   "source": [
    "##### Functions V/s Methods:"
   ]
  },
  {
   "cell_type": "markdown",
   "id": "95890441",
   "metadata": {},
   "source": [
    "A method, like a function, is a set of instructions that perform a task. \n",
    "\n",
    "The difference is that a method is associated with an object, while a function is not"
   ]
  },
  {
   "cell_type": "markdown",
   "id": "7a041d2a",
   "metadata": {},
   "source": [
    "##### Super() method"
   ]
  },
  {
   "cell_type": "raw",
   "id": "791e537f",
   "metadata": {},
   "source": [
    "Super method is used to access the methods of a super class in the derived class.\n",
    "\n",
    "super()__init__()"
   ]
  },
  {
   "cell_type": "code",
   "execution_count": 206,
   "id": "d0c1688b",
   "metadata": {},
   "outputs": [],
   "source": [
    "class Parent():\n",
    "    def take_salary(self,salary):\n",
    "        self.salary = salary\n",
    "        print(f\"I am taking {self.salary} as my salary\")\n",
    "    def hobby(self):\n",
    "        print(\"I like drawing\")\n",
    "    def age(self):\n",
    "        print(\"age is 26\")"
   ]
  },
  {
   "cell_type": "code",
   "execution_count": 207,
   "id": "f0f7e223",
   "metadata": {},
   "outputs": [],
   "source": [
    "class child(Parent):\n",
    "    def school(self,sch):\n",
    "        self.sch = sch\n",
    "        super().hobby()  # super method\n",
    "        print(f\"I am going to {self.sch} school\")\n",
    "    def age(self):\n",
    "        super().age\n",
    "        print(\"age is 23\")"
   ]
  },
  {
   "cell_type": "code",
   "execution_count": 208,
   "id": "f1e9d5d4",
   "metadata": {},
   "outputs": [],
   "source": [
    "class son(child):\n",
    "    def hobby(self):\n",
    "        print(\"I linke football\")\n",
    "    def age(self):\n",
    "        super().age()\n",
    "        print(\"age is 6\")"
   ]
  },
  {
   "cell_type": "code",
   "execution_count": 184,
   "id": "65b3a2c4",
   "metadata": {},
   "outputs": [],
   "source": [
    "raj = child()"
   ]
  },
  {
   "cell_type": "code",
   "execution_count": 185,
   "id": "9863ca30",
   "metadata": {},
   "outputs": [
    {
     "name": "stdout",
     "output_type": "stream",
     "text": [
      "I like drawing\n",
      "I am going to sant mary school\n"
     ]
    }
   ],
   "source": [
    "raj.school(\"sant mary\")"
   ]
  },
  {
   "cell_type": "code",
   "execution_count": 186,
   "id": "554726f8",
   "metadata": {},
   "outputs": [
    {
     "name": "stdout",
     "output_type": "stream",
     "text": [
      "I am taking 8989 as my salary\n"
     ]
    }
   ],
   "source": [
    "raj.take_salary(8989)"
   ]
  },
  {
   "cell_type": "code",
   "execution_count": null,
   "id": "7954b887",
   "metadata": {},
   "outputs": [],
   "source": []
  },
  {
   "cell_type": "code",
   "execution_count": 209,
   "id": "316e1ce6",
   "metadata": {},
   "outputs": [],
   "source": [
    "sonu = son()"
   ]
  },
  {
   "cell_type": "code",
   "execution_count": 210,
   "id": "94072f94",
   "metadata": {},
   "outputs": [
    {
     "name": "stdout",
     "output_type": "stream",
     "text": [
      "age is 23\n",
      "age is 6\n"
     ]
    }
   ],
   "source": [
    "sonu.age()"
   ]
  },
  {
   "cell_type": "code",
   "execution_count": null,
   "id": "13f2e2c2",
   "metadata": {},
   "outputs": [],
   "source": []
  },
  {
   "cell_type": "markdown",
   "id": "d6d56200",
   "metadata": {},
   "source": [
    "##### Class method"
   ]
  },
  {
   "cell_type": "markdown",
   "id": "adcaee73",
   "metadata": {},
   "source": [
    "A class method is a method which is bounded to the class and not the object of the class.\n",
    "\n",
    "@classmethod \n",
    "\n",
    "->\n",
    "decorator is used to create a class method "
   ]
  },
  {
   "cell_type": "markdown",
   "id": "c5309de0",
   "metadata": {},
   "source": [
    "Q. Changing the class attribute salary to 400 using class method"
   ]
  },
  {
   "cell_type": "raw",
   "id": "0a75df55",
   "metadata": {},
   "source": [
    "1st. Method\n",
    "__class__"
   ]
  },
  {
   "cell_type": "code",
   "execution_count": 211,
   "id": "2210b596",
   "metadata": {},
   "outputs": [],
   "source": [
    "class Employee:\n",
    "    company = \"google\"\n",
    "    salary = 67000\n",
    "    \n",
    "    def changeSal(self,sal):\n",
    "        self.__class__.salary = sal"
   ]
  },
  {
   "cell_type": "code",
   "execution_count": 212,
   "id": "77349c99",
   "metadata": {},
   "outputs": [],
   "source": [
    "raj = Employee()"
   ]
  },
  {
   "cell_type": "code",
   "execution_count": 213,
   "id": "e79d2d0f",
   "metadata": {},
   "outputs": [
    {
     "data": {
      "text/plain": [
       "67000"
      ]
     },
     "execution_count": 213,
     "metadata": {},
     "output_type": "execute_result"
    }
   ],
   "source": [
    "# Previous salary\n",
    "raj.salary"
   ]
  },
  {
   "cell_type": "code",
   "execution_count": 214,
   "id": "b8a78592",
   "metadata": {},
   "outputs": [],
   "source": [
    "# updating the salary\n",
    "raj.changeSal(99999)"
   ]
  },
  {
   "cell_type": "code",
   "execution_count": 215,
   "id": "769cd546",
   "metadata": {},
   "outputs": [
    {
     "data": {
      "text/plain": [
       "99999"
      ]
     },
     "execution_count": 215,
     "metadata": {},
     "output_type": "execute_result"
    }
   ],
   "source": [
    "raj.salary"
   ]
  },
  {
   "cell_type": "code",
   "execution_count": null,
   "id": "15d67490",
   "metadata": {},
   "outputs": [],
   "source": []
  },
  {
   "cell_type": "raw",
   "id": "58bc2279",
   "metadata": {},
   "source": [
    "2nd. Method\n",
    "@classmethod"
   ]
  },
  {
   "cell_type": "code",
   "execution_count": 257,
   "id": "c137d3cc",
   "metadata": {},
   "outputs": [],
   "source": [
    "class Employe:\n",
    "    company = \"google\"\n",
    "    salary = 67000\n",
    "    \n",
    "    # here we are directly accessing the class using,\n",
    "    @classmethod\n",
    "    def changeSal(cls,sal):\n",
    "        cls.salary = sal\n",
    "        \n",
    "    def changeComp(cls,comp):\n",
    "        cls.company = comp"
   ]
  },
  {
   "cell_type": "code",
   "execution_count": 258,
   "id": "2610389e",
   "metadata": {},
   "outputs": [],
   "source": [
    "nishi = Employe()"
   ]
  },
  {
   "cell_type": "code",
   "execution_count": 218,
   "id": "d00752ff",
   "metadata": {},
   "outputs": [
    {
     "data": {
      "text/plain": [
       "'google'"
      ]
     },
     "execution_count": 218,
     "metadata": {},
     "output_type": "execute_result"
    }
   ],
   "source": [
    "nishi.company"
   ]
  },
  {
   "cell_type": "code",
   "execution_count": 219,
   "id": "36553176",
   "metadata": {},
   "outputs": [
    {
     "data": {
      "text/plain": [
       "67000"
      ]
     },
     "execution_count": 219,
     "metadata": {},
     "output_type": "execute_result"
    }
   ],
   "source": [
    "# old salary\n",
    "nishi.salary"
   ]
  },
  {
   "cell_type": "code",
   "execution_count": 220,
   "id": "da51226c",
   "metadata": {},
   "outputs": [],
   "source": [
    "# updating the salary\n",
    "nishi.changeSal(100000)"
   ]
  },
  {
   "cell_type": "code",
   "execution_count": 221,
   "id": "9e203734",
   "metadata": {},
   "outputs": [
    {
     "data": {
      "text/plain": [
       "100000"
      ]
     },
     "execution_count": 221,
     "metadata": {},
     "output_type": "execute_result"
    }
   ],
   "source": [
    "nishi.salary"
   ]
  },
  {
   "cell_type": "code",
   "execution_count": null,
   "id": "aca436e8",
   "metadata": {},
   "outputs": [],
   "source": []
  },
  {
   "cell_type": "code",
   "execution_count": 259,
   "id": "b44452fb",
   "metadata": {},
   "outputs": [
    {
     "data": {
      "text/plain": [
       "'google'"
      ]
     },
     "execution_count": 259,
     "metadata": {},
     "output_type": "execute_result"
    }
   ],
   "source": [
    "nishi.company"
   ]
  },
  {
   "cell_type": "code",
   "execution_count": 260,
   "id": "e6f87dd6",
   "metadata": {},
   "outputs": [],
   "source": [
    "# updating the company\n",
    "nishi.changeComp(\"youtube\")"
   ]
  },
  {
   "cell_type": "code",
   "execution_count": 261,
   "id": "bc7d0faf",
   "metadata": {},
   "outputs": [
    {
     "data": {
      "text/plain": [
       "'youtube'"
      ]
     },
     "execution_count": 261,
     "metadata": {},
     "output_type": "execute_result"
    }
   ],
   "source": [
    "nishi.company"
   ]
  },
  {
   "cell_type": "code",
   "execution_count": null,
   "id": "c4bd3479",
   "metadata": {},
   "outputs": [],
   "source": []
  },
  {
   "cell_type": "markdown",
   "id": "0b25812e",
   "metadata": {},
   "source": [
    "#### Over-riding init method"
   ]
  },
  {
   "cell_type": "markdown",
   "id": "8db28442",
   "metadata": {},
   "source": [
    "Creating Base/Super class"
   ]
  },
  {
   "cell_type": "code",
   "execution_count": 61,
   "id": "8c9a185f",
   "metadata": {},
   "outputs": [],
   "source": [
    "class Vehicle:\n",
    "    \n",
    "    def __init__(self,color,milage,cost):\n",
    "        self.color = color\n",
    "        self.milage = milage\n",
    "        self.cost = cost\n",
    "        \n",
    "    def get_Vdetails(self):\n",
    "        print(\"I am a car\")\n",
    "        print(\"my color is \",self.color)\n",
    "        print(\"my milage is \",self.milage)\n",
    "        print(\"my cost is \",self.cost)"
   ]
  },
  {
   "cell_type": "markdown",
   "id": "48d3151c",
   "metadata": {},
   "source": [
    "Over-Riding init method\n",
    "\n",
    "Child Class"
   ]
  },
  {
   "cell_type": "code",
   "execution_count": 71,
   "id": "86fa55ad",
   "metadata": {},
   "outputs": [],
   "source": [
    "class Car(Vehicle):\n",
    "    def __init__(self,color,milage,hp,cost,seat):\n",
    "        super().__init__(color,milage,cost) # remove self parameter from here \n",
    "        self.seat = seat\n",
    "        self.hp = hp\n",
    "    def get_Cdetails(self):\n",
    "        print(\"My name is suzuki\")\n",
    "        print(\"my hp is \",self.hp)\n",
    "        print(f\"I have {self.seat} seat \")"
   ]
  },
  {
   "cell_type": "markdown",
   "id": "021b931b",
   "metadata": {},
   "source": [
    "Instantiating the object for base class"
   ]
  },
  {
   "cell_type": "code",
   "execution_count": 72,
   "id": "e033e3ba",
   "metadata": {},
   "outputs": [],
   "source": [
    "bliss = Car(\"green\",45,676,99999,4)"
   ]
  },
  {
   "cell_type": "markdown",
   "id": "f180331e",
   "metadata": {},
   "source": [
    "Invoking get_Cdetails() method from child class"
   ]
  },
  {
   "cell_type": "code",
   "execution_count": 68,
   "id": "0b71c530",
   "metadata": {},
   "outputs": [
    {
     "name": "stdout",
     "output_type": "stream",
     "text": [
      "My name is suzuki\n",
      "my hp is  676\n",
      "I have 4 seat \n"
     ]
    }
   ],
   "source": [
    "bliss.get_Cdetails()"
   ]
  },
  {
   "cell_type": "markdown",
   "id": "c5e40f99",
   "metadata": {},
   "source": [
    "Invoking get_Vdetails() method from base/parent class"
   ]
  },
  {
   "cell_type": "code",
   "execution_count": 70,
   "id": "4f9e47a1",
   "metadata": {},
   "outputs": [
    {
     "name": "stdout",
     "output_type": "stream",
     "text": [
      "I am a car\n",
      "my color is  green\n",
      "my milage is  45\n",
      "my cost is  99999\n"
     ]
    }
   ],
   "source": [
    "bliss.get_Vdetails()"
   ]
  },
  {
   "cell_type": "code",
   "execution_count": null,
   "id": "f8fe2cb3",
   "metadata": {},
   "outputs": [],
   "source": []
  },
  {
   "cell_type": "markdown",
   "id": "2408f064",
   "metadata": {},
   "source": [
    "### Multiple Inheritance ::"
   ]
  },
  {
   "cell_type": "markdown",
   "id": "891864c2",
   "metadata": {},
   "source": [
    "In multiple Inheritance, the child inherits from more than 1 parent class"
   ]
  },
  {
   "cell_type": "markdown",
   "id": "27b15eef",
   "metadata": {},
   "source": [
    "#### Parent 1 (base class)"
   ]
  },
  {
   "cell_type": "code",
   "execution_count": 114,
   "id": "462d6b6d",
   "metadata": {},
   "outputs": [],
   "source": [
    "class Parent1():\n",
    "    def assign_str1(self,str1):\n",
    "        self.str1 = str1\n",
    "    \n",
    "    def show_str1(self):\n",
    "        print(self.str1)"
   ]
  },
  {
   "cell_type": "markdown",
   "id": "4f752f62",
   "metadata": {},
   "source": [
    "#### Parent 2 (base class)"
   ]
  },
  {
   "cell_type": "code",
   "execution_count": 115,
   "id": "7985a903",
   "metadata": {},
   "outputs": [],
   "source": [
    "class Parent2():\n",
    "    def assign_str2(self,str2):\n",
    "        self.str2 = str2\n",
    "    \n",
    "    def show_str2(self):\n",
    "        print(self.str2)"
   ]
  },
  {
   "cell_type": "markdown",
   "id": "2e24518a",
   "metadata": {},
   "source": [
    "#### child class"
   ]
  },
  {
   "cell_type": "code",
   "execution_count": 116,
   "id": "1936c8d3",
   "metadata": {},
   "outputs": [],
   "source": [
    "class Derived(Parent1,Parent2):\n",
    "    def assign_str3(self,str3):\n",
    "        self.str3 = str3\n",
    "    \n",
    "    def show_str3(self):\n",
    "        print(self.str3)"
   ]
  },
  {
   "cell_type": "markdown",
   "id": "2db9e37c",
   "metadata": {},
   "source": [
    "instantiating the object of child class "
   ]
  },
  {
   "cell_type": "code",
   "execution_count": 117,
   "id": "ef54682c",
   "metadata": {},
   "outputs": [],
   "source": [
    "d1 = Derived()"
   ]
  },
  {
   "cell_type": "code",
   "execution_count": 118,
   "id": "eb7518ca",
   "metadata": {},
   "outputs": [],
   "source": [
    "d1.assign_str1(\"one\")\n",
    "d1.assign_str2(\"two\")\n",
    "d1.assign_str3(\"three\")"
   ]
  },
  {
   "cell_type": "markdown",
   "id": "33be086c",
   "metadata": {},
   "source": [
    "invoking methods"
   ]
  },
  {
   "cell_type": "code",
   "execution_count": 119,
   "id": "47cc0d2f",
   "metadata": {},
   "outputs": [
    {
     "name": "stdout",
     "output_type": "stream",
     "text": [
      "one\n"
     ]
    }
   ],
   "source": [
    "d1.show_str1()"
   ]
  },
  {
   "cell_type": "code",
   "execution_count": 121,
   "id": "97878b95",
   "metadata": {},
   "outputs": [
    {
     "name": "stdout",
     "output_type": "stream",
     "text": [
      "three\n"
     ]
    }
   ],
   "source": [
    "d1.show_str3()"
   ]
  },
  {
   "cell_type": "code",
   "execution_count": 122,
   "id": "0dd4204b",
   "metadata": {},
   "outputs": [
    {
     "name": "stdout",
     "output_type": "stream",
     "text": [
      "two\n"
     ]
    }
   ],
   "source": [
    "d1.show_str2()"
   ]
  },
  {
   "cell_type": "markdown",
   "id": "5de31ce8",
   "metadata": {},
   "source": [
    "##### Example ::"
   ]
  },
  {
   "cell_type": "code",
   "execution_count": 153,
   "id": "28866b24",
   "metadata": {},
   "outputs": [],
   "source": [
    "class Boy1:\n",
    "    name = \"rinku\"\n",
    "    def gift(self):\n",
    "        print(\"pen\")"
   ]
  },
  {
   "cell_type": "code",
   "execution_count": 154,
   "id": "a37984c7",
   "metadata": {},
   "outputs": [],
   "source": [
    "class Boy2:\n",
    "    name = \"chintu\"\n",
    "    ph = 898\n",
    "    def gift(self):\n",
    "        print(\"car\")"
   ]
  },
  {
   "cell_type": "code",
   "execution_count": 155,
   "id": "c627d035",
   "metadata": {},
   "outputs": [],
   "source": [
    "class Derived(Boy1,Boy2):  \n",
    "    name = \"mintu\""
   ]
  },
  {
   "cell_type": "code",
   "execution_count": 156,
   "id": "f9613d8b",
   "metadata": {},
   "outputs": [],
   "source": [
    "d1 = Derived()"
   ]
  },
  {
   "cell_type": "code",
   "execution_count": 160,
   "id": "46fb3330",
   "metadata": {},
   "outputs": [
    {
     "data": {
      "text/plain": [
       "'mintu'"
      ]
     },
     "execution_count": 160,
     "metadata": {},
     "output_type": "execute_result"
    }
   ],
   "source": [
    "d1.name"
   ]
  },
  {
   "cell_type": "code",
   "execution_count": 158,
   "id": "84f40ffc",
   "metadata": {},
   "outputs": [
    {
     "name": "stdout",
     "output_type": "stream",
     "text": [
      "pen\n"
     ]
    }
   ],
   "source": [
    "d1.gift()"
   ]
  },
  {
   "cell_type": "code",
   "execution_count": 162,
   "id": "91dec9fe",
   "metadata": {},
   "outputs": [
    {
     "data": {
      "text/plain": [
       "898"
      ]
     },
     "execution_count": 162,
     "metadata": {},
     "output_type": "execute_result"
    }
   ],
   "source": [
    "d1.ph"
   ]
  },
  {
   "cell_type": "markdown",
   "id": "22c8620e",
   "metadata": {},
   "source": [
    "Note ::\n",
    "\n",
    "D(B1,B2)  -> methods will be fetched from B1 first if not present in the derived class."
   ]
  },
  {
   "cell_type": "code",
   "execution_count": null,
   "id": "185ff721",
   "metadata": {},
   "outputs": [],
   "source": []
  },
  {
   "cell_type": "markdown",
   "id": "10f57456",
   "metadata": {},
   "source": [
    "### Multi-Level Inheritance ::"
   ]
  },
  {
   "cell_type": "markdown",
   "id": "887c38a6",
   "metadata": {},
   "source": [
    "In Multi-Level Inheritance, we have Parent, Child, Grand-child Relationship"
   ]
  },
  {
   "cell_type": "code",
   "execution_count": 152,
   "id": "dde6aa44",
   "metadata": {},
   "outputs": [],
   "source": [
    "class Parent():\n",
    "    def add(self,a,b):\n",
    "        self.a = a\n",
    "        self.b = b\n",
    "    def add_result(self):\n",
    "        print(\"sum \",self.a+self.b)"
   ]
  },
  {
   "cell_type": "code",
   "execution_count": 153,
   "id": "52ae499f",
   "metadata": {},
   "outputs": [],
   "source": [
    "class Child(Parent):\n",
    "    def mul(self,c,d):\n",
    "        self.c = c\n",
    "        self.d = d\n",
    "    def mul_result(self):\n",
    "        print(\"multiplication \",self.c*self.d)"
   ]
  },
  {
   "cell_type": "code",
   "execution_count": 154,
   "id": "80d4707d",
   "metadata": {},
   "outputs": [],
   "source": [
    "class GChild(Child):\n",
    "    def sub(self,e,f):\n",
    "        self.e = e\n",
    "        self.f = f\n",
    "    def sub_result(self):\n",
    "        print (\"subtraction \",self.e-self.f)"
   ]
  },
  {
   "cell_type": "code",
   "execution_count": 155,
   "id": "0f26bf82",
   "metadata": {},
   "outputs": [],
   "source": [
    "raj = GChild()"
   ]
  },
  {
   "cell_type": "code",
   "execution_count": 157,
   "id": "ad961843",
   "metadata": {},
   "outputs": [],
   "source": [
    "raj.sub(19,10)  #10\n",
    "raj.add(19,10)  #29\n",
    "raj.mul(19,10)  #190"
   ]
  },
  {
   "cell_type": "code",
   "execution_count": 158,
   "id": "9e9eb703",
   "metadata": {},
   "outputs": [
    {
     "name": "stdout",
     "output_type": "stream",
     "text": [
      "subtraction  9\n"
     ]
    }
   ],
   "source": [
    "raj.sub_result()"
   ]
  },
  {
   "cell_type": "code",
   "execution_count": 159,
   "id": "0b8b5daf",
   "metadata": {},
   "outputs": [
    {
     "name": "stdout",
     "output_type": "stream",
     "text": [
      "sum  29\n"
     ]
    }
   ],
   "source": [
    "raj.add_result()"
   ]
  },
  {
   "cell_type": "code",
   "execution_count": 160,
   "id": "17618121",
   "metadata": {},
   "outputs": [
    {
     "name": "stdout",
     "output_type": "stream",
     "text": [
      "multiplication  190\n"
     ]
    }
   ],
   "source": [
    "raj.mul_result()"
   ]
  },
  {
   "cell_type": "code",
   "execution_count": null,
   "id": "a2ac1381",
   "metadata": {},
   "outputs": [],
   "source": []
  },
  {
   "cell_type": "markdown",
   "id": "b78a21f5",
   "metadata": {},
   "source": [
    "#### Property decorators\n"
   ]
  },
  {
   "cell_type": "raw",
   "id": "ac7571fb",
   "metadata": {},
   "source": [
    "-> decorator is a function that we can use to modify the behavior of a function or a class\n",
    "  \n",
    "-> If you want to extend the behavior of a function but don’t want to modify it permanently, you can wrap a decorator on it. \n",
    "This is called metaprogramming, as one part of a program tries to change another at compile time."
   ]
  },
  {
   "cell_type": "code",
   "execution_count": 44,
   "id": "a2c96496",
   "metadata": {},
   "outputs": [],
   "source": [
    "class Employe:\n",
    "    company = \"TCS\"\n",
    "    salary = 67000\n",
    "    salarybonus = 1000\n",
    "    \n",
    "    @property\n",
    "    def totalSalary(self):\n",
    "        return self.salary + self.salarybonus"
   ]
  },
  {
   "cell_type": "code",
   "execution_count": 45,
   "id": "a7c5f0ec",
   "metadata": {},
   "outputs": [],
   "source": [
    "rita = Employe()"
   ]
  },
  {
   "cell_type": "code",
   "execution_count": 46,
   "id": "00e8ec56",
   "metadata": {},
   "outputs": [
    {
     "data": {
      "text/plain": [
       "68000"
      ]
     },
     "execution_count": 46,
     "metadata": {},
     "output_type": "execute_result"
    }
   ],
   "source": [
    "rita.totalSalary #Its a property not a functn"
   ]
  },
  {
   "cell_type": "markdown",
   "id": "87f46e65",
   "metadata": {},
   "source": [
    "##### @getter method"
   ]
  },
  {
   "cell_type": "markdown",
   "id": "e61ea5b0",
   "metadata": {},
   "source": [
    "The method name with @property decorator is called getter method"
   ]
  },
  {
   "cell_type": "markdown",
   "id": "0d11c847",
   "metadata": {},
   "source": [
    "CONCEPT ::"
   ]
  },
  {
   "cell_type": "code",
   "execution_count": 9,
   "id": "039ae24d",
   "metadata": {},
   "outputs": [],
   "source": [
    "class Person:\n",
    "    def __init__(self,first,last):\n",
    "        self.first = first\n",
    "        self.last = last\n",
    "        self.email = self.first + \".\" +self.last+'@gmail.com'\n",
    "        # Reason : Init method is called only once\n",
    "    def fullname(self):\n",
    "        return self.first+ ' ' +self.last"
   ]
  },
  {
   "cell_type": "code",
   "execution_count": 10,
   "id": "6d50ec2e",
   "metadata": {},
   "outputs": [],
   "source": [
    "p1 = Person(\"raj\",\"chz\")"
   ]
  },
  {
   "cell_type": "code",
   "execution_count": 6,
   "id": "215b9481",
   "metadata": {},
   "outputs": [
    {
     "data": {
      "text/plain": [
       "'raj.chz@gmail.com'"
      ]
     },
     "execution_count": 6,
     "metadata": {},
     "output_type": "execute_result"
    }
   ],
   "source": [
    "p1.email"
   ]
  },
  {
   "cell_type": "code",
   "execution_count": 13,
   "id": "553c5e4a",
   "metadata": {},
   "outputs": [
    {
     "data": {
      "text/plain": [
       "'raj chz'"
      ]
     },
     "execution_count": 13,
     "metadata": {},
     "output_type": "execute_result"
    }
   ],
   "source": [
    "p1.fullname()"
   ]
  },
  {
   "cell_type": "code",
   "execution_count": null,
   "id": "d2f0bc1a",
   "metadata": {},
   "outputs": [],
   "source": []
  },
  {
   "cell_type": "code",
   "execution_count": 15,
   "id": "bbf67cae",
   "metadata": {},
   "outputs": [
    {
     "data": {
      "text/plain": [
       "'chintu chz'"
      ]
     },
     "execution_count": 15,
     "metadata": {},
     "output_type": "execute_result"
    }
   ],
   "source": [
    "# trying to change the first name\n",
    "p1.first = \"chintu\"\n",
    "p1.fullname()"
   ]
  },
  {
   "cell_type": "code",
   "execution_count": 16,
   "id": "1ff34f7d",
   "metadata": {},
   "outputs": [
    {
     "data": {
      "text/plain": [
       "'raj.chz@gmail.com'"
      ]
     },
     "execution_count": 16,
     "metadata": {},
     "output_type": "execute_result"
    }
   ],
   "source": [
    "# Email address is still the same\n",
    "p1.email"
   ]
  },
  {
   "cell_type": "markdown",
   "id": "aa727d39",
   "metadata": {},
   "source": [
    "---> To solve this problem we can define a method email <----"
   ]
  },
  {
   "cell_type": "markdown",
   "id": "a72d0be7",
   "metadata": {},
   "source": [
    "SOLN 1."
   ]
  },
  {
   "cell_type": "code",
   "execution_count": 37,
   "id": "7c4225ba",
   "metadata": {},
   "outputs": [],
   "source": [
    "class Person:\n",
    "    def __init__(self,first,last):\n",
    "        self.first = first\n",
    "        self.last = last\n",
    "    \n",
    "    def email(self):\n",
    "        self.email = self.first + \".\" +self.last+'@gmail.com'\n",
    "        # Reason : Init method is called only once\n",
    "        return self.email\n",
    "        \n",
    "    def fullname(self):\n",
    "        return self.first+ ' ' +self.last"
   ]
  },
  {
   "cell_type": "code",
   "execution_count": 38,
   "id": "69209c79",
   "metadata": {},
   "outputs": [],
   "source": [
    "p2 = Person(\"raju\",\"japani\")"
   ]
  },
  {
   "cell_type": "code",
   "execution_count": 28,
   "id": "eee93673",
   "metadata": {},
   "outputs": [
    {
     "data": {
      "text/plain": [
       "'raju japani'"
      ]
     },
     "execution_count": 28,
     "metadata": {},
     "output_type": "execute_result"
    }
   ],
   "source": [
    "p2.fullname()"
   ]
  },
  {
   "cell_type": "code",
   "execution_count": 29,
   "id": "eb2a842f",
   "metadata": {},
   "outputs": [
    {
     "data": {
      "text/plain": [
       "'raju.japani@gmail.com'"
      ]
     },
     "execution_count": 29,
     "metadata": {},
     "output_type": "execute_result"
    }
   ],
   "source": [
    "p2.email()"
   ]
  },
  {
   "cell_type": "code",
   "execution_count": null,
   "id": "6a44a462",
   "metadata": {},
   "outputs": [],
   "source": []
  },
  {
   "cell_type": "code",
   "execution_count": 39,
   "id": "431ccf14",
   "metadata": {},
   "outputs": [
    {
     "data": {
      "text/plain": [
       "'raven japani'"
      ]
     },
     "execution_count": 39,
     "metadata": {},
     "output_type": "execute_result"
    }
   ],
   "source": [
    "# trying to change the first name\n",
    "p2.first = \"raven\"\n",
    "p2.fullname()"
   ]
  },
  {
   "cell_type": "code",
   "execution_count": 40,
   "id": "cbe04913",
   "metadata": {},
   "outputs": [
    {
     "data": {
      "text/plain": [
       "'raven.japani@gmail.com'"
      ]
     },
     "execution_count": 40,
     "metadata": {},
     "output_type": "execute_result"
    }
   ],
   "source": [
    "p2.email()\n",
    "# problem solved because email is now more var its a method now"
   ]
  },
  {
   "cell_type": "code",
   "execution_count": null,
   "id": "8dd4acc4",
   "metadata": {},
   "outputs": [],
   "source": []
  },
  {
   "cell_type": "markdown",
   "id": "cb8f8466",
   "metadata": {},
   "source": [
    "SOLN 2:"
   ]
  },
  {
   "cell_type": "markdown",
   "id": "6bf40495",
   "metadata": {},
   "source": [
    "Using Python Decorators"
   ]
  },
  {
   "cell_type": "code",
   "execution_count": 68,
   "id": "e80817db",
   "metadata": {},
   "outputs": [],
   "source": [
    "class Persons:\n",
    "    def __init__(self,first,last):\n",
    "        self.first = first\n",
    "        self.last = last\n",
    "    \n",
    "    @property\n",
    "    def email(self):\n",
    "        return self.first + \".\" +self.last+'@gmail.com'\n",
    "        # Reason : Init method is called only once\n",
    "        \n",
    "    def fullname(self):\n",
    "        return self.first+ ' ' +self.last"
   ]
  },
  {
   "cell_type": "code",
   "execution_count": 69,
   "id": "6c23dea3",
   "metadata": {},
   "outputs": [],
   "source": [
    "p3 = Persons(\"lin\",\"timmberton\")"
   ]
  },
  {
   "cell_type": "code",
   "execution_count": 70,
   "id": "960578e9",
   "metadata": {},
   "outputs": [
    {
     "data": {
      "text/plain": [
       "'lin timmberton'"
      ]
     },
     "execution_count": 70,
     "metadata": {},
     "output_type": "execute_result"
    }
   ],
   "source": [
    "p3.fullname()"
   ]
  },
  {
   "cell_type": "code",
   "execution_count": 71,
   "id": "b1a67a0c",
   "metadata": {},
   "outputs": [
    {
     "data": {
      "text/plain": [
       "'lin.timmberton@gmail.com'"
      ]
     },
     "execution_count": 71,
     "metadata": {},
     "output_type": "execute_result"
    }
   ],
   "source": [
    "p3.email"
   ]
  },
  {
   "cell_type": "code",
   "execution_count": null,
   "id": "0b12995f",
   "metadata": {},
   "outputs": [],
   "source": []
  },
  {
   "cell_type": "code",
   "execution_count": 72,
   "id": "e3f40538",
   "metadata": {},
   "outputs": [],
   "source": [
    "p3.first = \"Luna\""
   ]
  },
  {
   "cell_type": "code",
   "execution_count": 73,
   "id": "296f6755",
   "metadata": {},
   "outputs": [
    {
     "data": {
      "text/plain": [
       "'Luna timmberton'"
      ]
     },
     "execution_count": 73,
     "metadata": {},
     "output_type": "execute_result"
    }
   ],
   "source": [
    "p3.fullname()"
   ]
  },
  {
   "cell_type": "code",
   "execution_count": 74,
   "id": "6669b4f7",
   "metadata": {},
   "outputs": [
    {
     "data": {
      "text/plain": [
       "'Luna.timmberton@gmail.com'"
      ]
     },
     "execution_count": 74,
     "metadata": {},
     "output_type": "execute_result"
    }
   ],
   "source": [
    "p3.email"
   ]
  },
  {
   "cell_type": "code",
   "execution_count": null,
   "id": "9a0d5f74",
   "metadata": {},
   "outputs": [],
   "source": []
  },
  {
   "cell_type": "markdown",
   "id": "c33b3951",
   "metadata": {},
   "source": [
    "##### @setter method"
   ]
  },
  {
   "cell_type": "code",
   "execution_count": null,
   "id": "f93e168f",
   "metadata": {},
   "outputs": [],
   "source": []
  },
  {
   "cell_type": "code",
   "execution_count": 80,
   "id": "8a4c17f1",
   "metadata": {},
   "outputs": [],
   "source": [
    "class Persons:\n",
    "    def __init__(self,first,last):\n",
    "        self.first = first\n",
    "        self.last = last\n",
    "    \n",
    "    @property\n",
    "    def fullname(self):\n",
    "        return self.first+ ' ' +self.last"
   ]
  },
  {
   "cell_type": "markdown",
   "id": "faa3e570",
   "metadata": {},
   "source": [
    "Note ::\n",
    "\n",
    "If we want to initialise value for the fullname() method \n",
    "We can't do it "
   ]
  },
  {
   "cell_type": "code",
   "execution_count": 82,
   "id": "b992c409",
   "metadata": {},
   "outputs": [],
   "source": [
    "p4 = Persons(\"tinu\",\"patel\")"
   ]
  },
  {
   "cell_type": "code",
   "execution_count": 84,
   "id": "ce74ca6c",
   "metadata": {},
   "outputs": [
    {
     "data": {
      "text/plain": [
       "'tinu patel'"
      ]
     },
     "execution_count": 84,
     "metadata": {},
     "output_type": "execute_result"
    }
   ],
   "source": [
    "p4.fullname"
   ]
  },
  {
   "cell_type": "code",
   "execution_count": 85,
   "id": "1de07d36",
   "metadata": {},
   "outputs": [
    {
     "ename": "AttributeError",
     "evalue": "can't set attribute",
     "output_type": "error",
     "traceback": [
      "\u001b[1;31m---------------------------------------------------------------------------\u001b[0m",
      "\u001b[1;31mAttributeError\u001b[0m                            Traceback (most recent call last)",
      "\u001b[1;32m<ipython-input-85-2c7824e7d5b7>\u001b[0m in \u001b[0;36m<module>\u001b[1;34m\u001b[0m\n\u001b[0;32m      1\u001b[0m \u001b[1;31m## trying to initialise value to fullname\u001b[0m\u001b[1;33m\u001b[0m\u001b[1;33m\u001b[0m\u001b[1;33m\u001b[0m\u001b[0m\n\u001b[1;32m----> 2\u001b[1;33m \u001b[0mp4\u001b[0m\u001b[1;33m.\u001b[0m\u001b[0mfullname\u001b[0m \u001b[1;33m=\u001b[0m \u001b[1;34m\"ravi verma\"\u001b[0m\u001b[1;33m\u001b[0m\u001b[1;33m\u001b[0m\u001b[0m\n\u001b[0m",
      "\u001b[1;31mAttributeError\u001b[0m: can't set attribute"
     ]
    }
   ],
   "source": [
    "## trying to initialise value to fullname\n",
    "p4.fullname = \"ravi verma\""
   ]
  },
  {
   "cell_type": "markdown",
   "id": "67940766",
   "metadata": {},
   "source": [
    "SOLN : using @method.setter"
   ]
  },
  {
   "cell_type": "code",
   "execution_count": 88,
   "id": "d2d34989",
   "metadata": {},
   "outputs": [],
   "source": [
    "class Persons:\n",
    "    def __init__(self,first,last):\n",
    "        self.first = first\n",
    "        self.last = last\n",
    "    \n",
    "    @property  # getter method\n",
    "    def fullname(self):\n",
    "        return self.first+ ' ' +self.last\n",
    "    \n",
    "    @fullname.setter  #setter method\n",
    "    def fullname(self,name):\n",
    "        self.first,self.last = name.split()"
   ]
  },
  {
   "cell_type": "code",
   "execution_count": 90,
   "id": "ba56a5bc",
   "metadata": {},
   "outputs": [],
   "source": [
    "p8 = Persons(\"raju\",\"das\")"
   ]
  },
  {
   "cell_type": "code",
   "execution_count": 91,
   "id": "209183c4",
   "metadata": {},
   "outputs": [
    {
     "data": {
      "text/plain": [
       "'raju das'"
      ]
     },
     "execution_count": 91,
     "metadata": {},
     "output_type": "execute_result"
    }
   ],
   "source": [
    "p8.fullname"
   ]
  },
  {
   "cell_type": "code",
   "execution_count": null,
   "id": "af5264c7",
   "metadata": {},
   "outputs": [],
   "source": []
  },
  {
   "cell_type": "code",
   "execution_count": 93,
   "id": "cfd06953",
   "metadata": {},
   "outputs": [],
   "source": [
    "p8.fullname = \"rajveer gupta\""
   ]
  },
  {
   "cell_type": "code",
   "execution_count": 94,
   "id": "1bb2b564",
   "metadata": {},
   "outputs": [
    {
     "data": {
      "text/plain": [
       "'rajveer gupta'"
      ]
     },
     "execution_count": 94,
     "metadata": {},
     "output_type": "execute_result"
    }
   ],
   "source": [
    "p8.fullname"
   ]
  },
  {
   "cell_type": "markdown",
   "id": "76b9a52c",
   "metadata": {},
   "source": [
    "Note ::\n",
    "\n",
    "If we want to initialise to a method it does not happer directly. For this we need @setter()"
   ]
  },
  {
   "cell_type": "code",
   "execution_count": null,
   "id": "a715e121",
   "metadata": {},
   "outputs": [],
   "source": []
  },
  {
   "cell_type": "markdown",
   "id": "5c76fb37",
   "metadata": {},
   "source": [
    "##### @deleter method"
   ]
  },
  {
   "cell_type": "raw",
   "id": "14c6fc72",
   "metadata": {},
   "source": [
    "\n",
    "Note ::\n",
    "\n",
    "-> Deleting a Object is possible\n",
    "But\n",
    "-> Deleting a method is not possible.\n",
    "So foor this we will use @deleter method"
   ]
  },
  {
   "cell_type": "markdown",
   "id": "10f08cd0",
   "metadata": {},
   "source": [
    "CONCEPT ::"
   ]
  },
  {
   "cell_type": "markdown",
   "id": "79e35efb",
   "metadata": {},
   "source": [
    "#### Deleting Obj. in Py"
   ]
  },
  {
   "cell_type": "markdown",
   "id": "1966cc16",
   "metadata": {},
   "source": [
    "The del keyword in python is primarily used to delete objects in Python. \n",
    "\n",
    "Since everything in python represents an object in one way or another, \n",
    "\n",
    "The del keyword can also be used to delete a list, slice a list, delete a dictionaries, remove key-value pairs from a dictionary, delete variables, etc."
   ]
  },
  {
   "cell_type": "raw",
   "id": "5c647780",
   "metadata": {},
   "source": [
    "Syntax: del object_name"
   ]
  },
  {
   "cell_type": "code",
   "execution_count": 104,
   "id": "094049c5",
   "metadata": {},
   "outputs": [],
   "source": [
    "class Student:\n",
    "    rollno = 76\n",
    "    \n",
    "    def name(self):\n",
    "        print(\"My name is deosok\")"
   ]
  },
  {
   "cell_type": "code",
   "execution_count": 105,
   "id": "529926d7",
   "metadata": {},
   "outputs": [
    {
     "data": {
      "text/plain": [
       "__main__.Student"
      ]
     },
     "execution_count": 105,
     "metadata": {},
     "output_type": "execute_result"
    }
   ],
   "source": [
    "# check if class exists\n",
    "Student"
   ]
  },
  {
   "cell_type": "code",
   "execution_count": 106,
   "id": "87b48333",
   "metadata": {},
   "outputs": [],
   "source": [
    "# delete the class using del keyword\n",
    "del Student\n",
    "  \n",
    "# check if class exists\n",
    "#print(Student) for double confirmation"
   ]
  },
  {
   "cell_type": "markdown",
   "id": "a059cc86",
   "metadata": {},
   "source": [
    "#### Deleting Var in Py"
   ]
  },
  {
   "cell_type": "code",
   "execution_count": 107,
   "id": "91897612",
   "metadata": {},
   "outputs": [],
   "source": [
    "a = 10"
   ]
  },
  {
   "cell_type": "code",
   "execution_count": 108,
   "id": "cf32f332",
   "metadata": {},
   "outputs": [
    {
     "data": {
      "text/plain": [
       "10"
      ]
     },
     "execution_count": 108,
     "metadata": {},
     "output_type": "execute_result"
    }
   ],
   "source": [
    "a # check if var exists"
   ]
  },
  {
   "cell_type": "code",
   "execution_count": 109,
   "id": "96d88c00",
   "metadata": {},
   "outputs": [],
   "source": [
    "del(a)"
   ]
  },
  {
   "cell_type": "markdown",
   "id": "66bc4838",
   "metadata": {},
   "source": [
    "##### del keyword for deleting list and list slicing"
   ]
  },
  {
   "cell_type": "code",
   "execution_count": 110,
   "id": "39b8a1a5",
   "metadata": {},
   "outputs": [
    {
     "data": {
      "text/plain": [
       "[89, 89, 'huh', 8]"
      ]
     },
     "execution_count": 110,
     "metadata": {},
     "output_type": "execute_result"
    }
   ],
   "source": [
    "l1 = [89,89,\"huh\",8]\n",
    "l1"
   ]
  },
  {
   "cell_type": "code",
   "execution_count": 111,
   "id": "d793277f",
   "metadata": {},
   "outputs": [],
   "source": [
    "del(l1)"
   ]
  },
  {
   "cell_type": "code",
   "execution_count": 114,
   "id": "a35f7123",
   "metadata": {},
   "outputs": [
    {
     "data": {
      "text/plain": [
       "[0, 23, 7]"
      ]
     },
     "execution_count": 114,
     "metadata": {},
     "output_type": "execute_result"
    }
   ],
   "source": [
    "l2 = [78,45,0,23,7,88,\"nine\"]\n",
    "l2[2:5]"
   ]
  },
  {
   "cell_type": "markdown",
   "id": "552e0ca3",
   "metadata": {},
   "source": [
    "##### del keyword for deleting dictionaries and removing key-value pairs"
   ]
  },
  {
   "cell_type": "code",
   "execution_count": 115,
   "id": "6f3333e3",
   "metadata": {},
   "outputs": [
    {
     "data": {
      "text/plain": [
       "{'ram': 12, 'sam': 67, 'kin': 90}"
      ]
     },
     "execution_count": 115,
     "metadata": {},
     "output_type": "execute_result"
    }
   ],
   "source": [
    "d1 = {\"ram\":12,\"sam\":67,\"kin\":90}\n",
    "d1"
   ]
  },
  {
   "cell_type": "code",
   "execution_count": 119,
   "id": "cb59e7b1",
   "metadata": {},
   "outputs": [],
   "source": [
    "del d1[\"ram\"] # deleted k:v pairs"
   ]
  },
  {
   "cell_type": "code",
   "execution_count": 120,
   "id": "e4a02c09",
   "metadata": {},
   "outputs": [
    {
     "data": {
      "text/plain": [
       "{'sam': 67, 'kin': 90}"
      ]
     },
     "execution_count": 120,
     "metadata": {},
     "output_type": "execute_result"
    }
   ],
   "source": [
    "d1"
   ]
  },
  {
   "cell_type": "code",
   "execution_count": 121,
   "id": "bbc9cb0e",
   "metadata": {},
   "outputs": [],
   "source": [
    "del(d1)"
   ]
  },
  {
   "cell_type": "code",
   "execution_count": null,
   "id": "c4c1fff2",
   "metadata": {},
   "outputs": [],
   "source": []
  },
  {
   "cell_type": "markdown",
   "id": "e1b23dd4",
   "metadata": {},
   "source": [
    "#### @deleter method"
   ]
  },
  {
   "cell_type": "code",
   "execution_count": 142,
   "id": "01d6839c",
   "metadata": {},
   "outputs": [],
   "source": [
    "class Persons:\n",
    "    def __init__(self,first,last):\n",
    "        self.first = first\n",
    "        self.last = last\n",
    "    \n",
    "    @property  # getter method\n",
    "    def fullname(self):\n",
    "        return self.first+ ' ' +self.last\n",
    "    \n",
    "    @fullname.setter  \n",
    "    def fullname(self,name):\n",
    "        self.first,self.last = name.split()"
   ]
  },
  {
   "cell_type": "code",
   "execution_count": 143,
   "id": "733ce50f",
   "metadata": {},
   "outputs": [],
   "source": [
    "p6 = Persons(\"ridhi\",\"dev\")"
   ]
  },
  {
   "cell_type": "code",
   "execution_count": 144,
   "id": "080468c0",
   "metadata": {},
   "outputs": [
    {
     "data": {
      "text/plain": [
       "'ridhi dev'"
      ]
     },
     "execution_count": 144,
     "metadata": {},
     "output_type": "execute_result"
    }
   ],
   "source": [
    "p6.fullname"
   ]
  },
  {
   "cell_type": "code",
   "execution_count": 145,
   "id": "e0685ddc",
   "metadata": {},
   "outputs": [
    {
     "ename": "AttributeError",
     "evalue": "can't delete attribute",
     "output_type": "error",
     "traceback": [
      "\u001b[1;31m---------------------------------------------------------------------------\u001b[0m",
      "\u001b[1;31mAttributeError\u001b[0m                            Traceback (most recent call last)",
      "\u001b[1;32m<ipython-input-145-422d1c086b4b>\u001b[0m in \u001b[0;36m<module>\u001b[1;34m\u001b[0m\n\u001b[0;32m      1\u001b[0m \u001b[1;31m# trying to delete fullname()\u001b[0m\u001b[1;33m\u001b[0m\u001b[1;33m\u001b[0m\u001b[1;33m\u001b[0m\u001b[0m\n\u001b[1;32m----> 2\u001b[1;33m \u001b[1;32mdel\u001b[0m\u001b[1;33m(\u001b[0m\u001b[0mp6\u001b[0m\u001b[1;33m.\u001b[0m\u001b[0mfullname\u001b[0m\u001b[1;33m)\u001b[0m\u001b[1;33m\u001b[0m\u001b[1;33m\u001b[0m\u001b[0m\n\u001b[0m",
      "\u001b[1;31mAttributeError\u001b[0m: can't delete attribute"
     ]
    }
   ],
   "source": [
    "# trying to delete fullname()\n",
    "del(p6.fullname)"
   ]
  },
  {
   "cell_type": "markdown",
   "id": "1257a39b",
   "metadata": {},
   "source": [
    "---> so to solve this we need to use decorator, @deleter <--"
   ]
  },
  {
   "cell_type": "code",
   "execution_count": 153,
   "id": "c245051a",
   "metadata": {},
   "outputs": [],
   "source": [
    "class Persons:\n",
    "    def __init__(self,first,last):\n",
    "        self.first = first\n",
    "        self.last = last\n",
    "    \n",
    "    @property  # getter method\n",
    "    def fullname(self):\n",
    "        return self.first+ ' ' +self.last\n",
    "    \n",
    "    @fullname.deleter  \n",
    "    def fullname(self):\n",
    "        self.first = None # set it to none\n",
    "        self.last = None  # set it to none    "
   ]
  },
  {
   "cell_type": "code",
   "execution_count": 154,
   "id": "e1a0aa2c",
   "metadata": {},
   "outputs": [],
   "source": [
    "p8 = Persons(\"ridhi\",\"timberg\")"
   ]
  },
  {
   "cell_type": "code",
   "execution_count": 151,
   "id": "f9f0aa8f",
   "metadata": {},
   "outputs": [
    {
     "data": {
      "text/plain": [
       "'ridhi timberg'"
      ]
     },
     "execution_count": 151,
     "metadata": {},
     "output_type": "execute_result"
    }
   ],
   "source": [
    "p8.fullname"
   ]
  },
  {
   "cell_type": "code",
   "execution_count": 155,
   "id": "7886afbb",
   "metadata": {},
   "outputs": [],
   "source": [
    "del (p8.fullname)"
   ]
  },
  {
   "cell_type": "code",
   "execution_count": null,
   "id": "5a826802",
   "metadata": {},
   "outputs": [],
   "source": []
  },
  {
   "cell_type": "markdown",
   "id": "e5b26db2",
   "metadata": {},
   "source": [
    "####  Operator Overloading"
   ]
  },
  {
   "cell_type": "markdown",
   "id": "736db457",
   "metadata": {},
   "source": [
    "-> You can change the meaning of an operator in Python depending upon the operands used.\n",
    "\n",
    "-> Operator overloading provides ability to an operator to perform other manipulation operations other than its original operation."
   ]
  },
  {
   "cell_type": "markdown",
   "id": "ff9c35ce",
   "metadata": {},
   "source": [
    "Adding 2 numbers"
   ]
  },
  {
   "cell_type": "code",
   "execution_count": 18,
   "id": "4dbae4b5",
   "metadata": {},
   "outputs": [],
   "source": [
    "class Student:\n",
    "    def __init__(self,a):\n",
    "        self.a = a\n",
    " \n",
    "    # adding two objects\n",
    "    def __add__(self,other):\n",
    "        return self.a + other.a"
   ]
  },
  {
   "cell_type": "raw",
   "id": "1df8b8b7",
   "metadata": {},
   "source": [
    "Concept ::\n",
    "\n",
    "s1 = s1+sb \n",
    "is converted to \n",
    "Student.__add__(s1)  #(__add__(self))"
   ]
  },
  {
   "cell_type": "code",
   "execution_count": 20,
   "id": "9ba0293e",
   "metadata": {},
   "outputs": [],
   "source": [
    "s1 = Student(5)"
   ]
  },
  {
   "cell_type": "code",
   "execution_count": 21,
   "id": "86e3c363",
   "metadata": {},
   "outputs": [],
   "source": [
    "s2 = Student(11)"
   ]
  },
  {
   "cell_type": "code",
   "execution_count": 22,
   "id": "f2c946a4",
   "metadata": {},
   "outputs": [
    {
     "data": {
      "text/plain": [
       "16"
      ]
     },
     "execution_count": 22,
     "metadata": {},
     "output_type": "execute_result"
    }
   ],
   "source": [
    "s1+s2"
   ]
  },
  {
   "cell_type": "code",
   "execution_count": 25,
   "id": "8dce544b",
   "metadata": {},
   "outputs": [],
   "source": [
    "s3 = Student(\"hell \")\n",
    "s4 = Student(\"yeah\")"
   ]
  },
  {
   "cell_type": "code",
   "execution_count": 26,
   "id": "77fa2136",
   "metadata": {},
   "outputs": [
    {
     "data": {
      "text/plain": [
       "'hell yeah'"
      ]
     },
     "execution_count": 26,
     "metadata": {},
     "output_type": "execute_result"
    }
   ],
   "source": [
    "s3+s4"
   ]
  },
  {
   "cell_type": "code",
   "execution_count": null,
   "id": "9dea08ee",
   "metadata": {},
   "outputs": [],
   "source": []
  },
  {
   "cell_type": "markdown",
   "id": "6beb61bf",
   "metadata": {},
   "source": [
    "Multiplying 2 numbers"
   ]
  },
  {
   "cell_type": "code",
   "execution_count": 50,
   "id": "495f8ecd",
   "metadata": {},
   "outputs": [],
   "source": [
    "class Mul:\n",
    "    def __init__(self,a):\n",
    "        self.a = a\n",
    "    def __mul__(self,o): \n",
    "        return self.a * o.a"
   ]
  },
  {
   "cell_type": "code",
   "execution_count": 51,
   "id": "e275c32c",
   "metadata": {},
   "outputs": [],
   "source": [
    "a = Mul(3)\n",
    "b = Mul(4)"
   ]
  },
  {
   "cell_type": "code",
   "execution_count": 52,
   "id": "104fd76c",
   "metadata": {},
   "outputs": [
    {
     "data": {
      "text/plain": [
       "12"
      ]
     },
     "execution_count": 52,
     "metadata": {},
     "output_type": "execute_result"
    }
   ],
   "source": [
    "a*b"
   ]
  },
  {
   "cell_type": "code",
   "execution_count": null,
   "id": "37358f1d",
   "metadata": {},
   "outputs": [],
   "source": []
  },
  {
   "cell_type": "markdown",
   "id": "5b35b7aa",
   "metadata": {},
   "source": [
    "Subtracting 2 numbers"
   ]
  },
  {
   "cell_type": "code",
   "execution_count": 53,
   "id": "63e14ce5",
   "metadata": {},
   "outputs": [],
   "source": [
    "class Sub:\n",
    "    def __init__(self,a):\n",
    "        self.a = a\n",
    "    def __sub__(self,o):\n",
    "        return self.a - o.a"
   ]
  },
  {
   "cell_type": "code",
   "execution_count": 55,
   "id": "23d40439",
   "metadata": {},
   "outputs": [],
   "source": [
    "n1 = Sub(5)\n",
    "n2 = Sub(15)"
   ]
  },
  {
   "cell_type": "code",
   "execution_count": 56,
   "id": "6f0cfa64",
   "metadata": {},
   "outputs": [
    {
     "data": {
      "text/plain": [
       "-10"
      ]
     },
     "execution_count": 56,
     "metadata": {},
     "output_type": "execute_result"
    }
   ],
   "source": [
    "n1-n2"
   ]
  },
  {
   "cell_type": "code",
   "execution_count": null,
   "id": "5470cddc",
   "metadata": {},
   "outputs": [],
   "source": []
  },
  {
   "cell_type": "markdown",
   "id": "271d5ba6",
   "metadata": {},
   "source": [
    "Prog. to perform Addn of 2 complex no. using binary + operator"
   ]
  },
  {
   "cell_type": "code",
   "execution_count": 63,
   "id": "99ae9082",
   "metadata": {},
   "outputs": [],
   "source": [
    "class Complx:\n",
    "    def __init__(self,a,b):\n",
    "        self.a = a\n",
    "        self.b = b\n",
    "    def __add__(self,o):\n",
    "        return self.a + o.a , self.b + o.b"
   ]
  },
  {
   "cell_type": "code",
   "execution_count": 64,
   "id": "9925f145",
   "metadata": {},
   "outputs": [],
   "source": [
    "c1 = Complx(1,5)\n",
    "c2 = Complx(5,1)"
   ]
  },
  {
   "cell_type": "code",
   "execution_count": 65,
   "id": "5116ee6b",
   "metadata": {},
   "outputs": [
    {
     "data": {
      "text/plain": [
       "(6, 6)"
      ]
     },
     "execution_count": 65,
     "metadata": {},
     "output_type": "execute_result"
    }
   ],
   "source": [
    "c1+c2"
   ]
  },
  {
   "cell_type": "code",
   "execution_count": 66,
   "id": "8eab6d9a",
   "metadata": {},
   "outputs": [
    {
     "data": {
      "image/png": "[encoded data removed]",
      "text/plain": [
       "<IPython.core.display.Image object>"
      ]
     },
     "execution_count": 66,
     "metadata": {},
     "output_type": "execute_result"
    }
   ],
   "source": [
    "from IPython.display import Image\n",
    "Image(\"pst-magic-methods-1.png\")"
   ]
  },
  {
   "cell_type": "markdown",
   "id": "d7093f69",
   "metadata": {},
   "source": [
    "Operators in python can be overloaded using the following methods"
   ]
  },
  {
   "cell_type": "code",
   "execution_count": null,
   "id": "a90376cc",
   "metadata": {},
   "outputs": [],
   "source": []
  },
  {
   "cell_type": "markdown",
   "id": "64963b19",
   "metadata": {},
   "source": [
    "Some other magic methods in py."
   ]
  },
  {
   "cell_type": "raw",
   "id": "c7a5935e",
   "metadata": {},
   "source": [
    "__str__() \n",
    "\n",
    "-> used to set what gets displayed upon calling str(obj)\n",
    "\n",
    "__len__()\n",
    "\n",
    "-> used to set what gets displayed upon calling __len__() or. len(obj)"
   ]
  },
  {
   "cell_type": "code",
   "execution_count": 92,
   "id": "09e4c2e9",
   "metadata": {},
   "outputs": [],
   "source": [
    "class mag:\n",
    "    def __init__(self,a):\n",
    "        self.a = a\n",
    "    def __str__(self):\n",
    "        return f\"The decimal no. is {self.a}\"\n",
    "    def __len__(self):\n",
    "        return 1\n",
    "        "
   ]
  },
  {
   "cell_type": "code",
   "execution_count": 93,
   "id": "ab855e00",
   "metadata": {},
   "outputs": [],
   "source": [
    "a = mag(67)"
   ]
  },
  {
   "cell_type": "code",
   "execution_count": 94,
   "id": "f296faea",
   "metadata": {},
   "outputs": [
    {
     "name": "stdout",
     "output_type": "stream",
     "text": [
      "The decimal no. is 67\n"
     ]
    }
   ],
   "source": [
    "print(a)"
   ]
  },
  {
   "cell_type": "code",
   "execution_count": 95,
   "id": "a28d7fac",
   "metadata": {},
   "outputs": [
    {
     "name": "stdout",
     "output_type": "stream",
     "text": [
      "1\n"
     ]
    }
   ],
   "source": [
    "print(len(a))"
   ]
  },
  {
   "cell_type": "code",
   "execution_count": null,
   "id": "889fdf1c",
   "metadata": {},
   "outputs": [],
   "source": []
  }
 ],
 "metadata": {
  "kernelspec": {
   "display_name": "Python 3",
   "language": "python",
   "name": "python3"
  },
  "language_info": {
   "codemirror_mode": {
    "name": "ipython",
    "version": 3
   },
   "file_extension": ".py",
   "mimetype": "text/x-python",
   "name": "python",
   "nbconvert_exporter": "python",
   "pygments_lexer": "ipython3",
   "version": "3.8.8"
  }
 },
 "nbformat": 4,
 "nbformat_minor": 5
}
